{
 "cells": [
  {
   "cell_type": "code",
   "execution_count": 9,
   "metadata": {
    "collapsed": true
   },
   "outputs": [],
   "source": [
    "import numpy as np\n",
    "import pandas as pd\n",
    "import matplotlib.pyplot as plt\n",
    "import seaborn as sns\n",
    "%matplotlib inline\n",
    "import tensorflow as tf\n",
    "from tensorflow.keras.utils import to_categorical\n",
    "from keras.models import Sequential\n",
    "from keras.layers import Dense, Flatten\n",
    "from keras.layers import Conv2D, MaxPooling2D\n",
    "from tensorflow.keras.layers import BatchNormalization\n",
    "from tensorflow.keras.layers import LeakyReLU"
   ]
  },
  {
   "cell_type": "code",
   "execution_count": 2,
   "outputs": [],
   "source": [
    "train = pd.read_csv('./input/train.csv')\n",
    "test = pd.read_csv('./input/test.csv')"
   ],
   "metadata": {
    "collapsed": false,
    "pycharm": {
     "name": "#%%\n"
    }
   }
  },
  {
   "cell_type": "code",
   "execution_count": 3,
   "outputs": [],
   "source": [
    "y = train[\"label\"]\n",
    "x = train.drop(labels = [\"label\"], axis = 1)\n",
    "\n",
    "x = x.values.reshape(-1, 28, 28, 1)\n",
    "test = test.values.reshape(-1, 28, 28, 1)"
   ],
   "metadata": {
    "collapsed": false,
    "pycharm": {
     "name": "#%%\n"
    }
   }
  },
  {
   "cell_type": "code",
   "execution_count": 4,
   "outputs": [],
   "source": [
    "from sklearn.model_selection import train_test_split\n",
    "\n",
    "x_training, x_validation, y_training, y_validation = train_test_split(x,\n",
    "                                                                      y,\n",
    "                                                                      test_size=0.33,\n",
    "                                                                      shuffle=True)"
   ],
   "metadata": {
    "collapsed": false,
    "pycharm": {
     "name": "#%%\n"
    }
   }
  },
  {
   "cell_type": "code",
   "execution_count": 5,
   "outputs": [],
   "source": [
    "y_training = to_categorical(y_training, num_classes = 10)\n",
    "y_validation = to_categorical(y_validation, num_classes = 10)"
   ],
   "metadata": {
    "collapsed": false,
    "pycharm": {
     "name": "#%%\n"
    }
   }
  },
  {
   "cell_type": "code",
   "execution_count": 6,
   "outputs": [],
   "source": [
    "from keras.preprocessing.image import ImageDataGenerator\n",
    "\n",
    "data_generator = ImageDataGenerator(rescale=1./255,\n",
    "                                    rotation_range=0.3,\n",
    "                                    zoom_range=0.15,\n",
    "                                    width_shift_range=0.1,\n",
    "                                    height_shift_range=0.1)"
   ],
   "metadata": {
    "collapsed": false,
    "pycharm": {
     "name": "#%%\n"
    }
   }
  },
  {
   "cell_type": "code",
   "execution_count": 7,
   "outputs": [],
   "source": [
    "datagen_iterator = data_generator.flow(x_training,y_training)"
   ],
   "metadata": {
    "collapsed": false,
    "pycharm": {
     "name": "#%%\n"
    }
   }
  },
  {
   "cell_type": "code",
   "execution_count": 48,
   "outputs": [],
   "source": [
    "model = Sequential()\n",
    "\n",
    "model.add(Conv2D(64, kernel_size=(3, 3),activation='relu',input_shape=(28,28,1),padding='same'))\n",
    "model.add(Conv2D(64, kernel_size=(3, 3),activation='relu',input_shape=(28,28,1),padding='same'))\n",
    "model.add(MaxPooling2D((2, 2)))\n",
    "\n",
    "model.add(Conv2D(128,(3, 3), activation='relu',padding='same'))\n",
    "model.add(Conv2D(256,(3, 3), activation='relu',padding='valid'))\n",
    "model.add(MaxPooling2D((2, 2)))\n",
    "\n",
    "model.add(Flatten())\n",
    "\n",
    "model.add(Dense(512, activation='relu'))\n",
    "model.add(tf.keras.layers.Dropout(0.5))\n",
    "model.add(Dense(256, activation='relu'))\n",
    "model.add(tf.keras.layers.Dropout(0.5))\n",
    "model.add(Dense(10, activation='softmax'))\n",
    "\n",
    "model.compile(loss=\"categorical_crossentropy\", optimizer=tf.keras.optimizers.Adam(),metrics=['accuracy'])"
   ],
   "metadata": {
    "collapsed": false,
    "pycharm": {
     "name": "#%%\n"
    }
   }
  },
  {
   "cell_type": "code",
   "execution_count": 49,
   "outputs": [
    {
     "name": "stdout",
     "output_type": "stream",
     "text": [
      "Model: \"sequential_6\"\n",
      "_________________________________________________________________\n",
      " Layer (type)                Output Shape              Param #   \n",
      "=================================================================\n",
      " conv2d_16 (Conv2D)          (None, 28, 28, 64)        640       \n",
      "                                                                 \n",
      " conv2d_17 (Conv2D)          (None, 28, 28, 64)        36928     \n",
      "                                                                 \n",
      " max_pooling2d_15 (MaxPoolin  (None, 14, 14, 64)       0         \n",
      " g2D)                                                            \n",
      "                                                                 \n",
      " conv2d_18 (Conv2D)          (None, 14, 14, 128)       73856     \n",
      "                                                                 \n",
      " conv2d_19 (Conv2D)          (None, 12, 12, 256)       295168    \n",
      "                                                                 \n",
      " max_pooling2d_16 (MaxPoolin  (None, 6, 6, 256)        0         \n",
      " g2D)                                                            \n",
      "                                                                 \n",
      " flatten_5 (Flatten)         (None, 9216)              0         \n",
      "                                                                 \n",
      " dense_10 (Dense)            (None, 512)               4719104   \n",
      "                                                                 \n",
      " dropout_10 (Dropout)        (None, 512)               0         \n",
      "                                                                 \n",
      " dense_11 (Dense)            (None, 256)               131328    \n",
      "                                                                 \n",
      " dropout_11 (Dropout)        (None, 256)               0         \n",
      "                                                                 \n",
      " dense_12 (Dense)            (None, 10)                2570      \n",
      "                                                                 \n",
      "=================================================================\n",
      "Total params: 5,259,594\n",
      "Trainable params: 5,259,594\n",
      "Non-trainable params: 0\n",
      "_________________________________________________________________\n"
     ]
    }
   ],
   "source": [
    "model.summary()"
   ],
   "metadata": {
    "collapsed": false,
    "pycharm": {
     "name": "#%%\n"
    }
   }
  },
  {
   "cell_type": "code",
   "execution_count": 51,
   "outputs": [],
   "source": [
    "batch_size = 64\n",
    "epochs = 10"
   ],
   "metadata": {
    "collapsed": false,
    "pycharm": {
     "name": "#%%\n"
    }
   }
  },
  {
   "cell_type": "code",
   "execution_count": 52,
   "outputs": [
    {
     "name": "stderr",
     "output_type": "stream",
     "text": [
      "C:\\Users\\User\\AppData\\Local\\Temp/ipykernel_14732/276899761.py:1: UserWarning: `Model.fit_generator` is deprecated and will be removed in a future version. Please use `Model.fit`, which supports generators.\n",
      "  model_history = model.fit_generator(datagen_iterator, epochs = epochs, validation_data = (x_validation, y_validation),\n"
     ]
    },
    {
     "name": "stdout",
     "output_type": "stream",
     "text": [
      "Epoch 1/10\n",
      "439/439 - 105s - loss: 0.6260 - accuracy: 0.7923 - val_loss: 12.9615 - val_accuracy: 0.9794 - 105s/epoch - 240ms/step\n",
      "Epoch 2/10\n",
      "439/439 - 93s - loss: 0.1869 - accuracy: 0.9463 - val_loss: 17.3799 - val_accuracy: 0.9809 - 93s/epoch - 212ms/step\n",
      "Epoch 3/10\n",
      "439/439 - 92s - loss: 0.1261 - accuracy: 0.9649 - val_loss: 8.8670 - val_accuracy: 0.9864 - 92s/epoch - 210ms/step\n",
      "Epoch 4/10\n",
      "439/439 - 92s - loss: 0.1034 - accuracy: 0.9703 - val_loss: 11.4101 - val_accuracy: 0.9870 - 92s/epoch - 211ms/step\n",
      "Epoch 5/10\n",
      "439/439 - 92s - loss: 0.0954 - accuracy: 0.9740 - val_loss: 11.3107 - val_accuracy: 0.9888 - 92s/epoch - 210ms/step\n",
      "Epoch 6/10\n",
      "439/439 - 93s - loss: 0.0892 - accuracy: 0.9748 - val_loss: 7.2996 - val_accuracy: 0.9896 - 93s/epoch - 212ms/step\n",
      "Epoch 7/10\n",
      "439/439 - 93s - loss: 0.0777 - accuracy: 0.9790 - val_loss: 10.6504 - val_accuracy: 0.9829 - 93s/epoch - 213ms/step\n",
      "Epoch 8/10\n",
      "439/439 - 94s - loss: 0.0726 - accuracy: 0.9811 - val_loss: 8.4691 - val_accuracy: 0.9890 - 94s/epoch - 213ms/step\n",
      "Epoch 9/10\n",
      "439/439 - 93s - loss: 0.0652 - accuracy: 0.9831 - val_loss: 10.3494 - val_accuracy: 0.9894 - 93s/epoch - 212ms/step\n",
      "Epoch 10/10\n",
      "439/439 - 95s - loss: 0.0665 - accuracy: 0.9828 - val_loss: 8.7410 - val_accuracy: 0.9895 - 95s/epoch - 216ms/step\n"
     ]
    }
   ],
   "source": [
    "model_history = model.fit(datagen_iterator, epochs = epochs, validation_data = (x_validation, y_validation),\n",
    "                      verbose = 2, steps_per_epoch=x_training.shape[0] // batch_size)"
   ],
   "metadata": {
    "collapsed": false,
    "pycharm": {
     "name": "#%%\n"
    }
   }
  },
  {
   "cell_type": "code",
   "execution_count": 53,
   "outputs": [
    {
     "data": {
      "text/plain": "<Figure size 1440x864 with 2 Axes>",
      "image/png": "[encoded data removed]"
     },
     "metadata": {
      "needs_background": "light"
     },
     "output_type": "display_data"
    }
   ],
   "source": [
    "fig, ax = plt.subplots(2,1)\n",
    "fig.set_figwidth(20)\n",
    "fig.set_figheight(12)\n",
    "ax[0].plot(model_history.history['loss'], color='orange', label=\"Training loss\")\n",
    "ax[0].plot(model_history.history['val_loss'], color='green', label=\"validation loss\",axes =ax[0])\n",
    "legend = ax[0].legend(loc='best', shadow=True)\n",
    "\n",
    "ax[1].plot(model_history.history['accuracy'], color='orange', label=\"Training accuracy\")\n",
    "ax[1].plot(model_history.history['val_accuracy'], color='green',label=\"Validation accuracy\")\n",
    "legend = ax[1].legend(loc='best', shadow=True)"
   ],
   "metadata": {
    "collapsed": false,
    "pycharm": {
     "name": "#%%\n"
    }
   }
  },
  {
   "cell_type": "code",
   "execution_count": 54,
   "outputs": [],
   "source": [
    "y_test = model.predict(test)\n",
    "y_test = np.argmax(y_test, axis=1)"
   ],
   "metadata": {
    "collapsed": false,
    "pycharm": {
     "name": "#%%\n"
    }
   }
  },
  {
   "cell_type": "code",
   "execution_count": 55,
   "outputs": [],
   "source": [
    "submission = pd.DataFrame({'ImageId': np.arange(1,y_test.shape[0] + 1), 'Label': y_test})\n",
    "submission.to_csv('submission.csv', index=False)"
   ],
   "metadata": {
    "collapsed": false,
    "pycharm": {
     "name": "#%%\n"
    }
   }
  }
 ],
 "metadata": {
  "kernelspec": {
   "display_name": "Python 3",
   "language": "python",
   "name": "python3"
  },
  "language_info": {
   "codemirror_mode": {
    "name": "ipython",
    "version": 2
   },
   "file_extension": ".py",
   "mimetype": "text/x-python",
   "name": "python",
   "nbconvert_exporter": "python",
   "pygments_lexer": "ipython2",
   "version": "2.7.6"
  }
 },
 "nbformat": 4,
 "nbformat_minor": 0
}