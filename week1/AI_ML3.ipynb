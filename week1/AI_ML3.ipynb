{
 "cells": [
  {
   "cell_type": "markdown",
   "id": "3b924f3f",
   "metadata": {},
   "source": [
    "# 10. Pytorch Tutorial for Deep Learning\n",
    "\n",
    "* Pytorch basics\n",
    "* Linear Regression\n",
    "* Logistic Regression\n",
    "* ANN\n",
    "* Concolutional Neural Network (CNN)\n",
    "* Recurrent Neural Network (RNN)\n",
    "* Long-Short Term Memory (LSTM) "
   ]
  },
  {
   "cell_type": "code",
   "execution_count": 1,
   "id": "4222c02f",
   "metadata": {
    "ExecuteTime": {
     "end_time": "2021-10-12T16:25:18.295655Z",
     "start_time": "2021-10-12T16:25:14.844615Z"
    }
   },
   "outputs": [
    {
     "name": "stdout",
     "output_type": "stream",
     "text": [
      "['combats.csv', 'test.csv', 'pokemon.csv', 'tests.csv', 'column_2C_weka.csv', 'X.npy', 'Y.npy', 'train.csv', 'column_3C_weka.csv', 'sample_submission.csv']\n"
     ]
    }
   ],
   "source": [
    "import numpy as np # linear algebra\n",
    "import pandas as pd # data processing, CSV file I/O (e.g. pd.read_csv)\n",
    "import matplotlib.pyplot as plt\n",
    "# Input data files are available in the \"../input/\" directory.\n",
    "# For example, running this (by clicking run or pressing Shift+Enter) will list the files in the input directory\n",
    "\n",
    "import os\n",
    "print(os.listdir(\"./input\"))\n",
    "\n",
    "#import seaborn as sns\n",
    "#plt.style.use('seaborn-pastel')"
   ]
  },
  {
   "cell_type": "markdown",
   "id": "ca670ef0",
   "metadata": {},
   "source": [
    "### Pytorch Basics\n",
    "* matrix = array = **tensor**\n",
    "* np.ones() = torch.ones()\n",
    "* np.random.rand() = torch.rand()"
   ]
  },
  {
   "cell_type": "code",
   "execution_count": 2,
   "id": "2ca63378",
   "metadata": {
    "ExecuteTime": {
     "end_time": "2021-10-12T16:25:18.667437Z",
     "start_time": "2021-10-12T16:25:18.296722Z"
    }
   },
   "outputs": [
    {
     "name": "stdout",
     "output_type": "stream",
     "text": [
      "Array Type: <built-in method type of Tensor object at 0x7fa6c1023d70>\n",
      "Array Shape: torch.Size([2, 3])\n",
      "tensor([[1, 2, 3],\n",
      "        [4, 5, 6]])\n",
      "tensor([[1., 1., 1.],\n",
      "        [1., 1., 1.]])\n",
      "tensor([[0.9621, 0.7009, 0.3231],\n",
      "        [0.4601, 0.1828, 0.8587]])\n"
     ]
    }
   ],
   "source": [
    "import torch\n",
    "tensor = torch.tensor([[1,2,3],[4,5,6]])\n",
    "print(\"Array Type: {}\".format(tensor.type)) # type\n",
    "print(\"Array Shape: {}\".format(tensor.shape)) # shape\n",
    "print(tensor)\n",
    "\n",
    "print(torch.ones((2,3)))\n",
    "\n",
    "print(torch.rand(2,3))"
   ]
  },
  {
   "cell_type": "code",
   "execution_count": 3,
   "id": "be333b36",
   "metadata": {
    "ExecuteTime": {
     "end_time": "2021-10-12T16:25:18.675651Z",
     "start_time": "2021-10-12T16:25:18.669857Z"
    }
   },
   "outputs": [
    {
     "name": "stdout",
     "output_type": "stream",
     "text": [
      "tensor([[0.3492, 0.8916],\n",
      "        [0.0930, 0.8324]], dtype=torch.float64)\n",
      "\n",
      "<class 'numpy.ndarray'> [[0.34915115 0.89162643]\n",
      " [0.09298494 0.83239093]]\n",
      "\n"
     ]
    }
   ],
   "source": [
    "#random numpy array\n",
    "array = np.random.rand(2,2)\n",
    "from_numpy_to_tensor = torch.from_numpy(array)\n",
    "print(\"{}\\n\".format(from_numpy_to_tensor))\n",
    "tensor = from_numpy_to_tensor\n",
    "from_tensor_to_numpy = tensor.numpy()\n",
    "print(\"{} {}\\n\".format(type(from_tensor_to_numpy),from_tensor_to_numpy))"
   ]
  },
  {
   "cell_type": "markdown",
   "id": "8a44c487",
   "metadata": {},
   "source": [
    "#### Basic Math with Pytorch "
   ]
  },
  {
   "cell_type": "code",
   "execution_count": 4,
   "id": "e434a801",
   "metadata": {
    "ExecuteTime": {
     "end_time": "2021-10-12T16:25:18.689845Z",
     "start_time": "2021-10-12T16:25:18.678173Z"
    }
   },
   "outputs": [
    {
     "name": "stdout",
     "output_type": "stream",
     "text": [
      "tensor([[1., 1., 1.],\n",
      "        [1., 1., 1.],\n",
      "        [1., 1., 1.]])\n",
      "tensor([1., 1., 1., 1., 1., 1., 1., 1., 1.])\n",
      "tensor([[2., 2., 2.],\n",
      "        [2., 2., 2.],\n",
      "        [2., 2., 2.]])\n",
      "tensor([[0., 0., 0.],\n",
      "        [0., 0., 0.],\n",
      "        [0., 0., 0.]])\n",
      "tensor([[1., 1., 1.],\n",
      "        [1., 1., 1.],\n",
      "        [1., 1., 1.]])\n",
      "tensor([[1., 1., 1.],\n",
      "        [1., 1., 1.],\n",
      "        [1., 1., 1.]])\n",
      "tensor(3.)\n",
      "tensor(1.5811)\n"
     ]
    }
   ],
   "source": [
    "#create tensor\n",
    "tensor = torch.ones(3,3)\n",
    "print(tensor)\n",
    "\n",
    "#resize\n",
    "print(tensor.view(9))\n",
    "\n",
    "#addition\n",
    "print(torch.add(tensor,tensor))\n",
    "\n",
    "#subtraction\n",
    "print(tensor.sub(tensor))\n",
    "\n",
    "#elementwise multiplication\n",
    "print(torch.mul(tensor,tensor))\n",
    "\n",
    "#elementwise division\n",
    "print(torch.div(tensor,tensor))\n",
    "\n",
    "#Mean\n",
    "tensor = torch.Tensor([1,2,3,4,5])\n",
    "print(tensor.mean())\n",
    "\n",
    "# standard deviation\n",
    "print(tensor.std())"
   ]
  },
  {
   "cell_type": "markdown",
   "id": "b0be2a4a",
   "metadata": {},
   "source": [
    "#### Variables \n",
    "* accumulates gradients\n"
   ]
  },
  {
   "cell_type": "code",
   "execution_count": 5,
   "id": "000177d7",
   "metadata": {
    "ExecuteTime": {
     "end_time": "2021-10-12T16:25:18.697311Z",
     "start_time": "2021-10-12T16:25:18.690936Z"
    }
   },
   "outputs": [
    {
     "data": {
      "text/plain": [
       "tensor([1., 1., 1.], requires_grad=True)"
      ]
     },
     "execution_count": 5,
     "metadata": {},
     "output_type": "execute_result"
    }
   ],
   "source": [
    "from torch.autograd import Variable\n",
    "\n",
    "#define vairable\n",
    "var = Variable(torch.ones(3), requires_grad = True )\n",
    "var "
   ]
  },
  {
   "cell_type": "code",
   "execution_count": 6,
   "id": "db885e6c",
   "metadata": {
    "ExecuteTime": {
     "end_time": "2021-10-12T16:25:18.710354Z",
     "start_time": "2021-10-12T16:25:18.698272Z"
    }
   },
   "outputs": [
    {
     "name": "stdout",
     "output_type": "stream",
     "text": [
      " y =  tensor([ 4., 16.], grad_fn=<PowBackward0>)\n",
      "o =  tensor(10., grad_fn=<MulBackward0>)\n",
      "gradients:  tensor([2., 4.])\n"
     ]
    }
   ],
   "source": [
    "# basic backpropagation\n",
    "array = [2,4]\n",
    "tensor = torch.Tensor(array)\n",
    "x = Variable(tensor, requires_grad = True)\n",
    "y = x ** 2\n",
    "print(\" y = \", y)\n",
    "\n",
    "o = 0.5 * sum(y)\n",
    "print( 'o = ', o)\n",
    "\n",
    "#backward\n",
    "o.backward()\n",
    "print('gradients: ', x.grad)"
   ]
  },
  {
   "cell_type": "markdown",
   "id": "157cf9c8",
   "metadata": {},
   "source": [
    "### Linear Regression\n",
    "* y = Ax + B "
   ]
  },
  {
   "cell_type": "code",
   "execution_count": 7,
   "id": "0b35bee8",
   "metadata": {
    "ExecuteTime": {
     "end_time": "2021-10-12T16:25:18.829375Z",
     "start_time": "2021-10-12T16:25:18.712318Z"
    }
   },
   "outputs": [
    {
     "ename": "NameError",
     "evalue": "name 'car_prices_array' is not defined",
     "output_type": "error",
     "traceback": [
      "\u001b[0;31m---------------------------------------------------------------------------\u001b[0m",
      "\u001b[0;31mNameError\u001b[0m                                 Traceback (most recent call last)",
      "\u001b[0;32m/var/folders/zc/b378yxm57njdq366t04j1ckw0000gn/T/ipykernel_95983/760619045.py\u001b[0m in \u001b[0;36m<module>\u001b[0;34m\u001b[0m\n\u001b[1;32m      9\u001b[0m \u001b[0;34m\u001b[0m\u001b[0m\n\u001b[1;32m     10\u001b[0m \u001b[0;32mimport\u001b[0m \u001b[0mmatplotlib\u001b[0m\u001b[0;34m.\u001b[0m\u001b[0mpyplot\u001b[0m \u001b[0;32mas\u001b[0m \u001b[0mplt\u001b[0m\u001b[0;34m\u001b[0m\u001b[0;34m\u001b[0m\u001b[0m\n\u001b[0;32m---> 11\u001b[0;31m \u001b[0mplt\u001b[0m\u001b[0;34m.\u001b[0m\u001b[0mscatter\u001b[0m\u001b[0;34m(\u001b[0m\u001b[0mcar_prices_array\u001b[0m\u001b[0;34m,\u001b[0m\u001b[0mnumber_of_car_sell_array\u001b[0m\u001b[0;34m)\u001b[0m\u001b[0;34m\u001b[0m\u001b[0;34m\u001b[0m\u001b[0m\n\u001b[0m\u001b[1;32m     12\u001b[0m \u001b[0mplt\u001b[0m\u001b[0;34m.\u001b[0m\u001b[0mxlabel\u001b[0m\u001b[0;34m(\u001b[0m\u001b[0;34m\"Car Price $\"\u001b[0m\u001b[0;34m)\u001b[0m\u001b[0;34m\u001b[0m\u001b[0;34m\u001b[0m\u001b[0m\n\u001b[1;32m     13\u001b[0m \u001b[0mplt\u001b[0m\u001b[0;34m.\u001b[0m\u001b[0mylabel\u001b[0m\u001b[0;34m(\u001b[0m\u001b[0;34m\"Number of Car Sell\"\u001b[0m\u001b[0;34m)\u001b[0m\u001b[0;34m\u001b[0m\u001b[0;34m\u001b[0m\u001b[0m\n",
      "\u001b[0;31mNameError\u001b[0m: name 'car_prices_array' is not defined"
     ]
    }
   ],
   "source": [
    "car_price_array = [3,4,5,6,7,8,9]\n",
    "car_price_np = np.array(car_price_array, dtype = np.float32)\n",
    "car_price_np = car_price_np.reshape(-1,1)\n",
    "car_price_tensor = Variable(torch.from_numpy(car_price_np))\n",
    "\n",
    "number_of_car_sell_array = [ 7.5, 7, 6.5, 6.0, 5.5, 5.0, 4.5]\n",
    "number_of_car_sell_np = np.array(number_of_car_sell_array, dtype = np.float32).reshape(-1, 1)\n",
    "number_of_car_sell_tensor = Variable(torch.from_numpy(number_of_car_sell_np))\n",
    "\n",
    "import matplotlib.pyplot as plt\n",
    "plt.scatter(car_prices_array,number_of_car_sell_array)\n",
    "plt.xlabel(\"Car Price $\")\n",
    "plt.ylabel(\"Number of Car Sell\")\n",
    "plt.title(\"Car Price$ VS Number of Car Sell\")\n",
    "plt.show()"
   ]
  },
  {
   "cell_type": "markdown",
   "id": "f4eda542",
   "metadata": {},
   "source": [
    "#### Steps of Linear Regression\n",
    "\n",
    "1. Create LinearRegression class\n",
    "1. Define model from the LR class\n",
    "1. Mean-Squred-Error\n",
    "1. Optimzation (SGD)\n",
    "1. Backpropagation\n",
    "1. Prediction"
   ]
  },
  {
   "cell_type": "code",
   "execution_count": null,
   "id": "f3f6919a",
   "metadata": {
    "ExecuteTime": {
     "end_time": "2021-10-12T16:25:18.835147Z",
     "start_time": "2021-10-12T16:25:18.835138Z"
    }
   },
   "outputs": [],
   "source": [
    "import torch      \n",
    "from torch.autograd import Variable     \n",
    "import torch.nn as nn \n",
    "import warnings\n",
    "warnings.filterwarnings(\"ignore\")\n",
    "\n",
    "# create class \n",
    "class LinearRegression(nn.Module): \n",
    "    # initialize\n",
    "    def __init__(self, input_size, output_size):\n",
    "        #super function: inherits from nn.Module so we can access everything in nn.Modu;e\n",
    "        super(LinearRegression, self).__init__()\n",
    "        #linear function \n",
    "        self.linear = nn.Linear(input_dim, output_dim)\n",
    "        \n",
    "    def forward(self, x):\n",
    "        return self.linear(x)\n",
    "    \n",
    "# define model \n",
    "input_dim = 1\n",
    "output_dim = 1 \n",
    "model = LinearRegression(input_dim, output_dim)\n",
    "\n",
    "# Mean squared error \n",
    "mse = nn.MSELoss() \n",
    "\n",
    "# Optimization \n",
    "lr = 0.02 \n",
    "optimizer = torch.optim.SGD(model.parameters(), lr = lr)\n",
    "\n",
    "# train model \n",
    "loss_list = []\n",
    "epoch = 1001\n",
    "for iteration in range(epoch) :\n",
    "    # optimization \n",
    "    optimizer.zero_grad() \n",
    "    \n",
    "    # forward to get output\n",
    "    results = model( car_price_tensor)\n",
    "    \n",
    "    # calculate Loss \n",
    "    loss = mse(results, number_of_car_sell_tensor)\n",
    "    \n",
    "    # backpropagation \n",
    "    loss.backward() \n",
    "    \n",
    "    # update parameters\n",
    "    optimizer.step()\n",
    "    \n",
    "    # store_loss\n",
    "    loss_list.append(loss.data)\n",
    "    \n",
    "    # print loss \n",
    "    if (iteration % 50 == 0) : \n",
    "        print('epoch {}, loss {}'.format(iteration, loss.data))\n",
    "\n",
    "plt.plot(range(iteration_number),loss_list)\n",
    "plt.xlabel(\"Number of Iterations\")\n",
    "plt.ylabel(\"Loss\")\n",
    "plt.show()\n"
   ]
  },
  {
   "cell_type": "code",
   "execution_count": null,
   "id": "e5623261",
   "metadata": {
    "ExecuteTime": {
     "end_time": "2021-10-12T16:25:18.835847Z",
     "start_time": "2021-10-12T16:25:18.835839Z"
    }
   },
   "outputs": [],
   "source": [
    "# prediction\n",
    "predicted = model(car_price_tensor).data.numpy()\n",
    "plt.scatter(car_prices_array,number_of_car_sell_array,label = \"original data\",color =\"red\")\n",
    "plt.scatter(car_prices_array,predicted,label = \"predicted data\",color =\"blue\")\n",
    "\n",
    "# predict if car price is 10$, what will be the number of car sell\n",
    "#predicted_10 = model(torch.from_numpy(np.array([10]))).data.numpy()\n",
    "#plt.scatter(10,predicted_10.data,label = \"car price 10$\",color =\"green\")\n",
    "plt.legend()\n",
    "plt.xlabel(\"Car Price $\")\n",
    "plt.ylabel(\"Number of Car Sell\")\n",
    "plt.title(\"Original vs Predicted values\")\n",
    "plt.show()"
   ]
  },
  {
   "cell_type": "markdown",
   "id": "7964fb4d",
   "metadata": {},
   "source": [
    "### Logistic Regression \n",
    "* linear regression + logistic function (soft_max) \n",
    "* steps \n",
    "    1. Import libraries\n",
    "    2. Prepare Dataset (MNIST)\n",
    "        - 28 * 28 images\n",
    "        - 10 labels from 0 to 9 \n",
    "        - normalize by dividing to 255\n",
    "        - split test and train data using train_test_split \n",
    "        - batch_size = group size \n",
    "        - TensorDataset(): dataset wrapping tensors\n",
    "        - DataLoader(): combine dataset and sample \n",
    "        - Visualize \n",
    "    3. Create logistic regression model \n",
    "        - logistic function will be used in the loss function \n",
    "    4. Instantiate Model\n",
    "        - input_dim = 28 * 28\n",
    "        - output_dim = 10 \n",
    "        - create model \n",
    "    5. Instantiate loss\n",
    "        - cross entropy loss\n",
    "        - softmax\n",
    "    6. Instantiate optimizer \n",
    "        - SGD optimizer\n",
    "    7. Train model\n",
    "    8. Prediction"
   ]
  },
  {
   "cell_type": "code",
   "execution_count": null,
   "id": "dfa1b862",
   "metadata": {
    "ExecuteTime": {
     "end_time": "2021-10-12T16:25:18.836514Z",
     "start_time": "2021-10-12T16:25:18.836505Z"
    }
   },
   "outputs": [],
   "source": [
    "# Import Libraries\n",
    "import torch\n",
    "import torch.nn as nn\n",
    "from torch.autograd import Variable\n",
    "from torch.utils.data import DataLoader\n",
    "import pandas as pd\n",
    "from sklearn.model_selection import train_test_split\n",
    "\n",
    "# Prepare dataset\n",
    "# load data \n",
    "train = pd.read_csv('./input/train.csv', dtype = np.float32)\n",
    "# split data info features and labels \n",
    "targets_np = train.label.values\n",
    "features_np = train.loc[:, train.columns != 'label'].values / 255 #normalization \n",
    "# train test split\n",
    "features_train, features_test, targets_train, targets_test = train_test_split(features_np,\n",
    "                                                                              targets_np,\n",
    "                                                                              test_size = 0.2,\n",
    "                                                                              random_state=1)\n",
    "# create feature and targets tensor for trainset \n",
    "# to accumulate gradients we need variables\n",
    "featuresTrain = torch.from_numpy(features_train)\n",
    "targetsTrain = torch.from_numpy(targets_train).type(torch.LongTensor)\n",
    "featuresTest = torch.from_numpy(features_test)\n",
    "targetsTest = torch.from_numpy(targets_test).type(torch.LongTensor)\n",
    "\n",
    "# batch size, epoch and iteration \n",
    "batch_size = 100\n",
    "n_iters = 10000 \n",
    "epochs = n_iters / (len(features_train) / batch_size)\n",
    "epochs = int(epochs)\n",
    "\n",
    "# pytorch train and test sets\n",
    "train = torch.utils.data.TensorDataset(featuresTrain, targetsTrain)\n",
    "test = torch.utils.data.TensorDataset(featuresTest, targetsTest)\n",
    "\n",
    "# data loader\n",
    "train_loader = DataLoader(train, batch_size = batch_size, shuffle = False)\n",
    "test_loader = DataLoader(test, batch_size = batch_size, shuffle = False)\n",
    "\n",
    "# visualize one of the images in data set\n",
    "plt.imshow(features_np[10].reshape(28,28))\n",
    "plt.axis(\"off\")\n",
    "plt.title(str(targets_np[10]))\n",
    "plt.show()\n"
   ]
  },
  {
   "cell_type": "code",
   "execution_count": null,
   "id": "a1f5dd86",
   "metadata": {
    "ExecuteTime": {
     "end_time": "2021-10-12T16:25:18.837205Z",
     "start_time": "2021-10-12T16:25:18.837198Z"
    }
   },
   "outputs": [],
   "source": [
    "#Create Logistic Regression Model \n",
    "class LogisticRegressionModel(nn.Module):\n",
    "    def __init__(self, input_dim , output_dim): \n",
    "        super(LogisticRegressionModel, self).__init__()\n",
    "        # Linear part\n",
    "        self.linear = nn.Linear(input_dim, output_dim)\n",
    "        #logistic function in in loss function \n",
    "        \n",
    "    def forward(self, x): \n",
    "        out = self.linear(x)\n",
    "        return out\n",
    "    \n",
    "# instantiate Model class \n",
    "input_dim = 28 * 28\n",
    "output_dim = 10 \n",
    "\n",
    "# create logistic regression model \n",
    "model = LogisticRegressionModel(input_dim, output_dim)\n",
    "\n",
    "# cross entropy loss \n",
    "error = nn.CrossEntropyLoss()\n",
    "\n",
    "# SGD Optimizer \n",
    "lr = 0.001\n",
    "optimizer = torch.optim.SGD(model.parameters(), lr = lr)\n"
   ]
  },
  {
   "cell_type": "code",
   "execution_count": null,
   "id": "0629573e",
   "metadata": {
    "ExecuteTime": {
     "end_time": "2021-10-12T16:25:18.838370Z",
     "start_time": "2021-10-12T16:25:18.838359Z"
    }
   },
   "outputs": [],
   "source": [
    "# Training model \n",
    "count = 0\n",
    "loss_list = []\n",
    "iteration_list = [] \n",
    "for epoch in range(epochs):\n",
    "    for i, (images, labels) in enumerate(train_loader): \n",
    "        # define variables \n",
    "        train = Variable(images.view(-1, 28*28))\n",
    "        labels = Variable(labels)\n",
    "        \n",
    "        # clear gradients\n",
    "        optimizer.zero_grad()\n",
    "        \n",
    "        # forward propagation\n",
    "        outputs = model(train)\n",
    "        \n",
    "        # calculate softmax and cross entropy loss \n",
    "        loss = error(outputs, labels)\n",
    "        \n",
    "        # calculate gradient (backpropagation)\n",
    "        loss.backward()\n",
    "        \n",
    "        #update parameters\n",
    "        optimizer.step() \n",
    "        \n",
    "        count += 1\n",
    "        \n",
    "        # prediction\n",
    "        \n",
    "        if count % 50 == 0: \n",
    "            # calculate accuracy\n",
    "            correct = 0 \n",
    "            total  = 0 \n",
    "            # predict test data set \n",
    "            for images, labels in test_loader: \n",
    "                test = Variable(images.view(-1, 28 * 28))\n",
    "                \n",
    "                # forward propagation \n",
    "                outputs = model(test)\n",
    "                \n",
    "                #get predictions from the maximum value \n",
    "                \n",
    "                predicted = torch.max(outputs.data, 1)[1]\n",
    "                \n",
    "                # Total number of labels \n",
    "                total += len(labels)\n",
    "                \n",
    "                # Total correct pred\n",
    "                correct += (predicted == labels).sum()\n",
    "                \n",
    "            accuracy = 100 * correct / float(total)\n",
    "            \n",
    "            loss_list.append(loss.data)\n",
    "            iteration_list.append(count)\n",
    "            \n",
    "        if count % 500 == 0 : \n",
    "            print('Iteration: {}  Loss: {}  Accuracy: {}%'.format(count, loss.data, accuracy))"
   ]
  },
  {
   "cell_type": "code",
   "execution_count": null,
   "id": "b341b401",
   "metadata": {
    "ExecuteTime": {
     "end_time": "2021-10-12T16:25:18.839217Z",
     "start_time": "2021-10-12T16:25:18.839209Z"
    }
   },
   "outputs": [],
   "source": [
    "# visualization\n",
    "plt.plot(iteration_list,loss_list)\n",
    "plt.xlabel(\"Number of iteration\")\n",
    "plt.ylabel(\"Loss\")\n",
    "plt.title(\"Logistic Regression: Loss vs Number of iteration\")\n",
    "plt.show()\n"
   ]
  },
  {
   "cell_type": "markdown",
   "id": "fa1015b1",
   "metadata": {},
   "source": [
    "### Artificial Neural Network \n",
    "\n",
    "* Logistic Regression is not good for complex models \n",
    "* Add more non-linear functions as hidden layer\n",
    "\n",
    "* __Steps of ANN__\n",
    "    1. Import libraries \n",
    "    2. Prepare Datasets \n",
    "        - same with logistic regression \n",
    "    3. Create ANN model \n",
    "        - add 3 hidden layers\n",
    "        - use ReLU, tanh, and ELU as activation functions \n",
    "    4. Instantiate Model Class \n",
    "        - input_dim = 28 * 28 \n",
    "        - output_dim = 10 \n",
    "        - Hidden layer dim = 150 (hyperparameter) \n",
    "        - create model \n",
    "    5. Instantiate Loss \n",
    "        - cross entropy \n",
    "        - softmax in it \n",
    "    6. Instantiate Optimizer\n",
    "        - SGD optimizer \n",
    "    7. Traininig the model \n",
    "    8. Prediction \n",
    "    9. Visualization "
   ]
  },
  {
   "cell_type": "code",
   "execution_count": null,
   "id": "119f64bc",
   "metadata": {
    "ExecuteTime": {
     "end_time": "2021-10-12T16:25:18.840039Z",
     "start_time": "2021-10-12T16:25:18.840031Z"
    }
   },
   "outputs": [],
   "source": [
    "#Create ANN model \n",
    "class ANNModel(nn.Module): \n",
    "    def __init__(self, input_dim, hidden_dim, output_dim): \n",
    "        super(ANNModel, self).__init__()\n",
    "        \n",
    "        # Linear function 1 : 784 -> 150\n",
    "        self.fc1 = nn.Linear(input_dim, hidden_dim) \n",
    "        # non linear 1 \n",
    "        self.relu1= nn.ReLU()\n",
    "        \n",
    "        # Linear function 2 150 -> 150\n",
    "        self.fc2 = nn.Linear(hidden_dim, hidden_dim)\n",
    "        # non linear 2 \n",
    "        self.tanh2 = nn.Tanh()\n",
    "        \n",
    "        # linear function 3: 150 -> 150 \n",
    "        self.fc3 = nn.Linear(hidden_dim, hidden_dim)\n",
    "        # non linear 3\n",
    "        self.elu3 = nn.ELU()\n",
    "        \n",
    "        # linear function 4 : 150 -> 10\n",
    "        self.fc4 = nn.Linear(hidden_dim, output_dim) \n",
    "    \n",
    "    def forward(self, x):  \n",
    "        # Linear function 1\n",
    "        out = self.fc1(x)\n",
    "        # Non-linearity 1\n",
    "        out = self.relu1(out)\n",
    "        \n",
    "        # Linear function 2\n",
    "        out = self.fc2(out)\n",
    "        # Non-linearity 2\n",
    "        out = self.tanh2(out)\n",
    "        \n",
    "        # Linear function 2\n",
    "        out = self.fc3(out)\n",
    "        # Non-linearity 2\n",
    "        out = self.elu3(out)\n",
    "        \n",
    "        # Linear function 4 (readout)\n",
    "        out = self.fc4(out)\n",
    "        return out\n",
    "    \n",
    "# instantiate ANN \n",
    "input_dim = 28 * 28 \n",
    "hidden_dim = 150 #hyperparameter\n",
    "output_dim = 10\n",
    "\n",
    "# Create ANN\n",
    "model = ANNModel(input_dim, hidden_dim, output_dim)\n",
    "\n",
    "# Cross Entropy Loss\n",
    "error  = nn.CrossEntropyLoss() \n",
    "\n",
    "# SGD Optimizer \n",
    "lr = 0.02\n",
    "optimizer = torch.optim.SGD(model.parameters(), lr = lr)"
   ]
  },
  {
   "cell_type": "code",
   "execution_count": null,
   "id": "da759d36",
   "metadata": {
    "ExecuteTime": {
     "end_time": "2021-10-12T16:25:18.840663Z",
     "start_time": "2021-10-12T16:25:18.840655Z"
    },
    "scrolled": true
   },
   "outputs": [],
   "source": [
    "# ANN Model training\n",
    "count = 0 \n",
    "loss_list = [] \n",
    "iter_list = [] \n",
    "accuracy_list = [] \n",
    "for epoch in range(epochs): \n",
    "    for i, (images, labels) in enumerate(train_loader): \n",
    "        train = Variable(images.view(-1, 28* 28))\n",
    "        labels = Variable(labels)\n",
    "        \n",
    "        # Clear Gradients \n",
    "        optimizer.zero_grad()\n",
    "        \n",
    "        # Forwardpropagation \n",
    "        outputs = model(train)\n",
    "        \n",
    "        # calculate loss \n",
    "        loss = error(outputs, labels)\n",
    "        \n",
    "        # calculating gradients\n",
    "        loss.backward()\n",
    "        \n",
    "        # update parameters \n",
    "        optimizer.step() \n",
    "        \n",
    "        count += 1 \n",
    "        \n",
    "        if count % 50 == 0 : \n",
    "            # calculate accuracy \n",
    "            correct = 0\n",
    "            total = 0 \n",
    "            # predict data set \n",
    "            for images, labels in test_loader : \n",
    "                test = Variable(images.view(-1, 28 * 28 ))\n",
    "                \n",
    "                # forward propgation \n",
    "                outputs = model(test)\n",
    "                \n",
    "                # get predictions from the max value \n",
    "                pred = torch.max(outputs.data , 1)[1]\n",
    "                \n",
    "                # Total # of labels\n",
    "                total += len(labels)\n",
    "                \n",
    "                # total correct prediction\n",
    "                correct += (pred == labels).sum() \n",
    "                \n",
    "            accuracy = 100 * correct / float(total)\n",
    "            \n",
    "            loss_list.append(loss.data)\n",
    "            iter_list.append(count)\n",
    "            accuracy_list.append(accuracy)\n",
    "            \n",
    "        if count % 500 == 0:\n",
    "            print('Iteration: {}  Loss: {}  Accuracy: {} %'.format(count, loss.data, accuracy))\n"
   ]
  },
  {
   "cell_type": "code",
   "execution_count": null,
   "id": "0b0ac8d2",
   "metadata": {
    "ExecuteTime": {
     "end_time": "2021-10-12T16:25:18.841421Z",
     "start_time": "2021-10-12T16:25:18.841411Z"
    }
   },
   "outputs": [],
   "source": [
    "# visualization loss \n",
    "plt.plot(iter_list,loss_list)\n",
    "plt.xlabel(\"Number of iteration\")\n",
    "plt.ylabel(\"Loss\")\n",
    "plt.title(\"ANN: Loss vs Number of iteration\")\n",
    "plt.show()\n",
    "\n",
    "# visualization accuracy \n",
    "plt.plot(iter_list,accuracy_list,color = \"red\")\n",
    "plt.xlabel(\"Number of iteration\")\n",
    "plt.ylabel(\"Accuracy\")\n",
    "plt.title(\"ANN: Accuracy vs Number of iteration\")\n",
    "plt.show()"
   ]
  },
  {
   "cell_type": "markdown",
   "id": "758b3838",
   "metadata": {},
   "source": [
    "### Convolutional Neural Network (CNN) \n",
    "\n",
    "__Steps of CNN__ \n",
    "1. Import libraries\n",
    "2. Prepare Dataset \n",
    "    - Totally the same\n",
    "3. Convolutional Layer\n",
    "    - Create feature maps with filters(kernel)\n",
    "    - Padding : to preserve origianl info \n",
    "    - 2 convolutional layers\n",
    "    - \\# of feature map : out_channels = 16\n",
    "    - filter size : 5 * 5\n",
    "4. Pooling layer: \n",
    "    - Prepares condensed feature map from output of convolutional layer\n",
    "    - 2 poolying layers and use max pooling\n",
    "    - pooling size = 2 * 2\n",
    "    - \\# choose maximum value in the map 2 * 2 -> size will be decreased by 25% \n",
    "5. Flattening\n",
    "    - Flats the feature map\n",
    "6. Fully Connected Layer: \n",
    "    - do not use activation function in fully connected layer\n",
    "    - fully connected layer = logistic regression \n",
    "    - combine convolutional part and logistic regression \n",
    "    \n",
    "1. Instantiate Model Class\n",
    "    - create model\n",
    "1. Instantiate Loss \n",
    "    - Cross Entropy Loss \n",
    "    - softmax in it\n",
    "1. Instantiate optimizer\n",
    "    - SGD\n",
    "1. Training the model\n",
    "1. Prediction\n",
    "1. Visualization "
   ]
  },
  {
   "cell_type": "code",
   "execution_count": null,
   "id": "3bd73cf6",
   "metadata": {
    "ExecuteTime": {
     "end_time": "2021-10-12T16:25:18.841975Z",
     "start_time": "2021-10-12T16:25:18.841967Z"
    }
   },
   "outputs": [],
   "source": [
    "class CNNModel(nn.Module): \n",
    "    def __init__(self):\n",
    "        super(CNNModel, self).__init__()\n",
    "        \n",
    "        #convolution 1 \n",
    "        self.cnn1 = nn.Conv2d(in_channels = 1,\n",
    "                             out_channels = 16,\n",
    "                             kernel_size = 5,\n",
    "                             stride = 1,\n",
    "                             padding = 0)\n",
    "        self.relu1 = nn.ReLU()\n",
    "        # Max pool 1\n",
    "        self.maxpool1 = nn.MaxPool2d(kernel_size=2)\n",
    "        \n",
    "        #convolution 2\n",
    "        self.cnn2 = nn.Conv2d(in_channels = 16,\n",
    "                             out_channels = 32,\n",
    "                             kernel_size = 5,\n",
    "                             stride = 1,\n",
    "                             padding = 0)\n",
    "        self.relu2 = nn.ReLU()\n",
    "        # Max pool 2\n",
    "        self.maxpool2 = nn.MaxPool2d(kernel_size=2)\n",
    "        \n",
    "        self.fc1 =nn.Linear(32 * 4* 4, 10) \n",
    "        # input: outchanel * pooling * pooling\n",
    "        # ouput: output_dim\n",
    "        \n",
    "    def forward(self, x):\n",
    "        # Convolution 1\n",
    "        out = self.relu1(self.cnn1(x))\n",
    "        \n",
    "        # Maxpool 1\n",
    "        out = self.maxpool1(out)\n",
    "        \n",
    "        # Convolution 2\n",
    "        out = self.relu2(self.cnn2(out))\n",
    "        \n",
    "        # Maxpool 2\n",
    "        out = self.maxpool2(out)\n",
    "        \n",
    "        # flatten \n",
    "        out = out.view(out.size(0), -1)\n",
    "        \n",
    "        # linear function\n",
    "        out = self.fc1(out)\n",
    "        \n",
    "        return out\n",
    "    \n",
    "batch_size = 100\n",
    "n_iters = 2500\n",
    "epochs = int( n_iters / ( len(features_train) / batch_size) )\n",
    "\n",
    "# pytorch train and test sets\n",
    "train = torch.utils.data.TensorDataset(featuresTrain, targetsTrain)\n",
    "test= torch.utils.data.TensorDataset(featuresTest, targetsTest)\n",
    "\n",
    "# data loader\n",
    "train_loader = torch.utils.data.DataLoader(train, batch_size = batch_size , shuffle = False)\n",
    "test_loader = torch.utils.data.DataLoader(test, batch_size = batch_size , shuffle = False)\n",
    "\n",
    "# Create CNN\n",
    "model = CNNModel()\n",
    "\n",
    "#cross entropy loss\n",
    "error = nn.CrossEntropyLoss()\n",
    "\n",
    "# SGD Optimizer \n",
    "learning_rate = 0.1\n",
    "optimizer = torch.optim.SGD(model.parameters(), lr = learning_rate)"
   ]
  },
  {
   "cell_type": "code",
   "execution_count": null,
   "id": "405bd6a1",
   "metadata": {
    "ExecuteTime": {
     "end_time": "2021-10-12T16:25:18.842744Z",
     "start_time": "2021-10-12T16:25:18.842736Z"
    }
   },
   "outputs": [],
   "source": [
    "count = 0\n",
    "loss_list = []\n",
    "iteration_list = []\n",
    "accuracy_list = []\n",
    "for epoch in range(epochs):\n",
    "    for i , (images, labels) in enumerate(train_loader):\n",
    "        train = Variable(images.view(100,1,28,28))\n",
    "        labels = Variable(labels)\n",
    "        \n",
    "        #clear gradients\n",
    "        optimizer.zero_grad()\n",
    "        \n",
    "        # forward propagation \n",
    "        outputs = model(train)\n",
    "        \n",
    "        # calculate softmax and cross entropy loss\n",
    "        loss = error(outputs, labels)\n",
    "        \n",
    "        # calculating gradients\n",
    "        loss.backward()\n",
    "        \n",
    "        # update parameters\n",
    "        optimizer.step()\n",
    "        \n",
    "        count += 1\n",
    "        \n",
    "        if count % 50 == 0 : \n",
    "            # calculate accuracy\n",
    "            for images, labels in test_loader: \n",
    "                test = Variable(images.view(100, 1, 28, 28))\n",
    "                \n",
    "                # Forward propagation \n",
    "                outputs = model (test)\n",
    "                \n",
    "                # pred by max values \n",
    "                pred = torch.max(outputs.data, 1)[1]\n",
    "                \n",
    "                # Total number of labels \n",
    "                total += len(labels)\n",
    "                \n",
    "                correct += (pred == labels).sum()\n",
    "                \n",
    "            accuracy = 100 * correct / float(total)\n",
    "            \n",
    "            loss_list.append(loss.data)\n",
    "            iteration_list.append(count)\n",
    "            \n",
    "            accuracy_list.append(accuracy)\n",
    "            \n",
    "        if count % 500 == 0:\n",
    "            print('Iteration: {}  Loss: {}  Accuracy: {} %'.format(count, loss.data, accuracy))\n"
   ]
  },
  {
   "cell_type": "code",
   "execution_count": null,
   "id": "81ba9d22",
   "metadata": {
    "ExecuteTime": {
     "end_time": "2021-10-12T16:25:18.843495Z",
     "start_time": "2021-10-12T16:25:18.843487Z"
    }
   },
   "outputs": [],
   "source": [
    "# visualization loss \n",
    "plt.plot(iteration_list,loss_list)\n",
    "plt.xlabel(\"Number of iteration\")\n",
    "plt.ylabel(\"Loss\")\n",
    "plt.title(\"CNN: Loss vs Number of iteration\")\n",
    "plt.show()\n",
    "\n",
    "# visualization accuracy \n",
    "plt.plot(iteration_list,accuracy_list,color = \"red\")\n",
    "plt.xlabel(\"Number of iteration\")\n",
    "plt.ylabel(\"Accuracy\")\n",
    "plt.title(\"CNN: Accuracy vs Number of iteration\")\n",
    "plt.show()"
   ]
  },
  {
   "cell_type": "code",
   "execution_count": null,
   "id": "8e63ce42",
   "metadata": {},
   "outputs": [],
   "source": []
  },
  {
   "cell_type": "code",
   "execution_count": null,
   "id": "753d61b0",
   "metadata": {},
   "outputs": [],
   "source": []
  },
  {
   "cell_type": "code",
   "execution_count": null,
   "id": "48e629c9",
   "metadata": {},
   "outputs": [],
   "source": []
  },
  {
   "cell_type": "code",
   "execution_count": null,
   "id": "69157d58",
   "metadata": {},
   "outputs": [],
   "source": []
  },
  {
   "cell_type": "code",
   "execution_count": null,
   "id": "f03991dc",
   "metadata": {},
   "outputs": [],
   "source": []
  }
 ],
 "metadata": {
  "kernelspec": {
   "display_name": "Python 3 (ipykernel)",
   "language": "python",
   "name": "python3"
  },
  "language_info": {
   "codemirror_mode": {
    "name": "ipython",
    "version": 3
   },
   "file_extension": ".py",
   "mimetype": "text/x-python",
   "name": "python",
   "nbconvert_exporter": "python",
   "pygments_lexer": "ipython3",
   "version": "3.7.11"
  },
  "varInspector": {
   "cols": {
    "lenName": 16,
    "lenType": 16,
    "lenVar": 40
   },
   "kernels_config": {
    "python": {
     "delete_cmd_postfix": "",
     "delete_cmd_prefix": "del ",
     "library": "var_list.py",
     "varRefreshCmd": "print(var_dic_list())"
    },
    "r": {
     "delete_cmd_postfix": ") ",
     "delete_cmd_prefix": "rm(",
     "library": "var_list.r",
     "varRefreshCmd": "cat(var_dic_list()) "
    }
   },
   "types_to_exclude": [
    "module",
    "function",
    "builtin_function_or_method",
    "instance",
    "_Feature"
   ],
   "window_display": false
  }
 },
 "nbformat": 4,
 "nbformat_minor": 5
}
