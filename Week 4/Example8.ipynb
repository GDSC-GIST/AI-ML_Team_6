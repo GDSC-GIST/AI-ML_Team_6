{
 "cells": [
  {
   "cell_type": "code",
   "execution_count": null,
   "id": "4ca69305-f307-4090-937b-c44de0e53d73",
   "metadata": {},
   "outputs": [],
   "source": [
    "import numpy as np # linear algebra\n",
    "import pandas as pd # data processing, CSV file I/O (e.g. pd.read_csv)\n",
    "import seaborn as sns\n",
    "from pandas.tools.plotting import parallel_coordinates\n",
    "\n",
    "# plotly\n",
    "import plotly.plotly as py\n",
    "from plotly.offline import init_notebook_mode, iplot\n",
    "init_notebook_mode(connected=True)\n",
    "import plotly.graph_objs as go\n",
    "from plotly import tools\n",
    "\n",
    "# matplotlib\n",
    "\n",
    "import matplotlib.pyplot as plt\n",
    "\n",
    "import warnings\n",
    "warnings.filterwarnings('ignore')\n",
    "\n",
    "import os\n",
    "print(os.listdir(\"../input\"))"
   ]
  },
  {
   "cell_type": "code",
   "execution_count": null,
   "id": "42c9c568-e927-4780-b9d8-de09ec8dfe12",
   "metadata": {},
   "outputs": [],
   "source": [
    "# I changed of the columns the names\n",
    "data2015.columns = ['country','region','happiness_rank','happiness_score','standard_error','economy','family','health','freedom','trust','generosity','dystopia']\n",
    "data2016.columns = ['country','region','happiness_rank','hapiness_score','lower_confidence','upper_confidence','economy','family','health','freedom','trust','generosity','dystopia']\n",
    "data2017.columns = ['country','happiness_rank','happiness_score','whisker_high','whisker_low','economy','family','health','freedom','generosity','trust','dystopia']"
   ]
  },
  {
   "cell_type": "code",
   "execution_count": null,
   "id": "f9bcf65c-1a03-4f0b-9e21-ef1502a52ea8",
   "metadata": {},
   "outputs": [],
   "source": [
    "f,ax=plt.subplots(figsize=(8,8))\n",
    "sns.heatmap(data2015.corr(),annot=True,linewidth=.5,fmt='.1f',ax=ax)\n",
    "plt.show()"
   ]
  },
  {
   "cell_type": "code",
   "execution_count": null,
   "id": "d15de9da-b6a8-432a-b1a2-df8b2e2b9526",
   "metadata": {},
   "outputs": [],
   "source": [
    "region_mean = data2015.groupby(['region'])['happiness_score'].mean()\n",
    "region_mean.sort_values(ascending=False, inplace=True)\n",
    "\n",
    "# Bar Chart\n",
    "trace1 = go.Bar(\n",
    "    x=region_mean.index,\n",
    "    y=region_mean.values,\n",
    "    marker=dict(\n",
    "        color=['rgb(93, 100, 210)', 'rgb(255, 144, 14)',\n",
    "               'rgb(44, 160, 101)', 'rgb(255, 65, 54)'],\n",
    "        line=dict(\n",
    "            color='rgb(8,48,107)',\n",
    "            width=1.5,\n",
    "        )\n",
    "    ),\n",
    ")\n",
    "\n",
    "data = [trace1]\n",
    "layout = go.Layout(\n",
    "    barmode='stack'\n",
    ")\n",
    "layout = dict(title = '2015 Happiness ranking by region',\n",
    "              xaxis= dict(title= 'Region',ticklen= 5,zeroline= False)\n",
    "             )\n",
    "fig = go.Figure(data=data, layout=layout)\n",
    "iplot(fig)"
   ]
  },
  {
   "cell_type": "code",
   "execution_count": null,
   "id": "ec5edb88-ea67-4f58-b983-63ac9f838963",
   "metadata": {},
   "outputs": [],
   "source": [
    "region_mean = data2015.groupby(['region'])['economy'].mean()\n",
    "region_mean.sort_values(ascending=False, inplace=True)\n",
    "\n",
    "# Bar Chart\n",
    "trace1 = go.Bar(\n",
    "    x=region_mean.index,\n",
    "    y=region_mean.values,\n",
    "    marker=dict(\n",
    "        color=['rgb(93, 100, 210)', 'rgb(255, 144, 14)',\n",
    "               'rgb(44, 160, 101)', 'rgb(255, 65, 54)'],\n",
    "        line=dict(\n",
    "            color='rgb(8,48,107)',\n",
    "            width=1.5,\n",
    "        )\n",
    "    ),\n",
    ")\n",
    "\n",
    "data = [trace1]\n",
    "layout = go.Layout(\n",
    "    barmode='stack'\n",
    ")\n",
    "layout = dict(title = '2015 Economy ranking by region',\n",
    "              xaxis= dict(title= 'Region',ticklen= 5,zeroline= False)\n",
    "             )\n",
    "fig = go.Figure(data=data, layout=layout)\n",
    "iplot(fig)"
   ]
  },
  {
   "cell_type": "code",
   "execution_count": null,
   "id": "734b646f-897a-44c4-aaf6-2f57abc88ff0",
   "metadata": {},
   "outputs": [],
   "source": [
    "region_mean = data2015.groupby(['region'])['family'].mean()\n",
    "region_mean.sort_values(ascending=False, inplace=True)\n",
    "\n",
    "# Bar Chart\n",
    "trace1 = go.Bar(\n",
    "    x=region_mean.index,\n",
    "    y=region_mean.values,\n",
    "    marker=dict(\n",
    "        color=['rgb(93, 100, 210)', 'rgb(255, 144, 14)',\n",
    "               'rgb(44, 160, 101)', 'rgb(255, 65, 54)'],\n",
    "        line=dict(\n",
    "            color='rgb(8,48,107)',\n",
    "            width=1.5,\n",
    "        )\n",
    "    ),\n",
    ")\n",
    "\n",
    "data = [trace1]\n",
    "layout = go.Layout(\n",
    "    barmode='stack'\n",
    ")\n",
    "layout = dict(title = '2015 Family ranking by region',\n",
    "              xaxis= dict(title= 'Region',ticklen= 5,zeroline= False)\n",
    "             )\n",
    "fig = go.Figure(data=data, layout=layout)\n",
    "iplot(fig)"
   ]
  },
  {
   "cell_type": "code",
   "execution_count": null,
   "id": "639b2e99-9b82-4475-b427-8d24f199fcda",
   "metadata": {},
   "outputs": [],
   "source": [
    "region_mean = data2015.groupby(['region'])['health'].mean()\n",
    "region_mean.sort_values(ascending=False, inplace=True)\n",
    "\n",
    "# Bar Chart\n",
    "trace1 = go.Bar(\n",
    "    x=region_mean.index,\n",
    "    y=region_mean.values,\n",
    "    marker=dict(\n",
    "        color=['rgb(93, 100, 210)', 'rgb(255, 144, 14)',\n",
    "               'rgb(44, 160, 101)', 'rgb(255, 65, 54)'],\n",
    "        line=dict(\n",
    "            color='rgb(8,48,107)',\n",
    "            width=1.5,\n",
    "        )\n",
    "    ),\n",
    ")\n",
    "\n",
    "data = [trace1]\n",
    "layout = go.Layout(\n",
    "    barmode='stack'\n",
    ")\n",
    "layout = dict(title = '2015 Health ranking by region',\n",
    "              xaxis= dict(title= 'Region',ticklen= 5,zeroline= False)\n",
    "             )\n",
    "fig = go.Figure(data=data, layout=layout)\n",
    "iplot(fig)"
   ]
  },
  {
   "cell_type": "code",
   "execution_count": null,
   "id": "bea199fa-5a8e-43c2-9850-b5d1251ddec3",
   "metadata": {},
   "outputs": [],
   "source": [
    "data = dict(type = 'choropleth', \n",
    "           locations = data2015['country'],\n",
    "           locationmode = 'country names',\n",
    "           z = data2015['happiness_rank'], \n",
    "           text = data2015['country'],\n",
    "           colorbar = {'title':'Happiness'})\n",
    "layout = dict(title = '2015 Global Happiness', \n",
    "                 geo = dict(showframe = False, \n",
    "                       projection = {'type': 'equirectangular'}))\n",
    "fig = go.Figure(data = [data], layout=layout)\n",
    "iplot(fig)"
   ]
  },
  {
   "cell_type": "code",
   "execution_count": null,
   "id": "27ba55fa-527a-4c5e-816b-3ab68e1a518e",
   "metadata": {},
   "outputs": [],
   "source": []
  },
  {
   "cell_type": "code",
   "execution_count": null,
   "id": "0ff33ace-9a82-4aa7-863e-c31f91fe9708",
   "metadata": {},
   "outputs": [],
   "source": []
  },
  {
   "cell_type": "code",
   "execution_count": null,
   "id": "48363637-c4ab-47d2-85bc-09f9695b6ff0",
   "metadata": {},
   "outputs": [],
   "source": []
  },
  {
   "cell_type": "code",
   "execution_count": null,
   "id": "adf59565-c071-4b1f-99cf-9dd847d6f3ef",
   "metadata": {},
   "outputs": [],
   "source": []
  },
  {
   "cell_type": "code",
   "execution_count": null,
   "id": "cf1acd6c-554f-4213-bef8-00a4d6d034df",
   "metadata": {},
   "outputs": [],
   "source": []
  },
  {
   "cell_type": "code",
   "execution_count": null,
   "id": "fc5213cb-4c73-438c-9258-2472d77ae74b",
   "metadata": {},
   "outputs": [],
   "source": []
  },
  {
   "cell_type": "code",
   "execution_count": null,
   "id": "d2fb1c2e-4246-40f0-a186-b2f7db021c0d",
   "metadata": {},
   "outputs": [],
   "source": []
  },
  {
   "cell_type": "code",
   "execution_count": null,
   "id": "333e83ca-5dd1-4d8f-986d-43fa8f350c69",
   "metadata": {},
   "outputs": [],
   "source": []
  },
  {
   "cell_type": "code",
   "execution_count": null,
   "id": "d3565dd9-3a68-4cd9-9e2c-19312690183c",
   "metadata": {},
   "outputs": [],
   "source": []
  },
  {
   "cell_type": "code",
   "execution_count": null,
   "id": "a3710f5f-670a-42a8-8bf2-a7c302bae983",
   "metadata": {},
   "outputs": [],
   "source": []
  },
  {
   "cell_type": "code",
   "execution_count": null,
   "id": "5df68c6d-bae9-4925-9b47-793df02e9ce4",
   "metadata": {},
   "outputs": [],
   "source": []
  },
  {
   "cell_type": "code",
   "execution_count": null,
   "id": "dc33d196-901c-478b-8a0e-5f424fe2d985",
   "metadata": {},
   "outputs": [],
   "source": []
  },
  {
   "cell_type": "code",
   "execution_count": null,
   "id": "e2419063-cac0-4bcc-8220-b1243a362fd0",
   "metadata": {},
   "outputs": [],
   "source": []
  },
  {
   "cell_type": "code",
   "execution_count": null,
   "id": "a2eff53c-98d0-4e2b-9ec7-27ef872e3726",
   "metadata": {},
   "outputs": [],
   "source": []
  }
 ],
 "metadata": {
  "kernelspec": {
   "display_name": "Python 3 (ipykernel)",
   "language": "python",
   "name": "python3"
  },
  "language_info": {
   "codemirror_mode": {
    "name": "ipython",
    "version": 3
   },
   "file_extension": ".py",
   "mimetype": "text/x-python",
   "name": "python",
   "nbconvert_exporter": "python",
   "pygments_lexer": "ipython3",
   "version": "3.7.11"
  }
 },
 "nbformat": 4,
 "nbformat_minor": 5
}
