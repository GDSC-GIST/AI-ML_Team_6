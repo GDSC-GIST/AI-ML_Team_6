{
 "cells": [
  {
   "cell_type": "markdown",
   "id": "ea4e6d17-53af-4926-ae9c-88be8cc1c440",
   "metadata": {},
   "source": [
    "# 1. Introduction"
   ]
  },
  {
   "cell_type": "code",
   "execution_count": 1,
   "id": "2fcc9722-97d9-435d-9488-4f8d4e9af43e",
   "metadata": {},
   "outputs": [
    {
     "name": "stderr",
     "output_type": "stream",
     "text": [
      "Using TensorFlow backend.\n"
     ]
    }
   ],
   "source": [
    "import numpy as np\n",
    "import pandas as pd\n",
    "import matplotlib.pyplot as plt\n",
    "import matplotlib.image as mpimg\n",
    "import seaborn as sns\n",
    "%matplotlib inline \n",
    "\n",
    "np.random.seed(2)\n",
    "\n",
    "from sklearn.model_selection import train_test_split\n",
    "from sklearn.metrics import confusion_matrix\n",
    "import itertools \n",
    "\n",
    "from keras.utils.np_utils import to_categorical #convert to one-hot-encoding \n",
    "from keras.models import Sequential\n",
    "from keras.layers import Dense, Dropout, Flatten, Conv2D, MaxPool2D\n",
    "from keras.optimizers import RMSprop\n",
    "from keras.preprocessing.image import ImageDataGenerator\n",
    "from keras.callbacks import ReduceLROnPlateau\n",
    "\n",
    "sns.set(style = 'white', context= 'notebook', palette = 'deep' )"
   ]
  },
  {
   "cell_type": "markdown",
   "id": "0714e4d5-5020-49d1-81fa-5e2482087079",
   "metadata": {},
   "source": [
    "# 2. Data Preparation "
   ]
  },
  {
   "cell_type": "markdown",
   "id": "f4a62741-d4ab-4490-a7cd-558eb334b8ae",
   "metadata": {},
   "source": [
    "### 2.1 Load Data"
   ]
  },
  {
   "cell_type": "code",
   "execution_count": 2,
   "id": "8eace026-99f7-40ef-ab60-49a25548c69c",
   "metadata": {},
   "outputs": [
    {
     "name": "stderr",
     "output_type": "stream",
     "text": [
      "/Users/yooseung/opt/anaconda3/envs/tf/lib/python3.7/site-packages/seaborn/_decorators.py:43: FutureWarning: Pass the following variable as a keyword arg: x. From version 0.12, the only valid positional argument will be `data`, and passing other arguments without an explicit keyword will result in an error or misinterpretation.\n",
      "  FutureWarning\n"
     ]
    },
    {
     "data": {
      "text/plain": [
       "1    4684\n",
       "7    4401\n",
       "3    4351\n",
       "9    4188\n",
       "2    4177\n",
       "6    4137\n",
       "0    4132\n",
       "4    4072\n",
       "8    4063\n",
       "5    3795\n",
       "Name: label, dtype: int64"
      ]
     },
     "execution_count": 2,
     "metadata": {},
     "output_type": "execute_result"
    },
    {
     "data": {
      "image/png": "[encoded data removed]",
      "text/plain": [
       "<Figure size 432x288 with 1 Axes>"
      ]
     },
     "metadata": {},
     "output_type": "display_data"
    }
   ],
   "source": [
    "train = pd.read_csv(\"./input/Lecture 4/train.csv\")\n",
    "test = pd.read_csv(\"./input/Lecture 4/test.csv\")\n",
    "\n",
    "Y_train = train['label']\n",
    "X_train = train.drop(labels = ['label'], axis = 1) \n",
    "\n",
    "del train # free some space \n",
    "\n",
    "g = sns.countplot(Y_train)\n",
    "\n",
    "Y_train.value_counts() # number of label in Y_train "
   ]
  },
  {
   "cell_type": "markdown",
   "id": "d1252da6-770f-44e9-a4d5-a0696141d2fb",
   "metadata": {},
   "source": [
    "### 2.2 Check for null and missing values\n",
    "\n",
    "* No missing values"
   ]
  },
  {
   "cell_type": "code",
   "execution_count": 3,
   "id": "8df5bb94-0306-43a2-ba96-81aa99bc880c",
   "metadata": {},
   "outputs": [
    {
     "data": {
      "text/plain": [
       "count       784\n",
       "unique        1\n",
       "top       False\n",
       "freq        784\n",
       "dtype: object"
      ]
     },
     "execution_count": 3,
     "metadata": {},
     "output_type": "execute_result"
    }
   ],
   "source": [
    "X_train.isnull().any().describe()"
   ]
  },
  {
   "cell_type": "code",
   "execution_count": 4,
   "id": "b30e48e4-cf5d-4b65-bce9-c930d827a1bc",
   "metadata": {},
   "outputs": [
    {
     "data": {
      "text/plain": [
       "count       784\n",
       "unique        1\n",
       "top       False\n",
       "freq        784\n",
       "dtype: object"
      ]
     },
     "execution_count": 4,
     "metadata": {},
     "output_type": "execute_result"
    }
   ],
   "source": [
    "test.isnull().any().describe()"
   ]
  },
  {
   "cell_type": "markdown",
   "id": "6dbdfb10-7ab2-44b3-a4f3-b1dc5ea19fe0",
   "metadata": {},
   "source": [
    "### 2.3 Normalization "
   ]
  },
  {
   "cell_type": "code",
   "execution_count": 5,
   "id": "a1e40561-d5f8-4dde-b0f5-dfe39ab1bfb2",
   "metadata": {},
   "outputs": [],
   "source": [
    "X_train = X_train / 255.0\n",
    "test = test / 255.0\n",
    "\n",
    "# [0, 255] -> [0,1]"
   ]
  },
  {
   "cell_type": "markdown",
   "id": "c673ba1c-de2e-47d7-8e07-83c86df51676",
   "metadata": {},
   "source": [
    "### 2.4 Reshape"
   ]
  },
  {
   "cell_type": "code",
   "execution_count": 6,
   "id": "2ac61999-7b5e-436e-9f57-1817b6503df9",
   "metadata": {
    "tags": []
   },
   "outputs": [],
   "source": [
    "X_train = X_train.values.reshape(-1,28,28,1)\n",
    "test = test.values.reshape(-1,28,28,1)\n",
    "# 28 x 28 x 1 : 3D matirx\n",
    "\n",
    "# for gray scale -> 28 x 28 x 1\n",
    "# for RGB image -> 28 x 28 x 3 "
   ]
  },
  {
   "cell_type": "markdown",
   "id": "e7e0ae1c-0139-4752-aa60-ae52542faace",
   "metadata": {},
   "source": [
    "### 2.5 Label Encoding"
   ]
  },
  {
   "cell_type": "code",
   "execution_count": 7,
   "id": "68a5c43d-ec2b-4a83-91d1-46979c9f11d8",
   "metadata": {},
   "outputs": [],
   "source": [
    "Y_train = to_categorical(Y_train, num_classes = 10)\n",
    "# one - hot vectors"
   ]
  },
  {
   "cell_type": "markdown",
   "id": "ddd6ba29-76e9-4361-bb6f-c0845b0906d1",
   "metadata": {},
   "source": [
    "### 2.6 Split training and Validation set"
   ]
  },
  {
   "cell_type": "code",
   "execution_count": 8,
   "id": "b8c1b720-bb0d-4ada-8191-d0d904824af3",
   "metadata": {},
   "outputs": [
    {
     "data": {
      "image/png": "[encoded data removed]",
      "text/plain": [
       "<Figure size 432x288 with 1 Axes>"
      ]
     },
     "metadata": {},
     "output_type": "display_data"
    }
   ],
   "source": [
    "random_seed = 2 #random seed \n",
    "\n",
    "X_train, X_val, Y_train, Y_val = train_test_split(X_train, Y_train,\n",
    "                                                  test_size = 0.1, \n",
    "                                                  random_state = random_seed)\n",
    "\n",
    "# use stratify = True option in train_test_split to avoid unbalanced dataset\n",
    "\n",
    "#example\n",
    "g = plt.imshow(X_train[0][:, :, 0])"
   ]
  },
  {
   "cell_type": "markdown",
   "id": "e887c470-78e2-40f0-9d2a-5a53a71a3d68",
   "metadata": {},
   "source": [
    "# 3. CNN"
   ]
  },
  {
   "cell_type": "markdown",
   "id": "d870f91b-6c70-4ea2-aa8a-58010161d77d",
   "metadata": {},
   "source": [
    "### 3.1 Define the model \n",
    "\n",
    "* convolutional layers : transforms the image \n",
    "    - 32 filters for first two \n",
    "    - 64 filters for last two \n",
    "\n",
    "* pooling layer : down sampling \n",
    "    - reduce computational cost\n",
    "    - reduce overfitting \n",
    "    \n",
    "* Dropout : regularization method \n",
    "    - ignore some proportion of nodes \n",
    "    - reduce overfitting \n",
    "    \n",
    "* Rectifier: we use ReLU\n",
    "    - max(0,x)\n",
    "    - add non-linearity to the network\n",
    "    \n",
    "* Flatten Layer: \n",
    "    - final feature map to 1D vector \n",
    "    \n",
    "* Dense Layer: fully connected layers \n",
    "    - ANN classifier\n",
    "    - last layer outputs the distribution of probability \n",
    " "
   ]
  },
  {
   "cell_type": "code",
   "execution_count": 9,
   "id": "1f590fb8-02d0-410e-94cd-ee64a8a716ca",
   "metadata": {},
   "outputs": [
    {
     "name": "stderr",
     "output_type": "stream",
     "text": [
      "2021-11-02 17:51:29.848882: I tensorflow/core/platform/cpu_feature_guard.cc:145] This TensorFlow binary is optimized with Intel(R) MKL-DNN to use the following CPU instructions in performance critical operations:  SSE4.1 SSE4.2\n",
      "To enable them in non-MKL-DNN operations, rebuild TensorFlow with the appropriate compiler flags.\n",
      "2021-11-02 17:51:29.849862: I tensorflow/core/common_runtime/process_util.cc:115] Creating new thread pool with default inter op setting: 8. Tune using inter_op_parallelism_threads for best performance.\n"
     ]
    }
   ],
   "source": [
    "# In -> [Conv2D -> relu] * 2 ->  [ MaxPool2D ->  Dropout ] * 2 -> Flatten -> Dense -> Droupout -> Out\n",
    "\n",
    "model = Sequential() \n",
    "model.add(Conv2D(filters = 32 , \n",
    "                 kernel_size = (5,5) , \n",
    "                 padding = 'Same',\n",
    "                 activation = 'relu', \n",
    "                 input_shape = (28,28,1)))\n",
    "\n",
    "model.add(Conv2D(filters = 32 , \n",
    "                 kernel_size = (5,5) , \n",
    "                 padding = 'Same',\n",
    "                 activation = 'relu'))\n",
    "\n",
    "model.add(Conv2D(filters = 64, \n",
    "                 kernel_size = (3,3),\n",
    "                 padding = 'Same', \n",
    "                 activation = 'relu'))\n",
    "\n",
    "model.add(Conv2D(filters = 64, \n",
    "                 kernel_size = (3,3),\n",
    "                 padding = 'Same', \n",
    "                 activation = 'relu'))\n",
    "\n",
    "model.add(MaxPool2D(pool_size = (2,2), strides = (2,2)))\n",
    "\n",
    "model.add(Dropout(0.25))\n",
    "\n",
    "model.add(Flatten())\n",
    "\n",
    "model.add(Dense(256, activation = 'relu'))\n",
    "\n",
    "model.add(Dropout(0.5))\n",
    "\n",
    "model.add(Dense(10, activation = 'softmax'))\n"
   ]
  },
  {
   "cell_type": "markdown",
   "id": "5560d613-42c5-486e-8bb0-d97d9124c09d",
   "metadata": {
    "tags": []
   },
   "source": [
    "### 3.2 Set the optimizer and annealer \n",
    "\n",
    "* loss function = categorical crossentropy\n",
    "* optimizer: iteratively improve parameters (minimize the loss) \n",
    "* RMSprop : Adagrad method \n",
    "* Decreasing LR : if the accuracy is not improved"
   ]
  },
  {
   "cell_type": "code",
   "execution_count": 28,
   "id": "6e46a8db-6c4d-48cd-ba41-53d5fa8b3408",
   "metadata": {},
   "outputs": [],
   "source": [
    "optimizer = RMSprop() # good to leave its default value (lr = 0.001, rho = 0.9)\n",
    "\n",
    "model.compile(optimizer = optimizer,\n",
    "              loss = 'categorical_crossentropy',\n",
    "              metrics = ['accuracy'])\n",
    "learning_rate_reduction = ReduceLROnPlateau(monitor='val_acc',\n",
    "                                            patience = 3,\n",
    "                                            verbose = 1,\n",
    "                                            factor = 0.5,\n",
    "                                            min_lr = 0.00001)\n",
    "\n",
    "epochs = 10\n",
    "\n",
    "batch_size = 86"
   ]
  },
  {
   "cell_type": "markdown",
   "id": "73ce51c8-e6e8-417e-8f8e-170e858bc3d0",
   "metadata": {},
   "source": [
    "### 3.3 Data Augmentation \n",
    "\n",
    "* Artificially expand the dataset\n",
    "    - rotating\n",
    "    - big or small writing\n",
    "    - not centered\n",
    "    - horizontal or vertical flip\n",
    "    - crop...\n",
    "    \n",
    "* Increase the number of the datasets "
   ]
  },
  {
   "cell_type": "code",
   "execution_count": 29,
   "id": "d5183c26-c04c-4c51-a533-05dd60698c77",
   "metadata": {},
   "outputs": [
    {
     "name": "stdout",
     "output_type": "stream",
     "text": [
      "Epoch 1/10\n",
      "439/439 [==============================] - 487s 1s/step - loss: 0.1223 - accuracy: 0.9631 - val_loss: 0.0414 - val_accuracy: 0.9881\n",
      "Epoch 2/10\n"
     ]
    },
    {
     "name": "stderr",
     "output_type": "stream",
     "text": [
      "/Users/yooseung/opt/anaconda3/envs/tf/lib/python3.7/site-packages/keras/callbacks/callbacks.py:1042: RuntimeWarning: Reduce LR on plateau conditioned on metric `val_acc` which is not available. Available metrics are: val_loss,val_accuracy,loss,accuracy,lr\n",
      "  (self.monitor, ','.join(list(logs.keys()))), RuntimeWarning\n"
     ]
    },
    {
     "name": "stdout",
     "output_type": "stream",
     "text": [
      "439/439 [==============================] - 488s 1s/step - loss: 0.0922 - accuracy: 0.9725 - val_loss: 0.0525 - val_accuracy: 0.9855\n",
      "Epoch 3/10\n",
      "439/439 [==============================] - 1725s 4s/step - loss: 0.0777 - accuracy: 0.9766 - val_loss: 0.0319 - val_accuracy: 0.9907\n",
      "Epoch 4/10\n",
      "439/439 [==============================] - 482s 1s/step - loss: 0.0735 - accuracy: 0.9794 - val_loss: 0.0401 - val_accuracy: 0.9881\n",
      "Epoch 5/10\n",
      "439/439 [==============================] - 482s 1s/step - loss: 0.0651 - accuracy: 0.9811 - val_loss: 0.0278 - val_accuracy: 0.9917\n",
      "Epoch 6/10\n",
      "439/439 [==============================] - 1158s 3s/step - loss: 0.0661 - accuracy: 0.9808 - val_loss: 0.0477 - val_accuracy: 0.9876\n",
      "Epoch 7/10\n",
      "439/439 [==============================] - 487s 1s/step - loss: 0.0710 - accuracy: 0.9814 - val_loss: 0.0453 - val_accuracy: 0.9905\n",
      "Epoch 8/10\n",
      "439/439 [==============================] - 497s 1s/step - loss: 0.0688 - accuracy: 0.9819 - val_loss: 0.0301 - val_accuracy: 0.9924\n",
      "Epoch 9/10\n",
      "439/439 [==============================] - 500s 1s/step - loss: 0.0662 - accuracy: 0.9819 - val_loss: 0.0328 - val_accuracy: 0.9933\n",
      "Epoch 10/10\n",
      "439/439 [==============================] - 493s 1s/step - loss: 0.0743 - accuracy: 0.9816 - val_loss: 0.0312 - val_accuracy: 0.9905\n"
     ]
    }
   ],
   "source": [
    "datagen = ImageDataGenerator(\n",
    "    featurewise_center = False, #set input mean = 0\n",
    "    samplewise_center = False,\n",
    "    featurewise_std_normalization = False, # divide each input by its std\n",
    "    samplewise_std_normalization = False,\n",
    "    zca_whitening = False,\n",
    "    rotation_range = 10,#rotate 10 degrees \n",
    "    zoom_range = 0.1,\n",
    "    width_shift_range = 0.1, \n",
    "    height_shift_range = 0.1,\n",
    "    horizontal_flip = False, # DO NOT flip images \n",
    "    vertical_flip = False)\n",
    "\n",
    "datagen.fit(X_train) \n",
    "\n",
    "#fitting \n",
    "history = model.fit_generator(datagen.flow(X_train, Y_train, batch_size = batch_size),\n",
    "                              epochs = epochs,\n",
    "                              validation_data = (X_val, Y_val),\n",
    "                              verbose = 1, # 0: silence 1: progress, 2: per line \n",
    "                              steps_per_epoch = X_train.shape[0] // batch_size,\n",
    "                              callbacks = [learning_rate_reduction])"
   ]
  },
  {
   "cell_type": "markdown",
   "id": "e6520d93-2998-4bcd-bca7-091078e53775",
   "metadata": {
    "jupyter": {
     "source_hidden": true
    },
    "tags": []
   },
   "source": [
    "# 4. Evalutate the model"
   ]
  },
  {
   "cell_type": "markdown",
   "id": "d83c0a17-a507-4add-987d-380000898f94",
   "metadata": {},
   "source": [
    "### 4.1 Training and validation curves "
   ]
  },
  {
   "cell_type": "code",
   "execution_count": 30,
   "id": "0d81e2b3-28f1-4de5-b089-2c5f1cede5b4",
   "metadata": {
    "jupyter": {
     "source_hidden": true
    },
    "tags": []
   },
   "outputs": [
    {
     "data": {
      "image/png": "[encoded data removed]",
      "text/plain": [
       "<Figure size 432x288 with 2 Axes>"
      ]
     },
     "metadata": {},
     "output_type": "display_data"
    }
   ],
   "source": [
    "fig, ax = plt.subplots(2,1)\n",
    "ax[0].plot(history.history['loss'],\n",
    "           color =  'b', \n",
    "           label = 'Training Loss')\n",
    "ax[0].plot(history.history['val_loss'], \n",
    "           color = 'r',\n",
    "           label = 'validation loss',\n",
    "           axes = ax[0])\n",
    "legend = ax[0].legend(loc = 'best' , shadow = True) \n",
    "\n",
    "ax[1].plot(history.history['accuracy'], \n",
    "           color = 'b', \n",
    "           label = 'Trainig Accuracy')\n",
    "\n",
    "ax[1].plot(history.history['val_accuracy'],\n",
    "           color = 'r', \n",
    "           label = 'Validation Accuracy')\n",
    "legend = ax[1].legend(loc = 'best', shadow = True) "
   ]
  },
  {
   "cell_type": "markdown",
   "id": "555e42f7-68b9-42cb-a549-8d43dbeb872c",
   "metadata": {},
   "source": [
    "### 4.2 Confusion Matrix\n",
    "* Helpful to see drawbacks"
   ]
  },
  {
   "cell_type": "code",
   "execution_count": 32,
   "id": "7151da6a-4dd6-4af9-a999-d75174368f8e",
   "metadata": {},
   "outputs": [
    {
     "data": {
      "image/png": "[encoded data removed]",
      "text/plain": [
       "<Figure size 432x288 with 2 Axes>"
      ]
     },
     "metadata": {},
     "output_type": "display_data"
    }
   ],
   "source": [
    "def plot_confusion_matrix(cm, classes, normalize = False, title = 'Confusion Matrix', cmap = plt.cm.Blues):\n",
    "    plt.imshow(cm, interpolation = 'nearest', cmap = cmap)\n",
    "    plt.title(title)\n",
    "    plt.colorbar()\n",
    "    tick_marks = np.arange(len(classes))\n",
    "    plt.xticks(tick_marks, classes, rotation = 45)\n",
    "    plt.yticks(tick_marks, classes)\n",
    "    \n",
    "    if normalize:\n",
    "        cm = cm.astype('float') / cm.sum(axis=1)[:, np.newaxis]\n",
    "    thresh = cm.max() / 2.\n",
    "    \n",
    "    #product of cm[0] and cm[1]\n",
    "    for i, j in itertools.product(range(cm.shape[0]), range(cm.shape[1])):\n",
    "        plt.text(j, i, cm[i,j],\n",
    "                horizontalalignment = 'center',\n",
    "                color = 'white' if cm[i, j] > thresh else 'black')\n",
    "    plt.tight_layout()\n",
    "    plt.ylabel('True label')\n",
    "    plt.xlabel('Predicted label')\n",
    "    \n",
    "Y_pred = model.predict(X_val)\n",
    "Y_pred_classes = np.argmax(Y_pred, axis = 1)\n",
    "Y_true = np.argmax(Y_val, axis = 1)\n",
    "confusion_mtx = confusion_matrix(Y_true, Y_pred_classes)\n",
    "\n",
    "plot_confusion_matrix(confusion_mtx, classes = range(10))"
   ]
  },
  {
   "cell_type": "code",
   "execution_count": 67,
   "id": "9644575a-2b00-40b0-bdc6-0c94a3a9ea35",
   "metadata": {},
   "outputs": [
    {
     "data": {
      "image/png": "[encoded data removed]",
      "text/plain": [
       "<Figure size 432x288 with 6 Axes>"
      ]
     },
     "metadata": {},
     "output_type": "display_data"
    }
   ],
   "source": [
    "errors = Y_pred_classes - Y_true != 0\n",
    "Y_pred_classes_errors = Y_pred_classes[errors] #only false ones\n",
    "Y_pred_errors = Y_pred[errors]\n",
    "Y_true_errors = Y_true[errors]\n",
    "X_val_errors = X_val[errors]\n",
    "\n",
    "def display_errors(errors_index, img_errors, pred_errors, obs_errors):\n",
    "    n = 0\n",
    "    nrows = 2\n",
    "    ncols = 3\n",
    "    fig, ax = plt.subplots(nrows, ncols, sharex = True, sharey = True)\n",
    "    for row in range(nrows):\n",
    "        for col in range(ncols):\n",
    "            error = errors_index[n]\n",
    "            ax[row, col].imshow((img_errors[error]).reshape(28,28)) #make to 2D image\n",
    "            ax[row, col].set_title(\"Predicted Label : {}\\nTrue Label: {}\".format(\n",
    "                pred_errors[error], obs_errors[error]))\n",
    "            n += 1\n",
    "\n",
    "# prob of the wrong predicted numbers \n",
    "\n",
    "Y_pred_errors_prob = np.max(Y_pred_errors, axis = 1) \n",
    "true_prob_errors = np.diagonal(np.take(Y_pred_errors, Y_true_errors, axis=1))\n",
    "\n",
    "# Difference between the probability of the predicted label and the true label\n",
    "delta_pred_true_errors = Y_pred_errors_prob - true_prob_errors\n",
    "\n",
    "# Sorted list of the delta prob errors\n",
    "sorted_dela_errors = np.argsort(delta_pred_true_errors)\n",
    "\n",
    "# Top 6 errors \n",
    "most_important_errors = sorted_dela_errors[-6:]\n",
    "\n",
    "# Show the top 6 errors\n",
    "display_errors(most_important_errors, X_val_errors, Y_pred_classes_errors, Y_true_errors)"
   ]
  },
  {
   "cell_type": "code",
   "execution_count": 69,
   "id": "527db24c-c22e-46a9-88c7-a3068143f7c8",
   "metadata": {},
   "outputs": [],
   "source": [
    "results = model.predict(test)\n",
    "\n",
    "results = np.argmax(results, axis = 1) # indices of max values \n",
    "\n",
    "results = pd.Series(results, name = 'Label')\n",
    "\n",
    "submission = pd.concat([pd.Series(range(1,28001), name = 'ImageID'), results], axis = 1)\n",
    "\n",
    "submission.to_csv(\"cnn_mnist_datagen.csv\", index = False)"
   ]
  },
  {
   "cell_type": "code",
   "execution_count": null,
   "id": "331d9266-dd6b-466c-ad47-53909330b0ee",
   "metadata": {},
   "outputs": [],
   "source": []
  }
 ],
 "metadata": {
  "kernelspec": {
   "display_name": "Python 3 (ipykernel)",
   "language": "python",
   "name": "python3"
  },
  "language_info": {
   "codemirror_mode": {
    "name": "ipython",
    "version": 3
   },
   "file_extension": ".py",
   "mimetype": "text/x-python",
   "name": "python",
   "nbconvert_exporter": "python",
   "pygments_lexer": "ipython3",
   "version": "3.7.11"
  }
 },
 "nbformat": 4,
 "nbformat_minor": 5
}
