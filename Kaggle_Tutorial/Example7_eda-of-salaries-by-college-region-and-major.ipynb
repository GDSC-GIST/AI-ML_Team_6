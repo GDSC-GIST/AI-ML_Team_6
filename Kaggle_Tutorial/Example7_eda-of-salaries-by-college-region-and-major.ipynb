{
 "cells": [
  {
   "cell_type": "markdown",
   "metadata": {
    "_uuid": "a03b5ce8775039db4af7d6a541860380ea262bc1"
   },
   "source": [
    "## Exploring the Where it Pays to Attend College Dataset\n",
    "\n",
    "**Abdullah Sahin** - **19 November 2018** <a id=\"0\"></a>\n",
    "\n",
    "* [Introduction](#1)\n",
    "* [Import Modules](#2)\n",
    "* [Exploring the First Data](#3)\n",
    "    * [Change Columns Name](#4)\n",
    "    * [Convert Data Type](#5)\n",
    "    * [Visualization](#6)\n",
    "        * [Undergraduate Major Salary](#7)\n",
    "        * [Start Career to Middle Career](#8)\n",
    "*  [Import Second Data](#9)\n",
    "    * [Visualize the Empty Data](#10)\n",
    "    * [Formulas for null values](#11)\n",
    "    * [Change Data Type](#12)\n",
    "    * [Fill null values with Formula](#13)\n",
    "    * [Visualization](#14)\n",
    "        * [Compare Schools](#15)\n",
    "        * [School Types](#16)\n",
    "        * [Salary Statistics](#17)\n",
    "*  [Import Third Data](#18)\n",
    "    * [Change Columns Name](#19)\n",
    "    * [Convert Data Type](#20)\n",
    "    * [Fill null values with Formula](#21)\n",
    "    * [Visualization](#22)\n",
    "        * [Region & School Visualization](#23)\n",
    "        * [Average starting salary for the states](#24)\n",
    "        * [Compare the pay for the schools](#25)\n",
    "* [Conclusion](#26)\n",
    "\n",
    "## INTRODUCTION <a id=\"1\"></a>\n",
    "<mark>[Return Contents](#0)\n",
    "<hr>\n",
    "    \n",
    "In this notebook, let us try and explore the data given for About college.\n",
    "\n",
    "What do we do in this notebook?\n",
    "* we will fill the null data with a formula.\n",
    "* we're going to plotly visualize the data.\n",
    "\n",
    "and **more**."
   ]
  },
  {
   "cell_type": "markdown",
   "metadata": {
    "_uuid": "91244daeafeae7af8bac3271f3d6b06a766943d7"
   },
   "source": [
    "### **Import Modules** <a id=\"2\"></a>\n",
    "<mark>[Return Contents](#0)\n",
    "<hr>\n",
    "\n",
    "Let us first import the necessary modules."
   ]
  },
  {
   "cell_type": "code",
   "execution_count": 4,
   "metadata": {
    "_cell_guid": "b1076dfc-b9ad-4769-8c92-a6c4dae69d19",
    "_uuid": "8f2839f25d086af736a60e9eeb907d3b93b6e0e5"
   },
   "outputs": [
    {
     "data": {
      "text/html": [
       "        <script type=\"text/javascript\">\n",
       "        window.PlotlyConfig = {MathJaxConfig: 'local'};\n",
       "        if (window.MathJax) {MathJax.Hub.Config({SVG: {font: \"STIX-Web\"}});}\n",
       "        if (typeof require !== 'undefined') {\n",
       "        require.undef(\"plotly\");\n",
       "        requirejs.config({\n",
       "            paths: {\n",
       "                'plotly': ['https://cdn.plot.ly/plotly-2.6.3.min']\n",
       "            }\n",
       "        });\n",
       "        require(['plotly'], function(Plotly) {\n",
       "            window._Plotly = Plotly;\n",
       "        });\n",
       "        }\n",
       "        </script>\n",
       "        "
      ]
     },
     "metadata": {},
     "output_type": "display_data"
    }
   ],
   "source": [
    "import numpy as np # linear algebra\n",
    "import pandas as pd # data processing, CSV file I/O (e.g. pd.read_csv)\n",
    "import matplotlib.pyplot as plt\n",
    "\n",
    "# plotly\n",
    "import plotly as py\n",
    "from plotly.offline import init_notebook_mode, iplot\n",
    "init_notebook_mode(connected=True)\n",
    "# import graph objects as \"go\"\n",
    "import plotly.graph_objs as go\n",
    "\n",
    "# import missingno library\n",
    "import missingno as msno\n",
    "\n",
    "import os\n",
    "#print(os.listdir(\"../input\"))"
   ]
  },
  {
   "cell_type": "markdown",
   "metadata": {
    "_uuid": "bae13521ed57ba22768a49bb2e642618a0fb8041"
   },
   "source": [
    "let's list the files in the input folder."
   ]
  },
  {
   "cell_type": "code",
   "execution_count": null,
   "metadata": {
    "_cell_guid": "79c7e3d0-c299-4dcb-8224-4455121ee9b0",
    "_uuid": "d629ff2d2480ee46fbb7e2d37f6b5fab8052498a"
   },
   "outputs": [],
   "source": [
    "from subprocess import check_output\n",
    "print(check_output([\"ls\", \"../input\"]).decode(\"utf8\"))"
   ]
  },
  {
   "cell_type": "markdown",
   "metadata": {
    "_uuid": "4b10d5ffee75b6956447e19d94d7efdc3f4c4d06"
   },
   "source": [
    "### **Exploring the First Data** <a id=\"3\"></a>\n",
    "<mark>[Return Contents](#0)\n",
    "<hr>\n",
    "firstly, let's explore the degrees that pay back."
   ]
  },
  {
   "cell_type": "code",
   "execution_count": 5,
   "metadata": {
    "_uuid": "47767f6610fc46edc4e57646164ddb4a83f69418"
   },
   "outputs": [
    {
     "data": {
      "text/plain": [
       "(50, 8)"
      ]
     },
     "execution_count": 5,
     "metadata": {},
     "output_type": "execute_result"
    }
   ],
   "source": [
    "degrees_df = pd.read_csv('./input/degrees-that-pay-back.csv')\n",
    "degrees_df.shape"
   ]
  },
  {
   "cell_type": "code",
   "execution_count": 6,
   "metadata": {
    "_uuid": "6025ebaa795d7b18afa7a5a9582f9c81970bfa29"
   },
   "outputs": [
    {
     "data": {
      "text/html": [
       "<div>\n",
       "<style scoped>\n",
       "    .dataframe tbody tr th:only-of-type {\n",
       "        vertical-align: middle;\n",
       "    }\n",
       "\n",
       "    .dataframe tbody tr th {\n",
       "        vertical-align: top;\n",
       "    }\n",
       "\n",
       "    .dataframe thead th {\n",
       "        text-align: right;\n",
       "    }\n",
       "</style>\n",
       "<table border=\"1\" class=\"dataframe\">\n",
       "  <thead>\n",
       "    <tr style=\"text-align: right;\">\n",
       "      <th></th>\n",
       "      <th>Undergraduate Major</th>\n",
       "      <th>Starting Median Salary</th>\n",
       "      <th>Mid-Career Median Salary</th>\n",
       "      <th>Percent change from Starting to Mid-Career Salary</th>\n",
       "      <th>Mid-Career 10th Percentile Salary</th>\n",
       "      <th>Mid-Career 25th Percentile Salary</th>\n",
       "      <th>Mid-Career 75th Percentile Salary</th>\n",
       "      <th>Mid-Career 90th Percentile Salary</th>\n",
       "    </tr>\n",
       "  </thead>\n",
       "  <tbody>\n",
       "    <tr>\n",
       "      <th>0</th>\n",
       "      <td>Accounting</td>\n",
       "      <td>$46,000.00</td>\n",
       "      <td>$77,100.00</td>\n",
       "      <td>67.6</td>\n",
       "      <td>$42,200.00</td>\n",
       "      <td>$56,100.00</td>\n",
       "      <td>$108,000.00</td>\n",
       "      <td>$152,000.00</td>\n",
       "    </tr>\n",
       "    <tr>\n",
       "      <th>1</th>\n",
       "      <td>Aerospace Engineering</td>\n",
       "      <td>$57,700.00</td>\n",
       "      <td>$101,000.00</td>\n",
       "      <td>75.0</td>\n",
       "      <td>$64,300.00</td>\n",
       "      <td>$82,100.00</td>\n",
       "      <td>$127,000.00</td>\n",
       "      <td>$161,000.00</td>\n",
       "    </tr>\n",
       "    <tr>\n",
       "      <th>2</th>\n",
       "      <td>Agriculture</td>\n",
       "      <td>$42,600.00</td>\n",
       "      <td>$71,900.00</td>\n",
       "      <td>68.8</td>\n",
       "      <td>$36,300.00</td>\n",
       "      <td>$52,100.00</td>\n",
       "      <td>$96,300.00</td>\n",
       "      <td>$150,000.00</td>\n",
       "    </tr>\n",
       "    <tr>\n",
       "      <th>3</th>\n",
       "      <td>Anthropology</td>\n",
       "      <td>$36,800.00</td>\n",
       "      <td>$61,500.00</td>\n",
       "      <td>67.1</td>\n",
       "      <td>$33,800.00</td>\n",
       "      <td>$45,500.00</td>\n",
       "      <td>$89,300.00</td>\n",
       "      <td>$138,000.00</td>\n",
       "    </tr>\n",
       "    <tr>\n",
       "      <th>4</th>\n",
       "      <td>Architecture</td>\n",
       "      <td>$41,600.00</td>\n",
       "      <td>$76,800.00</td>\n",
       "      <td>84.6</td>\n",
       "      <td>$50,600.00</td>\n",
       "      <td>$62,200.00</td>\n",
       "      <td>$97,000.00</td>\n",
       "      <td>$136,000.00</td>\n",
       "    </tr>\n",
       "  </tbody>\n",
       "</table>\n",
       "</div>"
      ],
      "text/plain": [
       "     Undergraduate Major Starting Median Salary Mid-Career Median Salary  \\\n",
       "0             Accounting             $46,000.00               $77,100.00   \n",
       "1  Aerospace Engineering             $57,700.00              $101,000.00   \n",
       "2            Agriculture             $42,600.00               $71,900.00   \n",
       "3           Anthropology             $36,800.00               $61,500.00   \n",
       "4           Architecture             $41,600.00               $76,800.00   \n",
       "\n",
       "   Percent change from Starting to Mid-Career Salary  \\\n",
       "0                                               67.6   \n",
       "1                                               75.0   \n",
       "2                                               68.8   \n",
       "3                                               67.1   \n",
       "4                                               84.6   \n",
       "\n",
       "  Mid-Career 10th Percentile Salary Mid-Career 25th Percentile Salary  \\\n",
       "0                        $42,200.00                        $56,100.00   \n",
       "1                        $64,300.00                        $82,100.00   \n",
       "2                        $36,300.00                        $52,100.00   \n",
       "3                        $33,800.00                        $45,500.00   \n",
       "4                        $50,600.00                        $62,200.00   \n",
       "\n",
       "  Mid-Career 75th Percentile Salary Mid-Career 90th Percentile Salary  \n",
       "0                       $108,000.00                       $152,000.00  \n",
       "1                       $127,000.00                       $161,000.00  \n",
       "2                        $96,300.00                       $150,000.00  \n",
       "3                        $89,300.00                       $138,000.00  \n",
       "4                        $97,000.00                       $136,000.00  "
      ]
     },
     "execution_count": 6,
     "metadata": {},
     "output_type": "execute_result"
    }
   ],
   "source": [
    "degrees_df.head()"
   ]
  },
  {
   "cell_type": "markdown",
   "metadata": {
    "_uuid": "d2a89c949a2a0c5e48244e36af69b4ca555c7fb0"
   },
   "source": [
    "### **Change Columns Name** <a id=\"4\"></a>\n",
    "<mark>[Return Contents](#0)\n",
    "<hr>\n",
    "I need change to coloumns name because columns name are very complex."
   ]
  },
  {
   "cell_type": "code",
   "execution_count": 7,
   "metadata": {
    "_uuid": "5970e95385904027957dbe7eda8fffc3abd55bfe"
   },
   "outputs": [],
   "source": [
    "degrees_df.columns = ['major','starting','midcareer','starttomid','mid_p10','mid_p25','mid_p75','mid_p90']"
   ]
  },
  {
   "cell_type": "markdown",
   "metadata": {
    "_uuid": "a0f79957903c171a702485378782a38bafb2dc69"
   },
   "source": [
    "let's see the columns datatype."
   ]
  },
  {
   "cell_type": "code",
   "execution_count": 8,
   "metadata": {
    "_uuid": "b658b3009d8257859878e181260730f88db1cd25"
   },
   "outputs": [
    {
     "name": "stdout",
     "output_type": "stream",
     "text": [
      "<class 'pandas.core.frame.DataFrame'>\n",
      "RangeIndex: 50 entries, 0 to 49\n",
      "Data columns (total 8 columns):\n",
      " #   Column      Non-Null Count  Dtype  \n",
      "---  ------      --------------  -----  \n",
      " 0   major       50 non-null     object \n",
      " 1   starting    50 non-null     object \n",
      " 2   midcareer   50 non-null     object \n",
      " 3   starttomid  50 non-null     float64\n",
      " 4   mid_p10     50 non-null     object \n",
      " 5   mid_p25     50 non-null     object \n",
      " 6   mid_p75     50 non-null     object \n",
      " 7   mid_p90     50 non-null     object \n",
      "dtypes: float64(1), object(7)\n",
      "memory usage: 3.2+ KB\n"
     ]
    }
   ],
   "source": [
    "degrees_df.info()"
   ]
  },
  {
   "cell_type": "markdown",
   "metadata": {
    "_uuid": "65c87e23e86fb382f4cc3fa5d00baf809fb912ef"
   },
   "source": [
    "### Convert Data Type <a id=\"5\"></a>\n",
    "<mark>[Return Contents](#0)\n",
    "<hr>\n",
    "some columns need change to data type. For example, starting column is data type object but I'm going to convert data type. You must also convert other columns."
   ]
  },
  {
   "cell_type": "code",
   "execution_count": 10,
   "metadata": {
    "_uuid": "a4f09ae4d96bb5fbe46da27ed68dd9c7da17a445"
   },
   "outputs": [
    {
     "name": "stderr",
     "output_type": "stream",
     "text": [
      "<ipython-input-10-ef01b9431d5e>:4: FutureWarning:\n",
      "\n",
      "The default value of regex will change from True to False in a future version. In addition, single character regular expressions will*not* be treated as literal strings when regex=True.\n",
      "\n"
     ]
    }
   ],
   "source": [
    "someColumns = ['starting', 'midcareer', 'mid_p10', 'mid_p25', 'mid_p75', 'mid_p90']\n",
    "\n",
    "for column in someColumns:\n",
    "    degrees_df[column] = degrees_df[column].str.replace(\"$\",\"\")\n",
    "    degrees_df[column] = degrees_df[column].str.replace(\",\",\"\")\n",
    "    degrees_df[column] = pd.to_numeric(degrees_df[column])"
   ]
  },
  {
   "cell_type": "code",
   "execution_count": 11,
   "metadata": {
    "_uuid": "1a6f574fbf919a218befd8cd2a45a405ae289c1d"
   },
   "outputs": [
    {
     "name": "stdout",
     "output_type": "stream",
     "text": [
      "<class 'pandas.core.frame.DataFrame'>\n",
      "RangeIndex: 50 entries, 0 to 49\n",
      "Data columns (total 8 columns):\n",
      " #   Column      Non-Null Count  Dtype  \n",
      "---  ------      --------------  -----  \n",
      " 0   major       50 non-null     object \n",
      " 1   starting    50 non-null     float64\n",
      " 2   midcareer   50 non-null     float64\n",
      " 3   starttomid  50 non-null     float64\n",
      " 4   mid_p10     50 non-null     float64\n",
      " 5   mid_p25     50 non-null     float64\n",
      " 6   mid_p75     50 non-null     float64\n",
      " 7   mid_p90     50 non-null     float64\n",
      "dtypes: float64(7), object(1)\n",
      "memory usage: 3.2+ KB\n"
     ]
    }
   ],
   "source": [
    "degrees_df.info()"
   ]
  },
  {
   "cell_type": "code",
   "execution_count": 12,
   "metadata": {
    "_uuid": "04a22a6d2f6ae527d3084aaa15ee0086a051a38a"
   },
   "outputs": [
    {
     "data": {
      "text/html": [
       "<div>\n",
       "<style scoped>\n",
       "    .dataframe tbody tr th:only-of-type {\n",
       "        vertical-align: middle;\n",
       "    }\n",
       "\n",
       "    .dataframe tbody tr th {\n",
       "        vertical-align: top;\n",
       "    }\n",
       "\n",
       "    .dataframe thead th {\n",
       "        text-align: right;\n",
       "    }\n",
       "</style>\n",
       "<table border=\"1\" class=\"dataframe\">\n",
       "  <thead>\n",
       "    <tr style=\"text-align: right;\">\n",
       "      <th></th>\n",
       "      <th>major</th>\n",
       "      <th>starting</th>\n",
       "      <th>midcareer</th>\n",
       "      <th>starttomid</th>\n",
       "      <th>mid_p10</th>\n",
       "      <th>mid_p25</th>\n",
       "      <th>mid_p75</th>\n",
       "      <th>mid_p90</th>\n",
       "    </tr>\n",
       "  </thead>\n",
       "  <tbody>\n",
       "    <tr>\n",
       "      <th>0</th>\n",
       "      <td>Accounting</td>\n",
       "      <td>46000.0</td>\n",
       "      <td>77100.0</td>\n",
       "      <td>67.6</td>\n",
       "      <td>42200.0</td>\n",
       "      <td>56100.0</td>\n",
       "      <td>108000.0</td>\n",
       "      <td>152000.0</td>\n",
       "    </tr>\n",
       "    <tr>\n",
       "      <th>1</th>\n",
       "      <td>Aerospace Engineering</td>\n",
       "      <td>57700.0</td>\n",
       "      <td>101000.0</td>\n",
       "      <td>75.0</td>\n",
       "      <td>64300.0</td>\n",
       "      <td>82100.0</td>\n",
       "      <td>127000.0</td>\n",
       "      <td>161000.0</td>\n",
       "    </tr>\n",
       "    <tr>\n",
       "      <th>2</th>\n",
       "      <td>Agriculture</td>\n",
       "      <td>42600.0</td>\n",
       "      <td>71900.0</td>\n",
       "      <td>68.8</td>\n",
       "      <td>36300.0</td>\n",
       "      <td>52100.0</td>\n",
       "      <td>96300.0</td>\n",
       "      <td>150000.0</td>\n",
       "    </tr>\n",
       "    <tr>\n",
       "      <th>3</th>\n",
       "      <td>Anthropology</td>\n",
       "      <td>36800.0</td>\n",
       "      <td>61500.0</td>\n",
       "      <td>67.1</td>\n",
       "      <td>33800.0</td>\n",
       "      <td>45500.0</td>\n",
       "      <td>89300.0</td>\n",
       "      <td>138000.0</td>\n",
       "    </tr>\n",
       "    <tr>\n",
       "      <th>4</th>\n",
       "      <td>Architecture</td>\n",
       "      <td>41600.0</td>\n",
       "      <td>76800.0</td>\n",
       "      <td>84.6</td>\n",
       "      <td>50600.0</td>\n",
       "      <td>62200.0</td>\n",
       "      <td>97000.0</td>\n",
       "      <td>136000.0</td>\n",
       "    </tr>\n",
       "  </tbody>\n",
       "</table>\n",
       "</div>"
      ],
      "text/plain": [
       "                   major  starting  midcareer  starttomid  mid_p10  mid_p25  \\\n",
       "0             Accounting   46000.0    77100.0        67.6  42200.0  56100.0   \n",
       "1  Aerospace Engineering   57700.0   101000.0        75.0  64300.0  82100.0   \n",
       "2            Agriculture   42600.0    71900.0        68.8  36300.0  52100.0   \n",
       "3           Anthropology   36800.0    61500.0        67.1  33800.0  45500.0   \n",
       "4           Architecture   41600.0    76800.0        84.6  50600.0  62200.0   \n",
       "\n",
       "    mid_p75   mid_p90  \n",
       "0  108000.0  152000.0  \n",
       "1  127000.0  161000.0  \n",
       "2   96300.0  150000.0  \n",
       "3   89300.0  138000.0  \n",
       "4   97000.0  136000.0  "
      ]
     },
     "execution_count": 12,
     "metadata": {},
     "output_type": "execute_result"
    }
   ],
   "source": [
    "degrees_df.head()"
   ]
  },
  {
   "cell_type": "markdown",
   "metadata": {
    "_uuid": "d7434508d2748a29be394470d1acf1a41261dfb1"
   },
   "source": [
    "Now, I'm going to sort the major by the starting salaries."
   ]
  },
  {
   "cell_type": "code",
   "execution_count": 13,
   "metadata": {
    "_uuid": "6f13e5637f20b54361565734b0486c41d54158c7"
   },
   "outputs": [
    {
     "data": {
      "text/html": [
       "<div>\n",
       "<style scoped>\n",
       "    .dataframe tbody tr th:only-of-type {\n",
       "        vertical-align: middle;\n",
       "    }\n",
       "\n",
       "    .dataframe tbody tr th {\n",
       "        vertical-align: top;\n",
       "    }\n",
       "\n",
       "    .dataframe thead th {\n",
       "        text-align: right;\n",
       "    }\n",
       "</style>\n",
       "<table border=\"1\" class=\"dataframe\">\n",
       "  <thead>\n",
       "    <tr style=\"text-align: right;\">\n",
       "      <th></th>\n",
       "      <th>major</th>\n",
       "      <th>starting</th>\n",
       "      <th>midcareer</th>\n",
       "      <th>starttomid</th>\n",
       "      <th>mid_p10</th>\n",
       "      <th>mid_p25</th>\n",
       "      <th>mid_p75</th>\n",
       "      <th>mid_p90</th>\n",
       "    </tr>\n",
       "  </thead>\n",
       "  <tbody>\n",
       "    <tr>\n",
       "      <th>43</th>\n",
       "      <td>Physician Assistant</td>\n",
       "      <td>74300.0</td>\n",
       "      <td>91700.0</td>\n",
       "      <td>23.4</td>\n",
       "      <td>66400.0</td>\n",
       "      <td>75200.0</td>\n",
       "      <td>108000.0</td>\n",
       "      <td>124000.0</td>\n",
       "    </tr>\n",
       "    <tr>\n",
       "      <th>8</th>\n",
       "      <td>Chemical Engineering</td>\n",
       "      <td>63200.0</td>\n",
       "      <td>107000.0</td>\n",
       "      <td>69.3</td>\n",
       "      <td>71900.0</td>\n",
       "      <td>87300.0</td>\n",
       "      <td>143000.0</td>\n",
       "      <td>194000.0</td>\n",
       "    </tr>\n",
       "    <tr>\n",
       "      <th>12</th>\n",
       "      <td>Computer Engineering</td>\n",
       "      <td>61400.0</td>\n",
       "      <td>105000.0</td>\n",
       "      <td>71.0</td>\n",
       "      <td>66100.0</td>\n",
       "      <td>84100.0</td>\n",
       "      <td>135000.0</td>\n",
       "      <td>162000.0</td>\n",
       "    </tr>\n",
       "    <tr>\n",
       "      <th>19</th>\n",
       "      <td>Electrical Engineering</td>\n",
       "      <td>60900.0</td>\n",
       "      <td>103000.0</td>\n",
       "      <td>69.1</td>\n",
       "      <td>69300.0</td>\n",
       "      <td>83800.0</td>\n",
       "      <td>130000.0</td>\n",
       "      <td>168000.0</td>\n",
       "    </tr>\n",
       "    <tr>\n",
       "      <th>38</th>\n",
       "      <td>Mechanical Engineering</td>\n",
       "      <td>57900.0</td>\n",
       "      <td>93600.0</td>\n",
       "      <td>61.7</td>\n",
       "      <td>63700.0</td>\n",
       "      <td>76200.0</td>\n",
       "      <td>120000.0</td>\n",
       "      <td>163000.0</td>\n",
       "    </tr>\n",
       "  </tbody>\n",
       "</table>\n",
       "</div>"
      ],
      "text/plain": [
       "                     major  starting  midcareer  starttomid  mid_p10  mid_p25  \\\n",
       "43     Physician Assistant   74300.0    91700.0        23.4  66400.0  75200.0   \n",
       "8     Chemical Engineering   63200.0   107000.0        69.3  71900.0  87300.0   \n",
       "12    Computer Engineering   61400.0   105000.0        71.0  66100.0  84100.0   \n",
       "19  Electrical Engineering   60900.0   103000.0        69.1  69300.0  83800.0   \n",
       "38  Mechanical Engineering   57900.0    93600.0        61.7  63700.0  76200.0   \n",
       "\n",
       "     mid_p75   mid_p90  \n",
       "43  108000.0  124000.0  \n",
       "8   143000.0  194000.0  \n",
       "12  135000.0  162000.0  \n",
       "19  130000.0  168000.0  \n",
       "38  120000.0  163000.0  "
      ]
     },
     "execution_count": 13,
     "metadata": {},
     "output_type": "execute_result"
    }
   ],
   "source": [
    "sorted = degrees_df.sort_values('starting', ascending=False)\n",
    "sorted.head()"
   ]
  },
  {
   "cell_type": "markdown",
   "metadata": {
    "_uuid": "022b1f7767c63d7f4eb218283ad45244e67c1936"
   },
   "source": [
    "### **Visualization** <a id=\"6\"></a>\n",
    "<mark>[Return Contents](#0)\n",
    "<hr>\n",
    "### Undergraduate Major Salaries <a id=\"7\"></a>\n",
    "\n",
    "\n",
    "Now, I converted to data type and name for columns then I am visualizing the data. First, I'm going to show you the salaries for each Undergraduate Major."
   ]
  },
  {
   "cell_type": "code",
   "execution_count": 14,
   "metadata": {
    "_uuid": "f1f07715abbd96906d784786e04c3db9e6dc22be"
   },
   "outputs": [
    {
     "data": {
      "application/vnd.plotly.v1+json": {
       "config": {
        "linkText": "Export to plot.ly",
        "plotlyServerURL": "https://plot.ly",
        "showLink": false
       },
       "data": [
        {
         "name": "Starting Median Salary",
         "type": "bar",
         "x": [
          "Physician Assistant",
          "Chemical Engineering",
          "Computer Engineering",
          "Electrical Engineering",
          "Mechanical Engineering",
          "Aerospace Engineering",
          "Industrial Engineering",
          "Computer Science",
          "Nursing",
          "Civil Engineering",
          "Construction",
          "Physics",
          "Economics",
          "Management Information Systems (MIS)",
          "Information Technology (IT)",
          "Finance",
          "Accounting",
          "Math",
          "Geology",
          "Business Management",
          "Agriculture",
          "Chemistry",
          "Architecture",
          "Geography",
          "International Relations",
          "Political Science",
          "Marketing",
          "Philosophy",
          "Nutrition",
          "History",
          "Forestry",
          "Health Care Administration",
          "Biology",
          "Communications",
          "English",
          "Film",
          "Hospitality & Tourism",
          "Anthropology",
          "Sociology",
          "Interior Design",
          "Psychology",
          "Music",
          "Drama",
          "Art History",
          "Graphic Design",
          "Journalism",
          "Criminal Justice",
          "Education",
          "Religion",
          "Spanish"
         ],
         "y": [
          74300,
          63200,
          61400,
          60900,
          57900,
          57700,
          57700,
          55900,
          54200,
          53900,
          53700,
          50300,
          50100,
          49200,
          49100,
          47900,
          46000,
          45400,
          43500,
          43000,
          42600,
          42600,
          41600,
          41200,
          40900,
          40800,
          40800,
          39900,
          39900,
          39200,
          39100,
          38800,
          38800,
          38100,
          38000,
          37900,
          37800,
          36800,
          36500,
          36100,
          35900,
          35900,
          35900,
          35800,
          35700,
          35600,
          35000,
          34900,
          34100,
          34000
         ]
        },
        {
         "name": "Mid-Career Median Salary",
         "type": "bar",
         "x": [
          "Physician Assistant",
          "Chemical Engineering",
          "Computer Engineering",
          "Electrical Engineering",
          "Mechanical Engineering",
          "Aerospace Engineering",
          "Industrial Engineering",
          "Computer Science",
          "Nursing",
          "Civil Engineering",
          "Construction",
          "Physics",
          "Economics",
          "Management Information Systems (MIS)",
          "Information Technology (IT)",
          "Finance",
          "Accounting",
          "Math",
          "Geology",
          "Business Management",
          "Agriculture",
          "Chemistry",
          "Architecture",
          "Geography",
          "International Relations",
          "Political Science",
          "Marketing",
          "Philosophy",
          "Nutrition",
          "History",
          "Forestry",
          "Health Care Administration",
          "Biology",
          "Communications",
          "English",
          "Film",
          "Hospitality & Tourism",
          "Anthropology",
          "Sociology",
          "Interior Design",
          "Psychology",
          "Music",
          "Drama",
          "Art History",
          "Graphic Design",
          "Journalism",
          "Criminal Justice",
          "Education",
          "Religion",
          "Spanish"
         ],
         "y": [
          91700,
          107000,
          105000,
          103000,
          93600,
          101000,
          94700,
          95500,
          67000,
          90500,
          88900,
          97300,
          98600,
          82300,
          74800,
          88300,
          77100,
          92400,
          79500,
          72100,
          71900,
          79900,
          76800,
          65500,
          80900,
          78200,
          79600,
          81200,
          55300,
          71000,
          62600,
          60600,
          64800,
          70000,
          64700,
          68500,
          57500,
          61500,
          58200,
          53200,
          60400,
          55000,
          56900,
          64900,
          59800,
          66700,
          56300,
          52000,
          52000,
          53100
         ]
        },
        {
         "name": "Mid-Career 10th Percentile Salary",
         "type": "bar",
         "x": [
          "Physician Assistant",
          "Chemical Engineering",
          "Computer Engineering",
          "Electrical Engineering",
          "Mechanical Engineering",
          "Aerospace Engineering",
          "Industrial Engineering",
          "Computer Science",
          "Nursing",
          "Civil Engineering",
          "Construction",
          "Physics",
          "Economics",
          "Management Information Systems (MIS)",
          "Information Technology (IT)",
          "Finance",
          "Accounting",
          "Math",
          "Geology",
          "Business Management",
          "Agriculture",
          "Chemistry",
          "Architecture",
          "Geography",
          "International Relations",
          "Political Science",
          "Marketing",
          "Philosophy",
          "Nutrition",
          "History",
          "Forestry",
          "Health Care Administration",
          "Biology",
          "Communications",
          "English",
          "Film",
          "Hospitality & Tourism",
          "Anthropology",
          "Sociology",
          "Interior Design",
          "Psychology",
          "Music",
          "Drama",
          "Art History",
          "Graphic Design",
          "Journalism",
          "Criminal Justice",
          "Education",
          "Religion",
          "Spanish"
         ],
         "y": [
          66400,
          71900,
          66100,
          69300,
          63700,
          64300,
          57100,
          56000,
          47600,
          63400,
          56300,
          56000,
          50600,
          45300,
          44500,
          47200,
          42200,
          45200,
          45000,
          38800,
          36300,
          45300,
          50600,
          40000,
          38200,
          41200,
          42100,
          35500,
          33900,
          37000,
          41000,
          34600,
          36900,
          37500,
          33400,
          33900,
          35500,
          33800,
          30700,
          35700,
          31600,
          26700,
          36700,
          28800,
          36000,
          38400,
          32200,
          29300,
          29700,
          31000
         ]
        },
        {
         "name": "Mid-Career 25th Percentile Salary",
         "type": "bar",
         "x": [
          "Physician Assistant",
          "Chemical Engineering",
          "Computer Engineering",
          "Electrical Engineering",
          "Mechanical Engineering",
          "Aerospace Engineering",
          "Industrial Engineering",
          "Computer Science",
          "Nursing",
          "Civil Engineering",
          "Construction",
          "Physics",
          "Economics",
          "Management Information Systems (MIS)",
          "Information Technology (IT)",
          "Finance",
          "Accounting",
          "Math",
          "Geology",
          "Business Management",
          "Agriculture",
          "Chemistry",
          "Architecture",
          "Geography",
          "International Relations",
          "Political Science",
          "Marketing",
          "Philosophy",
          "Nutrition",
          "History",
          "Forestry",
          "Health Care Administration",
          "Biology",
          "Communications",
          "English",
          "Film",
          "Hospitality & Tourism",
          "Anthropology",
          "Sociology",
          "Interior Design",
          "Psychology",
          "Music",
          "Drama",
          "Art History",
          "Graphic Design",
          "Journalism",
          "Criminal Justice",
          "Education",
          "Religion",
          "Spanish"
         ],
         "y": [
          75200,
          87300,
          84100,
          83800,
          76200,
          82100,
          72300,
          74900,
          56400,
          75100,
          68100,
          74200,
          70600,
          60500,
          56700,
          62100,
          56100,
          64200,
          59600,
          51500,
          52100,
          60700,
          62200,
          50000,
          56000,
          55300,
          55600,
          52800,
          44500,
          49200,
          49300,
          45600,
          47400,
          49700,
          44800,
          45500,
          43600,
          45500,
          40400,
          42600,
          42100,
          40200,
          41300,
          42200,
          45500,
          48300,
          41600,
          37900,
          36500,
          40000
         ]
        },
        {
         "name": "Mid-Career 75th Percentile Salary",
         "type": "bar",
         "x": [
          "Physician Assistant",
          "Chemical Engineering",
          "Computer Engineering",
          "Electrical Engineering",
          "Mechanical Engineering",
          "Aerospace Engineering",
          "Industrial Engineering",
          "Computer Science",
          "Nursing",
          "Civil Engineering",
          "Construction",
          "Physics",
          "Economics",
          "Management Information Systems (MIS)",
          "Information Technology (IT)",
          "Finance",
          "Accounting",
          "Math",
          "Geology",
          "Business Management",
          "Agriculture",
          "Chemistry",
          "Architecture",
          "Geography",
          "International Relations",
          "Political Science",
          "Marketing",
          "Philosophy",
          "Nutrition",
          "History",
          "Forestry",
          "Health Care Administration",
          "Biology",
          "Communications",
          "English",
          "Film",
          "Hospitality & Tourism",
          "Anthropology",
          "Sociology",
          "Interior Design",
          "Psychology",
          "Music",
          "Drama",
          "Art History",
          "Graphic Design",
          "Journalism",
          "Criminal Justice",
          "Education",
          "Religion",
          "Spanish"
         ],
         "y": [
          108000,
          143000,
          135000,
          130000,
          120000,
          127000,
          132000,
          122000,
          80900,
          115000,
          118000,
          132000,
          145000,
          108000,
          96700,
          128000,
          108000,
          128000,
          101000,
          102000,
          96300,
          108000,
          97000,
          90800,
          111000,
          114000,
          119000,
          127000,
          70500,
          103000,
          78200,
          78800,
          94500,
          98800,
          93200,
          100000,
          81900,
          89300,
          81200,
          72500,
          87500,
          88000,
          79100,
          87400,
          80800,
          97700,
          80700,
          73400,
          70900,
          76800
         ]
        },
        {
         "name": "Mid-Career 90th Percentile Salary",
         "type": "bar",
         "x": [
          "Physician Assistant",
          "Chemical Engineering",
          "Computer Engineering",
          "Electrical Engineering",
          "Mechanical Engineering",
          "Aerospace Engineering",
          "Industrial Engineering",
          "Computer Science",
          "Nursing",
          "Civil Engineering",
          "Construction",
          "Physics",
          "Economics",
          "Management Information Systems (MIS)",
          "Information Technology (IT)",
          "Finance",
          "Accounting",
          "Math",
          "Geology",
          "Business Management",
          "Agriculture",
          "Chemistry",
          "Architecture",
          "Geography",
          "International Relations",
          "Political Science",
          "Marketing",
          "Philosophy",
          "Nutrition",
          "History",
          "Forestry",
          "Health Care Administration",
          "Biology",
          "Communications",
          "English",
          "Film",
          "Hospitality & Tourism",
          "Anthropology",
          "Sociology",
          "Interior Design",
          "Psychology",
          "Music",
          "Drama",
          "Art History",
          "Graphic Design",
          "Journalism",
          "Criminal Justice",
          "Education",
          "Religion",
          "Spanish"
         ],
         "y": [
          124000,
          194000,
          162000,
          168000,
          163000,
          161000,
          173000,
          154000,
          98300,
          148000,
          171000,
          178000,
          210000,
          146000,
          129000,
          195000,
          152000,
          183000,
          156000,
          147000,
          150000,
          148000,
          136000,
          132000,
          157000,
          168000,
          175000,
          168000,
          99200,
          149000,
          111000,
          101000,
          135000,
          143000,
          133000,
          136000,
          124000,
          138000,
          118000,
          107000,
          127000,
          134000,
          153000,
          125000,
          112000,
          145000,
          107000,
          102000,
          96400,
          96400
         ]
        }
       ],
       "layout": {
        "barmode": "stack",
        "template": {
         "data": {
          "bar": [
           {
            "error_x": {
             "color": "#2a3f5f"
            },
            "error_y": {
             "color": "#2a3f5f"
            },
            "marker": {
             "line": {
              "color": "#E5ECF6",
              "width": 0.5
             },
             "pattern": {
              "fillmode": "overlay",
              "size": 10,
              "solidity": 0.2
             }
            },
            "type": "bar"
           }
          ],
          "barpolar": [
           {
            "marker": {
             "line": {
              "color": "#E5ECF6",
              "width": 0.5
             },
             "pattern": {
              "fillmode": "overlay",
              "size": 10,
              "solidity": 0.2
             }
            },
            "type": "barpolar"
           }
          ],
          "carpet": [
           {
            "aaxis": {
             "endlinecolor": "#2a3f5f",
             "gridcolor": "white",
             "linecolor": "white",
             "minorgridcolor": "white",
             "startlinecolor": "#2a3f5f"
            },
            "baxis": {
             "endlinecolor": "#2a3f5f",
             "gridcolor": "white",
             "linecolor": "white",
             "minorgridcolor": "white",
             "startlinecolor": "#2a3f5f"
            },
            "type": "carpet"
           }
          ],
          "choropleth": [
           {
            "colorbar": {
             "outlinewidth": 0,
             "ticks": ""
            },
            "type": "choropleth"
           }
          ],
          "contour": [
           {
            "colorbar": {
             "outlinewidth": 0,
             "ticks": ""
            },
            "colorscale": [
             [
              0,
              "#0d0887"
             ],
             [
              0.1111111111111111,
              "#46039f"
             ],
             [
              0.2222222222222222,
              "#7201a8"
             ],
             [
              0.3333333333333333,
              "#9c179e"
             ],
             [
              0.4444444444444444,
              "#bd3786"
             ],
             [
              0.5555555555555556,
              "#d8576b"
             ],
             [
              0.6666666666666666,
              "#ed7953"
             ],
             [
              0.7777777777777778,
              "#fb9f3a"
             ],
             [
              0.8888888888888888,
              "#fdca26"
             ],
             [
              1,
              "#f0f921"
             ]
            ],
            "type": "contour"
           }
          ],
          "contourcarpet": [
           {
            "colorbar": {
             "outlinewidth": 0,
             "ticks": ""
            },
            "type": "contourcarpet"
           }
          ],
          "heatmap": [
           {
            "colorbar": {
             "outlinewidth": 0,
             "ticks": ""
            },
            "colorscale": [
             [
              0,
              "#0d0887"
             ],
             [
              0.1111111111111111,
              "#46039f"
             ],
             [
              0.2222222222222222,
              "#7201a8"
             ],
             [
              0.3333333333333333,
              "#9c179e"
             ],
             [
              0.4444444444444444,
              "#bd3786"
             ],
             [
              0.5555555555555556,
              "#d8576b"
             ],
             [
              0.6666666666666666,
              "#ed7953"
             ],
             [
              0.7777777777777778,
              "#fb9f3a"
             ],
             [
              0.8888888888888888,
              "#fdca26"
             ],
             [
              1,
              "#f0f921"
             ]
            ],
            "type": "heatmap"
           }
          ],
          "heatmapgl": [
           {
            "colorbar": {
             "outlinewidth": 0,
             "ticks": ""
            },
            "colorscale": [
             [
              0,
              "#0d0887"
             ],
             [
              0.1111111111111111,
              "#46039f"
             ],
             [
              0.2222222222222222,
              "#7201a8"
             ],
             [
              0.3333333333333333,
              "#9c179e"
             ],
             [
              0.4444444444444444,
              "#bd3786"
             ],
             [
              0.5555555555555556,
              "#d8576b"
             ],
             [
              0.6666666666666666,
              "#ed7953"
             ],
             [
              0.7777777777777778,
              "#fb9f3a"
             ],
             [
              0.8888888888888888,
              "#fdca26"
             ],
             [
              1,
              "#f0f921"
             ]
            ],
            "type": "heatmapgl"
           }
          ],
          "histogram": [
           {
            "marker": {
             "pattern": {
              "fillmode": "overlay",
              "size": 10,
              "solidity": 0.2
             }
            },
            "type": "histogram"
           }
          ],
          "histogram2d": [
           {
            "colorbar": {
             "outlinewidth": 0,
             "ticks": ""
            },
            "colorscale": [
             [
              0,
              "#0d0887"
             ],
             [
              0.1111111111111111,
              "#46039f"
             ],
             [
              0.2222222222222222,
              "#7201a8"
             ],
             [
              0.3333333333333333,
              "#9c179e"
             ],
             [
              0.4444444444444444,
              "#bd3786"
             ],
             [
              0.5555555555555556,
              "#d8576b"
             ],
             [
              0.6666666666666666,
              "#ed7953"
             ],
             [
              0.7777777777777778,
              "#fb9f3a"
             ],
             [
              0.8888888888888888,
              "#fdca26"
             ],
             [
              1,
              "#f0f921"
             ]
            ],
            "type": "histogram2d"
           }
          ],
          "histogram2dcontour": [
           {
            "colorbar": {
             "outlinewidth": 0,
             "ticks": ""
            },
            "colorscale": [
             [
              0,
              "#0d0887"
             ],
             [
              0.1111111111111111,
              "#46039f"
             ],
             [
              0.2222222222222222,
              "#7201a8"
             ],
             [
              0.3333333333333333,
              "#9c179e"
             ],
             [
              0.4444444444444444,
              "#bd3786"
             ],
             [
              0.5555555555555556,
              "#d8576b"
             ],
             [
              0.6666666666666666,
              "#ed7953"
             ],
             [
              0.7777777777777778,
              "#fb9f3a"
             ],
             [
              0.8888888888888888,
              "#fdca26"
             ],
             [
              1,
              "#f0f921"
             ]
            ],
            "type": "histogram2dcontour"
           }
          ],
          "mesh3d": [
           {
            "colorbar": {
             "outlinewidth": 0,
             "ticks": ""
            },
            "type": "mesh3d"
           }
          ],
          "parcoords": [
           {
            "line": {
             "colorbar": {
              "outlinewidth": 0,
              "ticks": ""
             }
            },
            "type": "parcoords"
           }
          ],
          "pie": [
           {
            "automargin": true,
            "type": "pie"
           }
          ],
          "scatter": [
           {
            "marker": {
             "colorbar": {
              "outlinewidth": 0,
              "ticks": ""
             }
            },
            "type": "scatter"
           }
          ],
          "scatter3d": [
           {
            "line": {
             "colorbar": {
              "outlinewidth": 0,
              "ticks": ""
             }
            },
            "marker": {
             "colorbar": {
              "outlinewidth": 0,
              "ticks": ""
             }
            },
            "type": "scatter3d"
           }
          ],
          "scattercarpet": [
           {
            "marker": {
             "colorbar": {
              "outlinewidth": 0,
              "ticks": ""
             }
            },
            "type": "scattercarpet"
           }
          ],
          "scattergeo": [
           {
            "marker": {
             "colorbar": {
              "outlinewidth": 0,
              "ticks": ""
             }
            },
            "type": "scattergeo"
           }
          ],
          "scattergl": [
           {
            "marker": {
             "colorbar": {
              "outlinewidth": 0,
              "ticks": ""
             }
            },
            "type": "scattergl"
           }
          ],
          "scattermapbox": [
           {
            "marker": {
             "colorbar": {
              "outlinewidth": 0,
              "ticks": ""
             }
            },
            "type": "scattermapbox"
           }
          ],
          "scatterpolar": [
           {
            "marker": {
             "colorbar": {
              "outlinewidth": 0,
              "ticks": ""
             }
            },
            "type": "scatterpolar"
           }
          ],
          "scatterpolargl": [
           {
            "marker": {
             "colorbar": {
              "outlinewidth": 0,
              "ticks": ""
             }
            },
            "type": "scatterpolargl"
           }
          ],
          "scatterternary": [
           {
            "marker": {
             "colorbar": {
              "outlinewidth": 0,
              "ticks": ""
             }
            },
            "type": "scatterternary"
           }
          ],
          "surface": [
           {
            "colorbar": {
             "outlinewidth": 0,
             "ticks": ""
            },
            "colorscale": [
             [
              0,
              "#0d0887"
             ],
             [
              0.1111111111111111,
              "#46039f"
             ],
             [
              0.2222222222222222,
              "#7201a8"
             ],
             [
              0.3333333333333333,
              "#9c179e"
             ],
             [
              0.4444444444444444,
              "#bd3786"
             ],
             [
              0.5555555555555556,
              "#d8576b"
             ],
             [
              0.6666666666666666,
              "#ed7953"
             ],
             [
              0.7777777777777778,
              "#fb9f3a"
             ],
             [
              0.8888888888888888,
              "#fdca26"
             ],
             [
              1,
              "#f0f921"
             ]
            ],
            "type": "surface"
           }
          ],
          "table": [
           {
            "cells": {
             "fill": {
              "color": "#EBF0F8"
             },
             "line": {
              "color": "white"
             }
            },
            "header": {
             "fill": {
              "color": "#C8D4E3"
             },
             "line": {
              "color": "white"
             }
            },
            "type": "table"
           }
          ]
         },
         "layout": {
          "annotationdefaults": {
           "arrowcolor": "#2a3f5f",
           "arrowhead": 0,
           "arrowwidth": 1
          },
          "autotypenumbers": "strict",
          "coloraxis": {
           "colorbar": {
            "outlinewidth": 0,
            "ticks": ""
           }
          },
          "colorscale": {
           "diverging": [
            [
             0,
             "#8e0152"
            ],
            [
             0.1,
             "#c51b7d"
            ],
            [
             0.2,
             "#de77ae"
            ],
            [
             0.3,
             "#f1b6da"
            ],
            [
             0.4,
             "#fde0ef"
            ],
            [
             0.5,
             "#f7f7f7"
            ],
            [
             0.6,
             "#e6f5d0"
            ],
            [
             0.7,
             "#b8e186"
            ],
            [
             0.8,
             "#7fbc41"
            ],
            [
             0.9,
             "#4d9221"
            ],
            [
             1,
             "#276419"
            ]
           ],
           "sequential": [
            [
             0,
             "#0d0887"
            ],
            [
             0.1111111111111111,
             "#46039f"
            ],
            [
             0.2222222222222222,
             "#7201a8"
            ],
            [
             0.3333333333333333,
             "#9c179e"
            ],
            [
             0.4444444444444444,
             "#bd3786"
            ],
            [
             0.5555555555555556,
             "#d8576b"
            ],
            [
             0.6666666666666666,
             "#ed7953"
            ],
            [
             0.7777777777777778,
             "#fb9f3a"
            ],
            [
             0.8888888888888888,
             "#fdca26"
            ],
            [
             1,
             "#f0f921"
            ]
           ],
           "sequentialminus": [
            [
             0,
             "#0d0887"
            ],
            [
             0.1111111111111111,
             "#46039f"
            ],
            [
             0.2222222222222222,
             "#7201a8"
            ],
            [
             0.3333333333333333,
             "#9c179e"
            ],
            [
             0.4444444444444444,
             "#bd3786"
            ],
            [
             0.5555555555555556,
             "#d8576b"
            ],
            [
             0.6666666666666666,
             "#ed7953"
            ],
            [
             0.7777777777777778,
             "#fb9f3a"
            ],
            [
             0.8888888888888888,
             "#fdca26"
            ],
            [
             1,
             "#f0f921"
            ]
           ]
          },
          "colorway": [
           "#636efa",
           "#EF553B",
           "#00cc96",
           "#ab63fa",
           "#FFA15A",
           "#19d3f3",
           "#FF6692",
           "#B6E880",
           "#FF97FF",
           "#FECB52"
          ],
          "font": {
           "color": "#2a3f5f"
          },
          "geo": {
           "bgcolor": "white",
           "lakecolor": "white",
           "landcolor": "#E5ECF6",
           "showlakes": true,
           "showland": true,
           "subunitcolor": "white"
          },
          "hoverlabel": {
           "align": "left"
          },
          "hovermode": "closest",
          "mapbox": {
           "style": "light"
          },
          "paper_bgcolor": "white",
          "plot_bgcolor": "#E5ECF6",
          "polar": {
           "angularaxis": {
            "gridcolor": "white",
            "linecolor": "white",
            "ticks": ""
           },
           "bgcolor": "#E5ECF6",
           "radialaxis": {
            "gridcolor": "white",
            "linecolor": "white",
            "ticks": ""
           }
          },
          "scene": {
           "xaxis": {
            "backgroundcolor": "#E5ECF6",
            "gridcolor": "white",
            "gridwidth": 2,
            "linecolor": "white",
            "showbackground": true,
            "ticks": "",
            "zerolinecolor": "white"
           },
           "yaxis": {
            "backgroundcolor": "#E5ECF6",
            "gridcolor": "white",
            "gridwidth": 2,
            "linecolor": "white",
            "showbackground": true,
            "ticks": "",
            "zerolinecolor": "white"
           },
           "zaxis": {
            "backgroundcolor": "#E5ECF6",
            "gridcolor": "white",
            "gridwidth": 2,
            "linecolor": "white",
            "showbackground": true,
            "ticks": "",
            "zerolinecolor": "white"
           }
          },
          "shapedefaults": {
           "line": {
            "color": "#2a3f5f"
           }
          },
          "ternary": {
           "aaxis": {
            "gridcolor": "white",
            "linecolor": "white",
            "ticks": ""
           },
           "baxis": {
            "gridcolor": "white",
            "linecolor": "white",
            "ticks": ""
           },
           "bgcolor": "#E5ECF6",
           "caxis": {
            "gridcolor": "white",
            "linecolor": "white",
            "ticks": ""
           }
          },
          "title": {
           "x": 0.05
          },
          "xaxis": {
           "automargin": true,
           "gridcolor": "white",
           "linecolor": "white",
           "ticks": "",
           "title": {
            "standoff": 15
           },
           "zerolinecolor": "white",
           "zerolinewidth": 2
          },
          "yaxis": {
           "automargin": true,
           "gridcolor": "white",
           "linecolor": "white",
           "ticks": "",
           "title": {
            "standoff": 15
           },
           "zerolinecolor": "white",
           "zerolinewidth": 2
          }
         }
        }
       }
      },
      "text/html": [
       "<div>                            <div id=\"987f0aa9-4040-43da-b12d-13a59ecf5466\" class=\"plotly-graph-div\" style=\"height:525px; width:100%;\"></div>            <script type=\"text/javascript\">                require([\"plotly\"], function(Plotly) {                    window.PLOTLYENV=window.PLOTLYENV || {};                                    if (document.getElementById(\"987f0aa9-4040-43da-b12d-13a59ecf5466\")) {                    Plotly.newPlot(                        \"987f0aa9-4040-43da-b12d-13a59ecf5466\",                        [{\"name\":\"Starting Median Salary\",\"x\":[\"Physician Assistant\",\"Chemical Engineering\",\"Computer Engineering\",\"Electrical Engineering\",\"Mechanical Engineering\",\"Aerospace Engineering\",\"Industrial Engineering\",\"Computer Science\",\"Nursing\",\"Civil Engineering\",\"Construction\",\"Physics\",\"Economics\",\"Management Information Systems (MIS)\",\"Information Technology (IT)\",\"Finance\",\"Accounting\",\"Math\",\"Geology\",\"Business Management\",\"Agriculture\",\"Chemistry\",\"Architecture\",\"Geography\",\"International Relations\",\"Political Science\",\"Marketing\",\"Philosophy\",\"Nutrition\",\"History\",\"Forestry\",\"Health Care Administration\",\"Biology\",\"Communications\",\"English\",\"Film\",\"Hospitality & Tourism\",\"Anthropology\",\"Sociology\",\"Interior Design\",\"Psychology\",\"Music\",\"Drama\",\"Art History\",\"Graphic Design\",\"Journalism\",\"Criminal Justice\",\"Education\",\"Religion\",\"Spanish\"],\"y\":[74300.0,63200.0,61400.0,60900.0,57900.0,57700.0,57700.0,55900.0,54200.0,53900.0,53700.0,50300.0,50100.0,49200.0,49100.0,47900.0,46000.0,45400.0,43500.0,43000.0,42600.0,42600.0,41600.0,41200.0,40900.0,40800.0,40800.0,39900.0,39900.0,39200.0,39100.0,38800.0,38800.0,38100.0,38000.0,37900.0,37800.0,36800.0,36500.0,36100.0,35900.0,35900.0,35900.0,35800.0,35700.0,35600.0,35000.0,34900.0,34100.0,34000.0],\"type\":\"bar\"},{\"name\":\"Mid-Career Median Salary\",\"x\":[\"Physician Assistant\",\"Chemical Engineering\",\"Computer Engineering\",\"Electrical Engineering\",\"Mechanical Engineering\",\"Aerospace Engineering\",\"Industrial Engineering\",\"Computer Science\",\"Nursing\",\"Civil Engineering\",\"Construction\",\"Physics\",\"Economics\",\"Management Information Systems (MIS)\",\"Information Technology (IT)\",\"Finance\",\"Accounting\",\"Math\",\"Geology\",\"Business Management\",\"Agriculture\",\"Chemistry\",\"Architecture\",\"Geography\",\"International Relations\",\"Political Science\",\"Marketing\",\"Philosophy\",\"Nutrition\",\"History\",\"Forestry\",\"Health Care Administration\",\"Biology\",\"Communications\",\"English\",\"Film\",\"Hospitality & Tourism\",\"Anthropology\",\"Sociology\",\"Interior Design\",\"Psychology\",\"Music\",\"Drama\",\"Art History\",\"Graphic Design\",\"Journalism\",\"Criminal Justice\",\"Education\",\"Religion\",\"Spanish\"],\"y\":[91700.0,107000.0,105000.0,103000.0,93600.0,101000.0,94700.0,95500.0,67000.0,90500.0,88900.0,97300.0,98600.0,82300.0,74800.0,88300.0,77100.0,92400.0,79500.0,72100.0,71900.0,79900.0,76800.0,65500.0,80900.0,78200.0,79600.0,81200.0,55300.0,71000.0,62600.0,60600.0,64800.0,70000.0,64700.0,68500.0,57500.0,61500.0,58200.0,53200.0,60400.0,55000.0,56900.0,64900.0,59800.0,66700.0,56300.0,52000.0,52000.0,53100.0],\"type\":\"bar\"},{\"name\":\"Mid-Career 10th Percentile Salary\",\"x\":[\"Physician Assistant\",\"Chemical Engineering\",\"Computer Engineering\",\"Electrical Engineering\",\"Mechanical Engineering\",\"Aerospace Engineering\",\"Industrial Engineering\",\"Computer Science\",\"Nursing\",\"Civil Engineering\",\"Construction\",\"Physics\",\"Economics\",\"Management Information Systems (MIS)\",\"Information Technology (IT)\",\"Finance\",\"Accounting\",\"Math\",\"Geology\",\"Business Management\",\"Agriculture\",\"Chemistry\",\"Architecture\",\"Geography\",\"International Relations\",\"Political Science\",\"Marketing\",\"Philosophy\",\"Nutrition\",\"History\",\"Forestry\",\"Health Care Administration\",\"Biology\",\"Communications\",\"English\",\"Film\",\"Hospitality & Tourism\",\"Anthropology\",\"Sociology\",\"Interior Design\",\"Psychology\",\"Music\",\"Drama\",\"Art History\",\"Graphic Design\",\"Journalism\",\"Criminal Justice\",\"Education\",\"Religion\",\"Spanish\"],\"y\":[66400.0,71900.0,66100.0,69300.0,63700.0,64300.0,57100.0,56000.0,47600.0,63400.0,56300.0,56000.0,50600.0,45300.0,44500.0,47200.0,42200.0,45200.0,45000.0,38800.0,36300.0,45300.0,50600.0,40000.0,38200.0,41200.0,42100.0,35500.0,33900.0,37000.0,41000.0,34600.0,36900.0,37500.0,33400.0,33900.0,35500.0,33800.0,30700.0,35700.0,31600.0,26700.0,36700.0,28800.0,36000.0,38400.0,32200.0,29300.0,29700.0,31000.0],\"type\":\"bar\"},{\"name\":\"Mid-Career 25th Percentile Salary\",\"x\":[\"Physician Assistant\",\"Chemical Engineering\",\"Computer Engineering\",\"Electrical Engineering\",\"Mechanical Engineering\",\"Aerospace Engineering\",\"Industrial Engineering\",\"Computer Science\",\"Nursing\",\"Civil Engineering\",\"Construction\",\"Physics\",\"Economics\",\"Management Information Systems (MIS)\",\"Information Technology (IT)\",\"Finance\",\"Accounting\",\"Math\",\"Geology\",\"Business Management\",\"Agriculture\",\"Chemistry\",\"Architecture\",\"Geography\",\"International Relations\",\"Political Science\",\"Marketing\",\"Philosophy\",\"Nutrition\",\"History\",\"Forestry\",\"Health Care Administration\",\"Biology\",\"Communications\",\"English\",\"Film\",\"Hospitality & Tourism\",\"Anthropology\",\"Sociology\",\"Interior Design\",\"Psychology\",\"Music\",\"Drama\",\"Art History\",\"Graphic Design\",\"Journalism\",\"Criminal Justice\",\"Education\",\"Religion\",\"Spanish\"],\"y\":[75200.0,87300.0,84100.0,83800.0,76200.0,82100.0,72300.0,74900.0,56400.0,75100.0,68100.0,74200.0,70600.0,60500.0,56700.0,62100.0,56100.0,64200.0,59600.0,51500.0,52100.0,60700.0,62200.0,50000.0,56000.0,55300.0,55600.0,52800.0,44500.0,49200.0,49300.0,45600.0,47400.0,49700.0,44800.0,45500.0,43600.0,45500.0,40400.0,42600.0,42100.0,40200.0,41300.0,42200.0,45500.0,48300.0,41600.0,37900.0,36500.0,40000.0],\"type\":\"bar\"},{\"name\":\"Mid-Career 75th Percentile Salary\",\"x\":[\"Physician Assistant\",\"Chemical Engineering\",\"Computer Engineering\",\"Electrical Engineering\",\"Mechanical Engineering\",\"Aerospace Engineering\",\"Industrial Engineering\",\"Computer Science\",\"Nursing\",\"Civil Engineering\",\"Construction\",\"Physics\",\"Economics\",\"Management Information Systems (MIS)\",\"Information Technology (IT)\",\"Finance\",\"Accounting\",\"Math\",\"Geology\",\"Business Management\",\"Agriculture\",\"Chemistry\",\"Architecture\",\"Geography\",\"International Relations\",\"Political Science\",\"Marketing\",\"Philosophy\",\"Nutrition\",\"History\",\"Forestry\",\"Health Care Administration\",\"Biology\",\"Communications\",\"English\",\"Film\",\"Hospitality & Tourism\",\"Anthropology\",\"Sociology\",\"Interior Design\",\"Psychology\",\"Music\",\"Drama\",\"Art History\",\"Graphic Design\",\"Journalism\",\"Criminal Justice\",\"Education\",\"Religion\",\"Spanish\"],\"y\":[108000.0,143000.0,135000.0,130000.0,120000.0,127000.0,132000.0,122000.0,80900.0,115000.0,118000.0,132000.0,145000.0,108000.0,96700.0,128000.0,108000.0,128000.0,101000.0,102000.0,96300.0,108000.0,97000.0,90800.0,111000.0,114000.0,119000.0,127000.0,70500.0,103000.0,78200.0,78800.0,94500.0,98800.0,93200.0,100000.0,81900.0,89300.0,81200.0,72500.0,87500.0,88000.0,79100.0,87400.0,80800.0,97700.0,80700.0,73400.0,70900.0,76800.0],\"type\":\"bar\"},{\"name\":\"Mid-Career 90th Percentile Salary\",\"x\":[\"Physician Assistant\",\"Chemical Engineering\",\"Computer Engineering\",\"Electrical Engineering\",\"Mechanical Engineering\",\"Aerospace Engineering\",\"Industrial Engineering\",\"Computer Science\",\"Nursing\",\"Civil Engineering\",\"Construction\",\"Physics\",\"Economics\",\"Management Information Systems (MIS)\",\"Information Technology (IT)\",\"Finance\",\"Accounting\",\"Math\",\"Geology\",\"Business Management\",\"Agriculture\",\"Chemistry\",\"Architecture\",\"Geography\",\"International Relations\",\"Political Science\",\"Marketing\",\"Philosophy\",\"Nutrition\",\"History\",\"Forestry\",\"Health Care Administration\",\"Biology\",\"Communications\",\"English\",\"Film\",\"Hospitality & Tourism\",\"Anthropology\",\"Sociology\",\"Interior Design\",\"Psychology\",\"Music\",\"Drama\",\"Art History\",\"Graphic Design\",\"Journalism\",\"Criminal Justice\",\"Education\",\"Religion\",\"Spanish\"],\"y\":[124000.0,194000.0,162000.0,168000.0,163000.0,161000.0,173000.0,154000.0,98300.0,148000.0,171000.0,178000.0,210000.0,146000.0,129000.0,195000.0,152000.0,183000.0,156000.0,147000.0,150000.0,148000.0,136000.0,132000.0,157000.0,168000.0,175000.0,168000.0,99200.0,149000.0,111000.0,101000.0,135000.0,143000.0,133000.0,136000.0,124000.0,138000.0,118000.0,107000.0,127000.0,134000.0,153000.0,125000.0,112000.0,145000.0,107000.0,102000.0,96400.0,96400.0],\"type\":\"bar\"}],                        {\"barmode\":\"stack\",\"template\":{\"data\":{\"barpolar\":[{\"marker\":{\"line\":{\"color\":\"#E5ECF6\",\"width\":0.5},\"pattern\":{\"fillmode\":\"overlay\",\"size\":10,\"solidity\":0.2}},\"type\":\"barpolar\"}],\"bar\":[{\"error_x\":{\"color\":\"#2a3f5f\"},\"error_y\":{\"color\":\"#2a3f5f\"},\"marker\":{\"line\":{\"color\":\"#E5ECF6\",\"width\":0.5},\"pattern\":{\"fillmode\":\"overlay\",\"size\":10,\"solidity\":0.2}},\"type\":\"bar\"}],\"carpet\":[{\"aaxis\":{\"endlinecolor\":\"#2a3f5f\",\"gridcolor\":\"white\",\"linecolor\":\"white\",\"minorgridcolor\":\"white\",\"startlinecolor\":\"#2a3f5f\"},\"baxis\":{\"endlinecolor\":\"#2a3f5f\",\"gridcolor\":\"white\",\"linecolor\":\"white\",\"minorgridcolor\":\"white\",\"startlinecolor\":\"#2a3f5f\"},\"type\":\"carpet\"}],\"choropleth\":[{\"colorbar\":{\"outlinewidth\":0,\"ticks\":\"\"},\"type\":\"choropleth\"}],\"contourcarpet\":[{\"colorbar\":{\"outlinewidth\":0,\"ticks\":\"\"},\"type\":\"contourcarpet\"}],\"contour\":[{\"colorbar\":{\"outlinewidth\":0,\"ticks\":\"\"},\"colorscale\":[[0.0,\"#0d0887\"],[0.1111111111111111,\"#46039f\"],[0.2222222222222222,\"#7201a8\"],[0.3333333333333333,\"#9c179e\"],[0.4444444444444444,\"#bd3786\"],[0.5555555555555556,\"#d8576b\"],[0.6666666666666666,\"#ed7953\"],[0.7777777777777778,\"#fb9f3a\"],[0.8888888888888888,\"#fdca26\"],[1.0,\"#f0f921\"]],\"type\":\"contour\"}],\"heatmapgl\":[{\"colorbar\":{\"outlinewidth\":0,\"ticks\":\"\"},\"colorscale\":[[0.0,\"#0d0887\"],[0.1111111111111111,\"#46039f\"],[0.2222222222222222,\"#7201a8\"],[0.3333333333333333,\"#9c179e\"],[0.4444444444444444,\"#bd3786\"],[0.5555555555555556,\"#d8576b\"],[0.6666666666666666,\"#ed7953\"],[0.7777777777777778,\"#fb9f3a\"],[0.8888888888888888,\"#fdca26\"],[1.0,\"#f0f921\"]],\"type\":\"heatmapgl\"}],\"heatmap\":[{\"colorbar\":{\"outlinewidth\":0,\"ticks\":\"\"},\"colorscale\":[[0.0,\"#0d0887\"],[0.1111111111111111,\"#46039f\"],[0.2222222222222222,\"#7201a8\"],[0.3333333333333333,\"#9c179e\"],[0.4444444444444444,\"#bd3786\"],[0.5555555555555556,\"#d8576b\"],[0.6666666666666666,\"#ed7953\"],[0.7777777777777778,\"#fb9f3a\"],[0.8888888888888888,\"#fdca26\"],[1.0,\"#f0f921\"]],\"type\":\"heatmap\"}],\"histogram2dcontour\":[{\"colorbar\":{\"outlinewidth\":0,\"ticks\":\"\"},\"colorscale\":[[0.0,\"#0d0887\"],[0.1111111111111111,\"#46039f\"],[0.2222222222222222,\"#7201a8\"],[0.3333333333333333,\"#9c179e\"],[0.4444444444444444,\"#bd3786\"],[0.5555555555555556,\"#d8576b\"],[0.6666666666666666,\"#ed7953\"],[0.7777777777777778,\"#fb9f3a\"],[0.8888888888888888,\"#fdca26\"],[1.0,\"#f0f921\"]],\"type\":\"histogram2dcontour\"}],\"histogram2d\":[{\"colorbar\":{\"outlinewidth\":0,\"ticks\":\"\"},\"colorscale\":[[0.0,\"#0d0887\"],[0.1111111111111111,\"#46039f\"],[0.2222222222222222,\"#7201a8\"],[0.3333333333333333,\"#9c179e\"],[0.4444444444444444,\"#bd3786\"],[0.5555555555555556,\"#d8576b\"],[0.6666666666666666,\"#ed7953\"],[0.7777777777777778,\"#fb9f3a\"],[0.8888888888888888,\"#fdca26\"],[1.0,\"#f0f921\"]],\"type\":\"histogram2d\"}],\"histogram\":[{\"marker\":{\"pattern\":{\"fillmode\":\"overlay\",\"size\":10,\"solidity\":0.2}},\"type\":\"histogram\"}],\"mesh3d\":[{\"colorbar\":{\"outlinewidth\":0,\"ticks\":\"\"},\"type\":\"mesh3d\"}],\"parcoords\":[{\"line\":{\"colorbar\":{\"outlinewidth\":0,\"ticks\":\"\"}},\"type\":\"parcoords\"}],\"pie\":[{\"automargin\":true,\"type\":\"pie\"}],\"scatter3d\":[{\"line\":{\"colorbar\":{\"outlinewidth\":0,\"ticks\":\"\"}},\"marker\":{\"colorbar\":{\"outlinewidth\":0,\"ticks\":\"\"}},\"type\":\"scatter3d\"}],\"scattercarpet\":[{\"marker\":{\"colorbar\":{\"outlinewidth\":0,\"ticks\":\"\"}},\"type\":\"scattercarpet\"}],\"scattergeo\":[{\"marker\":{\"colorbar\":{\"outlinewidth\":0,\"ticks\":\"\"}},\"type\":\"scattergeo\"}],\"scattergl\":[{\"marker\":{\"colorbar\":{\"outlinewidth\":0,\"ticks\":\"\"}},\"type\":\"scattergl\"}],\"scattermapbox\":[{\"marker\":{\"colorbar\":{\"outlinewidth\":0,\"ticks\":\"\"}},\"type\":\"scattermapbox\"}],\"scatterpolargl\":[{\"marker\":{\"colorbar\":{\"outlinewidth\":0,\"ticks\":\"\"}},\"type\":\"scatterpolargl\"}],\"scatterpolar\":[{\"marker\":{\"colorbar\":{\"outlinewidth\":0,\"ticks\":\"\"}},\"type\":\"scatterpolar\"}],\"scatter\":[{\"marker\":{\"colorbar\":{\"outlinewidth\":0,\"ticks\":\"\"}},\"type\":\"scatter\"}],\"scatterternary\":[{\"marker\":{\"colorbar\":{\"outlinewidth\":0,\"ticks\":\"\"}},\"type\":\"scatterternary\"}],\"surface\":[{\"colorbar\":{\"outlinewidth\":0,\"ticks\":\"\"},\"colorscale\":[[0.0,\"#0d0887\"],[0.1111111111111111,\"#46039f\"],[0.2222222222222222,\"#7201a8\"],[0.3333333333333333,\"#9c179e\"],[0.4444444444444444,\"#bd3786\"],[0.5555555555555556,\"#d8576b\"],[0.6666666666666666,\"#ed7953\"],[0.7777777777777778,\"#fb9f3a\"],[0.8888888888888888,\"#fdca26\"],[1.0,\"#f0f921\"]],\"type\":\"surface\"}],\"table\":[{\"cells\":{\"fill\":{\"color\":\"#EBF0F8\"},\"line\":{\"color\":\"white\"}},\"header\":{\"fill\":{\"color\":\"#C8D4E3\"},\"line\":{\"color\":\"white\"}},\"type\":\"table\"}]},\"layout\":{\"annotationdefaults\":{\"arrowcolor\":\"#2a3f5f\",\"arrowhead\":0,\"arrowwidth\":1},\"autotypenumbers\":\"strict\",\"coloraxis\":{\"colorbar\":{\"outlinewidth\":0,\"ticks\":\"\"}},\"colorscale\":{\"diverging\":[[0,\"#8e0152\"],[0.1,\"#c51b7d\"],[0.2,\"#de77ae\"],[0.3,\"#f1b6da\"],[0.4,\"#fde0ef\"],[0.5,\"#f7f7f7\"],[0.6,\"#e6f5d0\"],[0.7,\"#b8e186\"],[0.8,\"#7fbc41\"],[0.9,\"#4d9221\"],[1,\"#276419\"]],\"sequential\":[[0.0,\"#0d0887\"],[0.1111111111111111,\"#46039f\"],[0.2222222222222222,\"#7201a8\"],[0.3333333333333333,\"#9c179e\"],[0.4444444444444444,\"#bd3786\"],[0.5555555555555556,\"#d8576b\"],[0.6666666666666666,\"#ed7953\"],[0.7777777777777778,\"#fb9f3a\"],[0.8888888888888888,\"#fdca26\"],[1.0,\"#f0f921\"]],\"sequentialminus\":[[0.0,\"#0d0887\"],[0.1111111111111111,\"#46039f\"],[0.2222222222222222,\"#7201a8\"],[0.3333333333333333,\"#9c179e\"],[0.4444444444444444,\"#bd3786\"],[0.5555555555555556,\"#d8576b\"],[0.6666666666666666,\"#ed7953\"],[0.7777777777777778,\"#fb9f3a\"],[0.8888888888888888,\"#fdca26\"],[1.0,\"#f0f921\"]]},\"colorway\":[\"#636efa\",\"#EF553B\",\"#00cc96\",\"#ab63fa\",\"#FFA15A\",\"#19d3f3\",\"#FF6692\",\"#B6E880\",\"#FF97FF\",\"#FECB52\"],\"font\":{\"color\":\"#2a3f5f\"},\"geo\":{\"bgcolor\":\"white\",\"lakecolor\":\"white\",\"landcolor\":\"#E5ECF6\",\"showlakes\":true,\"showland\":true,\"subunitcolor\":\"white\"},\"hoverlabel\":{\"align\":\"left\"},\"hovermode\":\"closest\",\"mapbox\":{\"style\":\"light\"},\"paper_bgcolor\":\"white\",\"plot_bgcolor\":\"#E5ECF6\",\"polar\":{\"angularaxis\":{\"gridcolor\":\"white\",\"linecolor\":\"white\",\"ticks\":\"\"},\"bgcolor\":\"#E5ECF6\",\"radialaxis\":{\"gridcolor\":\"white\",\"linecolor\":\"white\",\"ticks\":\"\"}},\"scene\":{\"xaxis\":{\"backgroundcolor\":\"#E5ECF6\",\"gridcolor\":\"white\",\"gridwidth\":2,\"linecolor\":\"white\",\"showbackground\":true,\"ticks\":\"\",\"zerolinecolor\":\"white\"},\"yaxis\":{\"backgroundcolor\":\"#E5ECF6\",\"gridcolor\":\"white\",\"gridwidth\":2,\"linecolor\":\"white\",\"showbackground\":true,\"ticks\":\"\",\"zerolinecolor\":\"white\"},\"zaxis\":{\"backgroundcolor\":\"#E5ECF6\",\"gridcolor\":\"white\",\"gridwidth\":2,\"linecolor\":\"white\",\"showbackground\":true,\"ticks\":\"\",\"zerolinecolor\":\"white\"}},\"shapedefaults\":{\"line\":{\"color\":\"#2a3f5f\"}},\"ternary\":{\"aaxis\":{\"gridcolor\":\"white\",\"linecolor\":\"white\",\"ticks\":\"\"},\"baxis\":{\"gridcolor\":\"white\",\"linecolor\":\"white\",\"ticks\":\"\"},\"bgcolor\":\"#E5ECF6\",\"caxis\":{\"gridcolor\":\"white\",\"linecolor\":\"white\",\"ticks\":\"\"}},\"title\":{\"x\":0.05},\"xaxis\":{\"automargin\":true,\"gridcolor\":\"white\",\"linecolor\":\"white\",\"ticks\":\"\",\"title\":{\"standoff\":15},\"zerolinecolor\":\"white\",\"zerolinewidth\":2},\"yaxis\":{\"automargin\":true,\"gridcolor\":\"white\",\"linecolor\":\"white\",\"ticks\":\"\",\"title\":{\"standoff\":15},\"zerolinecolor\":\"white\",\"zerolinewidth\":2}}}},                        {\"responsive\": true}                    ).then(function(){\n",
       "                            \n",
       "var gd = document.getElementById('987f0aa9-4040-43da-b12d-13a59ecf5466');\n",
       "var x = new MutationObserver(function (mutations, observer) {{\n",
       "        var display = window.getComputedStyle(gd).display;\n",
       "        if (!display || display === 'none') {{\n",
       "            console.log([gd, 'removed!']);\n",
       "            Plotly.purge(gd);\n",
       "            observer.disconnect();\n",
       "        }}\n",
       "}});\n",
       "\n",
       "// Listen for the removal of the full notebook cells\n",
       "var notebookContainer = gd.closest('#notebook-container');\n",
       "if (notebookContainer) {{\n",
       "    x.observe(notebookContainer, {childList: true});\n",
       "}}\n",
       "\n",
       "// Listen for the clearing of the current output cell\n",
       "var outputEl = gd.closest('.output');\n",
       "if (outputEl) {{\n",
       "    x.observe(outputEl, {childList: true});\n",
       "}}\n",
       "\n",
       "                        })                };                });            </script>        </div>"
      ]
     },
     "metadata": {},
     "output_type": "display_data"
    }
   ],
   "source": [
    "# Bar Chart\n",
    "trace1 = go.Bar(\n",
    "    x=sorted.major,\n",
    "    y=sorted.starting,\n",
    "    name='Starting Median Salary'\n",
    ")\n",
    "trace2 = go.Bar(\n",
    "    x=sorted.major,\n",
    "    y=sorted.midcareer,\n",
    "    name='Mid-Career Median Salary'\n",
    ")\n",
    "trace3 = go.Bar(\n",
    "    x=sorted.major,\n",
    "    y=sorted.mid_p10,\n",
    "    name='Mid-Career 10th Percentile Salary'\n",
    ")\n",
    "trace4 = go.Bar(\n",
    "    x=sorted.major,\n",
    "    y=sorted.mid_p25,\n",
    "    name='Mid-Career 25th Percentile Salary'\n",
    ")\n",
    "trace5 = go.Bar(\n",
    "    x=sorted.major,\n",
    "    y=sorted.mid_p75,\n",
    "    name='Mid-Career 75th Percentile Salary'\n",
    ")\n",
    "trace6 = go.Bar(\n",
    "    x=sorted.major,\n",
    "    y=sorted.mid_p90,\n",
    "    name='Mid-Career 90th Percentile Salary'\n",
    ")\n",
    "\n",
    "data = [trace1,trace2,trace3,trace4,trace5,trace6]\n",
    "layout = go.Layout(\n",
    "    barmode='stack'\n",
    ")\n",
    "\n",
    "fig = go.Figure(data=data, layout=layout)\n",
    "iplot(fig)"
   ]
  },
  {
   "cell_type": "markdown",
   "metadata": {
    "_uuid": "28e9d7eed6c9fb759f14d01fa334e5d31c912d6f"
   },
   "source": [
    "### Start Career to Middle Career <a id=\"8\"></a>\n",
    "<mark>[Return Contents](#0)\n",
    "<hr>\n",
    "For Undergradute Major, I will list the salary change from start career to middle career."
   ]
  },
  {
   "cell_type": "code",
   "execution_count": 15,
   "metadata": {
    "_uuid": "7892a1bc476d5a06d00bbe249529ad12298ae2ea"
   },
   "outputs": [
    {
     "data": {
      "text/html": [
       "<div>\n",
       "<style scoped>\n",
       "    .dataframe tbody tr th:only-of-type {\n",
       "        vertical-align: middle;\n",
       "    }\n",
       "\n",
       "    .dataframe tbody tr th {\n",
       "        vertical-align: top;\n",
       "    }\n",
       "\n",
       "    .dataframe thead th {\n",
       "        text-align: right;\n",
       "    }\n",
       "</style>\n",
       "<table border=\"1\" class=\"dataframe\">\n",
       "  <thead>\n",
       "    <tr style=\"text-align: right;\">\n",
       "      <th></th>\n",
       "      <th>major</th>\n",
       "      <th>starting</th>\n",
       "      <th>midcareer</th>\n",
       "      <th>starttomid</th>\n",
       "      <th>mid_p10</th>\n",
       "      <th>mid_p25</th>\n",
       "      <th>mid_p75</th>\n",
       "      <th>mid_p90</th>\n",
       "    </tr>\n",
       "  </thead>\n",
       "  <tbody>\n",
       "    <tr>\n",
       "      <th>37</th>\n",
       "      <td>Math</td>\n",
       "      <td>45400.0</td>\n",
       "      <td>92400.0</td>\n",
       "      <td>103.5</td>\n",
       "      <td>45200.0</td>\n",
       "      <td>64200.0</td>\n",
       "      <td>128000.0</td>\n",
       "      <td>183000.0</td>\n",
       "    </tr>\n",
       "    <tr>\n",
       "      <th>42</th>\n",
       "      <td>Philosophy</td>\n",
       "      <td>39900.0</td>\n",
       "      <td>81200.0</td>\n",
       "      <td>103.5</td>\n",
       "      <td>35500.0</td>\n",
       "      <td>52800.0</td>\n",
       "      <td>127000.0</td>\n",
       "      <td>168000.0</td>\n",
       "    </tr>\n",
       "    <tr>\n",
       "      <th>33</th>\n",
       "      <td>International Relations</td>\n",
       "      <td>40900.0</td>\n",
       "      <td>80900.0</td>\n",
       "      <td>97.8</td>\n",
       "      <td>38200.0</td>\n",
       "      <td>56000.0</td>\n",
       "      <td>111000.0</td>\n",
       "      <td>157000.0</td>\n",
       "    </tr>\n",
       "    <tr>\n",
       "      <th>17</th>\n",
       "      <td>Economics</td>\n",
       "      <td>50100.0</td>\n",
       "      <td>98600.0</td>\n",
       "      <td>96.8</td>\n",
       "      <td>50600.0</td>\n",
       "      <td>70600.0</td>\n",
       "      <td>145000.0</td>\n",
       "      <td>210000.0</td>\n",
       "    </tr>\n",
       "    <tr>\n",
       "      <th>36</th>\n",
       "      <td>Marketing</td>\n",
       "      <td>40800.0</td>\n",
       "      <td>79600.0</td>\n",
       "      <td>95.1</td>\n",
       "      <td>42100.0</td>\n",
       "      <td>55600.0</td>\n",
       "      <td>119000.0</td>\n",
       "      <td>175000.0</td>\n",
       "    </tr>\n",
       "  </tbody>\n",
       "</table>\n",
       "</div>"
      ],
      "text/plain": [
       "                      major  starting  midcareer  starttomid  mid_p10  \\\n",
       "37                     Math   45400.0    92400.0       103.5  45200.0   \n",
       "42               Philosophy   39900.0    81200.0       103.5  35500.0   \n",
       "33  International Relations   40900.0    80900.0        97.8  38200.0   \n",
       "17                Economics   50100.0    98600.0        96.8  50600.0   \n",
       "36                Marketing   40800.0    79600.0        95.1  42100.0   \n",
       "\n",
       "    mid_p25   mid_p75   mid_p90  \n",
       "37  64200.0  128000.0  183000.0  \n",
       "42  52800.0  127000.0  168000.0  \n",
       "33  56000.0  111000.0  157000.0  \n",
       "17  70600.0  145000.0  210000.0  \n",
       "36  55600.0  119000.0  175000.0  "
      ]
     },
     "execution_count": 15,
     "metadata": {},
     "output_type": "execute_result"
    }
   ],
   "source": [
    "sorted_starttomid = degrees_df.sort_values('starttomid', ascending=False)\n",
    "sorted_starttomid.head()"
   ]
  },
  {
   "cell_type": "markdown",
   "metadata": {
    "_uuid": "f3b0dcf89125899d372c802b9f389e90192c2ab9"
   },
   "source": [
    "Now I'm going to visualize this sequence."
   ]
  },
  {
   "cell_type": "code",
   "execution_count": 16,
   "metadata": {
    "_uuid": "1ee0259e1cdb2d09022adb7587e32aac36b0e577"
   },
   "outputs": [
    {
     "data": {
      "application/vnd.plotly.v1+json": {
       "config": {
        "linkText": "Export to plot.ly",
        "plotlyServerURL": "https://plot.ly",
        "showLink": false
       },
       "data": [
        {
         "type": "scatter",
         "x": [
          "Math",
          "Philosophy",
          "International Relations",
          "Economics",
          "Marketing",
          "Physics",
          "Political Science",
          "Chemistry",
          "Journalism",
          "Architecture",
          "Finance",
          "Communications",
          "Geology",
          "Art History",
          "History",
          "Film",
          "Aerospace Engineering",
          "Computer Engineering",
          "Computer Science",
          "English",
          "Chemical Engineering",
          "Electrical Engineering",
          "Agriculture",
          "Psychology",
          "Civil Engineering",
          "Business Management",
          "Accounting",
          "Graphic Design",
          "Management Information Systems (MIS)",
          "Anthropology",
          "Biology",
          "Construction",
          "Industrial Engineering",
          "Mechanical Engineering",
          "Criminal Justice",
          "Forestry",
          "Sociology",
          "Geography",
          "Drama",
          "Health Care Administration",
          "Spanish",
          "Music",
          "Religion",
          "Information Technology (IT)",
          "Hospitality & Tourism",
          "Education",
          "Interior Design",
          "Nutrition",
          "Nursing",
          "Physician Assistant"
         ],
         "y": [
          103.5,
          103.5,
          97.8,
          96.8,
          95.1,
          93.4,
          91.7,
          87.6,
          87.4,
          84.6,
          84.3,
          83.7,
          82.8,
          81.3,
          81.1,
          80.7,
          75,
          71,
          70.8,
          70.3,
          69.3,
          69.1,
          68.8,
          68.2,
          67.9,
          67.7,
          67.6,
          67.5,
          67.3,
          67.1,
          67,
          65.5,
          64.1,
          61.7,
          60.9,
          60.1,
          59.5,
          59,
          58.5,
          56.2,
          56.2,
          53.2,
          52.5,
          52.3,
          52.1,
          49,
          47.4,
          38.6,
          23.6,
          23.4
         ]
        }
       ],
       "layout": {
        "template": {
         "data": {
          "bar": [
           {
            "error_x": {
             "color": "#2a3f5f"
            },
            "error_y": {
             "color": "#2a3f5f"
            },
            "marker": {
             "line": {
              "color": "#E5ECF6",
              "width": 0.5
             },
             "pattern": {
              "fillmode": "overlay",
              "size": 10,
              "solidity": 0.2
             }
            },
            "type": "bar"
           }
          ],
          "barpolar": [
           {
            "marker": {
             "line": {
              "color": "#E5ECF6",
              "width": 0.5
             },
             "pattern": {
              "fillmode": "overlay",
              "size": 10,
              "solidity": 0.2
             }
            },
            "type": "barpolar"
           }
          ],
          "carpet": [
           {
            "aaxis": {
             "endlinecolor": "#2a3f5f",
             "gridcolor": "white",
             "linecolor": "white",
             "minorgridcolor": "white",
             "startlinecolor": "#2a3f5f"
            },
            "baxis": {
             "endlinecolor": "#2a3f5f",
             "gridcolor": "white",
             "linecolor": "white",
             "minorgridcolor": "white",
             "startlinecolor": "#2a3f5f"
            },
            "type": "carpet"
           }
          ],
          "choropleth": [
           {
            "colorbar": {
             "outlinewidth": 0,
             "ticks": ""
            },
            "type": "choropleth"
           }
          ],
          "contour": [
           {
            "colorbar": {
             "outlinewidth": 0,
             "ticks": ""
            },
            "colorscale": [
             [
              0,
              "#0d0887"
             ],
             [
              0.1111111111111111,
              "#46039f"
             ],
             [
              0.2222222222222222,
              "#7201a8"
             ],
             [
              0.3333333333333333,
              "#9c179e"
             ],
             [
              0.4444444444444444,
              "#bd3786"
             ],
             [
              0.5555555555555556,
              "#d8576b"
             ],
             [
              0.6666666666666666,
              "#ed7953"
             ],
             [
              0.7777777777777778,
              "#fb9f3a"
             ],
             [
              0.8888888888888888,
              "#fdca26"
             ],
             [
              1,
              "#f0f921"
             ]
            ],
            "type": "contour"
           }
          ],
          "contourcarpet": [
           {
            "colorbar": {
             "outlinewidth": 0,
             "ticks": ""
            },
            "type": "contourcarpet"
           }
          ],
          "heatmap": [
           {
            "colorbar": {
             "outlinewidth": 0,
             "ticks": ""
            },
            "colorscale": [
             [
              0,
              "#0d0887"
             ],
             [
              0.1111111111111111,
              "#46039f"
             ],
             [
              0.2222222222222222,
              "#7201a8"
             ],
             [
              0.3333333333333333,
              "#9c179e"
             ],
             [
              0.4444444444444444,
              "#bd3786"
             ],
             [
              0.5555555555555556,
              "#d8576b"
             ],
             [
              0.6666666666666666,
              "#ed7953"
             ],
             [
              0.7777777777777778,
              "#fb9f3a"
             ],
             [
              0.8888888888888888,
              "#fdca26"
             ],
             [
              1,
              "#f0f921"
             ]
            ],
            "type": "heatmap"
           }
          ],
          "heatmapgl": [
           {
            "colorbar": {
             "outlinewidth": 0,
             "ticks": ""
            },
            "colorscale": [
             [
              0,
              "#0d0887"
             ],
             [
              0.1111111111111111,
              "#46039f"
             ],
             [
              0.2222222222222222,
              "#7201a8"
             ],
             [
              0.3333333333333333,
              "#9c179e"
             ],
             [
              0.4444444444444444,
              "#bd3786"
             ],
             [
              0.5555555555555556,
              "#d8576b"
             ],
             [
              0.6666666666666666,
              "#ed7953"
             ],
             [
              0.7777777777777778,
              "#fb9f3a"
             ],
             [
              0.8888888888888888,
              "#fdca26"
             ],
             [
              1,
              "#f0f921"
             ]
            ],
            "type": "heatmapgl"
           }
          ],
          "histogram": [
           {
            "marker": {
             "pattern": {
              "fillmode": "overlay",
              "size": 10,
              "solidity": 0.2
             }
            },
            "type": "histogram"
           }
          ],
          "histogram2d": [
           {
            "colorbar": {
             "outlinewidth": 0,
             "ticks": ""
            },
            "colorscale": [
             [
              0,
              "#0d0887"
             ],
             [
              0.1111111111111111,
              "#46039f"
             ],
             [
              0.2222222222222222,
              "#7201a8"
             ],
             [
              0.3333333333333333,
              "#9c179e"
             ],
             [
              0.4444444444444444,
              "#bd3786"
             ],
             [
              0.5555555555555556,
              "#d8576b"
             ],
             [
              0.6666666666666666,
              "#ed7953"
             ],
             [
              0.7777777777777778,
              "#fb9f3a"
             ],
             [
              0.8888888888888888,
              "#fdca26"
             ],
             [
              1,
              "#f0f921"
             ]
            ],
            "type": "histogram2d"
           }
          ],
          "histogram2dcontour": [
           {
            "colorbar": {
             "outlinewidth": 0,
             "ticks": ""
            },
            "colorscale": [
             [
              0,
              "#0d0887"
             ],
             [
              0.1111111111111111,
              "#46039f"
             ],
             [
              0.2222222222222222,
              "#7201a8"
             ],
             [
              0.3333333333333333,
              "#9c179e"
             ],
             [
              0.4444444444444444,
              "#bd3786"
             ],
             [
              0.5555555555555556,
              "#d8576b"
             ],
             [
              0.6666666666666666,
              "#ed7953"
             ],
             [
              0.7777777777777778,
              "#fb9f3a"
             ],
             [
              0.8888888888888888,
              "#fdca26"
             ],
             [
              1,
              "#f0f921"
             ]
            ],
            "type": "histogram2dcontour"
           }
          ],
          "mesh3d": [
           {
            "colorbar": {
             "outlinewidth": 0,
             "ticks": ""
            },
            "type": "mesh3d"
           }
          ],
          "parcoords": [
           {
            "line": {
             "colorbar": {
              "outlinewidth": 0,
              "ticks": ""
             }
            },
            "type": "parcoords"
           }
          ],
          "pie": [
           {
            "automargin": true,
            "type": "pie"
           }
          ],
          "scatter": [
           {
            "marker": {
             "colorbar": {
              "outlinewidth": 0,
              "ticks": ""
             }
            },
            "type": "scatter"
           }
          ],
          "scatter3d": [
           {
            "line": {
             "colorbar": {
              "outlinewidth": 0,
              "ticks": ""
             }
            },
            "marker": {
             "colorbar": {
              "outlinewidth": 0,
              "ticks": ""
             }
            },
            "type": "scatter3d"
           }
          ],
          "scattercarpet": [
           {
            "marker": {
             "colorbar": {
              "outlinewidth": 0,
              "ticks": ""
             }
            },
            "type": "scattercarpet"
           }
          ],
          "scattergeo": [
           {
            "marker": {
             "colorbar": {
              "outlinewidth": 0,
              "ticks": ""
             }
            },
            "type": "scattergeo"
           }
          ],
          "scattergl": [
           {
            "marker": {
             "colorbar": {
              "outlinewidth": 0,
              "ticks": ""
             }
            },
            "type": "scattergl"
           }
          ],
          "scattermapbox": [
           {
            "marker": {
             "colorbar": {
              "outlinewidth": 0,
              "ticks": ""
             }
            },
            "type": "scattermapbox"
           }
          ],
          "scatterpolar": [
           {
            "marker": {
             "colorbar": {
              "outlinewidth": 0,
              "ticks": ""
             }
            },
            "type": "scatterpolar"
           }
          ],
          "scatterpolargl": [
           {
            "marker": {
             "colorbar": {
              "outlinewidth": 0,
              "ticks": ""
             }
            },
            "type": "scatterpolargl"
           }
          ],
          "scatterternary": [
           {
            "marker": {
             "colorbar": {
              "outlinewidth": 0,
              "ticks": ""
             }
            },
            "type": "scatterternary"
           }
          ],
          "surface": [
           {
            "colorbar": {
             "outlinewidth": 0,
             "ticks": ""
            },
            "colorscale": [
             [
              0,
              "#0d0887"
             ],
             [
              0.1111111111111111,
              "#46039f"
             ],
             [
              0.2222222222222222,
              "#7201a8"
             ],
             [
              0.3333333333333333,
              "#9c179e"
             ],
             [
              0.4444444444444444,
              "#bd3786"
             ],
             [
              0.5555555555555556,
              "#d8576b"
             ],
             [
              0.6666666666666666,
              "#ed7953"
             ],
             [
              0.7777777777777778,
              "#fb9f3a"
             ],
             [
              0.8888888888888888,
              "#fdca26"
             ],
             [
              1,
              "#f0f921"
             ]
            ],
            "type": "surface"
           }
          ],
          "table": [
           {
            "cells": {
             "fill": {
              "color": "#EBF0F8"
             },
             "line": {
              "color": "white"
             }
            },
            "header": {
             "fill": {
              "color": "#C8D4E3"
             },
             "line": {
              "color": "white"
             }
            },
            "type": "table"
           }
          ]
         },
         "layout": {
          "annotationdefaults": {
           "arrowcolor": "#2a3f5f",
           "arrowhead": 0,
           "arrowwidth": 1
          },
          "autotypenumbers": "strict",
          "coloraxis": {
           "colorbar": {
            "outlinewidth": 0,
            "ticks": ""
           }
          },
          "colorscale": {
           "diverging": [
            [
             0,
             "#8e0152"
            ],
            [
             0.1,
             "#c51b7d"
            ],
            [
             0.2,
             "#de77ae"
            ],
            [
             0.3,
             "#f1b6da"
            ],
            [
             0.4,
             "#fde0ef"
            ],
            [
             0.5,
             "#f7f7f7"
            ],
            [
             0.6,
             "#e6f5d0"
            ],
            [
             0.7,
             "#b8e186"
            ],
            [
             0.8,
             "#7fbc41"
            ],
            [
             0.9,
             "#4d9221"
            ],
            [
             1,
             "#276419"
            ]
           ],
           "sequential": [
            [
             0,
             "#0d0887"
            ],
            [
             0.1111111111111111,
             "#46039f"
            ],
            [
             0.2222222222222222,
             "#7201a8"
            ],
            [
             0.3333333333333333,
             "#9c179e"
            ],
            [
             0.4444444444444444,
             "#bd3786"
            ],
            [
             0.5555555555555556,
             "#d8576b"
            ],
            [
             0.6666666666666666,
             "#ed7953"
            ],
            [
             0.7777777777777778,
             "#fb9f3a"
            ],
            [
             0.8888888888888888,
             "#fdca26"
            ],
            [
             1,
             "#f0f921"
            ]
           ],
           "sequentialminus": [
            [
             0,
             "#0d0887"
            ],
            [
             0.1111111111111111,
             "#46039f"
            ],
            [
             0.2222222222222222,
             "#7201a8"
            ],
            [
             0.3333333333333333,
             "#9c179e"
            ],
            [
             0.4444444444444444,
             "#bd3786"
            ],
            [
             0.5555555555555556,
             "#d8576b"
            ],
            [
             0.6666666666666666,
             "#ed7953"
            ],
            [
             0.7777777777777778,
             "#fb9f3a"
            ],
            [
             0.8888888888888888,
             "#fdca26"
            ],
            [
             1,
             "#f0f921"
            ]
           ]
          },
          "colorway": [
           "#636efa",
           "#EF553B",
           "#00cc96",
           "#ab63fa",
           "#FFA15A",
           "#19d3f3",
           "#FF6692",
           "#B6E880",
           "#FF97FF",
           "#FECB52"
          ],
          "font": {
           "color": "#2a3f5f"
          },
          "geo": {
           "bgcolor": "white",
           "lakecolor": "white",
           "landcolor": "#E5ECF6",
           "showlakes": true,
           "showland": true,
           "subunitcolor": "white"
          },
          "hoverlabel": {
           "align": "left"
          },
          "hovermode": "closest",
          "mapbox": {
           "style": "light"
          },
          "paper_bgcolor": "white",
          "plot_bgcolor": "#E5ECF6",
          "polar": {
           "angularaxis": {
            "gridcolor": "white",
            "linecolor": "white",
            "ticks": ""
           },
           "bgcolor": "#E5ECF6",
           "radialaxis": {
            "gridcolor": "white",
            "linecolor": "white",
            "ticks": ""
           }
          },
          "scene": {
           "xaxis": {
            "backgroundcolor": "#E5ECF6",
            "gridcolor": "white",
            "gridwidth": 2,
            "linecolor": "white",
            "showbackground": true,
            "ticks": "",
            "zerolinecolor": "white"
           },
           "yaxis": {
            "backgroundcolor": "#E5ECF6",
            "gridcolor": "white",
            "gridwidth": 2,
            "linecolor": "white",
            "showbackground": true,
            "ticks": "",
            "zerolinecolor": "white"
           },
           "zaxis": {
            "backgroundcolor": "#E5ECF6",
            "gridcolor": "white",
            "gridwidth": 2,
            "linecolor": "white",
            "showbackground": true,
            "ticks": "",
            "zerolinecolor": "white"
           }
          },
          "shapedefaults": {
           "line": {
            "color": "#2a3f5f"
           }
          },
          "ternary": {
           "aaxis": {
            "gridcolor": "white",
            "linecolor": "white",
            "ticks": ""
           },
           "baxis": {
            "gridcolor": "white",
            "linecolor": "white",
            "ticks": ""
           },
           "bgcolor": "#E5ECF6",
           "caxis": {
            "gridcolor": "white",
            "linecolor": "white",
            "ticks": ""
           }
          },
          "title": {
           "x": 0.05
          },
          "xaxis": {
           "automargin": true,
           "gridcolor": "white",
           "linecolor": "white",
           "ticks": "",
           "title": {
            "standoff": 15
           },
           "zerolinecolor": "white",
           "zerolinewidth": 2
          },
          "yaxis": {
           "automargin": true,
           "gridcolor": "white",
           "linecolor": "white",
           "ticks": "",
           "title": {
            "standoff": 15
           },
           "zerolinecolor": "white",
           "zerolinewidth": 2
          }
         }
        },
        "title": {
         "text": "Percent change from Starting to Mid-Career Salary"
        },
        "xaxis": {
         "ticklen": 5,
         "title": {
          "text": ""
         },
         "zeroline": false
        }
       }
      },
      "text/html": [
       "<div>                            <div id=\"28566ac5-a1d0-4ab1-8827-dd07cd7a3f23\" class=\"plotly-graph-div\" style=\"height:525px; width:100%;\"></div>            <script type=\"text/javascript\">                require([\"plotly\"], function(Plotly) {                    window.PLOTLYENV=window.PLOTLYENV || {};                                    if (document.getElementById(\"28566ac5-a1d0-4ab1-8827-dd07cd7a3f23\")) {                    Plotly.newPlot(                        \"28566ac5-a1d0-4ab1-8827-dd07cd7a3f23\",                        [{\"x\":[\"Math\",\"Philosophy\",\"International Relations\",\"Economics\",\"Marketing\",\"Physics\",\"Political Science\",\"Chemistry\",\"Journalism\",\"Architecture\",\"Finance\",\"Communications\",\"Geology\",\"Art History\",\"History\",\"Film\",\"Aerospace Engineering\",\"Computer Engineering\",\"Computer Science\",\"English\",\"Chemical Engineering\",\"Electrical Engineering\",\"Agriculture\",\"Psychology\",\"Civil Engineering\",\"Business Management\",\"Accounting\",\"Graphic Design\",\"Management Information Systems (MIS)\",\"Anthropology\",\"Biology\",\"Construction\",\"Industrial Engineering\",\"Mechanical Engineering\",\"Criminal Justice\",\"Forestry\",\"Sociology\",\"Geography\",\"Drama\",\"Health Care Administration\",\"Spanish\",\"Music\",\"Religion\",\"Information Technology (IT)\",\"Hospitality & Tourism\",\"Education\",\"Interior Design\",\"Nutrition\",\"Nursing\",\"Physician Assistant\"],\"y\":[103.5,103.5,97.8,96.8,95.1,93.4,91.7,87.6,87.4,84.6,84.3,83.7,82.8,81.3,81.1,80.7,75.0,71.0,70.8,70.3,69.3,69.1,68.8,68.2,67.9,67.7,67.6,67.5,67.3,67.1,67.0,65.5,64.1,61.7,60.9,60.1,59.5,59.0,58.5,56.2,56.2,53.2,52.5,52.3,52.1,49.0,47.4,38.6,23.6,23.4],\"type\":\"scatter\"}],                        {\"template\":{\"data\":{\"barpolar\":[{\"marker\":{\"line\":{\"color\":\"#E5ECF6\",\"width\":0.5},\"pattern\":{\"fillmode\":\"overlay\",\"size\":10,\"solidity\":0.2}},\"type\":\"barpolar\"}],\"bar\":[{\"error_x\":{\"color\":\"#2a3f5f\"},\"error_y\":{\"color\":\"#2a3f5f\"},\"marker\":{\"line\":{\"color\":\"#E5ECF6\",\"width\":0.5},\"pattern\":{\"fillmode\":\"overlay\",\"size\":10,\"solidity\":0.2}},\"type\":\"bar\"}],\"carpet\":[{\"aaxis\":{\"endlinecolor\":\"#2a3f5f\",\"gridcolor\":\"white\",\"linecolor\":\"white\",\"minorgridcolor\":\"white\",\"startlinecolor\":\"#2a3f5f\"},\"baxis\":{\"endlinecolor\":\"#2a3f5f\",\"gridcolor\":\"white\",\"linecolor\":\"white\",\"minorgridcolor\":\"white\",\"startlinecolor\":\"#2a3f5f\"},\"type\":\"carpet\"}],\"choropleth\":[{\"colorbar\":{\"outlinewidth\":0,\"ticks\":\"\"},\"type\":\"choropleth\"}],\"contourcarpet\":[{\"colorbar\":{\"outlinewidth\":0,\"ticks\":\"\"},\"type\":\"contourcarpet\"}],\"contour\":[{\"colorbar\":{\"outlinewidth\":0,\"ticks\":\"\"},\"colorscale\":[[0.0,\"#0d0887\"],[0.1111111111111111,\"#46039f\"],[0.2222222222222222,\"#7201a8\"],[0.3333333333333333,\"#9c179e\"],[0.4444444444444444,\"#bd3786\"],[0.5555555555555556,\"#d8576b\"],[0.6666666666666666,\"#ed7953\"],[0.7777777777777778,\"#fb9f3a\"],[0.8888888888888888,\"#fdca26\"],[1.0,\"#f0f921\"]],\"type\":\"contour\"}],\"heatmapgl\":[{\"colorbar\":{\"outlinewidth\":0,\"ticks\":\"\"},\"colorscale\":[[0.0,\"#0d0887\"],[0.1111111111111111,\"#46039f\"],[0.2222222222222222,\"#7201a8\"],[0.3333333333333333,\"#9c179e\"],[0.4444444444444444,\"#bd3786\"],[0.5555555555555556,\"#d8576b\"],[0.6666666666666666,\"#ed7953\"],[0.7777777777777778,\"#fb9f3a\"],[0.8888888888888888,\"#fdca26\"],[1.0,\"#f0f921\"]],\"type\":\"heatmapgl\"}],\"heatmap\":[{\"colorbar\":{\"outlinewidth\":0,\"ticks\":\"\"},\"colorscale\":[[0.0,\"#0d0887\"],[0.1111111111111111,\"#46039f\"],[0.2222222222222222,\"#7201a8\"],[0.3333333333333333,\"#9c179e\"],[0.4444444444444444,\"#bd3786\"],[0.5555555555555556,\"#d8576b\"],[0.6666666666666666,\"#ed7953\"],[0.7777777777777778,\"#fb9f3a\"],[0.8888888888888888,\"#fdca26\"],[1.0,\"#f0f921\"]],\"type\":\"heatmap\"}],\"histogram2dcontour\":[{\"colorbar\":{\"outlinewidth\":0,\"ticks\":\"\"},\"colorscale\":[[0.0,\"#0d0887\"],[0.1111111111111111,\"#46039f\"],[0.2222222222222222,\"#7201a8\"],[0.3333333333333333,\"#9c179e\"],[0.4444444444444444,\"#bd3786\"],[0.5555555555555556,\"#d8576b\"],[0.6666666666666666,\"#ed7953\"],[0.7777777777777778,\"#fb9f3a\"],[0.8888888888888888,\"#fdca26\"],[1.0,\"#f0f921\"]],\"type\":\"histogram2dcontour\"}],\"histogram2d\":[{\"colorbar\":{\"outlinewidth\":0,\"ticks\":\"\"},\"colorscale\":[[0.0,\"#0d0887\"],[0.1111111111111111,\"#46039f\"],[0.2222222222222222,\"#7201a8\"],[0.3333333333333333,\"#9c179e\"],[0.4444444444444444,\"#bd3786\"],[0.5555555555555556,\"#d8576b\"],[0.6666666666666666,\"#ed7953\"],[0.7777777777777778,\"#fb9f3a\"],[0.8888888888888888,\"#fdca26\"],[1.0,\"#f0f921\"]],\"type\":\"histogram2d\"}],\"histogram\":[{\"marker\":{\"pattern\":{\"fillmode\":\"overlay\",\"size\":10,\"solidity\":0.2}},\"type\":\"histogram\"}],\"mesh3d\":[{\"colorbar\":{\"outlinewidth\":0,\"ticks\":\"\"},\"type\":\"mesh3d\"}],\"parcoords\":[{\"line\":{\"colorbar\":{\"outlinewidth\":0,\"ticks\":\"\"}},\"type\":\"parcoords\"}],\"pie\":[{\"automargin\":true,\"type\":\"pie\"}],\"scatter3d\":[{\"line\":{\"colorbar\":{\"outlinewidth\":0,\"ticks\":\"\"}},\"marker\":{\"colorbar\":{\"outlinewidth\":0,\"ticks\":\"\"}},\"type\":\"scatter3d\"}],\"scattercarpet\":[{\"marker\":{\"colorbar\":{\"outlinewidth\":0,\"ticks\":\"\"}},\"type\":\"scattercarpet\"}],\"scattergeo\":[{\"marker\":{\"colorbar\":{\"outlinewidth\":0,\"ticks\":\"\"}},\"type\":\"scattergeo\"}],\"scattergl\":[{\"marker\":{\"colorbar\":{\"outlinewidth\":0,\"ticks\":\"\"}},\"type\":\"scattergl\"}],\"scattermapbox\":[{\"marker\":{\"colorbar\":{\"outlinewidth\":0,\"ticks\":\"\"}},\"type\":\"scattermapbox\"}],\"scatterpolargl\":[{\"marker\":{\"colorbar\":{\"outlinewidth\":0,\"ticks\":\"\"}},\"type\":\"scatterpolargl\"}],\"scatterpolar\":[{\"marker\":{\"colorbar\":{\"outlinewidth\":0,\"ticks\":\"\"}},\"type\":\"scatterpolar\"}],\"scatter\":[{\"marker\":{\"colorbar\":{\"outlinewidth\":0,\"ticks\":\"\"}},\"type\":\"scatter\"}],\"scatterternary\":[{\"marker\":{\"colorbar\":{\"outlinewidth\":0,\"ticks\":\"\"}},\"type\":\"scatterternary\"}],\"surface\":[{\"colorbar\":{\"outlinewidth\":0,\"ticks\":\"\"},\"colorscale\":[[0.0,\"#0d0887\"],[0.1111111111111111,\"#46039f\"],[0.2222222222222222,\"#7201a8\"],[0.3333333333333333,\"#9c179e\"],[0.4444444444444444,\"#bd3786\"],[0.5555555555555556,\"#d8576b\"],[0.6666666666666666,\"#ed7953\"],[0.7777777777777778,\"#fb9f3a\"],[0.8888888888888888,\"#fdca26\"],[1.0,\"#f0f921\"]],\"type\":\"surface\"}],\"table\":[{\"cells\":{\"fill\":{\"color\":\"#EBF0F8\"},\"line\":{\"color\":\"white\"}},\"header\":{\"fill\":{\"color\":\"#C8D4E3\"},\"line\":{\"color\":\"white\"}},\"type\":\"table\"}]},\"layout\":{\"annotationdefaults\":{\"arrowcolor\":\"#2a3f5f\",\"arrowhead\":0,\"arrowwidth\":1},\"autotypenumbers\":\"strict\",\"coloraxis\":{\"colorbar\":{\"outlinewidth\":0,\"ticks\":\"\"}},\"colorscale\":{\"diverging\":[[0,\"#8e0152\"],[0.1,\"#c51b7d\"],[0.2,\"#de77ae\"],[0.3,\"#f1b6da\"],[0.4,\"#fde0ef\"],[0.5,\"#f7f7f7\"],[0.6,\"#e6f5d0\"],[0.7,\"#b8e186\"],[0.8,\"#7fbc41\"],[0.9,\"#4d9221\"],[1,\"#276419\"]],\"sequential\":[[0.0,\"#0d0887\"],[0.1111111111111111,\"#46039f\"],[0.2222222222222222,\"#7201a8\"],[0.3333333333333333,\"#9c179e\"],[0.4444444444444444,\"#bd3786\"],[0.5555555555555556,\"#d8576b\"],[0.6666666666666666,\"#ed7953\"],[0.7777777777777778,\"#fb9f3a\"],[0.8888888888888888,\"#fdca26\"],[1.0,\"#f0f921\"]],\"sequentialminus\":[[0.0,\"#0d0887\"],[0.1111111111111111,\"#46039f\"],[0.2222222222222222,\"#7201a8\"],[0.3333333333333333,\"#9c179e\"],[0.4444444444444444,\"#bd3786\"],[0.5555555555555556,\"#d8576b\"],[0.6666666666666666,\"#ed7953\"],[0.7777777777777778,\"#fb9f3a\"],[0.8888888888888888,\"#fdca26\"],[1.0,\"#f0f921\"]]},\"colorway\":[\"#636efa\",\"#EF553B\",\"#00cc96\",\"#ab63fa\",\"#FFA15A\",\"#19d3f3\",\"#FF6692\",\"#B6E880\",\"#FF97FF\",\"#FECB52\"],\"font\":{\"color\":\"#2a3f5f\"},\"geo\":{\"bgcolor\":\"white\",\"lakecolor\":\"white\",\"landcolor\":\"#E5ECF6\",\"showlakes\":true,\"showland\":true,\"subunitcolor\":\"white\"},\"hoverlabel\":{\"align\":\"left\"},\"hovermode\":\"closest\",\"mapbox\":{\"style\":\"light\"},\"paper_bgcolor\":\"white\",\"plot_bgcolor\":\"#E5ECF6\",\"polar\":{\"angularaxis\":{\"gridcolor\":\"white\",\"linecolor\":\"white\",\"ticks\":\"\"},\"bgcolor\":\"#E5ECF6\",\"radialaxis\":{\"gridcolor\":\"white\",\"linecolor\":\"white\",\"ticks\":\"\"}},\"scene\":{\"xaxis\":{\"backgroundcolor\":\"#E5ECF6\",\"gridcolor\":\"white\",\"gridwidth\":2,\"linecolor\":\"white\",\"showbackground\":true,\"ticks\":\"\",\"zerolinecolor\":\"white\"},\"yaxis\":{\"backgroundcolor\":\"#E5ECF6\",\"gridcolor\":\"white\",\"gridwidth\":2,\"linecolor\":\"white\",\"showbackground\":true,\"ticks\":\"\",\"zerolinecolor\":\"white\"},\"zaxis\":{\"backgroundcolor\":\"#E5ECF6\",\"gridcolor\":\"white\",\"gridwidth\":2,\"linecolor\":\"white\",\"showbackground\":true,\"ticks\":\"\",\"zerolinecolor\":\"white\"}},\"shapedefaults\":{\"line\":{\"color\":\"#2a3f5f\"}},\"ternary\":{\"aaxis\":{\"gridcolor\":\"white\",\"linecolor\":\"white\",\"ticks\":\"\"},\"baxis\":{\"gridcolor\":\"white\",\"linecolor\":\"white\",\"ticks\":\"\"},\"bgcolor\":\"#E5ECF6\",\"caxis\":{\"gridcolor\":\"white\",\"linecolor\":\"white\",\"ticks\":\"\"}},\"title\":{\"x\":0.05},\"xaxis\":{\"automargin\":true,\"gridcolor\":\"white\",\"linecolor\":\"white\",\"ticks\":\"\",\"title\":{\"standoff\":15},\"zerolinecolor\":\"white\",\"zerolinewidth\":2},\"yaxis\":{\"automargin\":true,\"gridcolor\":\"white\",\"linecolor\":\"white\",\"ticks\":\"\",\"title\":{\"standoff\":15},\"zerolinecolor\":\"white\",\"zerolinewidth\":2}}},\"title\":{\"text\":\"Percent change from Starting to Mid-Career Salary\"},\"xaxis\":{\"ticklen\":5,\"title\":{\"text\":\"\"},\"zeroline\":false}},                        {\"responsive\": true}                    ).then(function(){\n",
       "                            \n",
       "var gd = document.getElementById('28566ac5-a1d0-4ab1-8827-dd07cd7a3f23');\n",
       "var x = new MutationObserver(function (mutations, observer) {{\n",
       "        var display = window.getComputedStyle(gd).display;\n",
       "        if (!display || display === 'none') {{\n",
       "            console.log([gd, 'removed!']);\n",
       "            Plotly.purge(gd);\n",
       "            observer.disconnect();\n",
       "        }}\n",
       "}});\n",
       "\n",
       "// Listen for the removal of the full notebook cells\n",
       "var notebookContainer = gd.closest('#notebook-container');\n",
       "if (notebookContainer) {{\n",
       "    x.observe(notebookContainer, {childList: true});\n",
       "}}\n",
       "\n",
       "// Listen for the clearing of the current output cell\n",
       "var outputEl = gd.closest('.output');\n",
       "if (outputEl) {{\n",
       "    x.observe(outputEl, {childList: true});\n",
       "}}\n",
       "\n",
       "                        })                };                });            </script>        </div>"
      ]
     },
     "metadata": {},
     "output_type": "display_data"
    }
   ],
   "source": [
    "# Line Chart\n",
    "trace = go.Scatter(\n",
    "    x = sorted_starttomid.major,\n",
    "    y = sorted_starttomid.starttomid\n",
    ")\n",
    "layout = dict(title = 'Percent change from Starting to Mid-Career Salary',\n",
    "              xaxis= dict(title= '',ticklen= 5,zeroline= False)\n",
    "             )\n",
    "data = [trace]\n",
    "fig = go.Figure(data=data, layout=layout)\n",
    "iplot(fig)"
   ]
  },
  {
   "cell_type": "markdown",
   "metadata": {
    "_uuid": "765c91de5cc79a519819f72141f5a0fac3b581f0"
   },
   "source": [
    "### **Import Second Data** <a id=\"9\"></a>\n",
    "<mark>[Return Contents](#0)\n",
    "<hr>\n",
    "let's explore our second set of data."
   ]
  },
  {
   "cell_type": "code",
   "execution_count": 17,
   "metadata": {
    "_uuid": "bde235b369085534ffb808aacf815bae5eac1b66",
    "scrolled": false
   },
   "outputs": [
    {
     "data": {
      "text/plain": [
       "(269, 8)"
      ]
     },
     "execution_count": 17,
     "metadata": {},
     "output_type": "execute_result"
    }
   ],
   "source": [
    "salariesByCollege_df = pd.read_csv('./input/salaries-by-college-type.csv')\n",
    "salariesByCollege_df.shape"
   ]
  },
  {
   "cell_type": "code",
   "execution_count": 18,
   "metadata": {
    "_uuid": "3a5ca28865ee83f80ab44d91d6017f96ae9007f3"
   },
   "outputs": [
    {
     "data": {
      "text/html": [
       "<div>\n",
       "<style scoped>\n",
       "    .dataframe tbody tr th:only-of-type {\n",
       "        vertical-align: middle;\n",
       "    }\n",
       "\n",
       "    .dataframe tbody tr th {\n",
       "        vertical-align: top;\n",
       "    }\n",
       "\n",
       "    .dataframe thead th {\n",
       "        text-align: right;\n",
       "    }\n",
       "</style>\n",
       "<table border=\"1\" class=\"dataframe\">\n",
       "  <thead>\n",
       "    <tr style=\"text-align: right;\">\n",
       "      <th></th>\n",
       "      <th>School Name</th>\n",
       "      <th>School Type</th>\n",
       "      <th>Starting Median Salary</th>\n",
       "      <th>Mid-Career Median Salary</th>\n",
       "      <th>Mid-Career 10th Percentile Salary</th>\n",
       "      <th>Mid-Career 25th Percentile Salary</th>\n",
       "      <th>Mid-Career 75th Percentile Salary</th>\n",
       "      <th>Mid-Career 90th Percentile Salary</th>\n",
       "    </tr>\n",
       "  </thead>\n",
       "  <tbody>\n",
       "    <tr>\n",
       "      <th>0</th>\n",
       "      <td>Massachusetts Institute of Technology (MIT)</td>\n",
       "      <td>Engineering</td>\n",
       "      <td>$72,200.00</td>\n",
       "      <td>$126,000.00</td>\n",
       "      <td>$76,800.00</td>\n",
       "      <td>$99,200.00</td>\n",
       "      <td>$168,000.00</td>\n",
       "      <td>$220,000.00</td>\n",
       "    </tr>\n",
       "    <tr>\n",
       "      <th>1</th>\n",
       "      <td>California Institute of Technology (CIT)</td>\n",
       "      <td>Engineering</td>\n",
       "      <td>$75,500.00</td>\n",
       "      <td>$123,000.00</td>\n",
       "      <td>NaN</td>\n",
       "      <td>$104,000.00</td>\n",
       "      <td>$161,000.00</td>\n",
       "      <td>NaN</td>\n",
       "    </tr>\n",
       "    <tr>\n",
       "      <th>2</th>\n",
       "      <td>Harvey Mudd College</td>\n",
       "      <td>Engineering</td>\n",
       "      <td>$71,800.00</td>\n",
       "      <td>$122,000.00</td>\n",
       "      <td>NaN</td>\n",
       "      <td>$96,000.00</td>\n",
       "      <td>$180,000.00</td>\n",
       "      <td>NaN</td>\n",
       "    </tr>\n",
       "    <tr>\n",
       "      <th>3</th>\n",
       "      <td>Polytechnic University of New York, Brooklyn</td>\n",
       "      <td>Engineering</td>\n",
       "      <td>$62,400.00</td>\n",
       "      <td>$114,000.00</td>\n",
       "      <td>$66,800.00</td>\n",
       "      <td>$94,300.00</td>\n",
       "      <td>$143,000.00</td>\n",
       "      <td>$190,000.00</td>\n",
       "    </tr>\n",
       "    <tr>\n",
       "      <th>4</th>\n",
       "      <td>Cooper Union</td>\n",
       "      <td>Engineering</td>\n",
       "      <td>$62,200.00</td>\n",
       "      <td>$114,000.00</td>\n",
       "      <td>NaN</td>\n",
       "      <td>$80,200.00</td>\n",
       "      <td>$142,000.00</td>\n",
       "      <td>NaN</td>\n",
       "    </tr>\n",
       "  </tbody>\n",
       "</table>\n",
       "</div>"
      ],
      "text/plain": [
       "                                    School Name  School Type  \\\n",
       "0   Massachusetts Institute of Technology (MIT)  Engineering   \n",
       "1      California Institute of Technology (CIT)  Engineering   \n",
       "2                           Harvey Mudd College  Engineering   \n",
       "3  Polytechnic University of New York, Brooklyn  Engineering   \n",
       "4                                  Cooper Union  Engineering   \n",
       "\n",
       "  Starting Median Salary Mid-Career Median Salary  \\\n",
       "0             $72,200.00              $126,000.00   \n",
       "1             $75,500.00              $123,000.00   \n",
       "2             $71,800.00              $122,000.00   \n",
       "3             $62,400.00              $114,000.00   \n",
       "4             $62,200.00              $114,000.00   \n",
       "\n",
       "  Mid-Career 10th Percentile Salary Mid-Career 25th Percentile Salary  \\\n",
       "0                        $76,800.00                        $99,200.00   \n",
       "1                               NaN                       $104,000.00   \n",
       "2                               NaN                        $96,000.00   \n",
       "3                        $66,800.00                        $94,300.00   \n",
       "4                               NaN                        $80,200.00   \n",
       "\n",
       "  Mid-Career 75th Percentile Salary Mid-Career 90th Percentile Salary  \n",
       "0                       $168,000.00                       $220,000.00  \n",
       "1                       $161,000.00                               NaN  \n",
       "2                       $180,000.00                               NaN  \n",
       "3                       $143,000.00                       $190,000.00  \n",
       "4                       $142,000.00                               NaN  "
      ]
     },
     "execution_count": 18,
     "metadata": {},
     "output_type": "execute_result"
    }
   ],
   "source": [
    "salariesByCollege_df.head()"
   ]
  },
  {
   "cell_type": "markdown",
   "metadata": {
    "_uuid": "b11c88d97254b8070180ee24720f60fd4164c14e"
   },
   "source": [
    "### **Visualize the Empty Data** <a id=\"10\"></a>\n",
    "<mark>[Return Contents](#0)\n",
    "<hr>\n",
    "Let's visualize the empty data."
   ]
  },
  {
   "cell_type": "code",
   "execution_count": 19,
   "metadata": {
    "_uuid": "dcc592b9a34a9af87ad72c6734b698c07737ee14"
   },
   "outputs": [
    {
     "data": {
      "image/png": "[encoded data removed]",
      "text/plain": [
       "<Figure size 1800x720 with 2 Axes>"
      ]
     },
     "metadata": {
      "needs_background": "light"
     },
     "output_type": "display_data"
    }
   ],
   "source": [
    "msno.matrix(salariesByCollege_df)\n",
    "plt.show()\n",
    "\n",
    "# Other visualization type\n",
    "#msno.bar(salariesByCollege_df)\n",
    "#plt.show()"
   ]
  },
  {
   "cell_type": "code",
   "execution_count": 20,
   "metadata": {
    "_uuid": "7c850459a2d14f63b4764b0b7a2fb2a02e2c40af"
   },
   "outputs": [
    {
     "name": "stdout",
     "output_type": "stream",
     "text": [
      "<class 'pandas.core.frame.DataFrame'>\n",
      "RangeIndex: 269 entries, 0 to 268\n",
      "Data columns (total 8 columns):\n",
      " #   Column                             Non-Null Count  Dtype \n",
      "---  ------                             --------------  ----- \n",
      " 0   School Name                        269 non-null    object\n",
      " 1   School Type                        269 non-null    object\n",
      " 2   Starting Median Salary             269 non-null    object\n",
      " 3   Mid-Career Median Salary           269 non-null    object\n",
      " 4   Mid-Career 10th Percentile Salary  231 non-null    object\n",
      " 5   Mid-Career 25th Percentile Salary  269 non-null    object\n",
      " 6   Mid-Career 75th Percentile Salary  269 non-null    object\n",
      " 7   Mid-Career 90th Percentile Salary  231 non-null    object\n",
      "dtypes: object(8)\n",
      "memory usage: 16.9+ KB\n"
     ]
    }
   ],
   "source": [
    "salariesByCollege_df.info()"
   ]
  },
  {
   "cell_type": "markdown",
   "metadata": {
    "_uuid": "65a8e9853fa70e218c7a681cf82bc02e3792f8ff"
   },
   "source": [
    "### **Formulas for null values** <a id=\"11\"></a>\n",
    "<mark>[Return Contents](#0)\n",
    "<hr>\n",
    "Totaly 38 data is null. Null data is only available in Mid-Career 10th and in Mid-Career 90th. Now, I will make a formula for null data;\n",
    "\n",
    "**For Mid-Career 10th Formula = (midcareer + mid_p25) / 3 = mid_p10**\n",
    "\n",
    "**For Mid-Career 90th Formula = (mid_p75 - mid_p25) + mid_p75**\n",
    "\n",
    "These formulas give more or less results.\n",
    "\n",
    "firstly I am changing some column names."
   ]
  },
  {
   "cell_type": "code",
   "execution_count": 21,
   "metadata": {
    "_uuid": "a016fe014d78d7fb90f1ee9c615ab2bf52cb9c29"
   },
   "outputs": [],
   "source": [
    "salariesByCollege_df.columns = ['schoolname', 'schooltype', 'starting', 'midcareer', 'mid_p10', 'mid_p25', 'mid_p75', 'mid_p90']"
   ]
  },
  {
   "cell_type": "code",
   "execution_count": 22,
   "metadata": {
    "_uuid": "3b05021c1176826a665500b53768d8a134412057"
   },
   "outputs": [
    {
     "name": "stdout",
     "output_type": "stream",
     "text": [
      "<class 'pandas.core.frame.DataFrame'>\n",
      "RangeIndex: 269 entries, 0 to 268\n",
      "Data columns (total 8 columns):\n",
      " #   Column      Non-Null Count  Dtype \n",
      "---  ------      --------------  ----- \n",
      " 0   schoolname  269 non-null    object\n",
      " 1   schooltype  269 non-null    object\n",
      " 2   starting    269 non-null    object\n",
      " 3   midcareer   269 non-null    object\n",
      " 4   mid_p10     231 non-null    object\n",
      " 5   mid_p25     269 non-null    object\n",
      " 6   mid_p75     269 non-null    object\n",
      " 7   mid_p90     231 non-null    object\n",
      "dtypes: object(8)\n",
      "memory usage: 16.9+ KB\n"
     ]
    }
   ],
   "source": [
    "salariesByCollege_df.info()"
   ]
  },
  {
   "cell_type": "markdown",
   "metadata": {
    "_uuid": "58e10ba4cdb35c2b25fba26e3a95c1ad0a2d9f91"
   },
   "source": [
    "### Change Data Type <a id=\"12\"></a>\n",
    "<mark>[Return Contents](#0)\n",
    "<hr>\n",
    "let's change the data type."
   ]
  },
  {
   "cell_type": "code",
   "execution_count": 23,
   "metadata": {
    "_uuid": "0369cb359ef669b873ba106e17d06f3f7207e537"
   },
   "outputs": [
    {
     "name": "stderr",
     "output_type": "stream",
     "text": [
      "<ipython-input-23-016dbe41329f>:4: FutureWarning:\n",
      "\n",
      "The default value of regex will change from True to False in a future version. In addition, single character regular expressions will*not* be treated as literal strings when regex=True.\n",
      "\n"
     ]
    }
   ],
   "source": [
    "columns = ['starting', 'midcareer', 'mid_p10', 'mid_p25', 'mid_p75', 'mid_p90']\n",
    "\n",
    "for column in columns:\n",
    "    salariesByCollege_df[column] = salariesByCollege_df[column].str.replace(\"$\",\"\")\n",
    "    salariesByCollege_df[column] = salariesByCollege_df[column].str.replace(\",\",\"\")\n",
    "    salariesByCollege_df[column] = pd.to_numeric(salariesByCollege_df[column])"
   ]
  },
  {
   "cell_type": "code",
   "execution_count": 26,
   "metadata": {
    "_uuid": "1d06d0eccaf3bc63162584280595c5e6096a5746"
   },
   "outputs": [
    {
     "data": {
      "text/plain": [
       "University of California, Riverside (UCR)               1\n",
       "Ball State University (BSU)                             1\n",
       "Georgia State University                                1\n",
       "Ohio State University (OSU)                             1\n",
       "St. Olaf College                                        1\n",
       "Auburn University                                       1\n",
       "Binghamton University                                   1\n",
       "Mississippi State University (MSU)                      1\n",
       "University of Washington (UW)                           1\n",
       "Cal Poly San Luis Obispo                                1\n",
       "University of Alabama at Birmingham (UAB)               1\n",
       "California State University, Dominguez Hills (CSUDH)    1\n",
       "Davidson College                                        1\n",
       "University of North Carolina at Wilmington (UNCW)       1\n",
       "Swarthmore College                                      1\n",
       "University of Colorado - Boulder (UCB)                  1\n",
       "Northern Illinois University (NIU)                      1\n",
       "University of Wisconsin (UW) - Stevens Point            1\n",
       "California Institute of Technology (CIT)                1\n",
       "Tennessee Technological University                      1\n",
       "Evergreen State College                                 1\n",
       "University of Wisconsin (UW) - La Crosse                1\n",
       "Gustavus Adolphus College                               1\n",
       "Lafayette College                                       1\n",
       "University of Nevada, Las Vegas (UNLV)                  1\n",
       "Name: schoolname, dtype: int64"
      ]
     },
     "execution_count": 26,
     "metadata": {},
     "output_type": "execute_result"
    }
   ],
   "source": [
    "# there are two from some universities.\n",
    "salariesByCollege_df.schoolname.value_counts().tail(25)"
   ]
  },
  {
   "cell_type": "markdown",
   "metadata": {
    "_uuid": "b2f1ea040b4047513b7b269e93c2ac1d3873b556"
   },
   "source": [
    "let's see the data info."
   ]
  },
  {
   "cell_type": "code",
   "execution_count": 25,
   "metadata": {
    "_uuid": "9910e36174e9896b3bb65b39b131ce2ffd08a8ac"
   },
   "outputs": [
    {
     "name": "stdout",
     "output_type": "stream",
     "text": [
      "<class 'pandas.core.frame.DataFrame'>\n",
      "RangeIndex: 269 entries, 0 to 268\n",
      "Data columns (total 8 columns):\n",
      " #   Column      Non-Null Count  Dtype  \n",
      "---  ------      --------------  -----  \n",
      " 0   schoolname  269 non-null    object \n",
      " 1   schooltype  269 non-null    object \n",
      " 2   starting    269 non-null    float64\n",
      " 3   midcareer   269 non-null    float64\n",
      " 4   mid_p10     231 non-null    float64\n",
      " 5   mid_p25     269 non-null    float64\n",
      " 6   mid_p75     269 non-null    float64\n",
      " 7   mid_p90     231 non-null    float64\n",
      "dtypes: float64(6), object(2)\n",
      "memory usage: 16.9+ KB\n"
     ]
    }
   ],
   "source": [
    "salariesByCollege_df.info()"
   ]
  },
  {
   "cell_type": "markdown",
   "metadata": {
    "_uuid": "ac89cd7ba5d9c6bddc7c6ebcadc512f975ebe696"
   },
   "source": [
    "### **Fill null values with Formula** <a id=\"13\"></a>\n",
    "<mark>[Return Contents](#0)\n",
    "<hr>\n",
    "let's fix some null columns."
   ]
  },
  {
   "cell_type": "code",
   "execution_count": 34,
   "metadata": {
    "_uuid": "ef55b55f447164a83d3c5632fac47f5bbd3ae679"
   },
   "outputs": [
    {
     "name": "stdout",
     "output_type": "stream",
     "text": [
      "This column is null\n"
     ]
    }
   ],
   "source": [
    "# this code checks to see if the cell is empty.\n",
    "if salariesByCollege_df.iloc[[1],[7]].isnull().any().any():\n",
    "    print('This column is null')"
   ]
  },
  {
   "cell_type": "code",
   "execution_count": 35,
   "metadata": {
    "_uuid": "07dd19bd11e7fef5ae5c1dd22688179e23399fb7"
   },
   "outputs": [],
   "source": [
    "columns = ['mid_p10','mid_p90']\n",
    "\n",
    "for i in range(269):\n",
    "        for column in columns:\n",
    "            if column == 'mid_p10':\n",
    "                if salariesByCollege_df.iloc[[i],[4]].isnull().any().any():\n",
    "                    salariesByCollege_df.iloc[[i],[4]] = (salariesByCollege_df.iloc[[i],[3]].values + salariesByCollege_df.iloc[[i],[5]].values) / 3\n",
    "            if column == 'mid_p90':\n",
    "                if salariesByCollege_df.iloc[[i],[7]].isnull().any().any():\n",
    "                    salariesByCollege_df.iloc[[i],[7]] = (salariesByCollege_df.iloc[[i],[6]].values - salariesByCollege_df.iloc[[i],[5]].values) + salariesByCollege_df.iloc[[i],[6]].values"
   ]
  },
  {
   "cell_type": "markdown",
   "metadata": {
    "_uuid": "033ccfa03152e6d6c426644ef2a82d8e642d0d4e"
   },
   "source": [
    "let's control it."
   ]
  },
  {
   "cell_type": "code",
   "execution_count": 36,
   "metadata": {
    "_uuid": "f9c60710fd3fffe05d24fc6320aa5478a164cd6b"
   },
   "outputs": [
    {
     "data": {
      "text/html": [
       "<div>\n",
       "<style scoped>\n",
       "    .dataframe tbody tr th:only-of-type {\n",
       "        vertical-align: middle;\n",
       "    }\n",
       "\n",
       "    .dataframe tbody tr th {\n",
       "        vertical-align: top;\n",
       "    }\n",
       "\n",
       "    .dataframe thead th {\n",
       "        text-align: right;\n",
       "    }\n",
       "</style>\n",
       "<table border=\"1\" class=\"dataframe\">\n",
       "  <thead>\n",
       "    <tr style=\"text-align: right;\">\n",
       "      <th></th>\n",
       "      <th>schoolname</th>\n",
       "      <th>schooltype</th>\n",
       "      <th>starting</th>\n",
       "      <th>midcareer</th>\n",
       "      <th>mid_p10</th>\n",
       "      <th>mid_p25</th>\n",
       "      <th>mid_p75</th>\n",
       "      <th>mid_p90</th>\n",
       "    </tr>\n",
       "  </thead>\n",
       "  <tbody>\n",
       "    <tr>\n",
       "      <th>0</th>\n",
       "      <td>Massachusetts Institute of Technology (MIT)</td>\n",
       "      <td>Engineering</td>\n",
       "      <td>72200.0</td>\n",
       "      <td>126000.0</td>\n",
       "      <td>76800.000000</td>\n",
       "      <td>99200.0</td>\n",
       "      <td>168000.0</td>\n",
       "      <td>220000.0</td>\n",
       "    </tr>\n",
       "    <tr>\n",
       "      <th>1</th>\n",
       "      <td>California Institute of Technology (CIT)</td>\n",
       "      <td>Engineering</td>\n",
       "      <td>75500.0</td>\n",
       "      <td>123000.0</td>\n",
       "      <td>75666.666667</td>\n",
       "      <td>104000.0</td>\n",
       "      <td>161000.0</td>\n",
       "      <td>218000.0</td>\n",
       "    </tr>\n",
       "    <tr>\n",
       "      <th>2</th>\n",
       "      <td>Harvey Mudd College</td>\n",
       "      <td>Engineering</td>\n",
       "      <td>71800.0</td>\n",
       "      <td>122000.0</td>\n",
       "      <td>72666.666667</td>\n",
       "      <td>96000.0</td>\n",
       "      <td>180000.0</td>\n",
       "      <td>264000.0</td>\n",
       "    </tr>\n",
       "    <tr>\n",
       "      <th>3</th>\n",
       "      <td>Polytechnic University of New York, Brooklyn</td>\n",
       "      <td>Engineering</td>\n",
       "      <td>62400.0</td>\n",
       "      <td>114000.0</td>\n",
       "      <td>66800.000000</td>\n",
       "      <td>94300.0</td>\n",
       "      <td>143000.0</td>\n",
       "      <td>190000.0</td>\n",
       "    </tr>\n",
       "    <tr>\n",
       "      <th>4</th>\n",
       "      <td>Cooper Union</td>\n",
       "      <td>Engineering</td>\n",
       "      <td>62200.0</td>\n",
       "      <td>114000.0</td>\n",
       "      <td>64733.333333</td>\n",
       "      <td>80200.0</td>\n",
       "      <td>142000.0</td>\n",
       "      <td>203800.0</td>\n",
       "    </tr>\n",
       "  </tbody>\n",
       "</table>\n",
       "</div>"
      ],
      "text/plain": [
       "                                     schoolname   schooltype  starting  \\\n",
       "0   Massachusetts Institute of Technology (MIT)  Engineering   72200.0   \n",
       "1      California Institute of Technology (CIT)  Engineering   75500.0   \n",
       "2                           Harvey Mudd College  Engineering   71800.0   \n",
       "3  Polytechnic University of New York, Brooklyn  Engineering   62400.0   \n",
       "4                                  Cooper Union  Engineering   62200.0   \n",
       "\n",
       "   midcareer       mid_p10   mid_p25   mid_p75   mid_p90  \n",
       "0   126000.0  76800.000000   99200.0  168000.0  220000.0  \n",
       "1   123000.0  75666.666667  104000.0  161000.0  218000.0  \n",
       "2   122000.0  72666.666667   96000.0  180000.0  264000.0  \n",
       "3   114000.0  66800.000000   94300.0  143000.0  190000.0  \n",
       "4   114000.0  64733.333333   80200.0  142000.0  203800.0  "
      ]
     },
     "execution_count": 36,
     "metadata": {},
     "output_type": "execute_result"
    }
   ],
   "source": [
    "salariesByCollege_df.head()\n",
    "# Empty data, not empty.\n",
    "# it worked."
   ]
  },
  {
   "cell_type": "markdown",
   "metadata": {
    "_uuid": "24ae4f0fd0f1e565107355aacf48c92569f6686b"
   },
   "source": [
    "### Visualization <a id=\"14\"></a>\n",
    "<mark>[Return Contents](#0)\n",
    "<hr>\n",
    "    \n",
    "### Compare Schools <a id=\"15\"></a>\n",
    "\n",
    "Now, let's compare the pay for the schools."
   ]
  },
  {
   "cell_type": "code",
   "execution_count": 37,
   "metadata": {
    "_uuid": "113e2b2a213e341e349bd7a4b98a65fafd80f1f8"
   },
   "outputs": [
    {
     "data": {
      "application/vnd.plotly.v1+json": {
       "config": {
        "linkText": "Export to plot.ly",
        "plotlyServerURL": "https://plot.ly",
        "showLink": false
       },
       "data": [
        {
         "marker": {
          "color": "rgba(324, 97, 98, 0.8)"
         },
         "mode": "lines",
         "name": "Starting Median Salary",
         "text": [
          "California Institute of Technology (CIT)",
          "Massachusetts Institute of Technology (MIT)",
          "Harvey Mudd College",
          "Princeton University",
          "Harvard University",
          "Polytechnic University of New York, Brooklyn",
          "Cooper Union",
          "Carnegie Mellon University (CMU)",
          "Rensselaer Polytechnic Institute (RPI)",
          "Worcester Polytechnic Institute (WPI)",
          "University of Pennsylvania",
          "Stevens Institute of Technology",
          "Cornell University",
          "University of California, Berkeley",
          "Columbia University",
          "Yale University",
          "Georgia Institute of Technology",
          "Colorado School of Mines",
          "Dartmouth College",
          "Cal Poly San Luis Obispo",
          "University of Missouri - Rolla (UMR)",
          "Brown University",
          "Illinois Institute of Technology (IIT)",
          "South Dakota School of Mines & Technology",
          "Amherst College",
          "Bucknell University",
          "Lafayette College",
          "Washington and Lee University",
          "Binghamton University",
          "San Jose State University (SJSU)",
          "Virginia Polytechnic Institute and State University (Virginia Tech)",
          "Wentworth Institute of Technology",
          "University of Illinois at Urbana-Champaign (UIUC)",
          "University of Illinois at Urbana-Champaign (UIUC)",
          "Colgate University",
          "University of Virginia (UVA)",
          "Embry-Riddle Aeronautical University (ERAU)",
          "University of Michigan",
          "University of California at Los Angeles (UCLA)",
          "University of California, Davis",
          "University of Maryland, College Park",
          "University of Maryland, College Park",
          "Occidental College",
          "Williams College",
          "Purdue University",
          "University of California, San Diego (UCSD)",
          "New Mexico Institute of Mining and Technology (New Mexico Tech)",
          "University of California, Santa Barbara (UCSB)",
          "University of California, Santa Barbara (UCSB)",
          "Rutgers University",
          "College of the Holy Cross",
          "Pennsylvania State University (PSU)",
          "Pennsylvania State University (PSU)",
          "University of Texas (UT) - Austin",
          "Texas A&M University"
         ],
         "type": "scatter",
         "x": [
          0,
          1,
          2,
          3,
          4,
          5,
          6,
          7,
          8,
          9,
          10,
          11,
          12,
          13,
          14,
          15,
          16,
          17,
          18,
          19,
          20,
          21,
          22,
          23,
          24,
          25,
          26,
          27,
          28,
          29,
          30,
          31,
          32,
          33,
          34,
          35,
          36,
          37,
          38,
          39,
          40,
          41,
          42,
          43,
          44,
          45,
          46,
          47,
          48,
          49,
          50,
          51,
          52,
          53,
          54
         ],
         "y": [
          75500,
          72200,
          71800,
          66500,
          63400,
          62400,
          62200,
          61800,
          61100,
          61000,
          60900,
          60600,
          60300,
          59900,
          59400,
          59100,
          58300,
          58100,
          58000,
          57200,
          57100,
          56200,
          56000,
          55800,
          54500,
          54100,
          53900,
          53600,
          53600,
          53500,
          53500,
          53000,
          52900,
          52900,
          52800,
          52700,
          52700,
          52700,
          52600,
          52300,
          52000,
          52000,
          51900,
          51700,
          51400,
          51100,
          51000,
          50500,
          50500,
          50300,
          50200,
          49900,
          49900,
          49700,
          49700
         ]
        },
        {
         "marker": {
          "color": "rgba(61, 100, 94, 0.8)"
         },
         "mode": "lines+markers",
         "name": "Mid-Career Median Salary",
         "text": [
          "California Institute of Technology (CIT)",
          "Massachusetts Institute of Technology (MIT)",
          "Harvey Mudd College",
          "Princeton University",
          "Harvard University",
          "Polytechnic University of New York, Brooklyn",
          "Cooper Union",
          "Carnegie Mellon University (CMU)",
          "Rensselaer Polytechnic Institute (RPI)",
          "Worcester Polytechnic Institute (WPI)",
          "University of Pennsylvania",
          "Stevens Institute of Technology",
          "Cornell University",
          "University of California, Berkeley",
          "Columbia University",
          "Yale University",
          "Georgia Institute of Technology",
          "Colorado School of Mines",
          "Dartmouth College",
          "Cal Poly San Luis Obispo",
          "University of Missouri - Rolla (UMR)",
          "Brown University",
          "Illinois Institute of Technology (IIT)",
          "South Dakota School of Mines & Technology",
          "Amherst College",
          "Bucknell University",
          "Lafayette College",
          "Washington and Lee University",
          "Binghamton University",
          "San Jose State University (SJSU)",
          "Virginia Polytechnic Institute and State University (Virginia Tech)",
          "Wentworth Institute of Technology",
          "University of Illinois at Urbana-Champaign (UIUC)",
          "University of Illinois at Urbana-Champaign (UIUC)",
          "Colgate University",
          "University of Virginia (UVA)",
          "Embry-Riddle Aeronautical University (ERAU)",
          "University of Michigan",
          "University of California at Los Angeles (UCLA)",
          "University of California, Davis",
          "University of Maryland, College Park",
          "University of Maryland, College Park",
          "Occidental College",
          "Williams College",
          "Purdue University",
          "University of California, San Diego (UCSD)",
          "New Mexico Institute of Mining and Technology (New Mexico Tech)",
          "University of California, Santa Barbara (UCSB)",
          "University of California, Santa Barbara (UCSB)",
          "Rutgers University",
          "College of the Holy Cross",
          "Pennsylvania State University (PSU)",
          "Pennsylvania State University (PSU)",
          "University of Texas (UT) - Austin",
          "Texas A&M University"
         ],
         "type": "scatter",
         "x": [
          0,
          1,
          2,
          3,
          4,
          5,
          6,
          7,
          8,
          9,
          10,
          11,
          12,
          13,
          14,
          15,
          16,
          17,
          18,
          19,
          20,
          21,
          22,
          23,
          24,
          25,
          26,
          27,
          28,
          29,
          30,
          31,
          32,
          33,
          34,
          35,
          36,
          37,
          38,
          39,
          40,
          41,
          42,
          43,
          44,
          45,
          46,
          47,
          48,
          49,
          50,
          51,
          52,
          53,
          54
         ],
         "y": [
          123000,
          126000,
          122000,
          131000,
          124000,
          114000,
          114000,
          111000,
          110000,
          114000,
          120000,
          105000,
          110000,
          112000,
          107000,
          126000,
          106000,
          106000,
          134000,
          101000,
          95800,
          109000,
          97800,
          93400,
          107000,
          110000,
          107000,
          104000,
          95900,
          95600,
          95400,
          96700,
          96100,
          96100,
          108000,
          103000,
          80700,
          93000,
          101000,
          99600,
          95000,
          95000,
          105000,
          102000,
          90500,
          101000,
          93400,
          95000,
          95000,
          91800,
          106000,
          85700,
          85700,
          93900,
          96100
         ]
        }
       ],
       "layout": {
        "template": {
         "data": {
          "bar": [
           {
            "error_x": {
             "color": "#2a3f5f"
            },
            "error_y": {
             "color": "#2a3f5f"
            },
            "marker": {
             "line": {
              "color": "#E5ECF6",
              "width": 0.5
             },
             "pattern": {
              "fillmode": "overlay",
              "size": 10,
              "solidity": 0.2
             }
            },
            "type": "bar"
           }
          ],
          "barpolar": [
           {
            "marker": {
             "line": {
              "color": "#E5ECF6",
              "width": 0.5
             },
             "pattern": {
              "fillmode": "overlay",
              "size": 10,
              "solidity": 0.2
             }
            },
            "type": "barpolar"
           }
          ],
          "carpet": [
           {
            "aaxis": {
             "endlinecolor": "#2a3f5f",
             "gridcolor": "white",
             "linecolor": "white",
             "minorgridcolor": "white",
             "startlinecolor": "#2a3f5f"
            },
            "baxis": {
             "endlinecolor": "#2a3f5f",
             "gridcolor": "white",
             "linecolor": "white",
             "minorgridcolor": "white",
             "startlinecolor": "#2a3f5f"
            },
            "type": "carpet"
           }
          ],
          "choropleth": [
           {
            "colorbar": {
             "outlinewidth": 0,
             "ticks": ""
            },
            "type": "choropleth"
           }
          ],
          "contour": [
           {
            "colorbar": {
             "outlinewidth": 0,
             "ticks": ""
            },
            "colorscale": [
             [
              0,
              "#0d0887"
             ],
             [
              0.1111111111111111,
              "#46039f"
             ],
             [
              0.2222222222222222,
              "#7201a8"
             ],
             [
              0.3333333333333333,
              "#9c179e"
             ],
             [
              0.4444444444444444,
              "#bd3786"
             ],
             [
              0.5555555555555556,
              "#d8576b"
             ],
             [
              0.6666666666666666,
              "#ed7953"
             ],
             [
              0.7777777777777778,
              "#fb9f3a"
             ],
             [
              0.8888888888888888,
              "#fdca26"
             ],
             [
              1,
              "#f0f921"
             ]
            ],
            "type": "contour"
           }
          ],
          "contourcarpet": [
           {
            "colorbar": {
             "outlinewidth": 0,
             "ticks": ""
            },
            "type": "contourcarpet"
           }
          ],
          "heatmap": [
           {
            "colorbar": {
             "outlinewidth": 0,
             "ticks": ""
            },
            "colorscale": [
             [
              0,
              "#0d0887"
             ],
             [
              0.1111111111111111,
              "#46039f"
             ],
             [
              0.2222222222222222,
              "#7201a8"
             ],
             [
              0.3333333333333333,
              "#9c179e"
             ],
             [
              0.4444444444444444,
              "#bd3786"
             ],
             [
              0.5555555555555556,
              "#d8576b"
             ],
             [
              0.6666666666666666,
              "#ed7953"
             ],
             [
              0.7777777777777778,
              "#fb9f3a"
             ],
             [
              0.8888888888888888,
              "#fdca26"
             ],
             [
              1,
              "#f0f921"
             ]
            ],
            "type": "heatmap"
           }
          ],
          "heatmapgl": [
           {
            "colorbar": {
             "outlinewidth": 0,
             "ticks": ""
            },
            "colorscale": [
             [
              0,
              "#0d0887"
             ],
             [
              0.1111111111111111,
              "#46039f"
             ],
             [
              0.2222222222222222,
              "#7201a8"
             ],
             [
              0.3333333333333333,
              "#9c179e"
             ],
             [
              0.4444444444444444,
              "#bd3786"
             ],
             [
              0.5555555555555556,
              "#d8576b"
             ],
             [
              0.6666666666666666,
              "#ed7953"
             ],
             [
              0.7777777777777778,
              "#fb9f3a"
             ],
             [
              0.8888888888888888,
              "#fdca26"
             ],
             [
              1,
              "#f0f921"
             ]
            ],
            "type": "heatmapgl"
           }
          ],
          "histogram": [
           {
            "marker": {
             "pattern": {
              "fillmode": "overlay",
              "size": 10,
              "solidity": 0.2
             }
            },
            "type": "histogram"
           }
          ],
          "histogram2d": [
           {
            "colorbar": {
             "outlinewidth": 0,
             "ticks": ""
            },
            "colorscale": [
             [
              0,
              "#0d0887"
             ],
             [
              0.1111111111111111,
              "#46039f"
             ],
             [
              0.2222222222222222,
              "#7201a8"
             ],
             [
              0.3333333333333333,
              "#9c179e"
             ],
             [
              0.4444444444444444,
              "#bd3786"
             ],
             [
              0.5555555555555556,
              "#d8576b"
             ],
             [
              0.6666666666666666,
              "#ed7953"
             ],
             [
              0.7777777777777778,
              "#fb9f3a"
             ],
             [
              0.8888888888888888,
              "#fdca26"
             ],
             [
              1,
              "#f0f921"
             ]
            ],
            "type": "histogram2d"
           }
          ],
          "histogram2dcontour": [
           {
            "colorbar": {
             "outlinewidth": 0,
             "ticks": ""
            },
            "colorscale": [
             [
              0,
              "#0d0887"
             ],
             [
              0.1111111111111111,
              "#46039f"
             ],
             [
              0.2222222222222222,
              "#7201a8"
             ],
             [
              0.3333333333333333,
              "#9c179e"
             ],
             [
              0.4444444444444444,
              "#bd3786"
             ],
             [
              0.5555555555555556,
              "#d8576b"
             ],
             [
              0.6666666666666666,
              "#ed7953"
             ],
             [
              0.7777777777777778,
              "#fb9f3a"
             ],
             [
              0.8888888888888888,
              "#fdca26"
             ],
             [
              1,
              "#f0f921"
             ]
            ],
            "type": "histogram2dcontour"
           }
          ],
          "mesh3d": [
           {
            "colorbar": {
             "outlinewidth": 0,
             "ticks": ""
            },
            "type": "mesh3d"
           }
          ],
          "parcoords": [
           {
            "line": {
             "colorbar": {
              "outlinewidth": 0,
              "ticks": ""
             }
            },
            "type": "parcoords"
           }
          ],
          "pie": [
           {
            "automargin": true,
            "type": "pie"
           }
          ],
          "scatter": [
           {
            "marker": {
             "colorbar": {
              "outlinewidth": 0,
              "ticks": ""
             }
            },
            "type": "scatter"
           }
          ],
          "scatter3d": [
           {
            "line": {
             "colorbar": {
              "outlinewidth": 0,
              "ticks": ""
             }
            },
            "marker": {
             "colorbar": {
              "outlinewidth": 0,
              "ticks": ""
             }
            },
            "type": "scatter3d"
           }
          ],
          "scattercarpet": [
           {
            "marker": {
             "colorbar": {
              "outlinewidth": 0,
              "ticks": ""
             }
            },
            "type": "scattercarpet"
           }
          ],
          "scattergeo": [
           {
            "marker": {
             "colorbar": {
              "outlinewidth": 0,
              "ticks": ""
             }
            },
            "type": "scattergeo"
           }
          ],
          "scattergl": [
           {
            "marker": {
             "colorbar": {
              "outlinewidth": 0,
              "ticks": ""
             }
            },
            "type": "scattergl"
           }
          ],
          "scattermapbox": [
           {
            "marker": {
             "colorbar": {
              "outlinewidth": 0,
              "ticks": ""
             }
            },
            "type": "scattermapbox"
           }
          ],
          "scatterpolar": [
           {
            "marker": {
             "colorbar": {
              "outlinewidth": 0,
              "ticks": ""
             }
            },
            "type": "scatterpolar"
           }
          ],
          "scatterpolargl": [
           {
            "marker": {
             "colorbar": {
              "outlinewidth": 0,
              "ticks": ""
             }
            },
            "type": "scatterpolargl"
           }
          ],
          "scatterternary": [
           {
            "marker": {
             "colorbar": {
              "outlinewidth": 0,
              "ticks": ""
             }
            },
            "type": "scatterternary"
           }
          ],
          "surface": [
           {
            "colorbar": {
             "outlinewidth": 0,
             "ticks": ""
            },
            "colorscale": [
             [
              0,
              "#0d0887"
             ],
             [
              0.1111111111111111,
              "#46039f"
             ],
             [
              0.2222222222222222,
              "#7201a8"
             ],
             [
              0.3333333333333333,
              "#9c179e"
             ],
             [
              0.4444444444444444,
              "#bd3786"
             ],
             [
              0.5555555555555556,
              "#d8576b"
             ],
             [
              0.6666666666666666,
              "#ed7953"
             ],
             [
              0.7777777777777778,
              "#fb9f3a"
             ],
             [
              0.8888888888888888,
              "#fdca26"
             ],
             [
              1,
              "#f0f921"
             ]
            ],
            "type": "surface"
           }
          ],
          "table": [
           {
            "cells": {
             "fill": {
              "color": "#EBF0F8"
             },
             "line": {
              "color": "white"
             }
            },
            "header": {
             "fill": {
              "color": "#C8D4E3"
             },
             "line": {
              "color": "white"
             }
            },
            "type": "table"
           }
          ]
         },
         "layout": {
          "annotationdefaults": {
           "arrowcolor": "#2a3f5f",
           "arrowhead": 0,
           "arrowwidth": 1
          },
          "autotypenumbers": "strict",
          "coloraxis": {
           "colorbar": {
            "outlinewidth": 0,
            "ticks": ""
           }
          },
          "colorscale": {
           "diverging": [
            [
             0,
             "#8e0152"
            ],
            [
             0.1,
             "#c51b7d"
            ],
            [
             0.2,
             "#de77ae"
            ],
            [
             0.3,
             "#f1b6da"
            ],
            [
             0.4,
             "#fde0ef"
            ],
            [
             0.5,
             "#f7f7f7"
            ],
            [
             0.6,
             "#e6f5d0"
            ],
            [
             0.7,
             "#b8e186"
            ],
            [
             0.8,
             "#7fbc41"
            ],
            [
             0.9,
             "#4d9221"
            ],
            [
             1,
             "#276419"
            ]
           ],
           "sequential": [
            [
             0,
             "#0d0887"
            ],
            [
             0.1111111111111111,
             "#46039f"
            ],
            [
             0.2222222222222222,
             "#7201a8"
            ],
            [
             0.3333333333333333,
             "#9c179e"
            ],
            [
             0.4444444444444444,
             "#bd3786"
            ],
            [
             0.5555555555555556,
             "#d8576b"
            ],
            [
             0.6666666666666666,
             "#ed7953"
            ],
            [
             0.7777777777777778,
             "#fb9f3a"
            ],
            [
             0.8888888888888888,
             "#fdca26"
            ],
            [
             1,
             "#f0f921"
            ]
           ],
           "sequentialminus": [
            [
             0,
             "#0d0887"
            ],
            [
             0.1111111111111111,
             "#46039f"
            ],
            [
             0.2222222222222222,
             "#7201a8"
            ],
            [
             0.3333333333333333,
             "#9c179e"
            ],
            [
             0.4444444444444444,
             "#bd3786"
            ],
            [
             0.5555555555555556,
             "#d8576b"
            ],
            [
             0.6666666666666666,
             "#ed7953"
            ],
            [
             0.7777777777777778,
             "#fb9f3a"
            ],
            [
             0.8888888888888888,
             "#fdca26"
            ],
            [
             1,
             "#f0f921"
            ]
           ]
          },
          "colorway": [
           "#636efa",
           "#EF553B",
           "#00cc96",
           "#ab63fa",
           "#FFA15A",
           "#19d3f3",
           "#FF6692",
           "#B6E880",
           "#FF97FF",
           "#FECB52"
          ],
          "font": {
           "color": "#2a3f5f"
          },
          "geo": {
           "bgcolor": "white",
           "lakecolor": "white",
           "landcolor": "#E5ECF6",
           "showlakes": true,
           "showland": true,
           "subunitcolor": "white"
          },
          "hoverlabel": {
           "align": "left"
          },
          "hovermode": "closest",
          "mapbox": {
           "style": "light"
          },
          "paper_bgcolor": "white",
          "plot_bgcolor": "#E5ECF6",
          "polar": {
           "angularaxis": {
            "gridcolor": "white",
            "linecolor": "white",
            "ticks": ""
           },
           "bgcolor": "#E5ECF6",
           "radialaxis": {
            "gridcolor": "white",
            "linecolor": "white",
            "ticks": ""
           }
          },
          "scene": {
           "xaxis": {
            "backgroundcolor": "#E5ECF6",
            "gridcolor": "white",
            "gridwidth": 2,
            "linecolor": "white",
            "showbackground": true,
            "ticks": "",
            "zerolinecolor": "white"
           },
           "yaxis": {
            "backgroundcolor": "#E5ECF6",
            "gridcolor": "white",
            "gridwidth": 2,
            "linecolor": "white",
            "showbackground": true,
            "ticks": "",
            "zerolinecolor": "white"
           },
           "zaxis": {
            "backgroundcolor": "#E5ECF6",
            "gridcolor": "white",
            "gridwidth": 2,
            "linecolor": "white",
            "showbackground": true,
            "ticks": "",
            "zerolinecolor": "white"
           }
          },
          "shapedefaults": {
           "line": {
            "color": "#2a3f5f"
           }
          },
          "ternary": {
           "aaxis": {
            "gridcolor": "white",
            "linecolor": "white",
            "ticks": ""
           },
           "baxis": {
            "gridcolor": "white",
            "linecolor": "white",
            "ticks": ""
           },
           "bgcolor": "#E5ECF6",
           "caxis": {
            "gridcolor": "white",
            "linecolor": "white",
            "ticks": ""
           }
          },
          "title": {
           "x": 0.05
          },
          "xaxis": {
           "automargin": true,
           "gridcolor": "white",
           "linecolor": "white",
           "ticks": "",
           "title": {
            "standoff": 15
           },
           "zerolinecolor": "white",
           "zerolinewidth": 2
          },
          "yaxis": {
           "automargin": true,
           "gridcolor": "white",
           "linecolor": "white",
           "ticks": "",
           "title": {
            "standoff": 15
           },
           "zerolinecolor": "white",
           "zerolinewidth": 2
          }
         }
        },
        "title": {
         "text": "Starting Median Salary and Mid-Career Median Salary"
        },
        "xaxis": {
         "ticklen": 5,
         "title": {
          "text": "Universities Rank"
         },
         "zeroline": false
        }
       }
      },
      "text/html": [
       "<div>                            <div id=\"4e000345-975c-443f-a5b9-42fc55cc4b7b\" class=\"plotly-graph-div\" style=\"height:525px; width:100%;\"></div>            <script type=\"text/javascript\">                require([\"plotly\"], function(Plotly) {                    window.PLOTLYENV=window.PLOTLYENV || {};                                    if (document.getElementById(\"4e000345-975c-443f-a5b9-42fc55cc4b7b\")) {                    Plotly.newPlot(                        \"4e000345-975c-443f-a5b9-42fc55cc4b7b\",                        [{\"marker\":{\"color\":\"rgba(324, 97, 98, 0.8)\"},\"mode\":\"lines\",\"name\":\"Starting Median Salary\",\"text\":[\"California Institute of Technology (CIT)\",\"Massachusetts Institute of Technology (MIT)\",\"Harvey Mudd College\",\"Princeton University\",\"Harvard University\",\"Polytechnic University of New York, Brooklyn\",\"Cooper Union\",\"Carnegie Mellon University (CMU)\",\"Rensselaer Polytechnic Institute (RPI)\",\"Worcester Polytechnic Institute (WPI)\",\"University of Pennsylvania\",\"Stevens Institute of Technology\",\"Cornell University\",\"University of California, Berkeley\",\"Columbia University\",\"Yale University\",\"Georgia Institute of Technology\",\"Colorado School of Mines\",\"Dartmouth College\",\"Cal Poly San Luis Obispo\",\"University of Missouri - Rolla (UMR)\",\"Brown University\",\"Illinois Institute of Technology (IIT)\",\"South Dakota School of Mines & Technology\",\"Amherst College\",\"Bucknell University\",\"Lafayette College\",\"Washington and Lee University\",\"Binghamton University\",\"San Jose State University (SJSU)\",\"Virginia Polytechnic Institute and State University (Virginia Tech)\",\"Wentworth Institute of Technology\",\"University of Illinois at Urbana-Champaign (UIUC)\",\"University of Illinois at Urbana-Champaign (UIUC)\",\"Colgate University\",\"University of Virginia (UVA)\",\"Embry-Riddle Aeronautical University (ERAU)\",\"University of Michigan\",\"University of California at Los Angeles (UCLA)\",\"University of California, Davis\",\"University of Maryland, College Park\",\"University of Maryland, College Park\",\"Occidental College\",\"Williams College\",\"Purdue University\",\"University of California, San Diego (UCSD)\",\"New Mexico Institute of Mining and Technology (New Mexico Tech)\",\"University of California, Santa Barbara (UCSB)\",\"University of California, Santa Barbara (UCSB)\",\"Rutgers University\",\"College of the Holy Cross\",\"Pennsylvania State University (PSU)\",\"Pennsylvania State University (PSU)\",\"University of Texas (UT) - Austin\",\"Texas A&M University\"],\"x\":[0,1,2,3,4,5,6,7,8,9,10,11,12,13,14,15,16,17,18,19,20,21,22,23,24,25,26,27,28,29,30,31,32,33,34,35,36,37,38,39,40,41,42,43,44,45,46,47,48,49,50,51,52,53,54],\"y\":[75500.0,72200.0,71800.0,66500.0,63400.0,62400.0,62200.0,61800.0,61100.0,61000.0,60900.0,60600.0,60300.0,59900.0,59400.0,59100.0,58300.0,58100.0,58000.0,57200.0,57100.0,56200.0,56000.0,55800.0,54500.0,54100.0,53900.0,53600.0,53600.0,53500.0,53500.0,53000.0,52900.0,52900.0,52800.0,52700.0,52700.0,52700.0,52600.0,52300.0,52000.0,52000.0,51900.0,51700.0,51400.0,51100.0,51000.0,50500.0,50500.0,50300.0,50200.0,49900.0,49900.0,49700.0,49700.0],\"type\":\"scatter\"},{\"marker\":{\"color\":\"rgba(61, 100, 94, 0.8)\"},\"mode\":\"lines+markers\",\"name\":\"Mid-Career Median Salary\",\"text\":[\"California Institute of Technology (CIT)\",\"Massachusetts Institute of Technology (MIT)\",\"Harvey Mudd College\",\"Princeton University\",\"Harvard University\",\"Polytechnic University of New York, Brooklyn\",\"Cooper Union\",\"Carnegie Mellon University (CMU)\",\"Rensselaer Polytechnic Institute (RPI)\",\"Worcester Polytechnic Institute (WPI)\",\"University of Pennsylvania\",\"Stevens Institute of Technology\",\"Cornell University\",\"University of California, Berkeley\",\"Columbia University\",\"Yale University\",\"Georgia Institute of Technology\",\"Colorado School of Mines\",\"Dartmouth College\",\"Cal Poly San Luis Obispo\",\"University of Missouri - Rolla (UMR)\",\"Brown University\",\"Illinois Institute of Technology (IIT)\",\"South Dakota School of Mines & Technology\",\"Amherst College\",\"Bucknell University\",\"Lafayette College\",\"Washington and Lee University\",\"Binghamton University\",\"San Jose State University (SJSU)\",\"Virginia Polytechnic Institute and State University (Virginia Tech)\",\"Wentworth Institute of Technology\",\"University of Illinois at Urbana-Champaign (UIUC)\",\"University of Illinois at Urbana-Champaign (UIUC)\",\"Colgate University\",\"University of Virginia (UVA)\",\"Embry-Riddle Aeronautical University (ERAU)\",\"University of Michigan\",\"University of California at Los Angeles (UCLA)\",\"University of California, Davis\",\"University of Maryland, College Park\",\"University of Maryland, College Park\",\"Occidental College\",\"Williams College\",\"Purdue University\",\"University of California, San Diego (UCSD)\",\"New Mexico Institute of Mining and Technology (New Mexico Tech)\",\"University of California, Santa Barbara (UCSB)\",\"University of California, Santa Barbara (UCSB)\",\"Rutgers University\",\"College of the Holy Cross\",\"Pennsylvania State University (PSU)\",\"Pennsylvania State University (PSU)\",\"University of Texas (UT) - Austin\",\"Texas A&M University\"],\"x\":[0,1,2,3,4,5,6,7,8,9,10,11,12,13,14,15,16,17,18,19,20,21,22,23,24,25,26,27,28,29,30,31,32,33,34,35,36,37,38,39,40,41,42,43,44,45,46,47,48,49,50,51,52,53,54],\"y\":[123000.0,126000.0,122000.0,131000.0,124000.0,114000.0,114000.0,111000.0,110000.0,114000.0,120000.0,105000.0,110000.0,112000.0,107000.0,126000.0,106000.0,106000.0,134000.0,101000.0,95800.0,109000.0,97800.0,93400.0,107000.0,110000.0,107000.0,104000.0,95900.0,95600.0,95400.0,96700.0,96100.0,96100.0,108000.0,103000.0,80700.0,93000.0,101000.0,99600.0,95000.0,95000.0,105000.0,102000.0,90500.0,101000.0,93400.0,95000.0,95000.0,91800.0,106000.0,85700.0,85700.0,93900.0,96100.0],\"type\":\"scatter\"}],                        {\"template\":{\"data\":{\"barpolar\":[{\"marker\":{\"line\":{\"color\":\"#E5ECF6\",\"width\":0.5},\"pattern\":{\"fillmode\":\"overlay\",\"size\":10,\"solidity\":0.2}},\"type\":\"barpolar\"}],\"bar\":[{\"error_x\":{\"color\":\"#2a3f5f\"},\"error_y\":{\"color\":\"#2a3f5f\"},\"marker\":{\"line\":{\"color\":\"#E5ECF6\",\"width\":0.5},\"pattern\":{\"fillmode\":\"overlay\",\"size\":10,\"solidity\":0.2}},\"type\":\"bar\"}],\"carpet\":[{\"aaxis\":{\"endlinecolor\":\"#2a3f5f\",\"gridcolor\":\"white\",\"linecolor\":\"white\",\"minorgridcolor\":\"white\",\"startlinecolor\":\"#2a3f5f\"},\"baxis\":{\"endlinecolor\":\"#2a3f5f\",\"gridcolor\":\"white\",\"linecolor\":\"white\",\"minorgridcolor\":\"white\",\"startlinecolor\":\"#2a3f5f\"},\"type\":\"carpet\"}],\"choropleth\":[{\"colorbar\":{\"outlinewidth\":0,\"ticks\":\"\"},\"type\":\"choropleth\"}],\"contourcarpet\":[{\"colorbar\":{\"outlinewidth\":0,\"ticks\":\"\"},\"type\":\"contourcarpet\"}],\"contour\":[{\"colorbar\":{\"outlinewidth\":0,\"ticks\":\"\"},\"colorscale\":[[0.0,\"#0d0887\"],[0.1111111111111111,\"#46039f\"],[0.2222222222222222,\"#7201a8\"],[0.3333333333333333,\"#9c179e\"],[0.4444444444444444,\"#bd3786\"],[0.5555555555555556,\"#d8576b\"],[0.6666666666666666,\"#ed7953\"],[0.7777777777777778,\"#fb9f3a\"],[0.8888888888888888,\"#fdca26\"],[1.0,\"#f0f921\"]],\"type\":\"contour\"}],\"heatmapgl\":[{\"colorbar\":{\"outlinewidth\":0,\"ticks\":\"\"},\"colorscale\":[[0.0,\"#0d0887\"],[0.1111111111111111,\"#46039f\"],[0.2222222222222222,\"#7201a8\"],[0.3333333333333333,\"#9c179e\"],[0.4444444444444444,\"#bd3786\"],[0.5555555555555556,\"#d8576b\"],[0.6666666666666666,\"#ed7953\"],[0.7777777777777778,\"#fb9f3a\"],[0.8888888888888888,\"#fdca26\"],[1.0,\"#f0f921\"]],\"type\":\"heatmapgl\"}],\"heatmap\":[{\"colorbar\":{\"outlinewidth\":0,\"ticks\":\"\"},\"colorscale\":[[0.0,\"#0d0887\"],[0.1111111111111111,\"#46039f\"],[0.2222222222222222,\"#7201a8\"],[0.3333333333333333,\"#9c179e\"],[0.4444444444444444,\"#bd3786\"],[0.5555555555555556,\"#d8576b\"],[0.6666666666666666,\"#ed7953\"],[0.7777777777777778,\"#fb9f3a\"],[0.8888888888888888,\"#fdca26\"],[1.0,\"#f0f921\"]],\"type\":\"heatmap\"}],\"histogram2dcontour\":[{\"colorbar\":{\"outlinewidth\":0,\"ticks\":\"\"},\"colorscale\":[[0.0,\"#0d0887\"],[0.1111111111111111,\"#46039f\"],[0.2222222222222222,\"#7201a8\"],[0.3333333333333333,\"#9c179e\"],[0.4444444444444444,\"#bd3786\"],[0.5555555555555556,\"#d8576b\"],[0.6666666666666666,\"#ed7953\"],[0.7777777777777778,\"#fb9f3a\"],[0.8888888888888888,\"#fdca26\"],[1.0,\"#f0f921\"]],\"type\":\"histogram2dcontour\"}],\"histogram2d\":[{\"colorbar\":{\"outlinewidth\":0,\"ticks\":\"\"},\"colorscale\":[[0.0,\"#0d0887\"],[0.1111111111111111,\"#46039f\"],[0.2222222222222222,\"#7201a8\"],[0.3333333333333333,\"#9c179e\"],[0.4444444444444444,\"#bd3786\"],[0.5555555555555556,\"#d8576b\"],[0.6666666666666666,\"#ed7953\"],[0.7777777777777778,\"#fb9f3a\"],[0.8888888888888888,\"#fdca26\"],[1.0,\"#f0f921\"]],\"type\":\"histogram2d\"}],\"histogram\":[{\"marker\":{\"pattern\":{\"fillmode\":\"overlay\",\"size\":10,\"solidity\":0.2}},\"type\":\"histogram\"}],\"mesh3d\":[{\"colorbar\":{\"outlinewidth\":0,\"ticks\":\"\"},\"type\":\"mesh3d\"}],\"parcoords\":[{\"line\":{\"colorbar\":{\"outlinewidth\":0,\"ticks\":\"\"}},\"type\":\"parcoords\"}],\"pie\":[{\"automargin\":true,\"type\":\"pie\"}],\"scatter3d\":[{\"line\":{\"colorbar\":{\"outlinewidth\":0,\"ticks\":\"\"}},\"marker\":{\"colorbar\":{\"outlinewidth\":0,\"ticks\":\"\"}},\"type\":\"scatter3d\"}],\"scattercarpet\":[{\"marker\":{\"colorbar\":{\"outlinewidth\":0,\"ticks\":\"\"}},\"type\":\"scattercarpet\"}],\"scattergeo\":[{\"marker\":{\"colorbar\":{\"outlinewidth\":0,\"ticks\":\"\"}},\"type\":\"scattergeo\"}],\"scattergl\":[{\"marker\":{\"colorbar\":{\"outlinewidth\":0,\"ticks\":\"\"}},\"type\":\"scattergl\"}],\"scattermapbox\":[{\"marker\":{\"colorbar\":{\"outlinewidth\":0,\"ticks\":\"\"}},\"type\":\"scattermapbox\"}],\"scatterpolargl\":[{\"marker\":{\"colorbar\":{\"outlinewidth\":0,\"ticks\":\"\"}},\"type\":\"scatterpolargl\"}],\"scatterpolar\":[{\"marker\":{\"colorbar\":{\"outlinewidth\":0,\"ticks\":\"\"}},\"type\":\"scatterpolar\"}],\"scatter\":[{\"marker\":{\"colorbar\":{\"outlinewidth\":0,\"ticks\":\"\"}},\"type\":\"scatter\"}],\"scatterternary\":[{\"marker\":{\"colorbar\":{\"outlinewidth\":0,\"ticks\":\"\"}},\"type\":\"scatterternary\"}],\"surface\":[{\"colorbar\":{\"outlinewidth\":0,\"ticks\":\"\"},\"colorscale\":[[0.0,\"#0d0887\"],[0.1111111111111111,\"#46039f\"],[0.2222222222222222,\"#7201a8\"],[0.3333333333333333,\"#9c179e\"],[0.4444444444444444,\"#bd3786\"],[0.5555555555555556,\"#d8576b\"],[0.6666666666666666,\"#ed7953\"],[0.7777777777777778,\"#fb9f3a\"],[0.8888888888888888,\"#fdca26\"],[1.0,\"#f0f921\"]],\"type\":\"surface\"}],\"table\":[{\"cells\":{\"fill\":{\"color\":\"#EBF0F8\"},\"line\":{\"color\":\"white\"}},\"header\":{\"fill\":{\"color\":\"#C8D4E3\"},\"line\":{\"color\":\"white\"}},\"type\":\"table\"}]},\"layout\":{\"annotationdefaults\":{\"arrowcolor\":\"#2a3f5f\",\"arrowhead\":0,\"arrowwidth\":1},\"autotypenumbers\":\"strict\",\"coloraxis\":{\"colorbar\":{\"outlinewidth\":0,\"ticks\":\"\"}},\"colorscale\":{\"diverging\":[[0,\"#8e0152\"],[0.1,\"#c51b7d\"],[0.2,\"#de77ae\"],[0.3,\"#f1b6da\"],[0.4,\"#fde0ef\"],[0.5,\"#f7f7f7\"],[0.6,\"#e6f5d0\"],[0.7,\"#b8e186\"],[0.8,\"#7fbc41\"],[0.9,\"#4d9221\"],[1,\"#276419\"]],\"sequential\":[[0.0,\"#0d0887\"],[0.1111111111111111,\"#46039f\"],[0.2222222222222222,\"#7201a8\"],[0.3333333333333333,\"#9c179e\"],[0.4444444444444444,\"#bd3786\"],[0.5555555555555556,\"#d8576b\"],[0.6666666666666666,\"#ed7953\"],[0.7777777777777778,\"#fb9f3a\"],[0.8888888888888888,\"#fdca26\"],[1.0,\"#f0f921\"]],\"sequentialminus\":[[0.0,\"#0d0887\"],[0.1111111111111111,\"#46039f\"],[0.2222222222222222,\"#7201a8\"],[0.3333333333333333,\"#9c179e\"],[0.4444444444444444,\"#bd3786\"],[0.5555555555555556,\"#d8576b\"],[0.6666666666666666,\"#ed7953\"],[0.7777777777777778,\"#fb9f3a\"],[0.8888888888888888,\"#fdca26\"],[1.0,\"#f0f921\"]]},\"colorway\":[\"#636efa\",\"#EF553B\",\"#00cc96\",\"#ab63fa\",\"#FFA15A\",\"#19d3f3\",\"#FF6692\",\"#B6E880\",\"#FF97FF\",\"#FECB52\"],\"font\":{\"color\":\"#2a3f5f\"},\"geo\":{\"bgcolor\":\"white\",\"lakecolor\":\"white\",\"landcolor\":\"#E5ECF6\",\"showlakes\":true,\"showland\":true,\"subunitcolor\":\"white\"},\"hoverlabel\":{\"align\":\"left\"},\"hovermode\":\"closest\",\"mapbox\":{\"style\":\"light\"},\"paper_bgcolor\":\"white\",\"plot_bgcolor\":\"#E5ECF6\",\"polar\":{\"angularaxis\":{\"gridcolor\":\"white\",\"linecolor\":\"white\",\"ticks\":\"\"},\"bgcolor\":\"#E5ECF6\",\"radialaxis\":{\"gridcolor\":\"white\",\"linecolor\":\"white\",\"ticks\":\"\"}},\"scene\":{\"xaxis\":{\"backgroundcolor\":\"#E5ECF6\",\"gridcolor\":\"white\",\"gridwidth\":2,\"linecolor\":\"white\",\"showbackground\":true,\"ticks\":\"\",\"zerolinecolor\":\"white\"},\"yaxis\":{\"backgroundcolor\":\"#E5ECF6\",\"gridcolor\":\"white\",\"gridwidth\":2,\"linecolor\":\"white\",\"showbackground\":true,\"ticks\":\"\",\"zerolinecolor\":\"white\"},\"zaxis\":{\"backgroundcolor\":\"#E5ECF6\",\"gridcolor\":\"white\",\"gridwidth\":2,\"linecolor\":\"white\",\"showbackground\":true,\"ticks\":\"\",\"zerolinecolor\":\"white\"}},\"shapedefaults\":{\"line\":{\"color\":\"#2a3f5f\"}},\"ternary\":{\"aaxis\":{\"gridcolor\":\"white\",\"linecolor\":\"white\",\"ticks\":\"\"},\"baxis\":{\"gridcolor\":\"white\",\"linecolor\":\"white\",\"ticks\":\"\"},\"bgcolor\":\"#E5ECF6\",\"caxis\":{\"gridcolor\":\"white\",\"linecolor\":\"white\",\"ticks\":\"\"}},\"title\":{\"x\":0.05},\"xaxis\":{\"automargin\":true,\"gridcolor\":\"white\",\"linecolor\":\"white\",\"ticks\":\"\",\"title\":{\"standoff\":15},\"zerolinecolor\":\"white\",\"zerolinewidth\":2},\"yaxis\":{\"automargin\":true,\"gridcolor\":\"white\",\"linecolor\":\"white\",\"ticks\":\"\",\"title\":{\"standoff\":15},\"zerolinecolor\":\"white\",\"zerolinewidth\":2}}},\"title\":{\"text\":\"Starting Median Salary and Mid-Career Median Salary\"},\"xaxis\":{\"ticklen\":5,\"title\":{\"text\":\"Universities Rank\"},\"zeroline\":false}},                        {\"responsive\": true}                    ).then(function(){\n",
       "                            \n",
       "var gd = document.getElementById('4e000345-975c-443f-a5b9-42fc55cc4b7b');\n",
       "var x = new MutationObserver(function (mutations, observer) {{\n",
       "        var display = window.getComputedStyle(gd).display;\n",
       "        if (!display || display === 'none') {{\n",
       "            console.log([gd, 'removed!']);\n",
       "            Plotly.purge(gd);\n",
       "            observer.disconnect();\n",
       "        }}\n",
       "}});\n",
       "\n",
       "// Listen for the removal of the full notebook cells\n",
       "var notebookContainer = gd.closest('#notebook-container');\n",
       "if (notebookContainer) {{\n",
       "    x.observe(notebookContainer, {childList: true});\n",
       "}}\n",
       "\n",
       "// Listen for the clearing of the current output cell\n",
       "var outputEl = gd.closest('.output');\n",
       "if (outputEl) {{\n",
       "    x.observe(outputEl, {childList: true});\n",
       "}}\n",
       "\n",
       "                        })                };                });            </script>        </div>"
      ]
     },
     "metadata": {},
     "output_type": "display_data"
    }
   ],
   "source": [
    "# Line Charts\n",
    "# prepare data frame\n",
    "df = salariesByCollege_df.sort_values('starting', ascending=False)\n",
    "df = df.iloc[:55,:]\n",
    "new_df = df.reset_index()\n",
    "\n",
    "# Creating trace1\n",
    "trace1 = go.Scatter(\n",
    "                    x = new_df.index.values,\n",
    "                    y = df.starting,\n",
    "                    mode = \"lines\",\n",
    "                    name = \"Starting Median Salary\",\n",
    "                    marker = dict(color = 'rgba(324, 97, 98, 0.8)'),\n",
    "                    text= df.schoolname)\n",
    "# Creating trace2\n",
    "trace2 = go.Scatter(\n",
    "                    x = new_df.index.values,\n",
    "                    y = df.midcareer,\n",
    "                    mode = \"lines+markers\",\n",
    "                    name = \"Mid-Career Median Salary\",\n",
    "                    marker = dict(color = 'rgba(61, 100, 94, 0.8)'),\n",
    "                    text= df.schoolname)\n",
    "data = [trace1, trace2]\n",
    "layout = dict(title = 'Starting Median Salary and Mid-Career Median Salary',\n",
    "              xaxis= dict(title= 'Universities Rank',ticklen= 5,zeroline= False)\n",
    "             )\n",
    "fig = dict(data = data, layout = layout)\n",
    "iplot(fig)"
   ]
  },
  {
   "cell_type": "markdown",
   "metadata": {
    "_uuid": "5a2df0513f6129bac237968590f67797896e48e0"
   },
   "source": [
    "### School Types <a id=\"16\"></a>\n",
    "<mark>[Return Contents](#0)\n",
    "<hr>\n",
    "Let's visualize how many school types there are."
   ]
  },
  {
   "cell_type": "code",
   "execution_count": 38,
   "metadata": {
    "_uuid": "2a7a7d37b597a6e1852729e9f82e528394fd1c44"
   },
   "outputs": [
    {
     "data": {
      "application/vnd.plotly.v1+json": {
       "config": {
        "linkText": "Export to plot.ly",
        "plotlyServerURL": "https://plot.ly",
        "showLink": false
       },
       "data": [
        {
         "type": "bar",
         "x": [
          "State",
          "Liberal Arts",
          "Party",
          "Engineering",
          "Ivy League"
         ],
         "y": [
          175,
          47,
          20,
          19,
          8
         ]
        }
       ],
       "layout": {
        "template": {
         "data": {
          "bar": [
           {
            "error_x": {
             "color": "#2a3f5f"
            },
            "error_y": {
             "color": "#2a3f5f"
            },
            "marker": {
             "line": {
              "color": "#E5ECF6",
              "width": 0.5
             },
             "pattern": {
              "fillmode": "overlay",
              "size": 10,
              "solidity": 0.2
             }
            },
            "type": "bar"
           }
          ],
          "barpolar": [
           {
            "marker": {
             "line": {
              "color": "#E5ECF6",
              "width": 0.5
             },
             "pattern": {
              "fillmode": "overlay",
              "size": 10,
              "solidity": 0.2
             }
            },
            "type": "barpolar"
           }
          ],
          "carpet": [
           {
            "aaxis": {
             "endlinecolor": "#2a3f5f",
             "gridcolor": "white",
             "linecolor": "white",
             "minorgridcolor": "white",
             "startlinecolor": "#2a3f5f"
            },
            "baxis": {
             "endlinecolor": "#2a3f5f",
             "gridcolor": "white",
             "linecolor": "white",
             "minorgridcolor": "white",
             "startlinecolor": "#2a3f5f"
            },
            "type": "carpet"
           }
          ],
          "choropleth": [
           {
            "colorbar": {
             "outlinewidth": 0,
             "ticks": ""
            },
            "type": "choropleth"
           }
          ],
          "contour": [
           {
            "colorbar": {
             "outlinewidth": 0,
             "ticks": ""
            },
            "colorscale": [
             [
              0,
              "#0d0887"
             ],
             [
              0.1111111111111111,
              "#46039f"
             ],
             [
              0.2222222222222222,
              "#7201a8"
             ],
             [
              0.3333333333333333,
              "#9c179e"
             ],
             [
              0.4444444444444444,
              "#bd3786"
             ],
             [
              0.5555555555555556,
              "#d8576b"
             ],
             [
              0.6666666666666666,
              "#ed7953"
             ],
             [
              0.7777777777777778,
              "#fb9f3a"
             ],
             [
              0.8888888888888888,
              "#fdca26"
             ],
             [
              1,
              "#f0f921"
             ]
            ],
            "type": "contour"
           }
          ],
          "contourcarpet": [
           {
            "colorbar": {
             "outlinewidth": 0,
             "ticks": ""
            },
            "type": "contourcarpet"
           }
          ],
          "heatmap": [
           {
            "colorbar": {
             "outlinewidth": 0,
             "ticks": ""
            },
            "colorscale": [
             [
              0,
              "#0d0887"
             ],
             [
              0.1111111111111111,
              "#46039f"
             ],
             [
              0.2222222222222222,
              "#7201a8"
             ],
             [
              0.3333333333333333,
              "#9c179e"
             ],
             [
              0.4444444444444444,
              "#bd3786"
             ],
             [
              0.5555555555555556,
              "#d8576b"
             ],
             [
              0.6666666666666666,
              "#ed7953"
             ],
             [
              0.7777777777777778,
              "#fb9f3a"
             ],
             [
              0.8888888888888888,
              "#fdca26"
             ],
             [
              1,
              "#f0f921"
             ]
            ],
            "type": "heatmap"
           }
          ],
          "heatmapgl": [
           {
            "colorbar": {
             "outlinewidth": 0,
             "ticks": ""
            },
            "colorscale": [
             [
              0,
              "#0d0887"
             ],
             [
              0.1111111111111111,
              "#46039f"
             ],
             [
              0.2222222222222222,
              "#7201a8"
             ],
             [
              0.3333333333333333,
              "#9c179e"
             ],
             [
              0.4444444444444444,
              "#bd3786"
             ],
             [
              0.5555555555555556,
              "#d8576b"
             ],
             [
              0.6666666666666666,
              "#ed7953"
             ],
             [
              0.7777777777777778,
              "#fb9f3a"
             ],
             [
              0.8888888888888888,
              "#fdca26"
             ],
             [
              1,
              "#f0f921"
             ]
            ],
            "type": "heatmapgl"
           }
          ],
          "histogram": [
           {
            "marker": {
             "pattern": {
              "fillmode": "overlay",
              "size": 10,
              "solidity": 0.2
             }
            },
            "type": "histogram"
           }
          ],
          "histogram2d": [
           {
            "colorbar": {
             "outlinewidth": 0,
             "ticks": ""
            },
            "colorscale": [
             [
              0,
              "#0d0887"
             ],
             [
              0.1111111111111111,
              "#46039f"
             ],
             [
              0.2222222222222222,
              "#7201a8"
             ],
             [
              0.3333333333333333,
              "#9c179e"
             ],
             [
              0.4444444444444444,
              "#bd3786"
             ],
             [
              0.5555555555555556,
              "#d8576b"
             ],
             [
              0.6666666666666666,
              "#ed7953"
             ],
             [
              0.7777777777777778,
              "#fb9f3a"
             ],
             [
              0.8888888888888888,
              "#fdca26"
             ],
             [
              1,
              "#f0f921"
             ]
            ],
            "type": "histogram2d"
           }
          ],
          "histogram2dcontour": [
           {
            "colorbar": {
             "outlinewidth": 0,
             "ticks": ""
            },
            "colorscale": [
             [
              0,
              "#0d0887"
             ],
             [
              0.1111111111111111,
              "#46039f"
             ],
             [
              0.2222222222222222,
              "#7201a8"
             ],
             [
              0.3333333333333333,
              "#9c179e"
             ],
             [
              0.4444444444444444,
              "#bd3786"
             ],
             [
              0.5555555555555556,
              "#d8576b"
             ],
             [
              0.6666666666666666,
              "#ed7953"
             ],
             [
              0.7777777777777778,
              "#fb9f3a"
             ],
             [
              0.8888888888888888,
              "#fdca26"
             ],
             [
              1,
              "#f0f921"
             ]
            ],
            "type": "histogram2dcontour"
           }
          ],
          "mesh3d": [
           {
            "colorbar": {
             "outlinewidth": 0,
             "ticks": ""
            },
            "type": "mesh3d"
           }
          ],
          "parcoords": [
           {
            "line": {
             "colorbar": {
              "outlinewidth": 0,
              "ticks": ""
             }
            },
            "type": "parcoords"
           }
          ],
          "pie": [
           {
            "automargin": true,
            "type": "pie"
           }
          ],
          "scatter": [
           {
            "marker": {
             "colorbar": {
              "outlinewidth": 0,
              "ticks": ""
             }
            },
            "type": "scatter"
           }
          ],
          "scatter3d": [
           {
            "line": {
             "colorbar": {
              "outlinewidth": 0,
              "ticks": ""
             }
            },
            "marker": {
             "colorbar": {
              "outlinewidth": 0,
              "ticks": ""
             }
            },
            "type": "scatter3d"
           }
          ],
          "scattercarpet": [
           {
            "marker": {
             "colorbar": {
              "outlinewidth": 0,
              "ticks": ""
             }
            },
            "type": "scattercarpet"
           }
          ],
          "scattergeo": [
           {
            "marker": {
             "colorbar": {
              "outlinewidth": 0,
              "ticks": ""
             }
            },
            "type": "scattergeo"
           }
          ],
          "scattergl": [
           {
            "marker": {
             "colorbar": {
              "outlinewidth": 0,
              "ticks": ""
             }
            },
            "type": "scattergl"
           }
          ],
          "scattermapbox": [
           {
            "marker": {
             "colorbar": {
              "outlinewidth": 0,
              "ticks": ""
             }
            },
            "type": "scattermapbox"
           }
          ],
          "scatterpolar": [
           {
            "marker": {
             "colorbar": {
              "outlinewidth": 0,
              "ticks": ""
             }
            },
            "type": "scatterpolar"
           }
          ],
          "scatterpolargl": [
           {
            "marker": {
             "colorbar": {
              "outlinewidth": 0,
              "ticks": ""
             }
            },
            "type": "scatterpolargl"
           }
          ],
          "scatterternary": [
           {
            "marker": {
             "colorbar": {
              "outlinewidth": 0,
              "ticks": ""
             }
            },
            "type": "scatterternary"
           }
          ],
          "surface": [
           {
            "colorbar": {
             "outlinewidth": 0,
             "ticks": ""
            },
            "colorscale": [
             [
              0,
              "#0d0887"
             ],
             [
              0.1111111111111111,
              "#46039f"
             ],
             [
              0.2222222222222222,
              "#7201a8"
             ],
             [
              0.3333333333333333,
              "#9c179e"
             ],
             [
              0.4444444444444444,
              "#bd3786"
             ],
             [
              0.5555555555555556,
              "#d8576b"
             ],
             [
              0.6666666666666666,
              "#ed7953"
             ],
             [
              0.7777777777777778,
              "#fb9f3a"
             ],
             [
              0.8888888888888888,
              "#fdca26"
             ],
             [
              1,
              "#f0f921"
             ]
            ],
            "type": "surface"
           }
          ],
          "table": [
           {
            "cells": {
             "fill": {
              "color": "#EBF0F8"
             },
             "line": {
              "color": "white"
             }
            },
            "header": {
             "fill": {
              "color": "#C8D4E3"
             },
             "line": {
              "color": "white"
             }
            },
            "type": "table"
           }
          ]
         },
         "layout": {
          "annotationdefaults": {
           "arrowcolor": "#2a3f5f",
           "arrowhead": 0,
           "arrowwidth": 1
          },
          "autotypenumbers": "strict",
          "coloraxis": {
           "colorbar": {
            "outlinewidth": 0,
            "ticks": ""
           }
          },
          "colorscale": {
           "diverging": [
            [
             0,
             "#8e0152"
            ],
            [
             0.1,
             "#c51b7d"
            ],
            [
             0.2,
             "#de77ae"
            ],
            [
             0.3,
             "#f1b6da"
            ],
            [
             0.4,
             "#fde0ef"
            ],
            [
             0.5,
             "#f7f7f7"
            ],
            [
             0.6,
             "#e6f5d0"
            ],
            [
             0.7,
             "#b8e186"
            ],
            [
             0.8,
             "#7fbc41"
            ],
            [
             0.9,
             "#4d9221"
            ],
            [
             1,
             "#276419"
            ]
           ],
           "sequential": [
            [
             0,
             "#0d0887"
            ],
            [
             0.1111111111111111,
             "#46039f"
            ],
            [
             0.2222222222222222,
             "#7201a8"
            ],
            [
             0.3333333333333333,
             "#9c179e"
            ],
            [
             0.4444444444444444,
             "#bd3786"
            ],
            [
             0.5555555555555556,
             "#d8576b"
            ],
            [
             0.6666666666666666,
             "#ed7953"
            ],
            [
             0.7777777777777778,
             "#fb9f3a"
            ],
            [
             0.8888888888888888,
             "#fdca26"
            ],
            [
             1,
             "#f0f921"
            ]
           ],
           "sequentialminus": [
            [
             0,
             "#0d0887"
            ],
            [
             0.1111111111111111,
             "#46039f"
            ],
            [
             0.2222222222222222,
             "#7201a8"
            ],
            [
             0.3333333333333333,
             "#9c179e"
            ],
            [
             0.4444444444444444,
             "#bd3786"
            ],
            [
             0.5555555555555556,
             "#d8576b"
            ],
            [
             0.6666666666666666,
             "#ed7953"
            ],
            [
             0.7777777777777778,
             "#fb9f3a"
            ],
            [
             0.8888888888888888,
             "#fdca26"
            ],
            [
             1,
             "#f0f921"
            ]
           ]
          },
          "colorway": [
           "#636efa",
           "#EF553B",
           "#00cc96",
           "#ab63fa",
           "#FFA15A",
           "#19d3f3",
           "#FF6692",
           "#B6E880",
           "#FF97FF",
           "#FECB52"
          ],
          "font": {
           "color": "#2a3f5f"
          },
          "geo": {
           "bgcolor": "white",
           "lakecolor": "white",
           "landcolor": "#E5ECF6",
           "showlakes": true,
           "showland": true,
           "subunitcolor": "white"
          },
          "hoverlabel": {
           "align": "left"
          },
          "hovermode": "closest",
          "mapbox": {
           "style": "light"
          },
          "paper_bgcolor": "white",
          "plot_bgcolor": "#E5ECF6",
          "polar": {
           "angularaxis": {
            "gridcolor": "white",
            "linecolor": "white",
            "ticks": ""
           },
           "bgcolor": "#E5ECF6",
           "radialaxis": {
            "gridcolor": "white",
            "linecolor": "white",
            "ticks": ""
           }
          },
          "scene": {
           "xaxis": {
            "backgroundcolor": "#E5ECF6",
            "gridcolor": "white",
            "gridwidth": 2,
            "linecolor": "white",
            "showbackground": true,
            "ticks": "",
            "zerolinecolor": "white"
           },
           "yaxis": {
            "backgroundcolor": "#E5ECF6",
            "gridcolor": "white",
            "gridwidth": 2,
            "linecolor": "white",
            "showbackground": true,
            "ticks": "",
            "zerolinecolor": "white"
           },
           "zaxis": {
            "backgroundcolor": "#E5ECF6",
            "gridcolor": "white",
            "gridwidth": 2,
            "linecolor": "white",
            "showbackground": true,
            "ticks": "",
            "zerolinecolor": "white"
           }
          },
          "shapedefaults": {
           "line": {
            "color": "#2a3f5f"
           }
          },
          "ternary": {
           "aaxis": {
            "gridcolor": "white",
            "linecolor": "white",
            "ticks": ""
           },
           "baxis": {
            "gridcolor": "white",
            "linecolor": "white",
            "ticks": ""
           },
           "bgcolor": "#E5ECF6",
           "caxis": {
            "gridcolor": "white",
            "linecolor": "white",
            "ticks": ""
           }
          },
          "title": {
           "x": 0.05
          },
          "xaxis": {
           "automargin": true,
           "gridcolor": "white",
           "linecolor": "white",
           "ticks": "",
           "title": {
            "standoff": 15
           },
           "zerolinecolor": "white",
           "zerolinewidth": 2
          },
          "yaxis": {
           "automargin": true,
           "gridcolor": "white",
           "linecolor": "white",
           "ticks": "",
           "title": {
            "standoff": 15
           },
           "zerolinecolor": "white",
           "zerolinewidth": 2
          }
         }
        },
        "title": {
         "text": "How many school types are there?"
        },
        "xaxis": {
         "title": {
          "text": "School Type"
         }
        },
        "yaxis": {
         "title": {
          "text": "Value"
         }
        }
       }
      },
      "text/html": [
       "<div>                            <div id=\"9c40564d-d0a2-4ff6-b763-c4b2d9beb1b2\" class=\"plotly-graph-div\" style=\"height:525px; width:100%;\"></div>            <script type=\"text/javascript\">                require([\"plotly\"], function(Plotly) {                    window.PLOTLYENV=window.PLOTLYENV || {};                                    if (document.getElementById(\"9c40564d-d0a2-4ff6-b763-c4b2d9beb1b2\")) {                    Plotly.newPlot(                        \"9c40564d-d0a2-4ff6-b763-c4b2d9beb1b2\",                        [{\"x\":[\"State\",\"Liberal Arts\",\"Party\",\"Engineering\",\"Ivy League\"],\"y\":[175,47,20,19,8],\"type\":\"bar\"}],                        {\"template\":{\"data\":{\"barpolar\":[{\"marker\":{\"line\":{\"color\":\"#E5ECF6\",\"width\":0.5},\"pattern\":{\"fillmode\":\"overlay\",\"size\":10,\"solidity\":0.2}},\"type\":\"barpolar\"}],\"bar\":[{\"error_x\":{\"color\":\"#2a3f5f\"},\"error_y\":{\"color\":\"#2a3f5f\"},\"marker\":{\"line\":{\"color\":\"#E5ECF6\",\"width\":0.5},\"pattern\":{\"fillmode\":\"overlay\",\"size\":10,\"solidity\":0.2}},\"type\":\"bar\"}],\"carpet\":[{\"aaxis\":{\"endlinecolor\":\"#2a3f5f\",\"gridcolor\":\"white\",\"linecolor\":\"white\",\"minorgridcolor\":\"white\",\"startlinecolor\":\"#2a3f5f\"},\"baxis\":{\"endlinecolor\":\"#2a3f5f\",\"gridcolor\":\"white\",\"linecolor\":\"white\",\"minorgridcolor\":\"white\",\"startlinecolor\":\"#2a3f5f\"},\"type\":\"carpet\"}],\"choropleth\":[{\"colorbar\":{\"outlinewidth\":0,\"ticks\":\"\"},\"type\":\"choropleth\"}],\"contourcarpet\":[{\"colorbar\":{\"outlinewidth\":0,\"ticks\":\"\"},\"type\":\"contourcarpet\"}],\"contour\":[{\"colorbar\":{\"outlinewidth\":0,\"ticks\":\"\"},\"colorscale\":[[0.0,\"#0d0887\"],[0.1111111111111111,\"#46039f\"],[0.2222222222222222,\"#7201a8\"],[0.3333333333333333,\"#9c179e\"],[0.4444444444444444,\"#bd3786\"],[0.5555555555555556,\"#d8576b\"],[0.6666666666666666,\"#ed7953\"],[0.7777777777777778,\"#fb9f3a\"],[0.8888888888888888,\"#fdca26\"],[1.0,\"#f0f921\"]],\"type\":\"contour\"}],\"heatmapgl\":[{\"colorbar\":{\"outlinewidth\":0,\"ticks\":\"\"},\"colorscale\":[[0.0,\"#0d0887\"],[0.1111111111111111,\"#46039f\"],[0.2222222222222222,\"#7201a8\"],[0.3333333333333333,\"#9c179e\"],[0.4444444444444444,\"#bd3786\"],[0.5555555555555556,\"#d8576b\"],[0.6666666666666666,\"#ed7953\"],[0.7777777777777778,\"#fb9f3a\"],[0.8888888888888888,\"#fdca26\"],[1.0,\"#f0f921\"]],\"type\":\"heatmapgl\"}],\"heatmap\":[{\"colorbar\":{\"outlinewidth\":0,\"ticks\":\"\"},\"colorscale\":[[0.0,\"#0d0887\"],[0.1111111111111111,\"#46039f\"],[0.2222222222222222,\"#7201a8\"],[0.3333333333333333,\"#9c179e\"],[0.4444444444444444,\"#bd3786\"],[0.5555555555555556,\"#d8576b\"],[0.6666666666666666,\"#ed7953\"],[0.7777777777777778,\"#fb9f3a\"],[0.8888888888888888,\"#fdca26\"],[1.0,\"#f0f921\"]],\"type\":\"heatmap\"}],\"histogram2dcontour\":[{\"colorbar\":{\"outlinewidth\":0,\"ticks\":\"\"},\"colorscale\":[[0.0,\"#0d0887\"],[0.1111111111111111,\"#46039f\"],[0.2222222222222222,\"#7201a8\"],[0.3333333333333333,\"#9c179e\"],[0.4444444444444444,\"#bd3786\"],[0.5555555555555556,\"#d8576b\"],[0.6666666666666666,\"#ed7953\"],[0.7777777777777778,\"#fb9f3a\"],[0.8888888888888888,\"#fdca26\"],[1.0,\"#f0f921\"]],\"type\":\"histogram2dcontour\"}],\"histogram2d\":[{\"colorbar\":{\"outlinewidth\":0,\"ticks\":\"\"},\"colorscale\":[[0.0,\"#0d0887\"],[0.1111111111111111,\"#46039f\"],[0.2222222222222222,\"#7201a8\"],[0.3333333333333333,\"#9c179e\"],[0.4444444444444444,\"#bd3786\"],[0.5555555555555556,\"#d8576b\"],[0.6666666666666666,\"#ed7953\"],[0.7777777777777778,\"#fb9f3a\"],[0.8888888888888888,\"#fdca26\"],[1.0,\"#f0f921\"]],\"type\":\"histogram2d\"}],\"histogram\":[{\"marker\":{\"pattern\":{\"fillmode\":\"overlay\",\"size\":10,\"solidity\":0.2}},\"type\":\"histogram\"}],\"mesh3d\":[{\"colorbar\":{\"outlinewidth\":0,\"ticks\":\"\"},\"type\":\"mesh3d\"}],\"parcoords\":[{\"line\":{\"colorbar\":{\"outlinewidth\":0,\"ticks\":\"\"}},\"type\":\"parcoords\"}],\"pie\":[{\"automargin\":true,\"type\":\"pie\"}],\"scatter3d\":[{\"line\":{\"colorbar\":{\"outlinewidth\":0,\"ticks\":\"\"}},\"marker\":{\"colorbar\":{\"outlinewidth\":0,\"ticks\":\"\"}},\"type\":\"scatter3d\"}],\"scattercarpet\":[{\"marker\":{\"colorbar\":{\"outlinewidth\":0,\"ticks\":\"\"}},\"type\":\"scattercarpet\"}],\"scattergeo\":[{\"marker\":{\"colorbar\":{\"outlinewidth\":0,\"ticks\":\"\"}},\"type\":\"scattergeo\"}],\"scattergl\":[{\"marker\":{\"colorbar\":{\"outlinewidth\":0,\"ticks\":\"\"}},\"type\":\"scattergl\"}],\"scattermapbox\":[{\"marker\":{\"colorbar\":{\"outlinewidth\":0,\"ticks\":\"\"}},\"type\":\"scattermapbox\"}],\"scatterpolargl\":[{\"marker\":{\"colorbar\":{\"outlinewidth\":0,\"ticks\":\"\"}},\"type\":\"scatterpolargl\"}],\"scatterpolar\":[{\"marker\":{\"colorbar\":{\"outlinewidth\":0,\"ticks\":\"\"}},\"type\":\"scatterpolar\"}],\"scatter\":[{\"marker\":{\"colorbar\":{\"outlinewidth\":0,\"ticks\":\"\"}},\"type\":\"scatter\"}],\"scatterternary\":[{\"marker\":{\"colorbar\":{\"outlinewidth\":0,\"ticks\":\"\"}},\"type\":\"scatterternary\"}],\"surface\":[{\"colorbar\":{\"outlinewidth\":0,\"ticks\":\"\"},\"colorscale\":[[0.0,\"#0d0887\"],[0.1111111111111111,\"#46039f\"],[0.2222222222222222,\"#7201a8\"],[0.3333333333333333,\"#9c179e\"],[0.4444444444444444,\"#bd3786\"],[0.5555555555555556,\"#d8576b\"],[0.6666666666666666,\"#ed7953\"],[0.7777777777777778,\"#fb9f3a\"],[0.8888888888888888,\"#fdca26\"],[1.0,\"#f0f921\"]],\"type\":\"surface\"}],\"table\":[{\"cells\":{\"fill\":{\"color\":\"#EBF0F8\"},\"line\":{\"color\":\"white\"}},\"header\":{\"fill\":{\"color\":\"#C8D4E3\"},\"line\":{\"color\":\"white\"}},\"type\":\"table\"}]},\"layout\":{\"annotationdefaults\":{\"arrowcolor\":\"#2a3f5f\",\"arrowhead\":0,\"arrowwidth\":1},\"autotypenumbers\":\"strict\",\"coloraxis\":{\"colorbar\":{\"outlinewidth\":0,\"ticks\":\"\"}},\"colorscale\":{\"diverging\":[[0,\"#8e0152\"],[0.1,\"#c51b7d\"],[0.2,\"#de77ae\"],[0.3,\"#f1b6da\"],[0.4,\"#fde0ef\"],[0.5,\"#f7f7f7\"],[0.6,\"#e6f5d0\"],[0.7,\"#b8e186\"],[0.8,\"#7fbc41\"],[0.9,\"#4d9221\"],[1,\"#276419\"]],\"sequential\":[[0.0,\"#0d0887\"],[0.1111111111111111,\"#46039f\"],[0.2222222222222222,\"#7201a8\"],[0.3333333333333333,\"#9c179e\"],[0.4444444444444444,\"#bd3786\"],[0.5555555555555556,\"#d8576b\"],[0.6666666666666666,\"#ed7953\"],[0.7777777777777778,\"#fb9f3a\"],[0.8888888888888888,\"#fdca26\"],[1.0,\"#f0f921\"]],\"sequentialminus\":[[0.0,\"#0d0887\"],[0.1111111111111111,\"#46039f\"],[0.2222222222222222,\"#7201a8\"],[0.3333333333333333,\"#9c179e\"],[0.4444444444444444,\"#bd3786\"],[0.5555555555555556,\"#d8576b\"],[0.6666666666666666,\"#ed7953\"],[0.7777777777777778,\"#fb9f3a\"],[0.8888888888888888,\"#fdca26\"],[1.0,\"#f0f921\"]]},\"colorway\":[\"#636efa\",\"#EF553B\",\"#00cc96\",\"#ab63fa\",\"#FFA15A\",\"#19d3f3\",\"#FF6692\",\"#B6E880\",\"#FF97FF\",\"#FECB52\"],\"font\":{\"color\":\"#2a3f5f\"},\"geo\":{\"bgcolor\":\"white\",\"lakecolor\":\"white\",\"landcolor\":\"#E5ECF6\",\"showlakes\":true,\"showland\":true,\"subunitcolor\":\"white\"},\"hoverlabel\":{\"align\":\"left\"},\"hovermode\":\"closest\",\"mapbox\":{\"style\":\"light\"},\"paper_bgcolor\":\"white\",\"plot_bgcolor\":\"#E5ECF6\",\"polar\":{\"angularaxis\":{\"gridcolor\":\"white\",\"linecolor\":\"white\",\"ticks\":\"\"},\"bgcolor\":\"#E5ECF6\",\"radialaxis\":{\"gridcolor\":\"white\",\"linecolor\":\"white\",\"ticks\":\"\"}},\"scene\":{\"xaxis\":{\"backgroundcolor\":\"#E5ECF6\",\"gridcolor\":\"white\",\"gridwidth\":2,\"linecolor\":\"white\",\"showbackground\":true,\"ticks\":\"\",\"zerolinecolor\":\"white\"},\"yaxis\":{\"backgroundcolor\":\"#E5ECF6\",\"gridcolor\":\"white\",\"gridwidth\":2,\"linecolor\":\"white\",\"showbackground\":true,\"ticks\":\"\",\"zerolinecolor\":\"white\"},\"zaxis\":{\"backgroundcolor\":\"#E5ECF6\",\"gridcolor\":\"white\",\"gridwidth\":2,\"linecolor\":\"white\",\"showbackground\":true,\"ticks\":\"\",\"zerolinecolor\":\"white\"}},\"shapedefaults\":{\"line\":{\"color\":\"#2a3f5f\"}},\"ternary\":{\"aaxis\":{\"gridcolor\":\"white\",\"linecolor\":\"white\",\"ticks\":\"\"},\"baxis\":{\"gridcolor\":\"white\",\"linecolor\":\"white\",\"ticks\":\"\"},\"bgcolor\":\"#E5ECF6\",\"caxis\":{\"gridcolor\":\"white\",\"linecolor\":\"white\",\"ticks\":\"\"}},\"title\":{\"x\":0.05},\"xaxis\":{\"automargin\":true,\"gridcolor\":\"white\",\"linecolor\":\"white\",\"ticks\":\"\",\"title\":{\"standoff\":15},\"zerolinecolor\":\"white\",\"zerolinewidth\":2},\"yaxis\":{\"automargin\":true,\"gridcolor\":\"white\",\"linecolor\":\"white\",\"ticks\":\"\",\"title\":{\"standoff\":15},\"zerolinecolor\":\"white\",\"zerolinewidth\":2}}},\"title\":{\"text\":\"How many school types are there?\"},\"xaxis\":{\"title\":{\"text\":\"School Type\"}},\"yaxis\":{\"title\":{\"text\":\"Value\"}}},                        {\"responsive\": true}                    ).then(function(){\n",
       "                            \n",
       "var gd = document.getElementById('9c40564d-d0a2-4ff6-b763-c4b2d9beb1b2');\n",
       "var x = new MutationObserver(function (mutations, observer) {{\n",
       "        var display = window.getComputedStyle(gd).display;\n",
       "        if (!display || display === 'none') {{\n",
       "            console.log([gd, 'removed!']);\n",
       "            Plotly.purge(gd);\n",
       "            observer.disconnect();\n",
       "        }}\n",
       "}});\n",
       "\n",
       "// Listen for the removal of the full notebook cells\n",
       "var notebookContainer = gd.closest('#notebook-container');\n",
       "if (notebookContainer) {{\n",
       "    x.observe(notebookContainer, {childList: true});\n",
       "}}\n",
       "\n",
       "// Listen for the clearing of the current output cell\n",
       "var outputEl = gd.closest('.output');\n",
       "if (outputEl) {{\n",
       "    x.observe(outputEl, {childList: true});\n",
       "}}\n",
       "\n",
       "                        })                };                });            </script>        </div>"
      ]
     },
     "metadata": {},
     "output_type": "display_data"
    }
   ],
   "source": [
    "# Basic Bar Chart\n",
    "data = [go.Bar(\n",
    "            x=salariesByCollege_df.schooltype.value_counts().index,\n",
    "            y=salariesByCollege_df.schooltype.value_counts().values\n",
    "    )]\n",
    "layout = {\"title\": \"How many school types are there?\", \n",
    "          \"xaxis\": {\"title\": \"School Type\", }, \n",
    "          \"yaxis\": {\"title\": \"Value\"}}\n",
    "fig = go.Figure(data=data, layout=layout)\n",
    "iplot(fig)"
   ]
  },
  {
   "cell_type": "markdown",
   "metadata": {
    "_uuid": "b594a1db83938de835252d775e934648adbc9ea7"
   },
   "source": [
    "### Salary Statistics <a id=\"17\"></a>\n",
    "<mark>[Return Contents](#0)\n",
    "<hr>"
   ]
  },
  {
   "cell_type": "code",
   "execution_count": 39,
   "metadata": {
    "_uuid": "e3802ccf1b203fa0751849f771f473c22e714e94"
   },
   "outputs": [
    {
     "data": {
      "application/vnd.plotly.v1+json": {
       "config": {
        "linkText": "Export to plot.ly",
        "plotlyServerURL": "https://plot.ly",
        "showLink": false
       },
       "data": [
        {
         "marker": {
          "color": "rgb(214, 12, 140)"
         },
         "name": "Starting Career Median Salary",
         "type": "box",
         "y": [
          75500,
          72200,
          71800,
          66500,
          63400,
          62400,
          62200,
          61800,
          61100,
          61000,
          60900,
          60600,
          60300,
          59900,
          59400,
          59100,
          58300,
          58100,
          58000,
          57200,
          57100,
          56200,
          56000,
          55800,
          54500,
          54100,
          53900,
          53600,
          53600,
          53500,
          53500,
          53000,
          52900,
          52900,
          52800,
          52700,
          52700,
          52700,
          52600,
          52300,
          52000,
          52000,
          51900,
          51700,
          51400,
          51100,
          51000,
          50500,
          50500,
          50300,
          50200,
          49900,
          49900,
          49700,
          49700,
          49700,
          49700,
          49500,
          49200,
          49200,
          49100,
          48900,
          48900,
          48800,
          48600,
          48600,
          48400,
          48300,
          48100,
          48000,
          47800,
          47800,
          47700,
          47500,
          47500,
          47500,
          47400,
          47400,
          47400,
          47300,
          47300,
          47300,
          47200,
          47200,
          47100,
          47100,
          47100,
          47000,
          46900,
          46900,
          46800,
          46600,
          46600,
          46600,
          46500,
          46500,
          46500,
          46400,
          46300,
          46300,
          46300,
          46200,
          46200,
          46200,
          46200,
          46100,
          46100,
          46000,
          46000,
          45900,
          45900,
          45800,
          45700,
          45700,
          45700,
          45600,
          45500,
          45500,
          45400,
          45400,
          45400,
          45400,
          45400,
          45300,
          45300,
          45200,
          45100,
          45100,
          45100,
          44900,
          44900,
          44900,
          44800,
          44800,
          44700,
          44700,
          44700,
          44700,
          44700,
          44500,
          44500,
          44500,
          44500,
          44500,
          44300,
          44100,
          44100,
          44100,
          44000,
          44000,
          43900,
          43800,
          43800,
          43800,
          43800,
          43600,
          43600,
          43500,
          43500,
          43400,
          43400,
          43300,
          43300,
          43200,
          43200,
          43100,
          43100,
          43100,
          43100,
          43100,
          43000,
          42900,
          42800,
          42800,
          42800,
          42800,
          42700,
          42700,
          42600,
          42600,
          42600,
          42600,
          42600,
          42600,
          42600,
          42500,
          42500,
          42400,
          42400,
          42400,
          42400,
          42300,
          42300,
          42300,
          42200,
          42200,
          42200,
          42200,
          42100,
          42100,
          42100,
          42000,
          42000,
          42000,
          42000,
          41900,
          41800,
          41800,
          41800,
          41800,
          41800,
          41700,
          41600,
          41600,
          41500,
          41500,
          41400,
          41400,
          41400,
          41400,
          41400,
          41400,
          41300,
          41300,
          41200,
          41100,
          41100,
          41100,
          41100,
          40800,
          40800,
          40800,
          40800,
          40700,
          40500,
          40400,
          40400,
          40300,
          40200,
          40000,
          39800,
          39800,
          39500,
          39400,
          39300,
          39200,
          39200,
          39200,
          39100,
          38900,
          38900,
          38700,
          38700,
          38600,
          38500,
          38000,
          38000,
          38000,
          37900,
          37800,
          37700,
          37500,
          37500,
          37300,
          36900,
          36100,
          35800,
          35300,
          34800
         ]
        },
        {
         "marker": {
          "color": "rgb(0, 128, 128)"
         },
         "name": "Mid-Career Median Salary",
         "type": "box",
         "y": [
          123000,
          126000,
          122000,
          131000,
          124000,
          114000,
          114000,
          111000,
          110000,
          114000,
          120000,
          105000,
          110000,
          112000,
          107000,
          126000,
          106000,
          106000,
          134000,
          101000,
          95800,
          109000,
          97800,
          93400,
          107000,
          110000,
          107000,
          104000,
          95900,
          95600,
          95400,
          96700,
          96100,
          96100,
          108000,
          103000,
          80700,
          93000,
          101000,
          99600,
          95000,
          95000,
          105000,
          102000,
          90500,
          101000,
          93400,
          95000,
          95000,
          91800,
          106000,
          85700,
          85700,
          93900,
          96100,
          104000,
          93900,
          93000,
          83700,
          84300,
          92800,
          87800,
          84600,
          85300,
          94600,
          101000,
          86000,
          96700,
          107000,
          88800,
          86900,
          82400,
          94200,
          103000,
          86100,
          81700,
          84100,
          84100,
          88100,
          96500,
          86400,
          84200,
          95800,
          83300,
          87900,
          87900,
          97600,
          77800,
          87800,
          87800,
          81300,
          88200,
          77500,
          81500,
          79400,
          82900,
          97900,
          85800,
          84000,
          85300,
          84000,
          84200,
          81700,
          80000,
          85200,
          104000,
          84400,
          79900,
          94600,
          72600,
          84500,
          78500,
          74000,
          87000,
          80900,
          78200,
          80400,
          85200,
          80800,
          84600,
          86600,
          83200,
          84700,
          84700,
          86200,
          71600,
          83300,
          77800,
          84700,
          82000,
          73400,
          83700,
          82700,
          79000,
          82900,
          83900,
          83900,
          84100,
          85800,
          79300,
          92200,
          78700,
          92200,
          80600,
          79500,
          86000,
          86000,
          82800,
          80600,
          83900,
          85300,
          74600,
          78700,
          74600,
          76000,
          68300,
          80800,
          80100,
          73100,
          72100,
          81600,
          74700,
          79000,
          77700,
          75500,
          82700,
          78100,
          74000,
          75900,
          78100,
          72500,
          81500,
          80700,
          76100,
          83500,
          78300,
          75400,
          72100,
          83600,
          70900,
          71100,
          71300,
          71700,
          83600,
          76600,
          74400,
          70700,
          72600,
          67100,
          81600,
          94100,
          74600,
          81300,
          73800,
          69300,
          73400,
          78400,
          73400,
          73000,
          73000,
          80000,
          68400,
          69800,
          73400,
          83500,
          56500,
          78900,
          74000,
          78300,
          71400,
          78300,
          81000,
          74600,
          81600,
          67500,
          72600,
          64800,
          88300,
          69700,
          79700,
          67100,
          79700,
          81400,
          81400,
          72100,
          70300,
          76300,
          73500,
          71100,
          69500,
          62400,
          76200,
          75500,
          71400,
          81100,
          69100,
          58200,
          72100,
          67500,
          71700,
          72100,
          64000,
          63900,
          63600,
          66400,
          74500,
          70100,
          78200,
          64500,
          72600,
          65800,
          62600,
          63300,
          70900,
          81400,
          70300,
          71400,
          77800,
          50600,
          66200,
          59200,
          64400,
          76700,
          71900,
          66600,
          69500,
          60600,
          43900,
          60600
         ]
        },
        {
         "marker": {
          "color": "rgb(12, 15, 75)"
         },
         "name": "Mid-Career 10th Percentile Salary",
         "type": "box",
         "y": [
          75666.66666666667,
          76800,
          72666.66666666667,
          68900,
          54800,
          66800,
          64733.333333333336,
          63300,
          71600,
          80000,
          55900,
          68700,
          56800,
          59500,
          50300,
          58000,
          67200,
          62200,
          63100,
          55000,
          67600,
          55400,
          56100,
          71500,
          63966.666666666664,
          62800,
          70600,
          62266.666666666664,
          50900,
          50700,
          50600,
          55200,
          48200,
          48200,
          60000,
          52200,
          49800,
          50900,
          51300,
          52000,
          50400,
          50400,
          53266.666666666664,
          59466.666666666664,
          49900,
          51700,
          53600,
          51300,
          51300,
          48100,
          57200,
          46300,
          46300,
          50100,
          51100,
          57066.666666666664,
          50100,
          47200,
          45200,
          46000,
          49533.333333333336,
          47400,
          45000,
          47000,
          44500,
          54766.666666666664,
          50500,
          47800,
          60533.333333333336,
          46100,
          51300,
          42900,
          54433.333333333336,
          57466.666666666664,
          44800,
          44700,
          44600,
          44600,
          46800,
          52400,
          45100,
          50200,
          48700,
          49200,
          45400,
          45400,
          51600,
          46900,
          43700,
          43700,
          37200,
          43100,
          40200,
          48900,
          38700,
          41900,
          42000,
          49766.666666666664,
          43600,
          44200,
          43600,
          49000,
          45900,
          42100,
          45500,
          58166.666666666664,
          46400,
          42000,
          51733.333333333336,
          39800,
          44500,
          48400,
          44000,
          45400,
          42200,
          36300,
          44500,
          38700,
          46400,
          44400,
          50900,
          43000,
          45400,
          43600,
          41300,
          39000,
          46900,
          39000,
          47400,
          43000,
          35400,
          45500,
          44700,
          43800,
          41200,
          43300,
          43300,
          46100,
          50700,
          43300,
          47000,
          41500,
          47000,
          43300,
          37400,
          43100,
          43100,
          43200,
          43400,
          45100,
          45400,
          41900,
          41600,
          41900,
          40400,
          40900,
          43900,
          48300,
          39500,
          37700,
          42666.666666666664,
          39500,
          37200,
          43300,
          40500,
          46100,
          39700,
          38200,
          40100,
          39700,
          38300,
          43400,
          40100,
          40100,
          47366.666666666664,
          43000,
          41300,
          30800,
          45900,
          40700,
          40700,
          36000,
          39500,
          45900,
          47233.333333333336,
          43700,
          39100,
          43300,
          27000,
          44800,
          50400,
          40600,
          39300,
          40100,
          37500,
          36600,
          38100,
          36600,
          39600,
          39600,
          35600,
          37400,
          41600,
          39100,
          48533.333333333336,
          30700,
          48700,
          43000,
          41700,
          38700,
          41700,
          43500,
          39133.333333333336,
          41800,
          37366.666666666664,
          39500,
          35000,
          49500,
          36100,
          40400,
          36800,
          40400,
          40100,
          40100,
          41700,
          40600,
          42000,
          34100,
          39600,
          37400,
          32100,
          38400,
          38200,
          40900,
          49500,
          37200,
          25600,
          37900,
          38400,
          36300,
          38200,
          38400,
          38800,
          40400,
          37700,
          32800,
          43000,
          44100,
          35500,
          38200,
          36300,
          36100,
          33600,
          36000,
          41466.666666666664,
          35100,
          33700,
          40400,
          22600,
          32800,
          32200,
          32100,
          40000,
          37000,
          39000,
          33300,
          35500,
          27000,
          34300
         ]
        },
        {
         "marker": {
          "color": "rgb(12, 100, 190)"
         },
         "name": "Mid-Career 25th Percentile Salary",
         "type": "box",
         "y": [
          104000,
          99200,
          96000,
          100000,
          86200,
          94300,
          80200,
          80100,
          85500,
          91200,
          79200,
          81900,
          79800,
          81000,
          71900,
          80600,
          85200,
          87900,
          90200,
          74700,
          80400,
          74400,
          77400,
          81900,
          84900,
          80600,
          79300,
          82800,
          71200,
          70500,
          71400,
          74000,
          68900,
          68900,
          76700,
          71800,
          64000,
          69400,
          72500,
          71600,
          68300,
          68300,
          54800,
          76400,
          67400,
          75400,
          67400,
          71200,
          71200,
          65100,
          65600,
          62000,
          62000,
          67400,
          71300,
          67200,
          67400,
          67100,
          51900,
          62400,
          55800,
          62400,
          62100,
          59800,
          59400,
          63300,
          61800,
          66000,
          74600,
          66400,
          67200,
          59600,
          69100,
          69400,
          61700,
          58800,
          60700,
          60700,
          62800,
          60700,
          62700,
          59800,
          75200,
          64800,
          62900,
          62900,
          69000,
          59100,
          61300,
          61300,
          59900,
          61300,
          58100,
          60100,
          51600,
          54600,
          62500,
          63500,
          60400,
          61500,
          60400,
          63200,
          61400,
          62600,
          61800,
          70500,
          58600,
          56200,
          60600,
          56600,
          64000,
          61200,
          53100,
          62500,
          56600,
          53800,
          57800,
          58400,
          61200,
          60000,
          65000,
          58400,
          62700,
          59000,
          61000,
          52400,
          64000,
          55800,
          62500,
          56700,
          49600,
          60700,
          58000,
          57100,
          60300,
          61100,
          61100,
          62000,
          66300,
          58800,
          63100,
          54000,
          63100,
          49300,
          53800,
          57800,
          57800,
          60700,
          56400,
          59800,
          60100,
          53200,
          55400,
          53200,
          56300,
          50600,
          60200,
          64800,
          51600,
          50400,
          46400,
          53800,
          54100,
          56200,
          55800,
          67800,
          55700,
          53200,
          54100,
          55700,
          51300,
          57500,
          56500,
          56200,
          58600,
          57300,
          56700,
          47000,
          54100,
          52300,
          53000,
          56300,
          51500,
          54100,
          65100,
          56700,
          49800,
          56100,
          44100,
          57200,
          57100,
          54000,
          47600,
          52500,
          47200,
          52800,
          56200,
          52800,
          52800,
          52800,
          54300,
          51900,
          55000,
          55200,
          62100,
          39700,
          67200,
          55300,
          56400,
          49400,
          56400,
          57100,
          42800,
          59100,
          44600,
          54400,
          47300,
          57400,
          49100,
          53500,
          49600,
          53500,
          56500,
          56500,
          55600,
          53300,
          54500,
          49900,
          51500,
          48700,
          47400,
          54100,
          53500,
          53100,
          67400,
          50400,
          46000,
          52800,
          52000,
          49900,
          51800,
          45100,
          47200,
          47900,
          49700,
          46100,
          53400,
          54100,
          48200,
          53400,
          48100,
          45800,
          45300,
          50500,
          43000,
          51200,
          50500,
          53000,
          31800,
          44200,
          40500,
          46600,
          54300,
          51500,
          49500,
          46900,
          46800,
          32200,
          46500
         ]
        },
        {
         "marker": {
          "color": "rgb(12, 128, 128)"
         },
         "name": "Mid-Career 75th Percentile Salary",
         "type": "box",
         "y": [
          161000,
          168000,
          180000,
          190000,
          179000,
          143000,
          142000,
          150000,
          140000,
          137000,
          192000,
          138000,
          160000,
          149000,
          161000,
          198000,
          137000,
          142000,
          234000,
          133000,
          122000,
          159000,
          121000,
          122000,
          162000,
          156000,
          144000,
          146000,
          146000,
          122000,
          124000,
          117000,
          132000,
          132000,
          167000,
          146000,
          106000,
          128000,
          139000,
          135000,
          126000,
          126000,
          157000,
          143000,
          121000,
          131000,
          123000,
          129000,
          129000,
          128000,
          143000,
          117000,
          117000,
          129000,
          131000,
          167000,
          129000,
          129000,
          123000,
          115000,
          185000,
          118000,
          112000,
          115000,
          151000,
          161000,
          111000,
          123000,
          146000,
          120000,
          114000,
          111000,
          129000,
          141000,
          117000,
          110000,
          114000,
          114000,
          122000,
          162000,
          114000,
          110000,
          135000,
          112000,
          120000,
          120000,
          128000,
          105000,
          120000,
          120000,
          109000,
          122000,
          111000,
          104000,
          114000,
          113000,
          126000,
          129000,
          119000,
          119000,
          119000,
          112000,
          110000,
          99500,
          116000,
          146000,
          105000,
          106000,
          123000,
          99300,
          119000,
          100000,
          104000,
          119000,
          113000,
          109000,
          108000,
          129000,
          106000,
          109000,
          113000,
          116000,
          109000,
          113000,
          120000,
          100000,
          113000,
          100000,
          113000,
          104000,
          101000,
          116000,
          122000,
          112000,
          114000,
          116000,
          116000,
          121000,
          132000,
          108000,
          135000,
          105000,
          135000,
          101000,
          102000,
          118000,
          118000,
          113000,
          111000,
          129000,
          112000,
          106000,
          101000,
          106000,
          104000,
          91600,
          111000,
          111000,
          97000,
          99500,
          128000,
          95700,
          106000,
          107000,
          98200,
          106000,
          106000,
          99500,
          100000,
          106000,
          99300,
          117000,
          114000,
          101000,
          125000,
          107000,
          99200,
          92200,
          123000,
          94400,
          99500,
          94400,
          98400,
          123000,
          116000,
          94900,
          92700,
          99600,
          84900,
          115000,
          131000,
          93700,
          117000,
          103000,
          93100,
          106000,
          117000,
          106000,
          107000,
          107000,
          100000,
          100000,
          94000,
          105000,
          122000,
          78400,
          110000,
          99900,
          114000,
          101000,
          114000,
          111000,
          147000,
          105000,
          93100,
          97400,
          93100,
          133000,
          93500,
          108000,
          97600,
          108000,
          117000,
          117000,
          99300,
          95200,
          107000,
          99400,
          98100,
          87500,
          80400,
          105000,
          99300,
          84900,
          101000,
          90800,
          84600,
          95400,
          98700,
          98400,
          101000,
          95400,
          91600,
          85700,
          90100,
          110000,
          91400,
          131000,
          89300,
          104000,
          95800,
          87000,
          83900,
          93100,
          148000,
          100000,
          94100,
          115000,
          78500,
          93300,
          73900,
          97100,
          97700,
          96400,
          94400,
          102000,
          81800,
          60900,
          72000
         ]
        },
        {
         "marker": {
          "color": "rgb(12, 12, 140)"
         },
         "name": "Mid-Career 90th Percentile Salary",
         "type": "box",
         "y": [
          218000,
          220000,
          264000,
          261000,
          288000,
          190000,
          203800,
          209000,
          182000,
          180000,
          282000,
          185000,
          210000,
          201000,
          241000,
          326000,
          183000,
          201000,
          321000,
          178000,
          166000,
          228000,
          165000,
          147000,
          239100,
          251000,
          204000,
          209200,
          201000,
          156000,
          163000,
          153000,
          177000,
          177000,
          265000,
          215000,
          142000,
          182000,
          193000,
          202000,
          166000,
          166000,
          259200,
          209600,
          168000,
          177000,
          178600,
          173000,
          173000,
          176000,
          220400,
          160000,
          160000,
          188000,
          171000,
          266800,
          188000,
          181000,
          194100,
          155000,
          314200,
          170000,
          159000,
          149000,
          211000,
          258700,
          150000,
          172000,
          217400,
          162000,
          150000,
          154000,
          188900,
          212600,
          160000,
          146000,
          163000,
          163000,
          154000,
          263300,
          150000,
          162000,
          230000,
          153000,
          172000,
          172000,
          187000,
          130000,
          165000,
          165000,
          134000,
          168000,
          151000,
          137000,
          158000,
          143000,
          215000,
          194500,
          178000,
          170000,
          178000,
          148000,
          147000,
          121000,
          158000,
          221500,
          144000,
          141000,
          185400,
          137000,
          165000,
          139000,
          150000,
          158000,
          156000,
          151000,
          153000,
          189000,
          138000,
          147000,
          158000,
          148000,
          145000,
          162000,
          185000,
          128000,
          146000,
          123000,
          154000,
          142000,
          143000,
          162000,
          194000,
          150000,
          167000,
          163000,
          163000,
          165000,
          197700,
          151000,
          209000,
          145000,
          209000,
          152700,
          131000,
          164000,
          164000,
          160000,
          157000,
          184000,
          157000,
          153000,
          132000,
          153000,
          128000,
          136000,
          161000,
          157200,
          137000,
          133000,
          209600,
          140000,
          138000,
          132000,
          136000,
          132000,
          141000,
          133000,
          133000,
          141000,
          139000,
          155000,
          151000,
          139000,
          191400,
          149000,
          119000,
          132000,
          191900,
          123000,
          137000,
          117000,
          125000,
          191900,
          166900,
          133100,
          121000,
          151000,
          110000,
          156000,
          204900,
          123000,
          173000,
          135000,
          133000,
          150000,
          186000,
          150000,
          156000,
          156000,
          160000,
          123000,
          133000,
          142000,
          181900,
          116000,
          152800,
          145000,
          147000,
          126000,
          147000,
          156000,
          251200,
          141000,
          141600,
          126000,
          125000,
          185000,
          127000,
          186000,
          144000,
          186000,
          161000,
          161000,
          141000,
          127000,
          163000,
          129000,
          131000,
          110000,
          126000,
          136000,
          150000,
          119000,
          134600,
          115000,
          117000,
          135000,
          151000,
          131000,
          146000,
          128000,
          120000,
          117000,
          138000,
          161000,
          125000,
          207900,
          128000,
          140000,
          124000,
          124000,
          118000,
          117000,
          253000,
          179000,
          121000,
          169000,
          98900,
          181000,
          96200,
          129000,
          155000,
          138000,
          133000,
          134000,
          102000,
          87600,
          91300
         ]
        }
       ],
       "layout": {
        "template": {
         "data": {
          "bar": [
           {
            "error_x": {
             "color": "#2a3f5f"
            },
            "error_y": {
             "color": "#2a3f5f"
            },
            "marker": {
             "line": {
              "color": "#E5ECF6",
              "width": 0.5
             },
             "pattern": {
              "fillmode": "overlay",
              "size": 10,
              "solidity": 0.2
             }
            },
            "type": "bar"
           }
          ],
          "barpolar": [
           {
            "marker": {
             "line": {
              "color": "#E5ECF6",
              "width": 0.5
             },
             "pattern": {
              "fillmode": "overlay",
              "size": 10,
              "solidity": 0.2
             }
            },
            "type": "barpolar"
           }
          ],
          "carpet": [
           {
            "aaxis": {
             "endlinecolor": "#2a3f5f",
             "gridcolor": "white",
             "linecolor": "white",
             "minorgridcolor": "white",
             "startlinecolor": "#2a3f5f"
            },
            "baxis": {
             "endlinecolor": "#2a3f5f",
             "gridcolor": "white",
             "linecolor": "white",
             "minorgridcolor": "white",
             "startlinecolor": "#2a3f5f"
            },
            "type": "carpet"
           }
          ],
          "choropleth": [
           {
            "colorbar": {
             "outlinewidth": 0,
             "ticks": ""
            },
            "type": "choropleth"
           }
          ],
          "contour": [
           {
            "colorbar": {
             "outlinewidth": 0,
             "ticks": ""
            },
            "colorscale": [
             [
              0,
              "#0d0887"
             ],
             [
              0.1111111111111111,
              "#46039f"
             ],
             [
              0.2222222222222222,
              "#7201a8"
             ],
             [
              0.3333333333333333,
              "#9c179e"
             ],
             [
              0.4444444444444444,
              "#bd3786"
             ],
             [
              0.5555555555555556,
              "#d8576b"
             ],
             [
              0.6666666666666666,
              "#ed7953"
             ],
             [
              0.7777777777777778,
              "#fb9f3a"
             ],
             [
              0.8888888888888888,
              "#fdca26"
             ],
             [
              1,
              "#f0f921"
             ]
            ],
            "type": "contour"
           }
          ],
          "contourcarpet": [
           {
            "colorbar": {
             "outlinewidth": 0,
             "ticks": ""
            },
            "type": "contourcarpet"
           }
          ],
          "heatmap": [
           {
            "colorbar": {
             "outlinewidth": 0,
             "ticks": ""
            },
            "colorscale": [
             [
              0,
              "#0d0887"
             ],
             [
              0.1111111111111111,
              "#46039f"
             ],
             [
              0.2222222222222222,
              "#7201a8"
             ],
             [
              0.3333333333333333,
              "#9c179e"
             ],
             [
              0.4444444444444444,
              "#bd3786"
             ],
             [
              0.5555555555555556,
              "#d8576b"
             ],
             [
              0.6666666666666666,
              "#ed7953"
             ],
             [
              0.7777777777777778,
              "#fb9f3a"
             ],
             [
              0.8888888888888888,
              "#fdca26"
             ],
             [
              1,
              "#f0f921"
             ]
            ],
            "type": "heatmap"
           }
          ],
          "heatmapgl": [
           {
            "colorbar": {
             "outlinewidth": 0,
             "ticks": ""
            },
            "colorscale": [
             [
              0,
              "#0d0887"
             ],
             [
              0.1111111111111111,
              "#46039f"
             ],
             [
              0.2222222222222222,
              "#7201a8"
             ],
             [
              0.3333333333333333,
              "#9c179e"
             ],
             [
              0.4444444444444444,
              "#bd3786"
             ],
             [
              0.5555555555555556,
              "#d8576b"
             ],
             [
              0.6666666666666666,
              "#ed7953"
             ],
             [
              0.7777777777777778,
              "#fb9f3a"
             ],
             [
              0.8888888888888888,
              "#fdca26"
             ],
             [
              1,
              "#f0f921"
             ]
            ],
            "type": "heatmapgl"
           }
          ],
          "histogram": [
           {
            "marker": {
             "pattern": {
              "fillmode": "overlay",
              "size": 10,
              "solidity": 0.2
             }
            },
            "type": "histogram"
           }
          ],
          "histogram2d": [
           {
            "colorbar": {
             "outlinewidth": 0,
             "ticks": ""
            },
            "colorscale": [
             [
              0,
              "#0d0887"
             ],
             [
              0.1111111111111111,
              "#46039f"
             ],
             [
              0.2222222222222222,
              "#7201a8"
             ],
             [
              0.3333333333333333,
              "#9c179e"
             ],
             [
              0.4444444444444444,
              "#bd3786"
             ],
             [
              0.5555555555555556,
              "#d8576b"
             ],
             [
              0.6666666666666666,
              "#ed7953"
             ],
             [
              0.7777777777777778,
              "#fb9f3a"
             ],
             [
              0.8888888888888888,
              "#fdca26"
             ],
             [
              1,
              "#f0f921"
             ]
            ],
            "type": "histogram2d"
           }
          ],
          "histogram2dcontour": [
           {
            "colorbar": {
             "outlinewidth": 0,
             "ticks": ""
            },
            "colorscale": [
             [
              0,
              "#0d0887"
             ],
             [
              0.1111111111111111,
              "#46039f"
             ],
             [
              0.2222222222222222,
              "#7201a8"
             ],
             [
              0.3333333333333333,
              "#9c179e"
             ],
             [
              0.4444444444444444,
              "#bd3786"
             ],
             [
              0.5555555555555556,
              "#d8576b"
             ],
             [
              0.6666666666666666,
              "#ed7953"
             ],
             [
              0.7777777777777778,
              "#fb9f3a"
             ],
             [
              0.8888888888888888,
              "#fdca26"
             ],
             [
              1,
              "#f0f921"
             ]
            ],
            "type": "histogram2dcontour"
           }
          ],
          "mesh3d": [
           {
            "colorbar": {
             "outlinewidth": 0,
             "ticks": ""
            },
            "type": "mesh3d"
           }
          ],
          "parcoords": [
           {
            "line": {
             "colorbar": {
              "outlinewidth": 0,
              "ticks": ""
             }
            },
            "type": "parcoords"
           }
          ],
          "pie": [
           {
            "automargin": true,
            "type": "pie"
           }
          ],
          "scatter": [
           {
            "marker": {
             "colorbar": {
              "outlinewidth": 0,
              "ticks": ""
             }
            },
            "type": "scatter"
           }
          ],
          "scatter3d": [
           {
            "line": {
             "colorbar": {
              "outlinewidth": 0,
              "ticks": ""
             }
            },
            "marker": {
             "colorbar": {
              "outlinewidth": 0,
              "ticks": ""
             }
            },
            "type": "scatter3d"
           }
          ],
          "scattercarpet": [
           {
            "marker": {
             "colorbar": {
              "outlinewidth": 0,
              "ticks": ""
             }
            },
            "type": "scattercarpet"
           }
          ],
          "scattergeo": [
           {
            "marker": {
             "colorbar": {
              "outlinewidth": 0,
              "ticks": ""
             }
            },
            "type": "scattergeo"
           }
          ],
          "scattergl": [
           {
            "marker": {
             "colorbar": {
              "outlinewidth": 0,
              "ticks": ""
             }
            },
            "type": "scattergl"
           }
          ],
          "scattermapbox": [
           {
            "marker": {
             "colorbar": {
              "outlinewidth": 0,
              "ticks": ""
             }
            },
            "type": "scattermapbox"
           }
          ],
          "scatterpolar": [
           {
            "marker": {
             "colorbar": {
              "outlinewidth": 0,
              "ticks": ""
             }
            },
            "type": "scatterpolar"
           }
          ],
          "scatterpolargl": [
           {
            "marker": {
             "colorbar": {
              "outlinewidth": 0,
              "ticks": ""
             }
            },
            "type": "scatterpolargl"
           }
          ],
          "scatterternary": [
           {
            "marker": {
             "colorbar": {
              "outlinewidth": 0,
              "ticks": ""
             }
            },
            "type": "scatterternary"
           }
          ],
          "surface": [
           {
            "colorbar": {
             "outlinewidth": 0,
             "ticks": ""
            },
            "colorscale": [
             [
              0,
              "#0d0887"
             ],
             [
              0.1111111111111111,
              "#46039f"
             ],
             [
              0.2222222222222222,
              "#7201a8"
             ],
             [
              0.3333333333333333,
              "#9c179e"
             ],
             [
              0.4444444444444444,
              "#bd3786"
             ],
             [
              0.5555555555555556,
              "#d8576b"
             ],
             [
              0.6666666666666666,
              "#ed7953"
             ],
             [
              0.7777777777777778,
              "#fb9f3a"
             ],
             [
              0.8888888888888888,
              "#fdca26"
             ],
             [
              1,
              "#f0f921"
             ]
            ],
            "type": "surface"
           }
          ],
          "table": [
           {
            "cells": {
             "fill": {
              "color": "#EBF0F8"
             },
             "line": {
              "color": "white"
             }
            },
            "header": {
             "fill": {
              "color": "#C8D4E3"
             },
             "line": {
              "color": "white"
             }
            },
            "type": "table"
           }
          ]
         },
         "layout": {
          "annotationdefaults": {
           "arrowcolor": "#2a3f5f",
           "arrowhead": 0,
           "arrowwidth": 1
          },
          "autotypenumbers": "strict",
          "coloraxis": {
           "colorbar": {
            "outlinewidth": 0,
            "ticks": ""
           }
          },
          "colorscale": {
           "diverging": [
            [
             0,
             "#8e0152"
            ],
            [
             0.1,
             "#c51b7d"
            ],
            [
             0.2,
             "#de77ae"
            ],
            [
             0.3,
             "#f1b6da"
            ],
            [
             0.4,
             "#fde0ef"
            ],
            [
             0.5,
             "#f7f7f7"
            ],
            [
             0.6,
             "#e6f5d0"
            ],
            [
             0.7,
             "#b8e186"
            ],
            [
             0.8,
             "#7fbc41"
            ],
            [
             0.9,
             "#4d9221"
            ],
            [
             1,
             "#276419"
            ]
           ],
           "sequential": [
            [
             0,
             "#0d0887"
            ],
            [
             0.1111111111111111,
             "#46039f"
            ],
            [
             0.2222222222222222,
             "#7201a8"
            ],
            [
             0.3333333333333333,
             "#9c179e"
            ],
            [
             0.4444444444444444,
             "#bd3786"
            ],
            [
             0.5555555555555556,
             "#d8576b"
            ],
            [
             0.6666666666666666,
             "#ed7953"
            ],
            [
             0.7777777777777778,
             "#fb9f3a"
            ],
            [
             0.8888888888888888,
             "#fdca26"
            ],
            [
             1,
             "#f0f921"
            ]
           ],
           "sequentialminus": [
            [
             0,
             "#0d0887"
            ],
            [
             0.1111111111111111,
             "#46039f"
            ],
            [
             0.2222222222222222,
             "#7201a8"
            ],
            [
             0.3333333333333333,
             "#9c179e"
            ],
            [
             0.4444444444444444,
             "#bd3786"
            ],
            [
             0.5555555555555556,
             "#d8576b"
            ],
            [
             0.6666666666666666,
             "#ed7953"
            ],
            [
             0.7777777777777778,
             "#fb9f3a"
            ],
            [
             0.8888888888888888,
             "#fdca26"
            ],
            [
             1,
             "#f0f921"
            ]
           ]
          },
          "colorway": [
           "#636efa",
           "#EF553B",
           "#00cc96",
           "#ab63fa",
           "#FFA15A",
           "#19d3f3",
           "#FF6692",
           "#B6E880",
           "#FF97FF",
           "#FECB52"
          ],
          "font": {
           "color": "#2a3f5f"
          },
          "geo": {
           "bgcolor": "white",
           "lakecolor": "white",
           "landcolor": "#E5ECF6",
           "showlakes": true,
           "showland": true,
           "subunitcolor": "white"
          },
          "hoverlabel": {
           "align": "left"
          },
          "hovermode": "closest",
          "mapbox": {
           "style": "light"
          },
          "paper_bgcolor": "white",
          "plot_bgcolor": "#E5ECF6",
          "polar": {
           "angularaxis": {
            "gridcolor": "white",
            "linecolor": "white",
            "ticks": ""
           },
           "bgcolor": "#E5ECF6",
           "radialaxis": {
            "gridcolor": "white",
            "linecolor": "white",
            "ticks": ""
           }
          },
          "scene": {
           "xaxis": {
            "backgroundcolor": "#E5ECF6",
            "gridcolor": "white",
            "gridwidth": 2,
            "linecolor": "white",
            "showbackground": true,
            "ticks": "",
            "zerolinecolor": "white"
           },
           "yaxis": {
            "backgroundcolor": "#E5ECF6",
            "gridcolor": "white",
            "gridwidth": 2,
            "linecolor": "white",
            "showbackground": true,
            "ticks": "",
            "zerolinecolor": "white"
           },
           "zaxis": {
            "backgroundcolor": "#E5ECF6",
            "gridcolor": "white",
            "gridwidth": 2,
            "linecolor": "white",
            "showbackground": true,
            "ticks": "",
            "zerolinecolor": "white"
           }
          },
          "shapedefaults": {
           "line": {
            "color": "#2a3f5f"
           }
          },
          "ternary": {
           "aaxis": {
            "gridcolor": "white",
            "linecolor": "white",
            "ticks": ""
           },
           "baxis": {
            "gridcolor": "white",
            "linecolor": "white",
            "ticks": ""
           },
           "bgcolor": "#E5ECF6",
           "caxis": {
            "gridcolor": "white",
            "linecolor": "white",
            "ticks": ""
           }
          },
          "title": {
           "x": 0.05
          },
          "xaxis": {
           "automargin": true,
           "gridcolor": "white",
           "linecolor": "white",
           "ticks": "",
           "title": {
            "standoff": 15
           },
           "zerolinecolor": "white",
           "zerolinewidth": 2
          },
          "yaxis": {
           "automargin": true,
           "gridcolor": "white",
           "linecolor": "white",
           "ticks": "",
           "title": {
            "standoff": 15
           },
           "zerolinecolor": "white",
           "zerolinewidth": 2
          }
         }
        }
       }
      },
      "text/html": [
       "<div>                            <div id=\"b112b4de-f7c9-41c3-a361-21aa9cf5345f\" class=\"plotly-graph-div\" style=\"height:525px; width:100%;\"></div>            <script type=\"text/javascript\">                require([\"plotly\"], function(Plotly) {                    window.PLOTLYENV=window.PLOTLYENV || {};                                    if (document.getElementById(\"b112b4de-f7c9-41c3-a361-21aa9cf5345f\")) {                    Plotly.newPlot(                        \"b112b4de-f7c9-41c3-a361-21aa9cf5345f\",                        [{\"marker\":{\"color\":\"rgb(214, 12, 140)\"},\"name\":\"Starting Career Median Salary\",\"y\":[75500.0,72200.0,71800.0,66500.0,63400.0,62400.0,62200.0,61800.0,61100.0,61000.0,60900.0,60600.0,60300.0,59900.0,59400.0,59100.0,58300.0,58100.0,58000.0,57200.0,57100.0,56200.0,56000.0,55800.0,54500.0,54100.0,53900.0,53600.0,53600.0,53500.0,53500.0,53000.0,52900.0,52900.0,52800.0,52700.0,52700.0,52700.0,52600.0,52300.0,52000.0,52000.0,51900.0,51700.0,51400.0,51100.0,51000.0,50500.0,50500.0,50300.0,50200.0,49900.0,49900.0,49700.0,49700.0,49700.0,49700.0,49500.0,49200.0,49200.0,49100.0,48900.0,48900.0,48800.0,48600.0,48600.0,48400.0,48300.0,48100.0,48000.0,47800.0,47800.0,47700.0,47500.0,47500.0,47500.0,47400.0,47400.0,47400.0,47300.0,47300.0,47300.0,47200.0,47200.0,47100.0,47100.0,47100.0,47000.0,46900.0,46900.0,46800.0,46600.0,46600.0,46600.0,46500.0,46500.0,46500.0,46400.0,46300.0,46300.0,46300.0,46200.0,46200.0,46200.0,46200.0,46100.0,46100.0,46000.0,46000.0,45900.0,45900.0,45800.0,45700.0,45700.0,45700.0,45600.0,45500.0,45500.0,45400.0,45400.0,45400.0,45400.0,45400.0,45300.0,45300.0,45200.0,45100.0,45100.0,45100.0,44900.0,44900.0,44900.0,44800.0,44800.0,44700.0,44700.0,44700.0,44700.0,44700.0,44500.0,44500.0,44500.0,44500.0,44500.0,44300.0,44100.0,44100.0,44100.0,44000.0,44000.0,43900.0,43800.0,43800.0,43800.0,43800.0,43600.0,43600.0,43500.0,43500.0,43400.0,43400.0,43300.0,43300.0,43200.0,43200.0,43100.0,43100.0,43100.0,43100.0,43100.0,43000.0,42900.0,42800.0,42800.0,42800.0,42800.0,42700.0,42700.0,42600.0,42600.0,42600.0,42600.0,42600.0,42600.0,42600.0,42500.0,42500.0,42400.0,42400.0,42400.0,42400.0,42300.0,42300.0,42300.0,42200.0,42200.0,42200.0,42200.0,42100.0,42100.0,42100.0,42000.0,42000.0,42000.0,42000.0,41900.0,41800.0,41800.0,41800.0,41800.0,41800.0,41700.0,41600.0,41600.0,41500.0,41500.0,41400.0,41400.0,41400.0,41400.0,41400.0,41400.0,41300.0,41300.0,41200.0,41100.0,41100.0,41100.0,41100.0,40800.0,40800.0,40800.0,40800.0,40700.0,40500.0,40400.0,40400.0,40300.0,40200.0,40000.0,39800.0,39800.0,39500.0,39400.0,39300.0,39200.0,39200.0,39200.0,39100.0,38900.0,38900.0,38700.0,38700.0,38600.0,38500.0,38000.0,38000.0,38000.0,37900.0,37800.0,37700.0,37500.0,37500.0,37300.0,36900.0,36100.0,35800.0,35300.0,34800.0],\"type\":\"box\"},{\"marker\":{\"color\":\"rgb(0, 128, 128)\"},\"name\":\"Mid-Career Median Salary\",\"y\":[123000.0,126000.0,122000.0,131000.0,124000.0,114000.0,114000.0,111000.0,110000.0,114000.0,120000.0,105000.0,110000.0,112000.0,107000.0,126000.0,106000.0,106000.0,134000.0,101000.0,95800.0,109000.0,97800.0,93400.0,107000.0,110000.0,107000.0,104000.0,95900.0,95600.0,95400.0,96700.0,96100.0,96100.0,108000.0,103000.0,80700.0,93000.0,101000.0,99600.0,95000.0,95000.0,105000.0,102000.0,90500.0,101000.0,93400.0,95000.0,95000.0,91800.0,106000.0,85700.0,85700.0,93900.0,96100.0,104000.0,93900.0,93000.0,83700.0,84300.0,92800.0,87800.0,84600.0,85300.0,94600.0,101000.0,86000.0,96700.0,107000.0,88800.0,86900.0,82400.0,94200.0,103000.0,86100.0,81700.0,84100.0,84100.0,88100.0,96500.0,86400.0,84200.0,95800.0,83300.0,87900.0,87900.0,97600.0,77800.0,87800.0,87800.0,81300.0,88200.0,77500.0,81500.0,79400.0,82900.0,97900.0,85800.0,84000.0,85300.0,84000.0,84200.0,81700.0,80000.0,85200.0,104000.0,84400.0,79900.0,94600.0,72600.0,84500.0,78500.0,74000.0,87000.0,80900.0,78200.0,80400.0,85200.0,80800.0,84600.0,86600.0,83200.0,84700.0,84700.0,86200.0,71600.0,83300.0,77800.0,84700.0,82000.0,73400.0,83700.0,82700.0,79000.0,82900.0,83900.0,83900.0,84100.0,85800.0,79300.0,92200.0,78700.0,92200.0,80600.0,79500.0,86000.0,86000.0,82800.0,80600.0,83900.0,85300.0,74600.0,78700.0,74600.0,76000.0,68300.0,80800.0,80100.0,73100.0,72100.0,81600.0,74700.0,79000.0,77700.0,75500.0,82700.0,78100.0,74000.0,75900.0,78100.0,72500.0,81500.0,80700.0,76100.0,83500.0,78300.0,75400.0,72100.0,83600.0,70900.0,71100.0,71300.0,71700.0,83600.0,76600.0,74400.0,70700.0,72600.0,67100.0,81600.0,94100.0,74600.0,81300.0,73800.0,69300.0,73400.0,78400.0,73400.0,73000.0,73000.0,80000.0,68400.0,69800.0,73400.0,83500.0,56500.0,78900.0,74000.0,78300.0,71400.0,78300.0,81000.0,74600.0,81600.0,67500.0,72600.0,64800.0,88300.0,69700.0,79700.0,67100.0,79700.0,81400.0,81400.0,72100.0,70300.0,76300.0,73500.0,71100.0,69500.0,62400.0,76200.0,75500.0,71400.0,81100.0,69100.0,58200.0,72100.0,67500.0,71700.0,72100.0,64000.0,63900.0,63600.0,66400.0,74500.0,70100.0,78200.0,64500.0,72600.0,65800.0,62600.0,63300.0,70900.0,81400.0,70300.0,71400.0,77800.0,50600.0,66200.0,59200.0,64400.0,76700.0,71900.0,66600.0,69500.0,60600.0,43900.0,60600.0],\"type\":\"box\"},{\"marker\":{\"color\":\"rgb(12, 15, 75)\"},\"name\":\"Mid-Career 10th Percentile Salary\",\"y\":[75666.66666666667,76800.0,72666.66666666667,68900.0,54800.0,66800.0,64733.333333333336,63300.0,71600.0,80000.0,55900.0,68700.0,56800.0,59500.0,50300.0,58000.0,67200.0,62200.0,63100.0,55000.0,67600.0,55400.0,56100.0,71500.0,63966.666666666664,62800.0,70600.0,62266.666666666664,50900.0,50700.0,50600.0,55200.0,48200.0,48200.0,60000.0,52200.0,49800.0,50900.0,51300.0,52000.0,50400.0,50400.0,53266.666666666664,59466.666666666664,49900.0,51700.0,53600.0,51300.0,51300.0,48100.0,57200.0,46300.0,46300.0,50100.0,51100.0,57066.666666666664,50100.0,47200.0,45200.0,46000.0,49533.333333333336,47400.0,45000.0,47000.0,44500.0,54766.666666666664,50500.0,47800.0,60533.333333333336,46100.0,51300.0,42900.0,54433.333333333336,57466.666666666664,44800.0,44700.0,44600.0,44600.0,46800.0,52400.0,45100.0,50200.0,48700.0,49200.0,45400.0,45400.0,51600.0,46900.0,43700.0,43700.0,37200.0,43100.0,40200.0,48900.0,38700.0,41900.0,42000.0,49766.666666666664,43600.0,44200.0,43600.0,49000.0,45900.0,42100.0,45500.0,58166.666666666664,46400.0,42000.0,51733.333333333336,39800.0,44500.0,48400.0,44000.0,45400.0,42200.0,36300.0,44500.0,38700.0,46400.0,44400.0,50900.0,43000.0,45400.0,43600.0,41300.0,39000.0,46900.0,39000.0,47400.0,43000.0,35400.0,45500.0,44700.0,43800.0,41200.0,43300.0,43300.0,46100.0,50700.0,43300.0,47000.0,41500.0,47000.0,43300.0,37400.0,43100.0,43100.0,43200.0,43400.0,45100.0,45400.0,41900.0,41600.0,41900.0,40400.0,40900.0,43900.0,48300.0,39500.0,37700.0,42666.666666666664,39500.0,37200.0,43300.0,40500.0,46100.0,39700.0,38200.0,40100.0,39700.0,38300.0,43400.0,40100.0,40100.0,47366.666666666664,43000.0,41300.0,30800.0,45900.0,40700.0,40700.0,36000.0,39500.0,45900.0,47233.333333333336,43700.0,39100.0,43300.0,27000.0,44800.0,50400.0,40600.0,39300.0,40100.0,37500.0,36600.0,38100.0,36600.0,39600.0,39600.0,35600.0,37400.0,41600.0,39100.0,48533.333333333336,30700.0,48700.0,43000.0,41700.0,38700.0,41700.0,43500.0,39133.333333333336,41800.0,37366.666666666664,39500.0,35000.0,49500.0,36100.0,40400.0,36800.0,40400.0,40100.0,40100.0,41700.0,40600.0,42000.0,34100.0,39600.0,37400.0,32100.0,38400.0,38200.0,40900.0,49500.0,37200.0,25600.0,37900.0,38400.0,36300.0,38200.0,38400.0,38800.0,40400.0,37700.0,32800.0,43000.0,44100.0,35500.0,38200.0,36300.0,36100.0,33600.0,36000.0,41466.666666666664,35100.0,33700.0,40400.0,22600.0,32800.0,32200.0,32100.0,40000.0,37000.0,39000.0,33300.0,35500.0,27000.0,34300.0],\"type\":\"box\"},{\"marker\":{\"color\":\"rgb(12, 100, 190)\"},\"name\":\"Mid-Career 25th Percentile Salary\",\"y\":[104000.0,99200.0,96000.0,100000.0,86200.0,94300.0,80200.0,80100.0,85500.0,91200.0,79200.0,81900.0,79800.0,81000.0,71900.0,80600.0,85200.0,87900.0,90200.0,74700.0,80400.0,74400.0,77400.0,81900.0,84900.0,80600.0,79300.0,82800.0,71200.0,70500.0,71400.0,74000.0,68900.0,68900.0,76700.0,71800.0,64000.0,69400.0,72500.0,71600.0,68300.0,68300.0,54800.0,76400.0,67400.0,75400.0,67400.0,71200.0,71200.0,65100.0,65600.0,62000.0,62000.0,67400.0,71300.0,67200.0,67400.0,67100.0,51900.0,62400.0,55800.0,62400.0,62100.0,59800.0,59400.0,63300.0,61800.0,66000.0,74600.0,66400.0,67200.0,59600.0,69100.0,69400.0,61700.0,58800.0,60700.0,60700.0,62800.0,60700.0,62700.0,59800.0,75200.0,64800.0,62900.0,62900.0,69000.0,59100.0,61300.0,61300.0,59900.0,61300.0,58100.0,60100.0,51600.0,54600.0,62500.0,63500.0,60400.0,61500.0,60400.0,63200.0,61400.0,62600.0,61800.0,70500.0,58600.0,56200.0,60600.0,56600.0,64000.0,61200.0,53100.0,62500.0,56600.0,53800.0,57800.0,58400.0,61200.0,60000.0,65000.0,58400.0,62700.0,59000.0,61000.0,52400.0,64000.0,55800.0,62500.0,56700.0,49600.0,60700.0,58000.0,57100.0,60300.0,61100.0,61100.0,62000.0,66300.0,58800.0,63100.0,54000.0,63100.0,49300.0,53800.0,57800.0,57800.0,60700.0,56400.0,59800.0,60100.0,53200.0,55400.0,53200.0,56300.0,50600.0,60200.0,64800.0,51600.0,50400.0,46400.0,53800.0,54100.0,56200.0,55800.0,67800.0,55700.0,53200.0,54100.0,55700.0,51300.0,57500.0,56500.0,56200.0,58600.0,57300.0,56700.0,47000.0,54100.0,52300.0,53000.0,56300.0,51500.0,54100.0,65100.0,56700.0,49800.0,56100.0,44100.0,57200.0,57100.0,54000.0,47600.0,52500.0,47200.0,52800.0,56200.0,52800.0,52800.0,52800.0,54300.0,51900.0,55000.0,55200.0,62100.0,39700.0,67200.0,55300.0,56400.0,49400.0,56400.0,57100.0,42800.0,59100.0,44600.0,54400.0,47300.0,57400.0,49100.0,53500.0,49600.0,53500.0,56500.0,56500.0,55600.0,53300.0,54500.0,49900.0,51500.0,48700.0,47400.0,54100.0,53500.0,53100.0,67400.0,50400.0,46000.0,52800.0,52000.0,49900.0,51800.0,45100.0,47200.0,47900.0,49700.0,46100.0,53400.0,54100.0,48200.0,53400.0,48100.0,45800.0,45300.0,50500.0,43000.0,51200.0,50500.0,53000.0,31800.0,44200.0,40500.0,46600.0,54300.0,51500.0,49500.0,46900.0,46800.0,32200.0,46500.0],\"type\":\"box\"},{\"marker\":{\"color\":\"rgb(12, 128, 128)\"},\"name\":\"Mid-Career 75th Percentile Salary\",\"y\":[161000.0,168000.0,180000.0,190000.0,179000.0,143000.0,142000.0,150000.0,140000.0,137000.0,192000.0,138000.0,160000.0,149000.0,161000.0,198000.0,137000.0,142000.0,234000.0,133000.0,122000.0,159000.0,121000.0,122000.0,162000.0,156000.0,144000.0,146000.0,146000.0,122000.0,124000.0,117000.0,132000.0,132000.0,167000.0,146000.0,106000.0,128000.0,139000.0,135000.0,126000.0,126000.0,157000.0,143000.0,121000.0,131000.0,123000.0,129000.0,129000.0,128000.0,143000.0,117000.0,117000.0,129000.0,131000.0,167000.0,129000.0,129000.0,123000.0,115000.0,185000.0,118000.0,112000.0,115000.0,151000.0,161000.0,111000.0,123000.0,146000.0,120000.0,114000.0,111000.0,129000.0,141000.0,117000.0,110000.0,114000.0,114000.0,122000.0,162000.0,114000.0,110000.0,135000.0,112000.0,120000.0,120000.0,128000.0,105000.0,120000.0,120000.0,109000.0,122000.0,111000.0,104000.0,114000.0,113000.0,126000.0,129000.0,119000.0,119000.0,119000.0,112000.0,110000.0,99500.0,116000.0,146000.0,105000.0,106000.0,123000.0,99300.0,119000.0,100000.0,104000.0,119000.0,113000.0,109000.0,108000.0,129000.0,106000.0,109000.0,113000.0,116000.0,109000.0,113000.0,120000.0,100000.0,113000.0,100000.0,113000.0,104000.0,101000.0,116000.0,122000.0,112000.0,114000.0,116000.0,116000.0,121000.0,132000.0,108000.0,135000.0,105000.0,135000.0,101000.0,102000.0,118000.0,118000.0,113000.0,111000.0,129000.0,112000.0,106000.0,101000.0,106000.0,104000.0,91600.0,111000.0,111000.0,97000.0,99500.0,128000.0,95700.0,106000.0,107000.0,98200.0,106000.0,106000.0,99500.0,100000.0,106000.0,99300.0,117000.0,114000.0,101000.0,125000.0,107000.0,99200.0,92200.0,123000.0,94400.0,99500.0,94400.0,98400.0,123000.0,116000.0,94900.0,92700.0,99600.0,84900.0,115000.0,131000.0,93700.0,117000.0,103000.0,93100.0,106000.0,117000.0,106000.0,107000.0,107000.0,100000.0,100000.0,94000.0,105000.0,122000.0,78400.0,110000.0,99900.0,114000.0,101000.0,114000.0,111000.0,147000.0,105000.0,93100.0,97400.0,93100.0,133000.0,93500.0,108000.0,97600.0,108000.0,117000.0,117000.0,99300.0,95200.0,107000.0,99400.0,98100.0,87500.0,80400.0,105000.0,99300.0,84900.0,101000.0,90800.0,84600.0,95400.0,98700.0,98400.0,101000.0,95400.0,91600.0,85700.0,90100.0,110000.0,91400.0,131000.0,89300.0,104000.0,95800.0,87000.0,83900.0,93100.0,148000.0,100000.0,94100.0,115000.0,78500.0,93300.0,73900.0,97100.0,97700.0,96400.0,94400.0,102000.0,81800.0,60900.0,72000.0],\"type\":\"box\"},{\"marker\":{\"color\":\"rgb(12, 12, 140)\"},\"name\":\"Mid-Career 90th Percentile Salary\",\"y\":[218000.0,220000.0,264000.0,261000.0,288000.0,190000.0,203800.0,209000.0,182000.0,180000.0,282000.0,185000.0,210000.0,201000.0,241000.0,326000.0,183000.0,201000.0,321000.0,178000.0,166000.0,228000.0,165000.0,147000.0,239100.0,251000.0,204000.0,209200.0,201000.0,156000.0,163000.0,153000.0,177000.0,177000.0,265000.0,215000.0,142000.0,182000.0,193000.0,202000.0,166000.0,166000.0,259200.0,209600.0,168000.0,177000.0,178600.0,173000.0,173000.0,176000.0,220400.0,160000.0,160000.0,188000.0,171000.0,266800.0,188000.0,181000.0,194100.0,155000.0,314200.0,170000.0,159000.0,149000.0,211000.0,258700.0,150000.0,172000.0,217400.0,162000.0,150000.0,154000.0,188900.0,212600.0,160000.0,146000.0,163000.0,163000.0,154000.0,263300.0,150000.0,162000.0,230000.0,153000.0,172000.0,172000.0,187000.0,130000.0,165000.0,165000.0,134000.0,168000.0,151000.0,137000.0,158000.0,143000.0,215000.0,194500.0,178000.0,170000.0,178000.0,148000.0,147000.0,121000.0,158000.0,221500.0,144000.0,141000.0,185400.0,137000.0,165000.0,139000.0,150000.0,158000.0,156000.0,151000.0,153000.0,189000.0,138000.0,147000.0,158000.0,148000.0,145000.0,162000.0,185000.0,128000.0,146000.0,123000.0,154000.0,142000.0,143000.0,162000.0,194000.0,150000.0,167000.0,163000.0,163000.0,165000.0,197700.0,151000.0,209000.0,145000.0,209000.0,152700.0,131000.0,164000.0,164000.0,160000.0,157000.0,184000.0,157000.0,153000.0,132000.0,153000.0,128000.0,136000.0,161000.0,157200.0,137000.0,133000.0,209600.0,140000.0,138000.0,132000.0,136000.0,132000.0,141000.0,133000.0,133000.0,141000.0,139000.0,155000.0,151000.0,139000.0,191400.0,149000.0,119000.0,132000.0,191900.0,123000.0,137000.0,117000.0,125000.0,191900.0,166900.0,133100.0,121000.0,151000.0,110000.0,156000.0,204900.0,123000.0,173000.0,135000.0,133000.0,150000.0,186000.0,150000.0,156000.0,156000.0,160000.0,123000.0,133000.0,142000.0,181900.0,116000.0,152800.0,145000.0,147000.0,126000.0,147000.0,156000.0,251200.0,141000.0,141600.0,126000.0,125000.0,185000.0,127000.0,186000.0,144000.0,186000.0,161000.0,161000.0,141000.0,127000.0,163000.0,129000.0,131000.0,110000.0,126000.0,136000.0,150000.0,119000.0,134600.0,115000.0,117000.0,135000.0,151000.0,131000.0,146000.0,128000.0,120000.0,117000.0,138000.0,161000.0,125000.0,207900.0,128000.0,140000.0,124000.0,124000.0,118000.0,117000.0,253000.0,179000.0,121000.0,169000.0,98900.0,181000.0,96200.0,129000.0,155000.0,138000.0,133000.0,134000.0,102000.0,87600.0,91300.0],\"type\":\"box\"}],                        {\"template\":{\"data\":{\"barpolar\":[{\"marker\":{\"line\":{\"color\":\"#E5ECF6\",\"width\":0.5},\"pattern\":{\"fillmode\":\"overlay\",\"size\":10,\"solidity\":0.2}},\"type\":\"barpolar\"}],\"bar\":[{\"error_x\":{\"color\":\"#2a3f5f\"},\"error_y\":{\"color\":\"#2a3f5f\"},\"marker\":{\"line\":{\"color\":\"#E5ECF6\",\"width\":0.5},\"pattern\":{\"fillmode\":\"overlay\",\"size\":10,\"solidity\":0.2}},\"type\":\"bar\"}],\"carpet\":[{\"aaxis\":{\"endlinecolor\":\"#2a3f5f\",\"gridcolor\":\"white\",\"linecolor\":\"white\",\"minorgridcolor\":\"white\",\"startlinecolor\":\"#2a3f5f\"},\"baxis\":{\"endlinecolor\":\"#2a3f5f\",\"gridcolor\":\"white\",\"linecolor\":\"white\",\"minorgridcolor\":\"white\",\"startlinecolor\":\"#2a3f5f\"},\"type\":\"carpet\"}],\"choropleth\":[{\"colorbar\":{\"outlinewidth\":0,\"ticks\":\"\"},\"type\":\"choropleth\"}],\"contourcarpet\":[{\"colorbar\":{\"outlinewidth\":0,\"ticks\":\"\"},\"type\":\"contourcarpet\"}],\"contour\":[{\"colorbar\":{\"outlinewidth\":0,\"ticks\":\"\"},\"colorscale\":[[0.0,\"#0d0887\"],[0.1111111111111111,\"#46039f\"],[0.2222222222222222,\"#7201a8\"],[0.3333333333333333,\"#9c179e\"],[0.4444444444444444,\"#bd3786\"],[0.5555555555555556,\"#d8576b\"],[0.6666666666666666,\"#ed7953\"],[0.7777777777777778,\"#fb9f3a\"],[0.8888888888888888,\"#fdca26\"],[1.0,\"#f0f921\"]],\"type\":\"contour\"}],\"heatmapgl\":[{\"colorbar\":{\"outlinewidth\":0,\"ticks\":\"\"},\"colorscale\":[[0.0,\"#0d0887\"],[0.1111111111111111,\"#46039f\"],[0.2222222222222222,\"#7201a8\"],[0.3333333333333333,\"#9c179e\"],[0.4444444444444444,\"#bd3786\"],[0.5555555555555556,\"#d8576b\"],[0.6666666666666666,\"#ed7953\"],[0.7777777777777778,\"#fb9f3a\"],[0.8888888888888888,\"#fdca26\"],[1.0,\"#f0f921\"]],\"type\":\"heatmapgl\"}],\"heatmap\":[{\"colorbar\":{\"outlinewidth\":0,\"ticks\":\"\"},\"colorscale\":[[0.0,\"#0d0887\"],[0.1111111111111111,\"#46039f\"],[0.2222222222222222,\"#7201a8\"],[0.3333333333333333,\"#9c179e\"],[0.4444444444444444,\"#bd3786\"],[0.5555555555555556,\"#d8576b\"],[0.6666666666666666,\"#ed7953\"],[0.7777777777777778,\"#fb9f3a\"],[0.8888888888888888,\"#fdca26\"],[1.0,\"#f0f921\"]],\"type\":\"heatmap\"}],\"histogram2dcontour\":[{\"colorbar\":{\"outlinewidth\":0,\"ticks\":\"\"},\"colorscale\":[[0.0,\"#0d0887\"],[0.1111111111111111,\"#46039f\"],[0.2222222222222222,\"#7201a8\"],[0.3333333333333333,\"#9c179e\"],[0.4444444444444444,\"#bd3786\"],[0.5555555555555556,\"#d8576b\"],[0.6666666666666666,\"#ed7953\"],[0.7777777777777778,\"#fb9f3a\"],[0.8888888888888888,\"#fdca26\"],[1.0,\"#f0f921\"]],\"type\":\"histogram2dcontour\"}],\"histogram2d\":[{\"colorbar\":{\"outlinewidth\":0,\"ticks\":\"\"},\"colorscale\":[[0.0,\"#0d0887\"],[0.1111111111111111,\"#46039f\"],[0.2222222222222222,\"#7201a8\"],[0.3333333333333333,\"#9c179e\"],[0.4444444444444444,\"#bd3786\"],[0.5555555555555556,\"#d8576b\"],[0.6666666666666666,\"#ed7953\"],[0.7777777777777778,\"#fb9f3a\"],[0.8888888888888888,\"#fdca26\"],[1.0,\"#f0f921\"]],\"type\":\"histogram2d\"}],\"histogram\":[{\"marker\":{\"pattern\":{\"fillmode\":\"overlay\",\"size\":10,\"solidity\":0.2}},\"type\":\"histogram\"}],\"mesh3d\":[{\"colorbar\":{\"outlinewidth\":0,\"ticks\":\"\"},\"type\":\"mesh3d\"}],\"parcoords\":[{\"line\":{\"colorbar\":{\"outlinewidth\":0,\"ticks\":\"\"}},\"type\":\"parcoords\"}],\"pie\":[{\"automargin\":true,\"type\":\"pie\"}],\"scatter3d\":[{\"line\":{\"colorbar\":{\"outlinewidth\":0,\"ticks\":\"\"}},\"marker\":{\"colorbar\":{\"outlinewidth\":0,\"ticks\":\"\"}},\"type\":\"scatter3d\"}],\"scattercarpet\":[{\"marker\":{\"colorbar\":{\"outlinewidth\":0,\"ticks\":\"\"}},\"type\":\"scattercarpet\"}],\"scattergeo\":[{\"marker\":{\"colorbar\":{\"outlinewidth\":0,\"ticks\":\"\"}},\"type\":\"scattergeo\"}],\"scattergl\":[{\"marker\":{\"colorbar\":{\"outlinewidth\":0,\"ticks\":\"\"}},\"type\":\"scattergl\"}],\"scattermapbox\":[{\"marker\":{\"colorbar\":{\"outlinewidth\":0,\"ticks\":\"\"}},\"type\":\"scattermapbox\"}],\"scatterpolargl\":[{\"marker\":{\"colorbar\":{\"outlinewidth\":0,\"ticks\":\"\"}},\"type\":\"scatterpolargl\"}],\"scatterpolar\":[{\"marker\":{\"colorbar\":{\"outlinewidth\":0,\"ticks\":\"\"}},\"type\":\"scatterpolar\"}],\"scatter\":[{\"marker\":{\"colorbar\":{\"outlinewidth\":0,\"ticks\":\"\"}},\"type\":\"scatter\"}],\"scatterternary\":[{\"marker\":{\"colorbar\":{\"outlinewidth\":0,\"ticks\":\"\"}},\"type\":\"scatterternary\"}],\"surface\":[{\"colorbar\":{\"outlinewidth\":0,\"ticks\":\"\"},\"colorscale\":[[0.0,\"#0d0887\"],[0.1111111111111111,\"#46039f\"],[0.2222222222222222,\"#7201a8\"],[0.3333333333333333,\"#9c179e\"],[0.4444444444444444,\"#bd3786\"],[0.5555555555555556,\"#d8576b\"],[0.6666666666666666,\"#ed7953\"],[0.7777777777777778,\"#fb9f3a\"],[0.8888888888888888,\"#fdca26\"],[1.0,\"#f0f921\"]],\"type\":\"surface\"}],\"table\":[{\"cells\":{\"fill\":{\"color\":\"#EBF0F8\"},\"line\":{\"color\":\"white\"}},\"header\":{\"fill\":{\"color\":\"#C8D4E3\"},\"line\":{\"color\":\"white\"}},\"type\":\"table\"}]},\"layout\":{\"annotationdefaults\":{\"arrowcolor\":\"#2a3f5f\",\"arrowhead\":0,\"arrowwidth\":1},\"autotypenumbers\":\"strict\",\"coloraxis\":{\"colorbar\":{\"outlinewidth\":0,\"ticks\":\"\"}},\"colorscale\":{\"diverging\":[[0,\"#8e0152\"],[0.1,\"#c51b7d\"],[0.2,\"#de77ae\"],[0.3,\"#f1b6da\"],[0.4,\"#fde0ef\"],[0.5,\"#f7f7f7\"],[0.6,\"#e6f5d0\"],[0.7,\"#b8e186\"],[0.8,\"#7fbc41\"],[0.9,\"#4d9221\"],[1,\"#276419\"]],\"sequential\":[[0.0,\"#0d0887\"],[0.1111111111111111,\"#46039f\"],[0.2222222222222222,\"#7201a8\"],[0.3333333333333333,\"#9c179e\"],[0.4444444444444444,\"#bd3786\"],[0.5555555555555556,\"#d8576b\"],[0.6666666666666666,\"#ed7953\"],[0.7777777777777778,\"#fb9f3a\"],[0.8888888888888888,\"#fdca26\"],[1.0,\"#f0f921\"]],\"sequentialminus\":[[0.0,\"#0d0887\"],[0.1111111111111111,\"#46039f\"],[0.2222222222222222,\"#7201a8\"],[0.3333333333333333,\"#9c179e\"],[0.4444444444444444,\"#bd3786\"],[0.5555555555555556,\"#d8576b\"],[0.6666666666666666,\"#ed7953\"],[0.7777777777777778,\"#fb9f3a\"],[0.8888888888888888,\"#fdca26\"],[1.0,\"#f0f921\"]]},\"colorway\":[\"#636efa\",\"#EF553B\",\"#00cc96\",\"#ab63fa\",\"#FFA15A\",\"#19d3f3\",\"#FF6692\",\"#B6E880\",\"#FF97FF\",\"#FECB52\"],\"font\":{\"color\":\"#2a3f5f\"},\"geo\":{\"bgcolor\":\"white\",\"lakecolor\":\"white\",\"landcolor\":\"#E5ECF6\",\"showlakes\":true,\"showland\":true,\"subunitcolor\":\"white\"},\"hoverlabel\":{\"align\":\"left\"},\"hovermode\":\"closest\",\"mapbox\":{\"style\":\"light\"},\"paper_bgcolor\":\"white\",\"plot_bgcolor\":\"#E5ECF6\",\"polar\":{\"angularaxis\":{\"gridcolor\":\"white\",\"linecolor\":\"white\",\"ticks\":\"\"},\"bgcolor\":\"#E5ECF6\",\"radialaxis\":{\"gridcolor\":\"white\",\"linecolor\":\"white\",\"ticks\":\"\"}},\"scene\":{\"xaxis\":{\"backgroundcolor\":\"#E5ECF6\",\"gridcolor\":\"white\",\"gridwidth\":2,\"linecolor\":\"white\",\"showbackground\":true,\"ticks\":\"\",\"zerolinecolor\":\"white\"},\"yaxis\":{\"backgroundcolor\":\"#E5ECF6\",\"gridcolor\":\"white\",\"gridwidth\":2,\"linecolor\":\"white\",\"showbackground\":true,\"ticks\":\"\",\"zerolinecolor\":\"white\"},\"zaxis\":{\"backgroundcolor\":\"#E5ECF6\",\"gridcolor\":\"white\",\"gridwidth\":2,\"linecolor\":\"white\",\"showbackground\":true,\"ticks\":\"\",\"zerolinecolor\":\"white\"}},\"shapedefaults\":{\"line\":{\"color\":\"#2a3f5f\"}},\"ternary\":{\"aaxis\":{\"gridcolor\":\"white\",\"linecolor\":\"white\",\"ticks\":\"\"},\"baxis\":{\"gridcolor\":\"white\",\"linecolor\":\"white\",\"ticks\":\"\"},\"bgcolor\":\"#E5ECF6\",\"caxis\":{\"gridcolor\":\"white\",\"linecolor\":\"white\",\"ticks\":\"\"}},\"title\":{\"x\":0.05},\"xaxis\":{\"automargin\":true,\"gridcolor\":\"white\",\"linecolor\":\"white\",\"ticks\":\"\",\"title\":{\"standoff\":15},\"zerolinecolor\":\"white\",\"zerolinewidth\":2},\"yaxis\":{\"automargin\":true,\"gridcolor\":\"white\",\"linecolor\":\"white\",\"ticks\":\"\",\"title\":{\"standoff\":15},\"zerolinecolor\":\"white\",\"zerolinewidth\":2}}}},                        {\"responsive\": true}                    ).then(function(){\n",
       "                            \n",
       "var gd = document.getElementById('b112b4de-f7c9-41c3-a361-21aa9cf5345f');\n",
       "var x = new MutationObserver(function (mutations, observer) {{\n",
       "        var display = window.getComputedStyle(gd).display;\n",
       "        if (!display || display === 'none') {{\n",
       "            console.log([gd, 'removed!']);\n",
       "            Plotly.purge(gd);\n",
       "            observer.disconnect();\n",
       "        }}\n",
       "}});\n",
       "\n",
       "// Listen for the removal of the full notebook cells\n",
       "var notebookContainer = gd.closest('#notebook-container');\n",
       "if (notebookContainer) {{\n",
       "    x.observe(notebookContainer, {childList: true});\n",
       "}}\n",
       "\n",
       "// Listen for the clearing of the current output cell\n",
       "var outputEl = gd.closest('.output');\n",
       "if (outputEl) {{\n",
       "    x.observe(outputEl, {childList: true});\n",
       "}}\n",
       "\n",
       "                        })                };                });            </script>        </div>"
      ]
     },
     "metadata": {},
     "output_type": "display_data"
    }
   ],
   "source": [
    "# Colored Box Plot\n",
    "# prepare data frame\n",
    "df1 = salariesByCollege_df.sort_values('starting', ascending=False)\n",
    "\n",
    "trace0 = go.Box(\n",
    "    y=df1.starting,\n",
    "    name = 'Starting Career Median Salary',\n",
    "    marker = dict(\n",
    "        color = 'rgb(214, 12, 140)',\n",
    "    )\n",
    ")\n",
    "trace1 = go.Box(\n",
    "    y=df1.midcareer,\n",
    "    name = 'Mid-Career Median Salary',\n",
    "    marker = dict(\n",
    "        color = 'rgb(0, 128, 128)',\n",
    "    )\n",
    ")\n",
    "trace2 = go.Box(\n",
    "    y=df1.mid_p10,\n",
    "    name = 'Mid-Career 10th Percentile Salary',\n",
    "    marker = dict(\n",
    "        color = 'rgb(12, 15, 75)',\n",
    "    )\n",
    ")\n",
    "trace3 = go.Box(\n",
    "    y=df1.mid_p25,\n",
    "    name = 'Mid-Career 25th Percentile Salary',\n",
    "    marker = dict(\n",
    "        color = 'rgb(12, 100, 190)',\n",
    "    )\n",
    ")\n",
    "trace4 = go.Box(\n",
    "    y=df1.mid_p75,\n",
    "    name = 'Mid-Career 75th Percentile Salary',\n",
    "    marker = dict(\n",
    "        color = 'rgb(12, 128, 128)',\n",
    "    )\n",
    ")\n",
    "trace5 = go.Box(\n",
    "    y=df1.mid_p90,\n",
    "    name = 'Mid-Career 90th Percentile Salary',\n",
    "    marker = dict(\n",
    "        color = 'rgb(12, 12, 140)',\n",
    "    )\n",
    ")\n",
    "data = [trace0, trace1,trace2,trace3,trace4,trace5]\n",
    "iplot(data)"
   ]
  },
  {
   "cell_type": "markdown",
   "metadata": {
    "_uuid": "4bcee95d3b1a31ba1e07a2ba9a774019f7666cfa"
   },
   "source": [
    "### **Import Third Data** <a id=\"18\"></a>\n",
    "<mark>[Return Contents](#0)\n",
    "<hr>\n",
    "let's import last data set."
   ]
  },
  {
   "cell_type": "code",
   "execution_count": 40,
   "metadata": {
    "_uuid": "36a2aa8a51804e974d8430d235fb0f31dae293d3"
   },
   "outputs": [
    {
     "data": {
      "text/plain": [
       "(320, 8)"
      ]
     },
     "execution_count": 40,
     "metadata": {},
     "output_type": "execute_result"
    }
   ],
   "source": [
    "salary_region_df = pd.read_csv('./input/salaries-by-region.csv')\n",
    "salary_region_df.shape"
   ]
  },
  {
   "cell_type": "code",
   "execution_count": 41,
   "metadata": {
    "_uuid": "1a69f5e295e58440d1370987ab2d934c7daf9cb6"
   },
   "outputs": [
    {
     "data": {
      "text/html": [
       "<div>\n",
       "<style scoped>\n",
       "    .dataframe tbody tr th:only-of-type {\n",
       "        vertical-align: middle;\n",
       "    }\n",
       "\n",
       "    .dataframe tbody tr th {\n",
       "        vertical-align: top;\n",
       "    }\n",
       "\n",
       "    .dataframe thead th {\n",
       "        text-align: right;\n",
       "    }\n",
       "</style>\n",
       "<table border=\"1\" class=\"dataframe\">\n",
       "  <thead>\n",
       "    <tr style=\"text-align: right;\">\n",
       "      <th></th>\n",
       "      <th>School Name</th>\n",
       "      <th>Region</th>\n",
       "      <th>Starting Median Salary</th>\n",
       "      <th>Mid-Career Median Salary</th>\n",
       "      <th>Mid-Career 10th Percentile Salary</th>\n",
       "      <th>Mid-Career 25th Percentile Salary</th>\n",
       "      <th>Mid-Career 75th Percentile Salary</th>\n",
       "      <th>Mid-Career 90th Percentile Salary</th>\n",
       "    </tr>\n",
       "  </thead>\n",
       "  <tbody>\n",
       "    <tr>\n",
       "      <th>0</th>\n",
       "      <td>Stanford University</td>\n",
       "      <td>California</td>\n",
       "      <td>$70,400.00</td>\n",
       "      <td>$129,000.00</td>\n",
       "      <td>$68,400.00</td>\n",
       "      <td>$93,100.00</td>\n",
       "      <td>$184,000.00</td>\n",
       "      <td>$257,000.00</td>\n",
       "    </tr>\n",
       "    <tr>\n",
       "      <th>1</th>\n",
       "      <td>California Institute of Technology (CIT)</td>\n",
       "      <td>California</td>\n",
       "      <td>$75,500.00</td>\n",
       "      <td>$123,000.00</td>\n",
       "      <td>NaN</td>\n",
       "      <td>$104,000.00</td>\n",
       "      <td>$161,000.00</td>\n",
       "      <td>NaN</td>\n",
       "    </tr>\n",
       "    <tr>\n",
       "      <th>2</th>\n",
       "      <td>Harvey Mudd College</td>\n",
       "      <td>California</td>\n",
       "      <td>$71,800.00</td>\n",
       "      <td>$122,000.00</td>\n",
       "      <td>NaN</td>\n",
       "      <td>$96,000.00</td>\n",
       "      <td>$180,000.00</td>\n",
       "      <td>NaN</td>\n",
       "    </tr>\n",
       "    <tr>\n",
       "      <th>3</th>\n",
       "      <td>University of California, Berkeley</td>\n",
       "      <td>California</td>\n",
       "      <td>$59,900.00</td>\n",
       "      <td>$112,000.00</td>\n",
       "      <td>$59,500.00</td>\n",
       "      <td>$81,000.00</td>\n",
       "      <td>$149,000.00</td>\n",
       "      <td>$201,000.00</td>\n",
       "    </tr>\n",
       "    <tr>\n",
       "      <th>4</th>\n",
       "      <td>Occidental College</td>\n",
       "      <td>California</td>\n",
       "      <td>$51,900.00</td>\n",
       "      <td>$105,000.00</td>\n",
       "      <td>NaN</td>\n",
       "      <td>$54,800.00</td>\n",
       "      <td>$157,000.00</td>\n",
       "      <td>NaN</td>\n",
       "    </tr>\n",
       "  </tbody>\n",
       "</table>\n",
       "</div>"
      ],
      "text/plain": [
       "                                School Name      Region  \\\n",
       "0                       Stanford University  California   \n",
       "1  California Institute of Technology (CIT)  California   \n",
       "2                       Harvey Mudd College  California   \n",
       "3        University of California, Berkeley  California   \n",
       "4                        Occidental College  California   \n",
       "\n",
       "  Starting Median Salary Mid-Career Median Salary  \\\n",
       "0             $70,400.00              $129,000.00   \n",
       "1             $75,500.00              $123,000.00   \n",
       "2             $71,800.00              $122,000.00   \n",
       "3             $59,900.00              $112,000.00   \n",
       "4             $51,900.00              $105,000.00   \n",
       "\n",
       "  Mid-Career 10th Percentile Salary Mid-Career 25th Percentile Salary  \\\n",
       "0                        $68,400.00                        $93,100.00   \n",
       "1                               NaN                       $104,000.00   \n",
       "2                               NaN                        $96,000.00   \n",
       "3                        $59,500.00                        $81,000.00   \n",
       "4                               NaN                        $54,800.00   \n",
       "\n",
       "  Mid-Career 75th Percentile Salary Mid-Career 90th Percentile Salary  \n",
       "0                       $184,000.00                       $257,000.00  \n",
       "1                       $161,000.00                               NaN  \n",
       "2                       $180,000.00                               NaN  \n",
       "3                       $149,000.00                       $201,000.00  \n",
       "4                       $157,000.00                               NaN  "
      ]
     },
     "execution_count": 41,
     "metadata": {},
     "output_type": "execute_result"
    }
   ],
   "source": [
    "salary_region_df.head()"
   ]
  },
  {
   "cell_type": "markdown",
   "metadata": {
    "_uuid": "fe1abba98579914db359105c26188585aec6ed9a"
   },
   "source": [
    "### **Change Columns Name** <a id=\"19\"></a>\n",
    "<mark>[Return Contents](#0)\n",
    "<hr>\n",
    "There are empty data as above. But first we have to change the name and data type. Let's the start."
   ]
  },
  {
   "cell_type": "code",
   "execution_count": 42,
   "metadata": {
    "_uuid": "c0d5024b690e03a2e4274f608739fd97cef436e7"
   },
   "outputs": [
    {
     "name": "stdout",
     "output_type": "stream",
     "text": [
      "<class 'pandas.core.frame.DataFrame'>\n",
      "RangeIndex: 320 entries, 0 to 319\n",
      "Data columns (total 8 columns):\n",
      " #   Column      Non-Null Count  Dtype \n",
      "---  ------      --------------  ----- \n",
      " 0   schoolname  320 non-null    object\n",
      " 1   region      320 non-null    object\n",
      " 2   starting    320 non-null    object\n",
      " 3   midcareer   320 non-null    object\n",
      " 4   mid_p10     273 non-null    object\n",
      " 5   mid_p25     320 non-null    object\n",
      " 6   mid_p75     320 non-null    object\n",
      " 7   mid_p90     273 non-null    object\n",
      "dtypes: object(8)\n",
      "memory usage: 20.1+ KB\n"
     ]
    }
   ],
   "source": [
    "salary_region_df.columns = ['schoolname','region','starting','midcareer','mid_p10','mid_p25','mid_p75','mid_p90']\n",
    "salary_region_df.info()"
   ]
  },
  {
   "cell_type": "markdown",
   "metadata": {
    "_uuid": "35ed4ff3e6befed09cc96577364e9329219322d8"
   },
   "source": [
    "### **Convert Data Type** <a id=\"20\"></a>\n",
    "<mark>[Return Contents](#0)\n",
    "<hr>\n",
    "let's the change data type."
   ]
  },
  {
   "cell_type": "code",
   "execution_count": 43,
   "metadata": {
    "_uuid": "9cce0a5e20a241e67b32ae342f4eabc5203833de"
   },
   "outputs": [
    {
     "name": "stderr",
     "output_type": "stream",
     "text": [
      "<ipython-input-43-e8c082e3e607>:4: FutureWarning:\n",
      "\n",
      "The default value of regex will change from True to False in a future version. In addition, single character regular expressions will*not* be treated as literal strings when regex=True.\n",
      "\n"
     ]
    }
   ],
   "source": [
    "regionColumns = ['starting', 'midcareer', 'mid_p10', 'mid_p25', 'mid_p75', 'mid_p90']\n",
    "\n",
    "for column in regionColumns:\n",
    "    salary_region_df[column] = salary_region_df[column].str.replace(\"$\",\"\")\n",
    "    salary_region_df[column] = salary_region_df[column].str.replace(\",\",\"\")\n",
    "    salary_region_df[column] = pd.to_numeric(salary_region_df[column])"
   ]
  },
  {
   "cell_type": "code",
   "execution_count": 44,
   "metadata": {
    "_uuid": "9d7f78aa494c3ed8e67d6f2fea6dadf02bbf6a0b"
   },
   "outputs": [
    {
     "name": "stdout",
     "output_type": "stream",
     "text": [
      "<class 'pandas.core.frame.DataFrame'>\n",
      "RangeIndex: 320 entries, 0 to 319\n",
      "Data columns (total 8 columns):\n",
      " #   Column      Non-Null Count  Dtype  \n",
      "---  ------      --------------  -----  \n",
      " 0   schoolname  320 non-null    object \n",
      " 1   region      320 non-null    object \n",
      " 2   starting    320 non-null    float64\n",
      " 3   midcareer   320 non-null    float64\n",
      " 4   mid_p10     273 non-null    float64\n",
      " 5   mid_p25     320 non-null    float64\n",
      " 6   mid_p75     320 non-null    float64\n",
      " 7   mid_p90     273 non-null    float64\n",
      "dtypes: float64(6), object(2)\n",
      "memory usage: 20.1+ KB\n"
     ]
    }
   ],
   "source": [
    "salary_region_df.info()"
   ]
  },
  {
   "cell_type": "code",
   "execution_count": 45,
   "metadata": {
    "_uuid": "9fc6f1dfedbaebc35838f256c60cc0263d5fb8f8"
   },
   "outputs": [
    {
     "data": {
      "text/html": [
       "<div>\n",
       "<style scoped>\n",
       "    .dataframe tbody tr th:only-of-type {\n",
       "        vertical-align: middle;\n",
       "    }\n",
       "\n",
       "    .dataframe tbody tr th {\n",
       "        vertical-align: top;\n",
       "    }\n",
       "\n",
       "    .dataframe thead th {\n",
       "        text-align: right;\n",
       "    }\n",
       "</style>\n",
       "<table border=\"1\" class=\"dataframe\">\n",
       "  <thead>\n",
       "    <tr style=\"text-align: right;\">\n",
       "      <th></th>\n",
       "      <th>schoolname</th>\n",
       "      <th>region</th>\n",
       "      <th>starting</th>\n",
       "      <th>midcareer</th>\n",
       "      <th>mid_p10</th>\n",
       "      <th>mid_p25</th>\n",
       "      <th>mid_p75</th>\n",
       "      <th>mid_p90</th>\n",
       "    </tr>\n",
       "  </thead>\n",
       "  <tbody>\n",
       "    <tr>\n",
       "      <th>0</th>\n",
       "      <td>Stanford University</td>\n",
       "      <td>California</td>\n",
       "      <td>70400.0</td>\n",
       "      <td>129000.0</td>\n",
       "      <td>68400.0</td>\n",
       "      <td>93100.0</td>\n",
       "      <td>184000.0</td>\n",
       "      <td>257000.0</td>\n",
       "    </tr>\n",
       "    <tr>\n",
       "      <th>1</th>\n",
       "      <td>California Institute of Technology (CIT)</td>\n",
       "      <td>California</td>\n",
       "      <td>75500.0</td>\n",
       "      <td>123000.0</td>\n",
       "      <td>NaN</td>\n",
       "      <td>104000.0</td>\n",
       "      <td>161000.0</td>\n",
       "      <td>NaN</td>\n",
       "    </tr>\n",
       "    <tr>\n",
       "      <th>2</th>\n",
       "      <td>Harvey Mudd College</td>\n",
       "      <td>California</td>\n",
       "      <td>71800.0</td>\n",
       "      <td>122000.0</td>\n",
       "      <td>NaN</td>\n",
       "      <td>96000.0</td>\n",
       "      <td>180000.0</td>\n",
       "      <td>NaN</td>\n",
       "    </tr>\n",
       "    <tr>\n",
       "      <th>3</th>\n",
       "      <td>University of California, Berkeley</td>\n",
       "      <td>California</td>\n",
       "      <td>59900.0</td>\n",
       "      <td>112000.0</td>\n",
       "      <td>59500.0</td>\n",
       "      <td>81000.0</td>\n",
       "      <td>149000.0</td>\n",
       "      <td>201000.0</td>\n",
       "    </tr>\n",
       "    <tr>\n",
       "      <th>4</th>\n",
       "      <td>Occidental College</td>\n",
       "      <td>California</td>\n",
       "      <td>51900.0</td>\n",
       "      <td>105000.0</td>\n",
       "      <td>NaN</td>\n",
       "      <td>54800.0</td>\n",
       "      <td>157000.0</td>\n",
       "      <td>NaN</td>\n",
       "    </tr>\n",
       "  </tbody>\n",
       "</table>\n",
       "</div>"
      ],
      "text/plain": [
       "                                 schoolname      region  starting  midcareer  \\\n",
       "0                       Stanford University  California   70400.0   129000.0   \n",
       "1  California Institute of Technology (CIT)  California   75500.0   123000.0   \n",
       "2                       Harvey Mudd College  California   71800.0   122000.0   \n",
       "3        University of California, Berkeley  California   59900.0   112000.0   \n",
       "4                        Occidental College  California   51900.0   105000.0   \n",
       "\n",
       "   mid_p10   mid_p25   mid_p75   mid_p90  \n",
       "0  68400.0   93100.0  184000.0  257000.0  \n",
       "1      NaN  104000.0  161000.0       NaN  \n",
       "2      NaN   96000.0  180000.0       NaN  \n",
       "3  59500.0   81000.0  149000.0  201000.0  \n",
       "4      NaN   54800.0  157000.0       NaN  "
      ]
     },
     "execution_count": 45,
     "metadata": {},
     "output_type": "execute_result"
    }
   ],
   "source": [
    "salary_region_df.head()"
   ]
  },
  {
   "cell_type": "markdown",
   "metadata": {
    "_uuid": "e81f0f6500fee15b42676d1e17734fd90504bed8"
   },
   "source": [
    "### **Fill null values with Formula** <a id=\"21\"></a>\n",
    "<mark>[Return Contents](#0)\n",
    "<hr>\n",
    "I will use the same formula we used above here."
   ]
  },
  {
   "cell_type": "code",
   "execution_count": 46,
   "metadata": {
    "_uuid": "65d943caa1a64389bc7d8bd7f0238478cd5a0324"
   },
   "outputs": [],
   "source": [
    "columns = ['mid_p10','mid_p90']\n",
    "\n",
    "for i in range(269):\n",
    "        for column in columns:\n",
    "            if column == 'mid_p10':\n",
    "                if salary_region_df.iloc[[i],[4]].isnull().any().any():\n",
    "                    salary_region_df.iloc[[i],[4]] = (salary_region_df.iloc[[i],[3]].values + salary_region_df.iloc[[i],[5]].values) / 3\n",
    "            if column == 'mid_p90':\n",
    "                if salary_region_df.iloc[[i],[7]].isnull().any().any():\n",
    "                    salary_region_df.iloc[[i],[7]] = (salary_region_df.iloc[[i],[6]].values - salary_region_df.iloc[[i],[5]].values) + salary_region_df.iloc[[i],[6]].values"
   ]
  },
  {
   "cell_type": "code",
   "execution_count": 47,
   "metadata": {
    "_uuid": "a2bf0ac5f9f8c5e26552c1c321cc98a4a9590f20"
   },
   "outputs": [
    {
     "data": {
      "text/html": [
       "<div>\n",
       "<style scoped>\n",
       "    .dataframe tbody tr th:only-of-type {\n",
       "        vertical-align: middle;\n",
       "    }\n",
       "\n",
       "    .dataframe tbody tr th {\n",
       "        vertical-align: top;\n",
       "    }\n",
       "\n",
       "    .dataframe thead th {\n",
       "        text-align: right;\n",
       "    }\n",
       "</style>\n",
       "<table border=\"1\" class=\"dataframe\">\n",
       "  <thead>\n",
       "    <tr style=\"text-align: right;\">\n",
       "      <th></th>\n",
       "      <th>schoolname</th>\n",
       "      <th>region</th>\n",
       "      <th>starting</th>\n",
       "      <th>midcareer</th>\n",
       "      <th>mid_p10</th>\n",
       "      <th>mid_p25</th>\n",
       "      <th>mid_p75</th>\n",
       "      <th>mid_p90</th>\n",
       "    </tr>\n",
       "  </thead>\n",
       "  <tbody>\n",
       "    <tr>\n",
       "      <th>0</th>\n",
       "      <td>Stanford University</td>\n",
       "      <td>California</td>\n",
       "      <td>70400.0</td>\n",
       "      <td>129000.0</td>\n",
       "      <td>68400.000000</td>\n",
       "      <td>93100.0</td>\n",
       "      <td>184000.0</td>\n",
       "      <td>257000.0</td>\n",
       "    </tr>\n",
       "    <tr>\n",
       "      <th>1</th>\n",
       "      <td>California Institute of Technology (CIT)</td>\n",
       "      <td>California</td>\n",
       "      <td>75500.0</td>\n",
       "      <td>123000.0</td>\n",
       "      <td>75666.666667</td>\n",
       "      <td>104000.0</td>\n",
       "      <td>161000.0</td>\n",
       "      <td>218000.0</td>\n",
       "    </tr>\n",
       "    <tr>\n",
       "      <th>2</th>\n",
       "      <td>Harvey Mudd College</td>\n",
       "      <td>California</td>\n",
       "      <td>71800.0</td>\n",
       "      <td>122000.0</td>\n",
       "      <td>72666.666667</td>\n",
       "      <td>96000.0</td>\n",
       "      <td>180000.0</td>\n",
       "      <td>264000.0</td>\n",
       "    </tr>\n",
       "    <tr>\n",
       "      <th>3</th>\n",
       "      <td>University of California, Berkeley</td>\n",
       "      <td>California</td>\n",
       "      <td>59900.0</td>\n",
       "      <td>112000.0</td>\n",
       "      <td>59500.000000</td>\n",
       "      <td>81000.0</td>\n",
       "      <td>149000.0</td>\n",
       "      <td>201000.0</td>\n",
       "    </tr>\n",
       "    <tr>\n",
       "      <th>4</th>\n",
       "      <td>Occidental College</td>\n",
       "      <td>California</td>\n",
       "      <td>51900.0</td>\n",
       "      <td>105000.0</td>\n",
       "      <td>53266.666667</td>\n",
       "      <td>54800.0</td>\n",
       "      <td>157000.0</td>\n",
       "      <td>259200.0</td>\n",
       "    </tr>\n",
       "  </tbody>\n",
       "</table>\n",
       "</div>"
      ],
      "text/plain": [
       "                                 schoolname      region  starting  midcareer  \\\n",
       "0                       Stanford University  California   70400.0   129000.0   \n",
       "1  California Institute of Technology (CIT)  California   75500.0   123000.0   \n",
       "2                       Harvey Mudd College  California   71800.0   122000.0   \n",
       "3        University of California, Berkeley  California   59900.0   112000.0   \n",
       "4                        Occidental College  California   51900.0   105000.0   \n",
       "\n",
       "        mid_p10   mid_p25   mid_p75   mid_p90  \n",
       "0  68400.000000   93100.0  184000.0  257000.0  \n",
       "1  75666.666667  104000.0  161000.0  218000.0  \n",
       "2  72666.666667   96000.0  180000.0  264000.0  \n",
       "3  59500.000000   81000.0  149000.0  201000.0  \n",
       "4  53266.666667   54800.0  157000.0  259200.0  "
      ]
     },
     "execution_count": 47,
     "metadata": {},
     "output_type": "execute_result"
    }
   ],
   "source": [
    "salary_region_df.head()"
   ]
  },
  {
   "cell_type": "markdown",
   "metadata": {
    "_uuid": "1b27faaeecb8db4f5bf3df8d3b20e9054b03e170"
   },
   "source": [
    "### Visualization <a id=\"22\"></a>\n",
    "<mark>[Return Contents](#0)\n",
    "<hr>\n",
    "    \n",
    "### Region & School Visualization <a id=\"23\"></a>\n",
    "\n",
    "Let's the visualization."
   ]
  },
  {
   "cell_type": "code",
   "execution_count": 48,
   "metadata": {
    "_uuid": "278a37863fdeb23d7252cb59e1fbe762ce0a1e74"
   },
   "outputs": [
    {
     "data": {
      "application/vnd.plotly.v1+json": {
       "config": {
        "linkText": "Export to plot.ly",
        "plotlyServerURL": "https://plot.ly",
        "showLink": false
       },
       "data": [
        {
         "marker": {
          "color": [
           "rgb(93, 100, 210)",
           "rgb(255, 144, 14)",
           "rgb(44, 160, 101)",
           "rgb(255, 65, 54)"
          ],
          "opacity": [
           1,
           0.8,
           0.6,
           0.4
          ],
          "size": [
           100,
           80,
           60,
           40,
           20
          ]
         },
         "mode": "markers",
         "type": "scatter",
         "x": [
          "Northeastern",
          "Southern",
          "Midwestern",
          "Western",
          "California"
         ],
         "y": [
          100,
          79,
          71,
          42,
          28
         ]
        }
       ],
       "layout": {
        "template": {
         "data": {
          "bar": [
           {
            "error_x": {
             "color": "#2a3f5f"
            },
            "error_y": {
             "color": "#2a3f5f"
            },
            "marker": {
             "line": {
              "color": "#E5ECF6",
              "width": 0.5
             },
             "pattern": {
              "fillmode": "overlay",
              "size": 10,
              "solidity": 0.2
             }
            },
            "type": "bar"
           }
          ],
          "barpolar": [
           {
            "marker": {
             "line": {
              "color": "#E5ECF6",
              "width": 0.5
             },
             "pattern": {
              "fillmode": "overlay",
              "size": 10,
              "solidity": 0.2
             }
            },
            "type": "barpolar"
           }
          ],
          "carpet": [
           {
            "aaxis": {
             "endlinecolor": "#2a3f5f",
             "gridcolor": "white",
             "linecolor": "white",
             "minorgridcolor": "white",
             "startlinecolor": "#2a3f5f"
            },
            "baxis": {
             "endlinecolor": "#2a3f5f",
             "gridcolor": "white",
             "linecolor": "white",
             "minorgridcolor": "white",
             "startlinecolor": "#2a3f5f"
            },
            "type": "carpet"
           }
          ],
          "choropleth": [
           {
            "colorbar": {
             "outlinewidth": 0,
             "ticks": ""
            },
            "type": "choropleth"
           }
          ],
          "contour": [
           {
            "colorbar": {
             "outlinewidth": 0,
             "ticks": ""
            },
            "colorscale": [
             [
              0,
              "#0d0887"
             ],
             [
              0.1111111111111111,
              "#46039f"
             ],
             [
              0.2222222222222222,
              "#7201a8"
             ],
             [
              0.3333333333333333,
              "#9c179e"
             ],
             [
              0.4444444444444444,
              "#bd3786"
             ],
             [
              0.5555555555555556,
              "#d8576b"
             ],
             [
              0.6666666666666666,
              "#ed7953"
             ],
             [
              0.7777777777777778,
              "#fb9f3a"
             ],
             [
              0.8888888888888888,
              "#fdca26"
             ],
             [
              1,
              "#f0f921"
             ]
            ],
            "type": "contour"
           }
          ],
          "contourcarpet": [
           {
            "colorbar": {
             "outlinewidth": 0,
             "ticks": ""
            },
            "type": "contourcarpet"
           }
          ],
          "heatmap": [
           {
            "colorbar": {
             "outlinewidth": 0,
             "ticks": ""
            },
            "colorscale": [
             [
              0,
              "#0d0887"
             ],
             [
              0.1111111111111111,
              "#46039f"
             ],
             [
              0.2222222222222222,
              "#7201a8"
             ],
             [
              0.3333333333333333,
              "#9c179e"
             ],
             [
              0.4444444444444444,
              "#bd3786"
             ],
             [
              0.5555555555555556,
              "#d8576b"
             ],
             [
              0.6666666666666666,
              "#ed7953"
             ],
             [
              0.7777777777777778,
              "#fb9f3a"
             ],
             [
              0.8888888888888888,
              "#fdca26"
             ],
             [
              1,
              "#f0f921"
             ]
            ],
            "type": "heatmap"
           }
          ],
          "heatmapgl": [
           {
            "colorbar": {
             "outlinewidth": 0,
             "ticks": ""
            },
            "colorscale": [
             [
              0,
              "#0d0887"
             ],
             [
              0.1111111111111111,
              "#46039f"
             ],
             [
              0.2222222222222222,
              "#7201a8"
             ],
             [
              0.3333333333333333,
              "#9c179e"
             ],
             [
              0.4444444444444444,
              "#bd3786"
             ],
             [
              0.5555555555555556,
              "#d8576b"
             ],
             [
              0.6666666666666666,
              "#ed7953"
             ],
             [
              0.7777777777777778,
              "#fb9f3a"
             ],
             [
              0.8888888888888888,
              "#fdca26"
             ],
             [
              1,
              "#f0f921"
             ]
            ],
            "type": "heatmapgl"
           }
          ],
          "histogram": [
           {
            "marker": {
             "pattern": {
              "fillmode": "overlay",
              "size": 10,
              "solidity": 0.2
             }
            },
            "type": "histogram"
           }
          ],
          "histogram2d": [
           {
            "colorbar": {
             "outlinewidth": 0,
             "ticks": ""
            },
            "colorscale": [
             [
              0,
              "#0d0887"
             ],
             [
              0.1111111111111111,
              "#46039f"
             ],
             [
              0.2222222222222222,
              "#7201a8"
             ],
             [
              0.3333333333333333,
              "#9c179e"
             ],
             [
              0.4444444444444444,
              "#bd3786"
             ],
             [
              0.5555555555555556,
              "#d8576b"
             ],
             [
              0.6666666666666666,
              "#ed7953"
             ],
             [
              0.7777777777777778,
              "#fb9f3a"
             ],
             [
              0.8888888888888888,
              "#fdca26"
             ],
             [
              1,
              "#f0f921"
             ]
            ],
            "type": "histogram2d"
           }
          ],
          "histogram2dcontour": [
           {
            "colorbar": {
             "outlinewidth": 0,
             "ticks": ""
            },
            "colorscale": [
             [
              0,
              "#0d0887"
             ],
             [
              0.1111111111111111,
              "#46039f"
             ],
             [
              0.2222222222222222,
              "#7201a8"
             ],
             [
              0.3333333333333333,
              "#9c179e"
             ],
             [
              0.4444444444444444,
              "#bd3786"
             ],
             [
              0.5555555555555556,
              "#d8576b"
             ],
             [
              0.6666666666666666,
              "#ed7953"
             ],
             [
              0.7777777777777778,
              "#fb9f3a"
             ],
             [
              0.8888888888888888,
              "#fdca26"
             ],
             [
              1,
              "#f0f921"
             ]
            ],
            "type": "histogram2dcontour"
           }
          ],
          "mesh3d": [
           {
            "colorbar": {
             "outlinewidth": 0,
             "ticks": ""
            },
            "type": "mesh3d"
           }
          ],
          "parcoords": [
           {
            "line": {
             "colorbar": {
              "outlinewidth": 0,
              "ticks": ""
             }
            },
            "type": "parcoords"
           }
          ],
          "pie": [
           {
            "automargin": true,
            "type": "pie"
           }
          ],
          "scatter": [
           {
            "marker": {
             "colorbar": {
              "outlinewidth": 0,
              "ticks": ""
             }
            },
            "type": "scatter"
           }
          ],
          "scatter3d": [
           {
            "line": {
             "colorbar": {
              "outlinewidth": 0,
              "ticks": ""
             }
            },
            "marker": {
             "colorbar": {
              "outlinewidth": 0,
              "ticks": ""
             }
            },
            "type": "scatter3d"
           }
          ],
          "scattercarpet": [
           {
            "marker": {
             "colorbar": {
              "outlinewidth": 0,
              "ticks": ""
             }
            },
            "type": "scattercarpet"
           }
          ],
          "scattergeo": [
           {
            "marker": {
             "colorbar": {
              "outlinewidth": 0,
              "ticks": ""
             }
            },
            "type": "scattergeo"
           }
          ],
          "scattergl": [
           {
            "marker": {
             "colorbar": {
              "outlinewidth": 0,
              "ticks": ""
             }
            },
            "type": "scattergl"
           }
          ],
          "scattermapbox": [
           {
            "marker": {
             "colorbar": {
              "outlinewidth": 0,
              "ticks": ""
             }
            },
            "type": "scattermapbox"
           }
          ],
          "scatterpolar": [
           {
            "marker": {
             "colorbar": {
              "outlinewidth": 0,
              "ticks": ""
             }
            },
            "type": "scatterpolar"
           }
          ],
          "scatterpolargl": [
           {
            "marker": {
             "colorbar": {
              "outlinewidth": 0,
              "ticks": ""
             }
            },
            "type": "scatterpolargl"
           }
          ],
          "scatterternary": [
           {
            "marker": {
             "colorbar": {
              "outlinewidth": 0,
              "ticks": ""
             }
            },
            "type": "scatterternary"
           }
          ],
          "surface": [
           {
            "colorbar": {
             "outlinewidth": 0,
             "ticks": ""
            },
            "colorscale": [
             [
              0,
              "#0d0887"
             ],
             [
              0.1111111111111111,
              "#46039f"
             ],
             [
              0.2222222222222222,
              "#7201a8"
             ],
             [
              0.3333333333333333,
              "#9c179e"
             ],
             [
              0.4444444444444444,
              "#bd3786"
             ],
             [
              0.5555555555555556,
              "#d8576b"
             ],
             [
              0.6666666666666666,
              "#ed7953"
             ],
             [
              0.7777777777777778,
              "#fb9f3a"
             ],
             [
              0.8888888888888888,
              "#fdca26"
             ],
             [
              1,
              "#f0f921"
             ]
            ],
            "type": "surface"
           }
          ],
          "table": [
           {
            "cells": {
             "fill": {
              "color": "#EBF0F8"
             },
             "line": {
              "color": "white"
             }
            },
            "header": {
             "fill": {
              "color": "#C8D4E3"
             },
             "line": {
              "color": "white"
             }
            },
            "type": "table"
           }
          ]
         },
         "layout": {
          "annotationdefaults": {
           "arrowcolor": "#2a3f5f",
           "arrowhead": 0,
           "arrowwidth": 1
          },
          "autotypenumbers": "strict",
          "coloraxis": {
           "colorbar": {
            "outlinewidth": 0,
            "ticks": ""
           }
          },
          "colorscale": {
           "diverging": [
            [
             0,
             "#8e0152"
            ],
            [
             0.1,
             "#c51b7d"
            ],
            [
             0.2,
             "#de77ae"
            ],
            [
             0.3,
             "#f1b6da"
            ],
            [
             0.4,
             "#fde0ef"
            ],
            [
             0.5,
             "#f7f7f7"
            ],
            [
             0.6,
             "#e6f5d0"
            ],
            [
             0.7,
             "#b8e186"
            ],
            [
             0.8,
             "#7fbc41"
            ],
            [
             0.9,
             "#4d9221"
            ],
            [
             1,
             "#276419"
            ]
           ],
           "sequential": [
            [
             0,
             "#0d0887"
            ],
            [
             0.1111111111111111,
             "#46039f"
            ],
            [
             0.2222222222222222,
             "#7201a8"
            ],
            [
             0.3333333333333333,
             "#9c179e"
            ],
            [
             0.4444444444444444,
             "#bd3786"
            ],
            [
             0.5555555555555556,
             "#d8576b"
            ],
            [
             0.6666666666666666,
             "#ed7953"
            ],
            [
             0.7777777777777778,
             "#fb9f3a"
            ],
            [
             0.8888888888888888,
             "#fdca26"
            ],
            [
             1,
             "#f0f921"
            ]
           ],
           "sequentialminus": [
            [
             0,
             "#0d0887"
            ],
            [
             0.1111111111111111,
             "#46039f"
            ],
            [
             0.2222222222222222,
             "#7201a8"
            ],
            [
             0.3333333333333333,
             "#9c179e"
            ],
            [
             0.4444444444444444,
             "#bd3786"
            ],
            [
             0.5555555555555556,
             "#d8576b"
            ],
            [
             0.6666666666666666,
             "#ed7953"
            ],
            [
             0.7777777777777778,
             "#fb9f3a"
            ],
            [
             0.8888888888888888,
             "#fdca26"
            ],
            [
             1,
             "#f0f921"
            ]
           ]
          },
          "colorway": [
           "#636efa",
           "#EF553B",
           "#00cc96",
           "#ab63fa",
           "#FFA15A",
           "#19d3f3",
           "#FF6692",
           "#B6E880",
           "#FF97FF",
           "#FECB52"
          ],
          "font": {
           "color": "#2a3f5f"
          },
          "geo": {
           "bgcolor": "white",
           "lakecolor": "white",
           "landcolor": "#E5ECF6",
           "showlakes": true,
           "showland": true,
           "subunitcolor": "white"
          },
          "hoverlabel": {
           "align": "left"
          },
          "hovermode": "closest",
          "mapbox": {
           "style": "light"
          },
          "paper_bgcolor": "white",
          "plot_bgcolor": "#E5ECF6",
          "polar": {
           "angularaxis": {
            "gridcolor": "white",
            "linecolor": "white",
            "ticks": ""
           },
           "bgcolor": "#E5ECF6",
           "radialaxis": {
            "gridcolor": "white",
            "linecolor": "white",
            "ticks": ""
           }
          },
          "scene": {
           "xaxis": {
            "backgroundcolor": "#E5ECF6",
            "gridcolor": "white",
            "gridwidth": 2,
            "linecolor": "white",
            "showbackground": true,
            "ticks": "",
            "zerolinecolor": "white"
           },
           "yaxis": {
            "backgroundcolor": "#E5ECF6",
            "gridcolor": "white",
            "gridwidth": 2,
            "linecolor": "white",
            "showbackground": true,
            "ticks": "",
            "zerolinecolor": "white"
           },
           "zaxis": {
            "backgroundcolor": "#E5ECF6",
            "gridcolor": "white",
            "gridwidth": 2,
            "linecolor": "white",
            "showbackground": true,
            "ticks": "",
            "zerolinecolor": "white"
           }
          },
          "shapedefaults": {
           "line": {
            "color": "#2a3f5f"
           }
          },
          "ternary": {
           "aaxis": {
            "gridcolor": "white",
            "linecolor": "white",
            "ticks": ""
           },
           "baxis": {
            "gridcolor": "white",
            "linecolor": "white",
            "ticks": ""
           },
           "bgcolor": "#E5ECF6",
           "caxis": {
            "gridcolor": "white",
            "linecolor": "white",
            "ticks": ""
           }
          },
          "title": {
           "x": 0.05
          },
          "xaxis": {
           "automargin": true,
           "gridcolor": "white",
           "linecolor": "white",
           "ticks": "",
           "title": {
            "standoff": 15
           },
           "zerolinecolor": "white",
           "zerolinewidth": 2
          },
          "yaxis": {
           "automargin": true,
           "gridcolor": "white",
           "linecolor": "white",
           "ticks": "",
           "title": {
            "standoff": 15
           },
           "zerolinecolor": "white",
           "zerolinewidth": 2
          }
         }
        },
        "title": {
         "text": "How many region are there and how many schools are there?"
        },
        "xaxis": {
         "title": {
          "text": "Region"
         }
        },
        "yaxis": {
         "title": {
          "text": "Number of Schools"
         }
        }
       }
      },
      "text/html": [
       "<div>                            <div id=\"11f1e94a-7405-4d85-a738-e78bd7eabb08\" class=\"plotly-graph-div\" style=\"height:525px; width:100%;\"></div>            <script type=\"text/javascript\">                require([\"plotly\"], function(Plotly) {                    window.PLOTLYENV=window.PLOTLYENV || {};                                    if (document.getElementById(\"11f1e94a-7405-4d85-a738-e78bd7eabb08\")) {                    Plotly.newPlot(                        \"11f1e94a-7405-4d85-a738-e78bd7eabb08\",                        [{\"marker\":{\"color\":[\"rgb(93, 100, 210)\",\"rgb(255, 144, 14)\",\"rgb(44, 160, 101)\",\"rgb(255, 65, 54)\"],\"opacity\":[1,0.8,0.6,0.4],\"size\":[100,80,60,40,20]},\"mode\":\"markers\",\"x\":[\"Northeastern\",\"Southern\",\"Midwestern\",\"Western\",\"California\"],\"y\":[100,79,71,42,28],\"type\":\"scatter\"}],                        {\"template\":{\"data\":{\"barpolar\":[{\"marker\":{\"line\":{\"color\":\"#E5ECF6\",\"width\":0.5},\"pattern\":{\"fillmode\":\"overlay\",\"size\":10,\"solidity\":0.2}},\"type\":\"barpolar\"}],\"bar\":[{\"error_x\":{\"color\":\"#2a3f5f\"},\"error_y\":{\"color\":\"#2a3f5f\"},\"marker\":{\"line\":{\"color\":\"#E5ECF6\",\"width\":0.5},\"pattern\":{\"fillmode\":\"overlay\",\"size\":10,\"solidity\":0.2}},\"type\":\"bar\"}],\"carpet\":[{\"aaxis\":{\"endlinecolor\":\"#2a3f5f\",\"gridcolor\":\"white\",\"linecolor\":\"white\",\"minorgridcolor\":\"white\",\"startlinecolor\":\"#2a3f5f\"},\"baxis\":{\"endlinecolor\":\"#2a3f5f\",\"gridcolor\":\"white\",\"linecolor\":\"white\",\"minorgridcolor\":\"white\",\"startlinecolor\":\"#2a3f5f\"},\"type\":\"carpet\"}],\"choropleth\":[{\"colorbar\":{\"outlinewidth\":0,\"ticks\":\"\"},\"type\":\"choropleth\"}],\"contourcarpet\":[{\"colorbar\":{\"outlinewidth\":0,\"ticks\":\"\"},\"type\":\"contourcarpet\"}],\"contour\":[{\"colorbar\":{\"outlinewidth\":0,\"ticks\":\"\"},\"colorscale\":[[0.0,\"#0d0887\"],[0.1111111111111111,\"#46039f\"],[0.2222222222222222,\"#7201a8\"],[0.3333333333333333,\"#9c179e\"],[0.4444444444444444,\"#bd3786\"],[0.5555555555555556,\"#d8576b\"],[0.6666666666666666,\"#ed7953\"],[0.7777777777777778,\"#fb9f3a\"],[0.8888888888888888,\"#fdca26\"],[1.0,\"#f0f921\"]],\"type\":\"contour\"}],\"heatmapgl\":[{\"colorbar\":{\"outlinewidth\":0,\"ticks\":\"\"},\"colorscale\":[[0.0,\"#0d0887\"],[0.1111111111111111,\"#46039f\"],[0.2222222222222222,\"#7201a8\"],[0.3333333333333333,\"#9c179e\"],[0.4444444444444444,\"#bd3786\"],[0.5555555555555556,\"#d8576b\"],[0.6666666666666666,\"#ed7953\"],[0.7777777777777778,\"#fb9f3a\"],[0.8888888888888888,\"#fdca26\"],[1.0,\"#f0f921\"]],\"type\":\"heatmapgl\"}],\"heatmap\":[{\"colorbar\":{\"outlinewidth\":0,\"ticks\":\"\"},\"colorscale\":[[0.0,\"#0d0887\"],[0.1111111111111111,\"#46039f\"],[0.2222222222222222,\"#7201a8\"],[0.3333333333333333,\"#9c179e\"],[0.4444444444444444,\"#bd3786\"],[0.5555555555555556,\"#d8576b\"],[0.6666666666666666,\"#ed7953\"],[0.7777777777777778,\"#fb9f3a\"],[0.8888888888888888,\"#fdca26\"],[1.0,\"#f0f921\"]],\"type\":\"heatmap\"}],\"histogram2dcontour\":[{\"colorbar\":{\"outlinewidth\":0,\"ticks\":\"\"},\"colorscale\":[[0.0,\"#0d0887\"],[0.1111111111111111,\"#46039f\"],[0.2222222222222222,\"#7201a8\"],[0.3333333333333333,\"#9c179e\"],[0.4444444444444444,\"#bd3786\"],[0.5555555555555556,\"#d8576b\"],[0.6666666666666666,\"#ed7953\"],[0.7777777777777778,\"#fb9f3a\"],[0.8888888888888888,\"#fdca26\"],[1.0,\"#f0f921\"]],\"type\":\"histogram2dcontour\"}],\"histogram2d\":[{\"colorbar\":{\"outlinewidth\":0,\"ticks\":\"\"},\"colorscale\":[[0.0,\"#0d0887\"],[0.1111111111111111,\"#46039f\"],[0.2222222222222222,\"#7201a8\"],[0.3333333333333333,\"#9c179e\"],[0.4444444444444444,\"#bd3786\"],[0.5555555555555556,\"#d8576b\"],[0.6666666666666666,\"#ed7953\"],[0.7777777777777778,\"#fb9f3a\"],[0.8888888888888888,\"#fdca26\"],[1.0,\"#f0f921\"]],\"type\":\"histogram2d\"}],\"histogram\":[{\"marker\":{\"pattern\":{\"fillmode\":\"overlay\",\"size\":10,\"solidity\":0.2}},\"type\":\"histogram\"}],\"mesh3d\":[{\"colorbar\":{\"outlinewidth\":0,\"ticks\":\"\"},\"type\":\"mesh3d\"}],\"parcoords\":[{\"line\":{\"colorbar\":{\"outlinewidth\":0,\"ticks\":\"\"}},\"type\":\"parcoords\"}],\"pie\":[{\"automargin\":true,\"type\":\"pie\"}],\"scatter3d\":[{\"line\":{\"colorbar\":{\"outlinewidth\":0,\"ticks\":\"\"}},\"marker\":{\"colorbar\":{\"outlinewidth\":0,\"ticks\":\"\"}},\"type\":\"scatter3d\"}],\"scattercarpet\":[{\"marker\":{\"colorbar\":{\"outlinewidth\":0,\"ticks\":\"\"}},\"type\":\"scattercarpet\"}],\"scattergeo\":[{\"marker\":{\"colorbar\":{\"outlinewidth\":0,\"ticks\":\"\"}},\"type\":\"scattergeo\"}],\"scattergl\":[{\"marker\":{\"colorbar\":{\"outlinewidth\":0,\"ticks\":\"\"}},\"type\":\"scattergl\"}],\"scattermapbox\":[{\"marker\":{\"colorbar\":{\"outlinewidth\":0,\"ticks\":\"\"}},\"type\":\"scattermapbox\"}],\"scatterpolargl\":[{\"marker\":{\"colorbar\":{\"outlinewidth\":0,\"ticks\":\"\"}},\"type\":\"scatterpolargl\"}],\"scatterpolar\":[{\"marker\":{\"colorbar\":{\"outlinewidth\":0,\"ticks\":\"\"}},\"type\":\"scatterpolar\"}],\"scatter\":[{\"marker\":{\"colorbar\":{\"outlinewidth\":0,\"ticks\":\"\"}},\"type\":\"scatter\"}],\"scatterternary\":[{\"marker\":{\"colorbar\":{\"outlinewidth\":0,\"ticks\":\"\"}},\"type\":\"scatterternary\"}],\"surface\":[{\"colorbar\":{\"outlinewidth\":0,\"ticks\":\"\"},\"colorscale\":[[0.0,\"#0d0887\"],[0.1111111111111111,\"#46039f\"],[0.2222222222222222,\"#7201a8\"],[0.3333333333333333,\"#9c179e\"],[0.4444444444444444,\"#bd3786\"],[0.5555555555555556,\"#d8576b\"],[0.6666666666666666,\"#ed7953\"],[0.7777777777777778,\"#fb9f3a\"],[0.8888888888888888,\"#fdca26\"],[1.0,\"#f0f921\"]],\"type\":\"surface\"}],\"table\":[{\"cells\":{\"fill\":{\"color\":\"#EBF0F8\"},\"line\":{\"color\":\"white\"}},\"header\":{\"fill\":{\"color\":\"#C8D4E3\"},\"line\":{\"color\":\"white\"}},\"type\":\"table\"}]},\"layout\":{\"annotationdefaults\":{\"arrowcolor\":\"#2a3f5f\",\"arrowhead\":0,\"arrowwidth\":1},\"autotypenumbers\":\"strict\",\"coloraxis\":{\"colorbar\":{\"outlinewidth\":0,\"ticks\":\"\"}},\"colorscale\":{\"diverging\":[[0,\"#8e0152\"],[0.1,\"#c51b7d\"],[0.2,\"#de77ae\"],[0.3,\"#f1b6da\"],[0.4,\"#fde0ef\"],[0.5,\"#f7f7f7\"],[0.6,\"#e6f5d0\"],[0.7,\"#b8e186\"],[0.8,\"#7fbc41\"],[0.9,\"#4d9221\"],[1,\"#276419\"]],\"sequential\":[[0.0,\"#0d0887\"],[0.1111111111111111,\"#46039f\"],[0.2222222222222222,\"#7201a8\"],[0.3333333333333333,\"#9c179e\"],[0.4444444444444444,\"#bd3786\"],[0.5555555555555556,\"#d8576b\"],[0.6666666666666666,\"#ed7953\"],[0.7777777777777778,\"#fb9f3a\"],[0.8888888888888888,\"#fdca26\"],[1.0,\"#f0f921\"]],\"sequentialminus\":[[0.0,\"#0d0887\"],[0.1111111111111111,\"#46039f\"],[0.2222222222222222,\"#7201a8\"],[0.3333333333333333,\"#9c179e\"],[0.4444444444444444,\"#bd3786\"],[0.5555555555555556,\"#d8576b\"],[0.6666666666666666,\"#ed7953\"],[0.7777777777777778,\"#fb9f3a\"],[0.8888888888888888,\"#fdca26\"],[1.0,\"#f0f921\"]]},\"colorway\":[\"#636efa\",\"#EF553B\",\"#00cc96\",\"#ab63fa\",\"#FFA15A\",\"#19d3f3\",\"#FF6692\",\"#B6E880\",\"#FF97FF\",\"#FECB52\"],\"font\":{\"color\":\"#2a3f5f\"},\"geo\":{\"bgcolor\":\"white\",\"lakecolor\":\"white\",\"landcolor\":\"#E5ECF6\",\"showlakes\":true,\"showland\":true,\"subunitcolor\":\"white\"},\"hoverlabel\":{\"align\":\"left\"},\"hovermode\":\"closest\",\"mapbox\":{\"style\":\"light\"},\"paper_bgcolor\":\"white\",\"plot_bgcolor\":\"#E5ECF6\",\"polar\":{\"angularaxis\":{\"gridcolor\":\"white\",\"linecolor\":\"white\",\"ticks\":\"\"},\"bgcolor\":\"#E5ECF6\",\"radialaxis\":{\"gridcolor\":\"white\",\"linecolor\":\"white\",\"ticks\":\"\"}},\"scene\":{\"xaxis\":{\"backgroundcolor\":\"#E5ECF6\",\"gridcolor\":\"white\",\"gridwidth\":2,\"linecolor\":\"white\",\"showbackground\":true,\"ticks\":\"\",\"zerolinecolor\":\"white\"},\"yaxis\":{\"backgroundcolor\":\"#E5ECF6\",\"gridcolor\":\"white\",\"gridwidth\":2,\"linecolor\":\"white\",\"showbackground\":true,\"ticks\":\"\",\"zerolinecolor\":\"white\"},\"zaxis\":{\"backgroundcolor\":\"#E5ECF6\",\"gridcolor\":\"white\",\"gridwidth\":2,\"linecolor\":\"white\",\"showbackground\":true,\"ticks\":\"\",\"zerolinecolor\":\"white\"}},\"shapedefaults\":{\"line\":{\"color\":\"#2a3f5f\"}},\"ternary\":{\"aaxis\":{\"gridcolor\":\"white\",\"linecolor\":\"white\",\"ticks\":\"\"},\"baxis\":{\"gridcolor\":\"white\",\"linecolor\":\"white\",\"ticks\":\"\"},\"bgcolor\":\"#E5ECF6\",\"caxis\":{\"gridcolor\":\"white\",\"linecolor\":\"white\",\"ticks\":\"\"}},\"title\":{\"x\":0.05},\"xaxis\":{\"automargin\":true,\"gridcolor\":\"white\",\"linecolor\":\"white\",\"ticks\":\"\",\"title\":{\"standoff\":15},\"zerolinecolor\":\"white\",\"zerolinewidth\":2},\"yaxis\":{\"automargin\":true,\"gridcolor\":\"white\",\"linecolor\":\"white\",\"ticks\":\"\",\"title\":{\"standoff\":15},\"zerolinecolor\":\"white\",\"zerolinewidth\":2}}},\"title\":{\"text\":\"How many region are there and how many schools are there?\"},\"xaxis\":{\"title\":{\"text\":\"Region\"}},\"yaxis\":{\"title\":{\"text\":\"Number of Schools\"}}},                        {\"responsive\": true}                    ).then(function(){\n",
       "                            \n",
       "var gd = document.getElementById('11f1e94a-7405-4d85-a738-e78bd7eabb08');\n",
       "var x = new MutationObserver(function (mutations, observer) {{\n",
       "        var display = window.getComputedStyle(gd).display;\n",
       "        if (!display || display === 'none') {{\n",
       "            console.log([gd, 'removed!']);\n",
       "            Plotly.purge(gd);\n",
       "            observer.disconnect();\n",
       "        }}\n",
       "}});\n",
       "\n",
       "// Listen for the removal of the full notebook cells\n",
       "var notebookContainer = gd.closest('#notebook-container');\n",
       "if (notebookContainer) {{\n",
       "    x.observe(notebookContainer, {childList: true});\n",
       "}}\n",
       "\n",
       "// Listen for the clearing of the current output cell\n",
       "var outputEl = gd.closest('.output');\n",
       "if (outputEl) {{\n",
       "    x.observe(outputEl, {childList: true});\n",
       "}}\n",
       "\n",
       "                        })                };                });            </script>        </div>"
      ]
     },
     "metadata": {},
     "output_type": "display_data"
    }
   ],
   "source": [
    "# Bubble Charts\n",
    "trace0 = go.Scatter(\n",
    "    x=salary_region_df.region.value_counts().index,\n",
    "    y=salary_region_df.region.value_counts().values,\n",
    "    mode='markers',\n",
    "    marker=dict(\n",
    "        color=['rgb(93, 100, 210)', 'rgb(255, 144, 14)',\n",
    "               'rgb(44, 160, 101)', 'rgb(255, 65, 54)'],\n",
    "        opacity=[1, 0.8, 0.6, 0.4],\n",
    "        size=[100, 80, 60, 40,20],\n",
    "    )\n",
    ")\n",
    "layout = {\"title\": \"How many region are there and how many schools are there?\", \n",
    "          \"xaxis\": {\"title\": \"Region\", }, \n",
    "          \"yaxis\": {\"title\": \"Number of Schools\"}}\n",
    "data = [trace0]\n",
    "fig = go.Figure(data=data, layout=layout)\n",
    "iplot(fig)"
   ]
  },
  {
   "cell_type": "markdown",
   "metadata": {
    "_uuid": "ab96f55ef202af110d26d4987616e690fd78ba16"
   },
   "source": [
    "### **Average starting salary for the states** <a id=\"24\"></a>\n",
    "<mark>[Return Contents](#0)\n",
    "<hr>\n",
    "let's find the average starting salary for the states."
   ]
  },
  {
   "cell_type": "code",
   "execution_count": 49,
   "metadata": {
    "_uuid": "b061fde61bc8163bed00d5201c85c41cd6911902"
   },
   "outputs": [],
   "source": [
    "california_starting = 0\n",
    "western_starting = 0\n",
    "midwestern_starting = 0\n",
    "southern_starting = 0\n",
    "northeastern_staring = 0\n",
    "\n",
    "for i in range(269):\n",
    "    if salary_region_df.iloc[[i],[1]].values == 'Northeastern':\n",
    "        northeastern_staring += salary_region_df.iloc[[i],[2]].values\n",
    "    if salary_region_df.iloc[[i],[1]].values == 'Southern':\n",
    "        southern_starting += salary_region_df.iloc[[i],[2]].values\n",
    "    if salary_region_df.iloc[[i],[1]].values == 'Midwestern':\n",
    "        midwestern_starting += salary_region_df.iloc[[i],[2]].values\n",
    "    if salary_region_df.iloc[[i],[1]].values == 'Western':\n",
    "        western_starting += salary_region_df.iloc[[i],[2]].values\n",
    "    if salary_region_df.iloc[[i],[1]].values == 'California':\n",
    "        california_starting += salary_region_df.iloc[[i],[2]].values\n",
    "        \n",
    "northeastern_staring = int(northeastern_staring/100)\n",
    "southern_starting = int(southern_starting/79)\n",
    "midwestern_starting = int(midwestern_starting/71)\n",
    "western_starting = int(western_starting/42)\n",
    "california_starting = int(california_starting/28)\n",
    "\n",
    "\n",
    "data = {'region' : ['Northeastern', 'Southern', 'Midwestern', 'Western','California'],\n",
    "        'startingmed': [northeastern_staring,southern_starting,midwestern_starting,western_starting,california_starting]}\n",
    "datas = pd.DataFrame(data, columns=['region','startingmed'])"
   ]
  },
  {
   "cell_type": "code",
   "execution_count": 50,
   "metadata": {
    "_uuid": "f5b4e5a03e225f14602b102cab838721e53a8195"
   },
   "outputs": [
    {
     "data": {
      "text/html": [
       "<div>\n",
       "<style scoped>\n",
       "    .dataframe tbody tr th:only-of-type {\n",
       "        vertical-align: middle;\n",
       "    }\n",
       "\n",
       "    .dataframe tbody tr th {\n",
       "        vertical-align: top;\n",
       "    }\n",
       "\n",
       "    .dataframe thead th {\n",
       "        text-align: right;\n",
       "    }\n",
       "</style>\n",
       "<table border=\"1\" class=\"dataframe\">\n",
       "  <thead>\n",
       "    <tr style=\"text-align: right;\">\n",
       "      <th></th>\n",
       "      <th>region</th>\n",
       "      <th>startingmed</th>\n",
       "    </tr>\n",
       "  </thead>\n",
       "  <tbody>\n",
       "    <tr>\n",
       "      <th>0</th>\n",
       "      <td>Northeastern</td>\n",
       "      <td>26170</td>\n",
       "    </tr>\n",
       "    <tr>\n",
       "      <th>1</th>\n",
       "      <td>Southern</td>\n",
       "      <td>44521</td>\n",
       "    </tr>\n",
       "    <tr>\n",
       "      <th>2</th>\n",
       "      <td>Midwestern</td>\n",
       "      <td>44225</td>\n",
       "    </tr>\n",
       "    <tr>\n",
       "      <th>3</th>\n",
       "      <td>Western</td>\n",
       "      <td>44414</td>\n",
       "    </tr>\n",
       "    <tr>\n",
       "      <th>4</th>\n",
       "      <td>California</td>\n",
       "      <td>51032</td>\n",
       "    </tr>\n",
       "  </tbody>\n",
       "</table>\n",
       "</div>"
      ],
      "text/plain": [
       "         region  startingmed\n",
       "0  Northeastern        26170\n",
       "1      Southern        44521\n",
       "2    Midwestern        44225\n",
       "3       Western        44414\n",
       "4    California        51032"
      ]
     },
     "execution_count": 50,
     "metadata": {},
     "output_type": "execute_result"
    }
   ],
   "source": [
    "datas"
   ]
  },
  {
   "cell_type": "markdown",
   "metadata": {
    "_uuid": "bcd5527fbbcd0b7b7006a1ee46a46dac65028c6c"
   },
   "source": [
    "Let's visualize this datas."
   ]
  },
  {
   "cell_type": "code",
   "execution_count": 51,
   "metadata": {
    "_uuid": "d4d13923c9c8e9d83791158b2b062afe9a3ea474"
   },
   "outputs": [
    {
     "data": {
      "application/vnd.plotly.v1+json": {
       "config": {
        "linkText": "Export to plot.ly",
        "plotlyServerURL": "https://plot.ly",
        "showLink": false
       },
       "data": [
        {
         "marker": {
          "color": [
           "rgba(24,158,242,1)",
           "rgba(44,167,244,1)",
           "rgba(134,185,216,1)",
           "rgba(50,104,137,1)",
           "rgba(47,72,88,1)"
          ]
         },
         "type": "bar",
         "x": [
          "Northeastern",
          "Southern",
          "Midwestern",
          "Western",
          "California"
         ],
         "y": [
          26170,
          44521,
          44225,
          44414,
          51032
         ]
        }
       ],
       "layout": {
        "template": {
         "data": {
          "bar": [
           {
            "error_x": {
             "color": "#2a3f5f"
            },
            "error_y": {
             "color": "#2a3f5f"
            },
            "marker": {
             "line": {
              "color": "#E5ECF6",
              "width": 0.5
             },
             "pattern": {
              "fillmode": "overlay",
              "size": 10,
              "solidity": 0.2
             }
            },
            "type": "bar"
           }
          ],
          "barpolar": [
           {
            "marker": {
             "line": {
              "color": "#E5ECF6",
              "width": 0.5
             },
             "pattern": {
              "fillmode": "overlay",
              "size": 10,
              "solidity": 0.2
             }
            },
            "type": "barpolar"
           }
          ],
          "carpet": [
           {
            "aaxis": {
             "endlinecolor": "#2a3f5f",
             "gridcolor": "white",
             "linecolor": "white",
             "minorgridcolor": "white",
             "startlinecolor": "#2a3f5f"
            },
            "baxis": {
             "endlinecolor": "#2a3f5f",
             "gridcolor": "white",
             "linecolor": "white",
             "minorgridcolor": "white",
             "startlinecolor": "#2a3f5f"
            },
            "type": "carpet"
           }
          ],
          "choropleth": [
           {
            "colorbar": {
             "outlinewidth": 0,
             "ticks": ""
            },
            "type": "choropleth"
           }
          ],
          "contour": [
           {
            "colorbar": {
             "outlinewidth": 0,
             "ticks": ""
            },
            "colorscale": [
             [
              0,
              "#0d0887"
             ],
             [
              0.1111111111111111,
              "#46039f"
             ],
             [
              0.2222222222222222,
              "#7201a8"
             ],
             [
              0.3333333333333333,
              "#9c179e"
             ],
             [
              0.4444444444444444,
              "#bd3786"
             ],
             [
              0.5555555555555556,
              "#d8576b"
             ],
             [
              0.6666666666666666,
              "#ed7953"
             ],
             [
              0.7777777777777778,
              "#fb9f3a"
             ],
             [
              0.8888888888888888,
              "#fdca26"
             ],
             [
              1,
              "#f0f921"
             ]
            ],
            "type": "contour"
           }
          ],
          "contourcarpet": [
           {
            "colorbar": {
             "outlinewidth": 0,
             "ticks": ""
            },
            "type": "contourcarpet"
           }
          ],
          "heatmap": [
           {
            "colorbar": {
             "outlinewidth": 0,
             "ticks": ""
            },
            "colorscale": [
             [
              0,
              "#0d0887"
             ],
             [
              0.1111111111111111,
              "#46039f"
             ],
             [
              0.2222222222222222,
              "#7201a8"
             ],
             [
              0.3333333333333333,
              "#9c179e"
             ],
             [
              0.4444444444444444,
              "#bd3786"
             ],
             [
              0.5555555555555556,
              "#d8576b"
             ],
             [
              0.6666666666666666,
              "#ed7953"
             ],
             [
              0.7777777777777778,
              "#fb9f3a"
             ],
             [
              0.8888888888888888,
              "#fdca26"
             ],
             [
              1,
              "#f0f921"
             ]
            ],
            "type": "heatmap"
           }
          ],
          "heatmapgl": [
           {
            "colorbar": {
             "outlinewidth": 0,
             "ticks": ""
            },
            "colorscale": [
             [
              0,
              "#0d0887"
             ],
             [
              0.1111111111111111,
              "#46039f"
             ],
             [
              0.2222222222222222,
              "#7201a8"
             ],
             [
              0.3333333333333333,
              "#9c179e"
             ],
             [
              0.4444444444444444,
              "#bd3786"
             ],
             [
              0.5555555555555556,
              "#d8576b"
             ],
             [
              0.6666666666666666,
              "#ed7953"
             ],
             [
              0.7777777777777778,
              "#fb9f3a"
             ],
             [
              0.8888888888888888,
              "#fdca26"
             ],
             [
              1,
              "#f0f921"
             ]
            ],
            "type": "heatmapgl"
           }
          ],
          "histogram": [
           {
            "marker": {
             "pattern": {
              "fillmode": "overlay",
              "size": 10,
              "solidity": 0.2
             }
            },
            "type": "histogram"
           }
          ],
          "histogram2d": [
           {
            "colorbar": {
             "outlinewidth": 0,
             "ticks": ""
            },
            "colorscale": [
             [
              0,
              "#0d0887"
             ],
             [
              0.1111111111111111,
              "#46039f"
             ],
             [
              0.2222222222222222,
              "#7201a8"
             ],
             [
              0.3333333333333333,
              "#9c179e"
             ],
             [
              0.4444444444444444,
              "#bd3786"
             ],
             [
              0.5555555555555556,
              "#d8576b"
             ],
             [
              0.6666666666666666,
              "#ed7953"
             ],
             [
              0.7777777777777778,
              "#fb9f3a"
             ],
             [
              0.8888888888888888,
              "#fdca26"
             ],
             [
              1,
              "#f0f921"
             ]
            ],
            "type": "histogram2d"
           }
          ],
          "histogram2dcontour": [
           {
            "colorbar": {
             "outlinewidth": 0,
             "ticks": ""
            },
            "colorscale": [
             [
              0,
              "#0d0887"
             ],
             [
              0.1111111111111111,
              "#46039f"
             ],
             [
              0.2222222222222222,
              "#7201a8"
             ],
             [
              0.3333333333333333,
              "#9c179e"
             ],
             [
              0.4444444444444444,
              "#bd3786"
             ],
             [
              0.5555555555555556,
              "#d8576b"
             ],
             [
              0.6666666666666666,
              "#ed7953"
             ],
             [
              0.7777777777777778,
              "#fb9f3a"
             ],
             [
              0.8888888888888888,
              "#fdca26"
             ],
             [
              1,
              "#f0f921"
             ]
            ],
            "type": "histogram2dcontour"
           }
          ],
          "mesh3d": [
           {
            "colorbar": {
             "outlinewidth": 0,
             "ticks": ""
            },
            "type": "mesh3d"
           }
          ],
          "parcoords": [
           {
            "line": {
             "colorbar": {
              "outlinewidth": 0,
              "ticks": ""
             }
            },
            "type": "parcoords"
           }
          ],
          "pie": [
           {
            "automargin": true,
            "type": "pie"
           }
          ],
          "scatter": [
           {
            "marker": {
             "colorbar": {
              "outlinewidth": 0,
              "ticks": ""
             }
            },
            "type": "scatter"
           }
          ],
          "scatter3d": [
           {
            "line": {
             "colorbar": {
              "outlinewidth": 0,
              "ticks": ""
             }
            },
            "marker": {
             "colorbar": {
              "outlinewidth": 0,
              "ticks": ""
             }
            },
            "type": "scatter3d"
           }
          ],
          "scattercarpet": [
           {
            "marker": {
             "colorbar": {
              "outlinewidth": 0,
              "ticks": ""
             }
            },
            "type": "scattercarpet"
           }
          ],
          "scattergeo": [
           {
            "marker": {
             "colorbar": {
              "outlinewidth": 0,
              "ticks": ""
             }
            },
            "type": "scattergeo"
           }
          ],
          "scattergl": [
           {
            "marker": {
             "colorbar": {
              "outlinewidth": 0,
              "ticks": ""
             }
            },
            "type": "scattergl"
           }
          ],
          "scattermapbox": [
           {
            "marker": {
             "colorbar": {
              "outlinewidth": 0,
              "ticks": ""
             }
            },
            "type": "scattermapbox"
           }
          ],
          "scatterpolar": [
           {
            "marker": {
             "colorbar": {
              "outlinewidth": 0,
              "ticks": ""
             }
            },
            "type": "scatterpolar"
           }
          ],
          "scatterpolargl": [
           {
            "marker": {
             "colorbar": {
              "outlinewidth": 0,
              "ticks": ""
             }
            },
            "type": "scatterpolargl"
           }
          ],
          "scatterternary": [
           {
            "marker": {
             "colorbar": {
              "outlinewidth": 0,
              "ticks": ""
             }
            },
            "type": "scatterternary"
           }
          ],
          "surface": [
           {
            "colorbar": {
             "outlinewidth": 0,
             "ticks": ""
            },
            "colorscale": [
             [
              0,
              "#0d0887"
             ],
             [
              0.1111111111111111,
              "#46039f"
             ],
             [
              0.2222222222222222,
              "#7201a8"
             ],
             [
              0.3333333333333333,
              "#9c179e"
             ],
             [
              0.4444444444444444,
              "#bd3786"
             ],
             [
              0.5555555555555556,
              "#d8576b"
             ],
             [
              0.6666666666666666,
              "#ed7953"
             ],
             [
              0.7777777777777778,
              "#fb9f3a"
             ],
             [
              0.8888888888888888,
              "#fdca26"
             ],
             [
              1,
              "#f0f921"
             ]
            ],
            "type": "surface"
           }
          ],
          "table": [
           {
            "cells": {
             "fill": {
              "color": "#EBF0F8"
             },
             "line": {
              "color": "white"
             }
            },
            "header": {
             "fill": {
              "color": "#C8D4E3"
             },
             "line": {
              "color": "white"
             }
            },
            "type": "table"
           }
          ]
         },
         "layout": {
          "annotationdefaults": {
           "arrowcolor": "#2a3f5f",
           "arrowhead": 0,
           "arrowwidth": 1
          },
          "autotypenumbers": "strict",
          "coloraxis": {
           "colorbar": {
            "outlinewidth": 0,
            "ticks": ""
           }
          },
          "colorscale": {
           "diverging": [
            [
             0,
             "#8e0152"
            ],
            [
             0.1,
             "#c51b7d"
            ],
            [
             0.2,
             "#de77ae"
            ],
            [
             0.3,
             "#f1b6da"
            ],
            [
             0.4,
             "#fde0ef"
            ],
            [
             0.5,
             "#f7f7f7"
            ],
            [
             0.6,
             "#e6f5d0"
            ],
            [
             0.7,
             "#b8e186"
            ],
            [
             0.8,
             "#7fbc41"
            ],
            [
             0.9,
             "#4d9221"
            ],
            [
             1,
             "#276419"
            ]
           ],
           "sequential": [
            [
             0,
             "#0d0887"
            ],
            [
             0.1111111111111111,
             "#46039f"
            ],
            [
             0.2222222222222222,
             "#7201a8"
            ],
            [
             0.3333333333333333,
             "#9c179e"
            ],
            [
             0.4444444444444444,
             "#bd3786"
            ],
            [
             0.5555555555555556,
             "#d8576b"
            ],
            [
             0.6666666666666666,
             "#ed7953"
            ],
            [
             0.7777777777777778,
             "#fb9f3a"
            ],
            [
             0.8888888888888888,
             "#fdca26"
            ],
            [
             1,
             "#f0f921"
            ]
           ],
           "sequentialminus": [
            [
             0,
             "#0d0887"
            ],
            [
             0.1111111111111111,
             "#46039f"
            ],
            [
             0.2222222222222222,
             "#7201a8"
            ],
            [
             0.3333333333333333,
             "#9c179e"
            ],
            [
             0.4444444444444444,
             "#bd3786"
            ],
            [
             0.5555555555555556,
             "#d8576b"
            ],
            [
             0.6666666666666666,
             "#ed7953"
            ],
            [
             0.7777777777777778,
             "#fb9f3a"
            ],
            [
             0.8888888888888888,
             "#fdca26"
            ],
            [
             1,
             "#f0f921"
            ]
           ]
          },
          "colorway": [
           "#636efa",
           "#EF553B",
           "#00cc96",
           "#ab63fa",
           "#FFA15A",
           "#19d3f3",
           "#FF6692",
           "#B6E880",
           "#FF97FF",
           "#FECB52"
          ],
          "font": {
           "color": "#2a3f5f"
          },
          "geo": {
           "bgcolor": "white",
           "lakecolor": "white",
           "landcolor": "#E5ECF6",
           "showlakes": true,
           "showland": true,
           "subunitcolor": "white"
          },
          "hoverlabel": {
           "align": "left"
          },
          "hovermode": "closest",
          "mapbox": {
           "style": "light"
          },
          "paper_bgcolor": "white",
          "plot_bgcolor": "#E5ECF6",
          "polar": {
           "angularaxis": {
            "gridcolor": "white",
            "linecolor": "white",
            "ticks": ""
           },
           "bgcolor": "#E5ECF6",
           "radialaxis": {
            "gridcolor": "white",
            "linecolor": "white",
            "ticks": ""
           }
          },
          "scene": {
           "xaxis": {
            "backgroundcolor": "#E5ECF6",
            "gridcolor": "white",
            "gridwidth": 2,
            "linecolor": "white",
            "showbackground": true,
            "ticks": "",
            "zerolinecolor": "white"
           },
           "yaxis": {
            "backgroundcolor": "#E5ECF6",
            "gridcolor": "white",
            "gridwidth": 2,
            "linecolor": "white",
            "showbackground": true,
            "ticks": "",
            "zerolinecolor": "white"
           },
           "zaxis": {
            "backgroundcolor": "#E5ECF6",
            "gridcolor": "white",
            "gridwidth": 2,
            "linecolor": "white",
            "showbackground": true,
            "ticks": "",
            "zerolinecolor": "white"
           }
          },
          "shapedefaults": {
           "line": {
            "color": "#2a3f5f"
           }
          },
          "ternary": {
           "aaxis": {
            "gridcolor": "white",
            "linecolor": "white",
            "ticks": ""
           },
           "baxis": {
            "gridcolor": "white",
            "linecolor": "white",
            "ticks": ""
           },
           "bgcolor": "#E5ECF6",
           "caxis": {
            "gridcolor": "white",
            "linecolor": "white",
            "ticks": ""
           }
          },
          "title": {
           "x": 0.05
          },
          "xaxis": {
           "automargin": true,
           "gridcolor": "white",
           "linecolor": "white",
           "ticks": "",
           "title": {
            "standoff": 15
           },
           "zerolinecolor": "white",
           "zerolinewidth": 2
          },
          "yaxis": {
           "automargin": true,
           "gridcolor": "white",
           "linecolor": "white",
           "ticks": "",
           "title": {
            "standoff": 15
           },
           "zerolinecolor": "white",
           "zerolinewidth": 2
          }
         }
        },
        "title": {
         "text": "According to the state, average starting salary"
        },
        "xaxis": {
         "title": {
          "text": "Region"
         }
        },
        "yaxis": {
         "title": {
          "text": "Average Starting Salary"
         }
        }
       }
      },
      "text/html": [
       "<div>                            <div id=\"ac4d0dad-7e70-4275-b077-863e4fad2df1\" class=\"plotly-graph-div\" style=\"height:525px; width:100%;\"></div>            <script type=\"text/javascript\">                require([\"plotly\"], function(Plotly) {                    window.PLOTLYENV=window.PLOTLYENV || {};                                    if (document.getElementById(\"ac4d0dad-7e70-4275-b077-863e4fad2df1\")) {                    Plotly.newPlot(                        \"ac4d0dad-7e70-4275-b077-863e4fad2df1\",                        [{\"marker\":{\"color\":[\"rgba(24,158,242,1)\",\"rgba(44,167,244,1)\",\"rgba(134,185,216,1)\",\"rgba(50,104,137,1)\",\"rgba(47,72,88,1)\"]},\"x\":[\"Northeastern\",\"Southern\",\"Midwestern\",\"Western\",\"California\"],\"y\":[26170,44521,44225,44414,51032],\"type\":\"bar\"}],                        {\"template\":{\"data\":{\"barpolar\":[{\"marker\":{\"line\":{\"color\":\"#E5ECF6\",\"width\":0.5},\"pattern\":{\"fillmode\":\"overlay\",\"size\":10,\"solidity\":0.2}},\"type\":\"barpolar\"}],\"bar\":[{\"error_x\":{\"color\":\"#2a3f5f\"},\"error_y\":{\"color\":\"#2a3f5f\"},\"marker\":{\"line\":{\"color\":\"#E5ECF6\",\"width\":0.5},\"pattern\":{\"fillmode\":\"overlay\",\"size\":10,\"solidity\":0.2}},\"type\":\"bar\"}],\"carpet\":[{\"aaxis\":{\"endlinecolor\":\"#2a3f5f\",\"gridcolor\":\"white\",\"linecolor\":\"white\",\"minorgridcolor\":\"white\",\"startlinecolor\":\"#2a3f5f\"},\"baxis\":{\"endlinecolor\":\"#2a3f5f\",\"gridcolor\":\"white\",\"linecolor\":\"white\",\"minorgridcolor\":\"white\",\"startlinecolor\":\"#2a3f5f\"},\"type\":\"carpet\"}],\"choropleth\":[{\"colorbar\":{\"outlinewidth\":0,\"ticks\":\"\"},\"type\":\"choropleth\"}],\"contourcarpet\":[{\"colorbar\":{\"outlinewidth\":0,\"ticks\":\"\"},\"type\":\"contourcarpet\"}],\"contour\":[{\"colorbar\":{\"outlinewidth\":0,\"ticks\":\"\"},\"colorscale\":[[0.0,\"#0d0887\"],[0.1111111111111111,\"#46039f\"],[0.2222222222222222,\"#7201a8\"],[0.3333333333333333,\"#9c179e\"],[0.4444444444444444,\"#bd3786\"],[0.5555555555555556,\"#d8576b\"],[0.6666666666666666,\"#ed7953\"],[0.7777777777777778,\"#fb9f3a\"],[0.8888888888888888,\"#fdca26\"],[1.0,\"#f0f921\"]],\"type\":\"contour\"}],\"heatmapgl\":[{\"colorbar\":{\"outlinewidth\":0,\"ticks\":\"\"},\"colorscale\":[[0.0,\"#0d0887\"],[0.1111111111111111,\"#46039f\"],[0.2222222222222222,\"#7201a8\"],[0.3333333333333333,\"#9c179e\"],[0.4444444444444444,\"#bd3786\"],[0.5555555555555556,\"#d8576b\"],[0.6666666666666666,\"#ed7953\"],[0.7777777777777778,\"#fb9f3a\"],[0.8888888888888888,\"#fdca26\"],[1.0,\"#f0f921\"]],\"type\":\"heatmapgl\"}],\"heatmap\":[{\"colorbar\":{\"outlinewidth\":0,\"ticks\":\"\"},\"colorscale\":[[0.0,\"#0d0887\"],[0.1111111111111111,\"#46039f\"],[0.2222222222222222,\"#7201a8\"],[0.3333333333333333,\"#9c179e\"],[0.4444444444444444,\"#bd3786\"],[0.5555555555555556,\"#d8576b\"],[0.6666666666666666,\"#ed7953\"],[0.7777777777777778,\"#fb9f3a\"],[0.8888888888888888,\"#fdca26\"],[1.0,\"#f0f921\"]],\"type\":\"heatmap\"}],\"histogram2dcontour\":[{\"colorbar\":{\"outlinewidth\":0,\"ticks\":\"\"},\"colorscale\":[[0.0,\"#0d0887\"],[0.1111111111111111,\"#46039f\"],[0.2222222222222222,\"#7201a8\"],[0.3333333333333333,\"#9c179e\"],[0.4444444444444444,\"#bd3786\"],[0.5555555555555556,\"#d8576b\"],[0.6666666666666666,\"#ed7953\"],[0.7777777777777778,\"#fb9f3a\"],[0.8888888888888888,\"#fdca26\"],[1.0,\"#f0f921\"]],\"type\":\"histogram2dcontour\"}],\"histogram2d\":[{\"colorbar\":{\"outlinewidth\":0,\"ticks\":\"\"},\"colorscale\":[[0.0,\"#0d0887\"],[0.1111111111111111,\"#46039f\"],[0.2222222222222222,\"#7201a8\"],[0.3333333333333333,\"#9c179e\"],[0.4444444444444444,\"#bd3786\"],[0.5555555555555556,\"#d8576b\"],[0.6666666666666666,\"#ed7953\"],[0.7777777777777778,\"#fb9f3a\"],[0.8888888888888888,\"#fdca26\"],[1.0,\"#f0f921\"]],\"type\":\"histogram2d\"}],\"histogram\":[{\"marker\":{\"pattern\":{\"fillmode\":\"overlay\",\"size\":10,\"solidity\":0.2}},\"type\":\"histogram\"}],\"mesh3d\":[{\"colorbar\":{\"outlinewidth\":0,\"ticks\":\"\"},\"type\":\"mesh3d\"}],\"parcoords\":[{\"line\":{\"colorbar\":{\"outlinewidth\":0,\"ticks\":\"\"}},\"type\":\"parcoords\"}],\"pie\":[{\"automargin\":true,\"type\":\"pie\"}],\"scatter3d\":[{\"line\":{\"colorbar\":{\"outlinewidth\":0,\"ticks\":\"\"}},\"marker\":{\"colorbar\":{\"outlinewidth\":0,\"ticks\":\"\"}},\"type\":\"scatter3d\"}],\"scattercarpet\":[{\"marker\":{\"colorbar\":{\"outlinewidth\":0,\"ticks\":\"\"}},\"type\":\"scattercarpet\"}],\"scattergeo\":[{\"marker\":{\"colorbar\":{\"outlinewidth\":0,\"ticks\":\"\"}},\"type\":\"scattergeo\"}],\"scattergl\":[{\"marker\":{\"colorbar\":{\"outlinewidth\":0,\"ticks\":\"\"}},\"type\":\"scattergl\"}],\"scattermapbox\":[{\"marker\":{\"colorbar\":{\"outlinewidth\":0,\"ticks\":\"\"}},\"type\":\"scattermapbox\"}],\"scatterpolargl\":[{\"marker\":{\"colorbar\":{\"outlinewidth\":0,\"ticks\":\"\"}},\"type\":\"scatterpolargl\"}],\"scatterpolar\":[{\"marker\":{\"colorbar\":{\"outlinewidth\":0,\"ticks\":\"\"}},\"type\":\"scatterpolar\"}],\"scatter\":[{\"marker\":{\"colorbar\":{\"outlinewidth\":0,\"ticks\":\"\"}},\"type\":\"scatter\"}],\"scatterternary\":[{\"marker\":{\"colorbar\":{\"outlinewidth\":0,\"ticks\":\"\"}},\"type\":\"scatterternary\"}],\"surface\":[{\"colorbar\":{\"outlinewidth\":0,\"ticks\":\"\"},\"colorscale\":[[0.0,\"#0d0887\"],[0.1111111111111111,\"#46039f\"],[0.2222222222222222,\"#7201a8\"],[0.3333333333333333,\"#9c179e\"],[0.4444444444444444,\"#bd3786\"],[0.5555555555555556,\"#d8576b\"],[0.6666666666666666,\"#ed7953\"],[0.7777777777777778,\"#fb9f3a\"],[0.8888888888888888,\"#fdca26\"],[1.0,\"#f0f921\"]],\"type\":\"surface\"}],\"table\":[{\"cells\":{\"fill\":{\"color\":\"#EBF0F8\"},\"line\":{\"color\":\"white\"}},\"header\":{\"fill\":{\"color\":\"#C8D4E3\"},\"line\":{\"color\":\"white\"}},\"type\":\"table\"}]},\"layout\":{\"annotationdefaults\":{\"arrowcolor\":\"#2a3f5f\",\"arrowhead\":0,\"arrowwidth\":1},\"autotypenumbers\":\"strict\",\"coloraxis\":{\"colorbar\":{\"outlinewidth\":0,\"ticks\":\"\"}},\"colorscale\":{\"diverging\":[[0,\"#8e0152\"],[0.1,\"#c51b7d\"],[0.2,\"#de77ae\"],[0.3,\"#f1b6da\"],[0.4,\"#fde0ef\"],[0.5,\"#f7f7f7\"],[0.6,\"#e6f5d0\"],[0.7,\"#b8e186\"],[0.8,\"#7fbc41\"],[0.9,\"#4d9221\"],[1,\"#276419\"]],\"sequential\":[[0.0,\"#0d0887\"],[0.1111111111111111,\"#46039f\"],[0.2222222222222222,\"#7201a8\"],[0.3333333333333333,\"#9c179e\"],[0.4444444444444444,\"#bd3786\"],[0.5555555555555556,\"#d8576b\"],[0.6666666666666666,\"#ed7953\"],[0.7777777777777778,\"#fb9f3a\"],[0.8888888888888888,\"#fdca26\"],[1.0,\"#f0f921\"]],\"sequentialminus\":[[0.0,\"#0d0887\"],[0.1111111111111111,\"#46039f\"],[0.2222222222222222,\"#7201a8\"],[0.3333333333333333,\"#9c179e\"],[0.4444444444444444,\"#bd3786\"],[0.5555555555555556,\"#d8576b\"],[0.6666666666666666,\"#ed7953\"],[0.7777777777777778,\"#fb9f3a\"],[0.8888888888888888,\"#fdca26\"],[1.0,\"#f0f921\"]]},\"colorway\":[\"#636efa\",\"#EF553B\",\"#00cc96\",\"#ab63fa\",\"#FFA15A\",\"#19d3f3\",\"#FF6692\",\"#B6E880\",\"#FF97FF\",\"#FECB52\"],\"font\":{\"color\":\"#2a3f5f\"},\"geo\":{\"bgcolor\":\"white\",\"lakecolor\":\"white\",\"landcolor\":\"#E5ECF6\",\"showlakes\":true,\"showland\":true,\"subunitcolor\":\"white\"},\"hoverlabel\":{\"align\":\"left\"},\"hovermode\":\"closest\",\"mapbox\":{\"style\":\"light\"},\"paper_bgcolor\":\"white\",\"plot_bgcolor\":\"#E5ECF6\",\"polar\":{\"angularaxis\":{\"gridcolor\":\"white\",\"linecolor\":\"white\",\"ticks\":\"\"},\"bgcolor\":\"#E5ECF6\",\"radialaxis\":{\"gridcolor\":\"white\",\"linecolor\":\"white\",\"ticks\":\"\"}},\"scene\":{\"xaxis\":{\"backgroundcolor\":\"#E5ECF6\",\"gridcolor\":\"white\",\"gridwidth\":2,\"linecolor\":\"white\",\"showbackground\":true,\"ticks\":\"\",\"zerolinecolor\":\"white\"},\"yaxis\":{\"backgroundcolor\":\"#E5ECF6\",\"gridcolor\":\"white\",\"gridwidth\":2,\"linecolor\":\"white\",\"showbackground\":true,\"ticks\":\"\",\"zerolinecolor\":\"white\"},\"zaxis\":{\"backgroundcolor\":\"#E5ECF6\",\"gridcolor\":\"white\",\"gridwidth\":2,\"linecolor\":\"white\",\"showbackground\":true,\"ticks\":\"\",\"zerolinecolor\":\"white\"}},\"shapedefaults\":{\"line\":{\"color\":\"#2a3f5f\"}},\"ternary\":{\"aaxis\":{\"gridcolor\":\"white\",\"linecolor\":\"white\",\"ticks\":\"\"},\"baxis\":{\"gridcolor\":\"white\",\"linecolor\":\"white\",\"ticks\":\"\"},\"bgcolor\":\"#E5ECF6\",\"caxis\":{\"gridcolor\":\"white\",\"linecolor\":\"white\",\"ticks\":\"\"}},\"title\":{\"x\":0.05},\"xaxis\":{\"automargin\":true,\"gridcolor\":\"white\",\"linecolor\":\"white\",\"ticks\":\"\",\"title\":{\"standoff\":15},\"zerolinecolor\":\"white\",\"zerolinewidth\":2},\"yaxis\":{\"automargin\":true,\"gridcolor\":\"white\",\"linecolor\":\"white\",\"ticks\":\"\",\"title\":{\"standoff\":15},\"zerolinecolor\":\"white\",\"zerolinewidth\":2}}},\"title\":{\"text\":\"According to the state, average starting salary\"},\"xaxis\":{\"title\":{\"text\":\"Region\"}},\"yaxis\":{\"title\":{\"text\":\"Average Starting Salary\"}}},                        {\"responsive\": true}                    ).then(function(){\n",
       "                            \n",
       "var gd = document.getElementById('ac4d0dad-7e70-4275-b077-863e4fad2df1');\n",
       "var x = new MutationObserver(function (mutations, observer) {{\n",
       "        var display = window.getComputedStyle(gd).display;\n",
       "        if (!display || display === 'none') {{\n",
       "            console.log([gd, 'removed!']);\n",
       "            Plotly.purge(gd);\n",
       "            observer.disconnect();\n",
       "        }}\n",
       "}});\n",
       "\n",
       "// Listen for the removal of the full notebook cells\n",
       "var notebookContainer = gd.closest('#notebook-container');\n",
       "if (notebookContainer) {{\n",
       "    x.observe(notebookContainer, {childList: true});\n",
       "}}\n",
       "\n",
       "// Listen for the clearing of the current output cell\n",
       "var outputEl = gd.closest('.output');\n",
       "if (outputEl) {{\n",
       "    x.observe(outputEl, {childList: true});\n",
       "}}\n",
       "\n",
       "                        })                };                });            </script>        </div>"
      ]
     },
     "metadata": {},
     "output_type": "display_data"
    }
   ],
   "source": [
    "# Customizing Individual Bar Colors\n",
    "trace0 = go.Bar(\n",
    "    x=datas.region.values,\n",
    "    y=datas.startingmed.values,\n",
    "    marker=dict(\n",
    "        color=['rgba(24,158,242,1)', 'rgba(44,167,244,1)',\n",
    "               'rgba(134,185,216,1)', 'rgba(50,104,137,1)',\n",
    "               'rgba(47,72,88,1)']),\n",
    ")\n",
    "\n",
    "data = [trace0]\n",
    "layout = go.Layout(\n",
    "    title='According to the state, average starting salary',\n",
    "    xaxis= {\"title\": \"Region\", }, \n",
    "    yaxis= {\"title\": \"Average Starting Salary\"}\n",
    ")\n",
    "\n",
    "fig = go.Figure(data=data, layout=layout)\n",
    "iplot(fig)"
   ]
  },
  {
   "cell_type": "markdown",
   "metadata": {
    "_uuid": "bc608fde5a2b017ec1961604847515380a0c2beb"
   },
   "source": [
    "### **Compare the pay for the schools** <a id=\"25\"></a>\n",
    "<mark>[Return Contents](#0)\n",
    "<hr>\n",
    "Now, let's compare the pay for the schools."
   ]
  },
  {
   "cell_type": "code",
   "execution_count": 52,
   "metadata": {
    "_uuid": "fe6221ad17355ff8303bedaef4509312f4954831"
   },
   "outputs": [
    {
     "data": {
      "application/vnd.plotly.v1+json": {
       "config": {
        "linkText": "Export to plot.ly",
        "plotlyServerURL": "https://plot.ly",
        "showLink": false
       },
       "data": [
        {
         "marker": {
          "color": "rgba(16, 112, 2, 0.8)"
         },
         "mode": "lines",
         "name": "Starting Median Salary",
         "text": [
          "California Institute of Technology (CIT)",
          "Massachusetts Institute of Technology (MIT)",
          "Harvey Mudd College",
          "Stanford University",
          "Princeton University",
          "Rice University",
          "Harvard University",
          "Polytechnic University of New York, Brooklyn",
          "Cooper Union",
          "Carnegie Mellon University (CMU)",
          "Rensselaer Polytechnic Institute (RPI)",
          "Worcester Polytechnic Institute (WPI)",
          "University of Pennsylvania",
          "Stevens Institute of Technology",
          "Cornell University",
          "University of California, Berkeley",
          "Columbia University",
          "Lehigh University",
          "Yale University",
          "Duke University",
          "Georgia Institute of Technology",
          "Colorado School of Mines",
          "Dartmouth College",
          "Cal Poly San Luis Obispo",
          "University of Missouri - Rolla (UMR)",
          "University of Notre Dame",
          "Brown University",
          "Case Western Reserve University",
          "Illinois Institute of Technology (IIT)",
          "South Dakota School of Mines & Technology",
          "Villanova University",
          "Georgetown University",
          "University of Southern California (USC)",
          "Amherst College",
          "Bucknell University",
          "Lafayette College",
          "Washington and Lee University",
          "Binghamton University",
          "San Jose State University (SJSU)",
          "Virginia Polytechnic Institute and State University (Virginia Tech)",
          "University Of Chicago",
          "Drexel University",
          "Pace University",
          "Wentworth Institute of Technology",
          "Widener University",
          "University of Illinois at Urbana-Champaign (UIUC)",
          "Colgate University",
          "Northwestern University",
          "University of Michigan",
          "Boston College",
          "University of Virginia (UVA)",
          "University of California at Los Angeles (UCLA)",
          "University of California, Davis",
          "Emory University",
          "University of Maryland, College Park"
         ],
         "type": "scatter",
         "x": [
          0,
          1,
          2,
          3,
          4,
          5,
          6,
          7,
          8,
          9,
          10,
          11,
          12,
          13,
          14,
          15,
          16,
          17,
          18,
          19,
          20,
          21,
          22,
          23,
          24,
          25,
          26,
          27,
          28,
          29,
          30,
          31,
          32,
          33,
          34,
          35,
          36,
          37,
          38,
          39,
          40,
          41,
          42,
          43,
          44,
          45,
          46,
          47,
          48,
          49,
          50,
          51,
          52,
          53,
          54
         ],
         "y": [
          75500,
          72200,
          71800,
          70400,
          66500,
          64000,
          63400,
          62400,
          62200,
          61800,
          61100,
          61000,
          60900,
          60600,
          60300,
          59900,
          59400,
          59200,
          59100,
          58900,
          58300,
          58100,
          58000,
          57200,
          57100,
          56300,
          56200,
          56200,
          56000,
          55800,
          55800,
          55000,
          54800,
          54500,
          54100,
          53900,
          53600,
          53600,
          53500,
          53500,
          53400,
          53400,
          53200,
          53000,
          52900,
          52900,
          52800,
          52700,
          52700,
          52700,
          52700,
          52600,
          52300,
          52000,
          52000
         ]
        },
        {
         "marker": {
          "color": "rgba(80, 26, 80, 0.8)"
         },
         "mode": "lines+markers",
         "name": "Mid-Career Median Salary",
         "text": [
          "California Institute of Technology (CIT)",
          "Massachusetts Institute of Technology (MIT)",
          "Harvey Mudd College",
          "Stanford University",
          "Princeton University",
          "Rice University",
          "Harvard University",
          "Polytechnic University of New York, Brooklyn",
          "Cooper Union",
          "Carnegie Mellon University (CMU)",
          "Rensselaer Polytechnic Institute (RPI)",
          "Worcester Polytechnic Institute (WPI)",
          "University of Pennsylvania",
          "Stevens Institute of Technology",
          "Cornell University",
          "University of California, Berkeley",
          "Columbia University",
          "Lehigh University",
          "Yale University",
          "Duke University",
          "Georgia Institute of Technology",
          "Colorado School of Mines",
          "Dartmouth College",
          "Cal Poly San Luis Obispo",
          "University of Missouri - Rolla (UMR)",
          "University of Notre Dame",
          "Brown University",
          "Case Western Reserve University",
          "Illinois Institute of Technology (IIT)",
          "South Dakota School of Mines & Technology",
          "Villanova University",
          "Georgetown University",
          "University of Southern California (USC)",
          "Amherst College",
          "Bucknell University",
          "Lafayette College",
          "Washington and Lee University",
          "Binghamton University",
          "San Jose State University (SJSU)",
          "Virginia Polytechnic Institute and State University (Virginia Tech)",
          "University Of Chicago",
          "Drexel University",
          "Pace University",
          "Wentworth Institute of Technology",
          "Widener University",
          "University of Illinois at Urbana-Champaign (UIUC)",
          "Colgate University",
          "Northwestern University",
          "University of Michigan",
          "Boston College",
          "University of Virginia (UVA)",
          "University of California at Los Angeles (UCLA)",
          "University of California, Davis",
          "Emory University",
          "University of Maryland, College Park"
         ],
         "type": "scatter",
         "x": [
          0,
          1,
          2,
          3,
          4,
          5,
          6,
          7,
          8,
          9,
          10,
          11,
          12,
          13,
          14,
          15,
          16,
          17,
          18,
          19,
          20,
          21,
          22,
          23,
          24,
          25,
          26,
          27,
          28,
          29,
          30,
          31,
          32,
          33,
          34,
          35,
          36,
          37,
          38,
          39,
          40,
          41,
          42,
          43,
          44,
          45,
          46,
          47,
          48,
          49,
          50,
          51,
          52,
          53,
          54
         ],
         "y": [
          123000,
          126000,
          122000,
          129000,
          131000,
          110000,
          124000,
          114000,
          114000,
          111000,
          110000,
          114000,
          120000,
          105000,
          110000,
          112000,
          107000,
          105000,
          126000,
          106000,
          106000,
          106000,
          134000,
          101000,
          95800,
          116000,
          109000,
          96500,
          97800,
          93400,
          101000,
          110000,
          99600,
          107000,
          110000,
          107000,
          104000,
          95900,
          95600,
          95400,
          113000,
          93500,
          89700,
          96700,
          83400,
          96100,
          108000,
          95900,
          93000,
          103000,
          103000,
          101000,
          99600,
          91600,
          95000
         ]
        }
       ],
       "layout": {
        "template": {
         "data": {
          "bar": [
           {
            "error_x": {
             "color": "#2a3f5f"
            },
            "error_y": {
             "color": "#2a3f5f"
            },
            "marker": {
             "line": {
              "color": "#E5ECF6",
              "width": 0.5
             },
             "pattern": {
              "fillmode": "overlay",
              "size": 10,
              "solidity": 0.2
             }
            },
            "type": "bar"
           }
          ],
          "barpolar": [
           {
            "marker": {
             "line": {
              "color": "#E5ECF6",
              "width": 0.5
             },
             "pattern": {
              "fillmode": "overlay",
              "size": 10,
              "solidity": 0.2
             }
            },
            "type": "barpolar"
           }
          ],
          "carpet": [
           {
            "aaxis": {
             "endlinecolor": "#2a3f5f",
             "gridcolor": "white",
             "linecolor": "white",
             "minorgridcolor": "white",
             "startlinecolor": "#2a3f5f"
            },
            "baxis": {
             "endlinecolor": "#2a3f5f",
             "gridcolor": "white",
             "linecolor": "white",
             "minorgridcolor": "white",
             "startlinecolor": "#2a3f5f"
            },
            "type": "carpet"
           }
          ],
          "choropleth": [
           {
            "colorbar": {
             "outlinewidth": 0,
             "ticks": ""
            },
            "type": "choropleth"
           }
          ],
          "contour": [
           {
            "colorbar": {
             "outlinewidth": 0,
             "ticks": ""
            },
            "colorscale": [
             [
              0,
              "#0d0887"
             ],
             [
              0.1111111111111111,
              "#46039f"
             ],
             [
              0.2222222222222222,
              "#7201a8"
             ],
             [
              0.3333333333333333,
              "#9c179e"
             ],
             [
              0.4444444444444444,
              "#bd3786"
             ],
             [
              0.5555555555555556,
              "#d8576b"
             ],
             [
              0.6666666666666666,
              "#ed7953"
             ],
             [
              0.7777777777777778,
              "#fb9f3a"
             ],
             [
              0.8888888888888888,
              "#fdca26"
             ],
             [
              1,
              "#f0f921"
             ]
            ],
            "type": "contour"
           }
          ],
          "contourcarpet": [
           {
            "colorbar": {
             "outlinewidth": 0,
             "ticks": ""
            },
            "type": "contourcarpet"
           }
          ],
          "heatmap": [
           {
            "colorbar": {
             "outlinewidth": 0,
             "ticks": ""
            },
            "colorscale": [
             [
              0,
              "#0d0887"
             ],
             [
              0.1111111111111111,
              "#46039f"
             ],
             [
              0.2222222222222222,
              "#7201a8"
             ],
             [
              0.3333333333333333,
              "#9c179e"
             ],
             [
              0.4444444444444444,
              "#bd3786"
             ],
             [
              0.5555555555555556,
              "#d8576b"
             ],
             [
              0.6666666666666666,
              "#ed7953"
             ],
             [
              0.7777777777777778,
              "#fb9f3a"
             ],
             [
              0.8888888888888888,
              "#fdca26"
             ],
             [
              1,
              "#f0f921"
             ]
            ],
            "type": "heatmap"
           }
          ],
          "heatmapgl": [
           {
            "colorbar": {
             "outlinewidth": 0,
             "ticks": ""
            },
            "colorscale": [
             [
              0,
              "#0d0887"
             ],
             [
              0.1111111111111111,
              "#46039f"
             ],
             [
              0.2222222222222222,
              "#7201a8"
             ],
             [
              0.3333333333333333,
              "#9c179e"
             ],
             [
              0.4444444444444444,
              "#bd3786"
             ],
             [
              0.5555555555555556,
              "#d8576b"
             ],
             [
              0.6666666666666666,
              "#ed7953"
             ],
             [
              0.7777777777777778,
              "#fb9f3a"
             ],
             [
              0.8888888888888888,
              "#fdca26"
             ],
             [
              1,
              "#f0f921"
             ]
            ],
            "type": "heatmapgl"
           }
          ],
          "histogram": [
           {
            "marker": {
             "pattern": {
              "fillmode": "overlay",
              "size": 10,
              "solidity": 0.2
             }
            },
            "type": "histogram"
           }
          ],
          "histogram2d": [
           {
            "colorbar": {
             "outlinewidth": 0,
             "ticks": ""
            },
            "colorscale": [
             [
              0,
              "#0d0887"
             ],
             [
              0.1111111111111111,
              "#46039f"
             ],
             [
              0.2222222222222222,
              "#7201a8"
             ],
             [
              0.3333333333333333,
              "#9c179e"
             ],
             [
              0.4444444444444444,
              "#bd3786"
             ],
             [
              0.5555555555555556,
              "#d8576b"
             ],
             [
              0.6666666666666666,
              "#ed7953"
             ],
             [
              0.7777777777777778,
              "#fb9f3a"
             ],
             [
              0.8888888888888888,
              "#fdca26"
             ],
             [
              1,
              "#f0f921"
             ]
            ],
            "type": "histogram2d"
           }
          ],
          "histogram2dcontour": [
           {
            "colorbar": {
             "outlinewidth": 0,
             "ticks": ""
            },
            "colorscale": [
             [
              0,
              "#0d0887"
             ],
             [
              0.1111111111111111,
              "#46039f"
             ],
             [
              0.2222222222222222,
              "#7201a8"
             ],
             [
              0.3333333333333333,
              "#9c179e"
             ],
             [
              0.4444444444444444,
              "#bd3786"
             ],
             [
              0.5555555555555556,
              "#d8576b"
             ],
             [
              0.6666666666666666,
              "#ed7953"
             ],
             [
              0.7777777777777778,
              "#fb9f3a"
             ],
             [
              0.8888888888888888,
              "#fdca26"
             ],
             [
              1,
              "#f0f921"
             ]
            ],
            "type": "histogram2dcontour"
           }
          ],
          "mesh3d": [
           {
            "colorbar": {
             "outlinewidth": 0,
             "ticks": ""
            },
            "type": "mesh3d"
           }
          ],
          "parcoords": [
           {
            "line": {
             "colorbar": {
              "outlinewidth": 0,
              "ticks": ""
             }
            },
            "type": "parcoords"
           }
          ],
          "pie": [
           {
            "automargin": true,
            "type": "pie"
           }
          ],
          "scatter": [
           {
            "marker": {
             "colorbar": {
              "outlinewidth": 0,
              "ticks": ""
             }
            },
            "type": "scatter"
           }
          ],
          "scatter3d": [
           {
            "line": {
             "colorbar": {
              "outlinewidth": 0,
              "ticks": ""
             }
            },
            "marker": {
             "colorbar": {
              "outlinewidth": 0,
              "ticks": ""
             }
            },
            "type": "scatter3d"
           }
          ],
          "scattercarpet": [
           {
            "marker": {
             "colorbar": {
              "outlinewidth": 0,
              "ticks": ""
             }
            },
            "type": "scattercarpet"
           }
          ],
          "scattergeo": [
           {
            "marker": {
             "colorbar": {
              "outlinewidth": 0,
              "ticks": ""
             }
            },
            "type": "scattergeo"
           }
          ],
          "scattergl": [
           {
            "marker": {
             "colorbar": {
              "outlinewidth": 0,
              "ticks": ""
             }
            },
            "type": "scattergl"
           }
          ],
          "scattermapbox": [
           {
            "marker": {
             "colorbar": {
              "outlinewidth": 0,
              "ticks": ""
             }
            },
            "type": "scattermapbox"
           }
          ],
          "scatterpolar": [
           {
            "marker": {
             "colorbar": {
              "outlinewidth": 0,
              "ticks": ""
             }
            },
            "type": "scatterpolar"
           }
          ],
          "scatterpolargl": [
           {
            "marker": {
             "colorbar": {
              "outlinewidth": 0,
              "ticks": ""
             }
            },
            "type": "scatterpolargl"
           }
          ],
          "scatterternary": [
           {
            "marker": {
             "colorbar": {
              "outlinewidth": 0,
              "ticks": ""
             }
            },
            "type": "scatterternary"
           }
          ],
          "surface": [
           {
            "colorbar": {
             "outlinewidth": 0,
             "ticks": ""
            },
            "colorscale": [
             [
              0,
              "#0d0887"
             ],
             [
              0.1111111111111111,
              "#46039f"
             ],
             [
              0.2222222222222222,
              "#7201a8"
             ],
             [
              0.3333333333333333,
              "#9c179e"
             ],
             [
              0.4444444444444444,
              "#bd3786"
             ],
             [
              0.5555555555555556,
              "#d8576b"
             ],
             [
              0.6666666666666666,
              "#ed7953"
             ],
             [
              0.7777777777777778,
              "#fb9f3a"
             ],
             [
              0.8888888888888888,
              "#fdca26"
             ],
             [
              1,
              "#f0f921"
             ]
            ],
            "type": "surface"
           }
          ],
          "table": [
           {
            "cells": {
             "fill": {
              "color": "#EBF0F8"
             },
             "line": {
              "color": "white"
             }
            },
            "header": {
             "fill": {
              "color": "#C8D4E3"
             },
             "line": {
              "color": "white"
             }
            },
            "type": "table"
           }
          ]
         },
         "layout": {
          "annotationdefaults": {
           "arrowcolor": "#2a3f5f",
           "arrowhead": 0,
           "arrowwidth": 1
          },
          "autotypenumbers": "strict",
          "coloraxis": {
           "colorbar": {
            "outlinewidth": 0,
            "ticks": ""
           }
          },
          "colorscale": {
           "diverging": [
            [
             0,
             "#8e0152"
            ],
            [
             0.1,
             "#c51b7d"
            ],
            [
             0.2,
             "#de77ae"
            ],
            [
             0.3,
             "#f1b6da"
            ],
            [
             0.4,
             "#fde0ef"
            ],
            [
             0.5,
             "#f7f7f7"
            ],
            [
             0.6,
             "#e6f5d0"
            ],
            [
             0.7,
             "#b8e186"
            ],
            [
             0.8,
             "#7fbc41"
            ],
            [
             0.9,
             "#4d9221"
            ],
            [
             1,
             "#276419"
            ]
           ],
           "sequential": [
            [
             0,
             "#0d0887"
            ],
            [
             0.1111111111111111,
             "#46039f"
            ],
            [
             0.2222222222222222,
             "#7201a8"
            ],
            [
             0.3333333333333333,
             "#9c179e"
            ],
            [
             0.4444444444444444,
             "#bd3786"
            ],
            [
             0.5555555555555556,
             "#d8576b"
            ],
            [
             0.6666666666666666,
             "#ed7953"
            ],
            [
             0.7777777777777778,
             "#fb9f3a"
            ],
            [
             0.8888888888888888,
             "#fdca26"
            ],
            [
             1,
             "#f0f921"
            ]
           ],
           "sequentialminus": [
            [
             0,
             "#0d0887"
            ],
            [
             0.1111111111111111,
             "#46039f"
            ],
            [
             0.2222222222222222,
             "#7201a8"
            ],
            [
             0.3333333333333333,
             "#9c179e"
            ],
            [
             0.4444444444444444,
             "#bd3786"
            ],
            [
             0.5555555555555556,
             "#d8576b"
            ],
            [
             0.6666666666666666,
             "#ed7953"
            ],
            [
             0.7777777777777778,
             "#fb9f3a"
            ],
            [
             0.8888888888888888,
             "#fdca26"
            ],
            [
             1,
             "#f0f921"
            ]
           ]
          },
          "colorway": [
           "#636efa",
           "#EF553B",
           "#00cc96",
           "#ab63fa",
           "#FFA15A",
           "#19d3f3",
           "#FF6692",
           "#B6E880",
           "#FF97FF",
           "#FECB52"
          ],
          "font": {
           "color": "#2a3f5f"
          },
          "geo": {
           "bgcolor": "white",
           "lakecolor": "white",
           "landcolor": "#E5ECF6",
           "showlakes": true,
           "showland": true,
           "subunitcolor": "white"
          },
          "hoverlabel": {
           "align": "left"
          },
          "hovermode": "closest",
          "mapbox": {
           "style": "light"
          },
          "paper_bgcolor": "white",
          "plot_bgcolor": "#E5ECF6",
          "polar": {
           "angularaxis": {
            "gridcolor": "white",
            "linecolor": "white",
            "ticks": ""
           },
           "bgcolor": "#E5ECF6",
           "radialaxis": {
            "gridcolor": "white",
            "linecolor": "white",
            "ticks": ""
           }
          },
          "scene": {
           "xaxis": {
            "backgroundcolor": "#E5ECF6",
            "gridcolor": "white",
            "gridwidth": 2,
            "linecolor": "white",
            "showbackground": true,
            "ticks": "",
            "zerolinecolor": "white"
           },
           "yaxis": {
            "backgroundcolor": "#E5ECF6",
            "gridcolor": "white",
            "gridwidth": 2,
            "linecolor": "white",
            "showbackground": true,
            "ticks": "",
            "zerolinecolor": "white"
           },
           "zaxis": {
            "backgroundcolor": "#E5ECF6",
            "gridcolor": "white",
            "gridwidth": 2,
            "linecolor": "white",
            "showbackground": true,
            "ticks": "",
            "zerolinecolor": "white"
           }
          },
          "shapedefaults": {
           "line": {
            "color": "#2a3f5f"
           }
          },
          "ternary": {
           "aaxis": {
            "gridcolor": "white",
            "linecolor": "white",
            "ticks": ""
           },
           "baxis": {
            "gridcolor": "white",
            "linecolor": "white",
            "ticks": ""
           },
           "bgcolor": "#E5ECF6",
           "caxis": {
            "gridcolor": "white",
            "linecolor": "white",
            "ticks": ""
           }
          },
          "title": {
           "x": 0.05
          },
          "xaxis": {
           "automargin": true,
           "gridcolor": "white",
           "linecolor": "white",
           "ticks": "",
           "title": {
            "standoff": 15
           },
           "zerolinecolor": "white",
           "zerolinewidth": 2
          },
          "yaxis": {
           "automargin": true,
           "gridcolor": "white",
           "linecolor": "white",
           "ticks": "",
           "title": {
            "standoff": 15
           },
           "zerolinecolor": "white",
           "zerolinewidth": 2
          }
         }
        },
        "title": {
         "text": "Starting Median Salary and Mid-Career Median Salary"
        },
        "xaxis": {
         "ticklen": 5,
         "title": {
          "text": "Universities Rank"
         },
         "zeroline": false
        }
       }
      },
      "text/html": [
       "<div>                            <div id=\"7e775cac-af70-451b-b04f-8a49917497cc\" class=\"plotly-graph-div\" style=\"height:525px; width:100%;\"></div>            <script type=\"text/javascript\">                require([\"plotly\"], function(Plotly) {                    window.PLOTLYENV=window.PLOTLYENV || {};                                    if (document.getElementById(\"7e775cac-af70-451b-b04f-8a49917497cc\")) {                    Plotly.newPlot(                        \"7e775cac-af70-451b-b04f-8a49917497cc\",                        [{\"marker\":{\"color\":\"rgba(16, 112, 2, 0.8)\"},\"mode\":\"lines\",\"name\":\"Starting Median Salary\",\"text\":[\"California Institute of Technology (CIT)\",\"Massachusetts Institute of Technology (MIT)\",\"Harvey Mudd College\",\"Stanford University\",\"Princeton University\",\"Rice University\",\"Harvard University\",\"Polytechnic University of New York, Brooklyn\",\"Cooper Union\",\"Carnegie Mellon University (CMU)\",\"Rensselaer Polytechnic Institute (RPI)\",\"Worcester Polytechnic Institute (WPI)\",\"University of Pennsylvania\",\"Stevens Institute of Technology\",\"Cornell University\",\"University of California, Berkeley\",\"Columbia University\",\"Lehigh University\",\"Yale University\",\"Duke University\",\"Georgia Institute of Technology\",\"Colorado School of Mines\",\"Dartmouth College\",\"Cal Poly San Luis Obispo\",\"University of Missouri - Rolla (UMR)\",\"University of Notre Dame\",\"Brown University\",\"Case Western Reserve University\",\"Illinois Institute of Technology (IIT)\",\"South Dakota School of Mines & Technology\",\"Villanova University\",\"Georgetown University\",\"University of Southern California (USC)\",\"Amherst College\",\"Bucknell University\",\"Lafayette College\",\"Washington and Lee University\",\"Binghamton University\",\"San Jose State University (SJSU)\",\"Virginia Polytechnic Institute and State University (Virginia Tech)\",\"University Of Chicago\",\"Drexel University\",\"Pace University\",\"Wentworth Institute of Technology\",\"Widener University\",\"University of Illinois at Urbana-Champaign (UIUC)\",\"Colgate University\",\"Northwestern University\",\"University of Michigan\",\"Boston College\",\"University of Virginia (UVA)\",\"University of California at Los Angeles (UCLA)\",\"University of California, Davis\",\"Emory University\",\"University of Maryland, College Park\"],\"x\":[0,1,2,3,4,5,6,7,8,9,10,11,12,13,14,15,16,17,18,19,20,21,22,23,24,25,26,27,28,29,30,31,32,33,34,35,36,37,38,39,40,41,42,43,44,45,46,47,48,49,50,51,52,53,54],\"y\":[75500.0,72200.0,71800.0,70400.0,66500.0,64000.0,63400.0,62400.0,62200.0,61800.0,61100.0,61000.0,60900.0,60600.0,60300.0,59900.0,59400.0,59200.0,59100.0,58900.0,58300.0,58100.0,58000.0,57200.0,57100.0,56300.0,56200.0,56200.0,56000.0,55800.0,55800.0,55000.0,54800.0,54500.0,54100.0,53900.0,53600.0,53600.0,53500.0,53500.0,53400.0,53400.0,53200.0,53000.0,52900.0,52900.0,52800.0,52700.0,52700.0,52700.0,52700.0,52600.0,52300.0,52000.0,52000.0],\"type\":\"scatter\"},{\"marker\":{\"color\":\"rgba(80, 26, 80, 0.8)\"},\"mode\":\"lines+markers\",\"name\":\"Mid-Career Median Salary\",\"text\":[\"California Institute of Technology (CIT)\",\"Massachusetts Institute of Technology (MIT)\",\"Harvey Mudd College\",\"Stanford University\",\"Princeton University\",\"Rice University\",\"Harvard University\",\"Polytechnic University of New York, Brooklyn\",\"Cooper Union\",\"Carnegie Mellon University (CMU)\",\"Rensselaer Polytechnic Institute (RPI)\",\"Worcester Polytechnic Institute (WPI)\",\"University of Pennsylvania\",\"Stevens Institute of Technology\",\"Cornell University\",\"University of California, Berkeley\",\"Columbia University\",\"Lehigh University\",\"Yale University\",\"Duke University\",\"Georgia Institute of Technology\",\"Colorado School of Mines\",\"Dartmouth College\",\"Cal Poly San Luis Obispo\",\"University of Missouri - Rolla (UMR)\",\"University of Notre Dame\",\"Brown University\",\"Case Western Reserve University\",\"Illinois Institute of Technology (IIT)\",\"South Dakota School of Mines & Technology\",\"Villanova University\",\"Georgetown University\",\"University of Southern California (USC)\",\"Amherst College\",\"Bucknell University\",\"Lafayette College\",\"Washington and Lee University\",\"Binghamton University\",\"San Jose State University (SJSU)\",\"Virginia Polytechnic Institute and State University (Virginia Tech)\",\"University Of Chicago\",\"Drexel University\",\"Pace University\",\"Wentworth Institute of Technology\",\"Widener University\",\"University of Illinois at Urbana-Champaign (UIUC)\",\"Colgate University\",\"Northwestern University\",\"University of Michigan\",\"Boston College\",\"University of Virginia (UVA)\",\"University of California at Los Angeles (UCLA)\",\"University of California, Davis\",\"Emory University\",\"University of Maryland, College Park\"],\"x\":[0,1,2,3,4,5,6,7,8,9,10,11,12,13,14,15,16,17,18,19,20,21,22,23,24,25,26,27,28,29,30,31,32,33,34,35,36,37,38,39,40,41,42,43,44,45,46,47,48,49,50,51,52,53,54],\"y\":[123000.0,126000.0,122000.0,129000.0,131000.0,110000.0,124000.0,114000.0,114000.0,111000.0,110000.0,114000.0,120000.0,105000.0,110000.0,112000.0,107000.0,105000.0,126000.0,106000.0,106000.0,106000.0,134000.0,101000.0,95800.0,116000.0,109000.0,96500.0,97800.0,93400.0,101000.0,110000.0,99600.0,107000.0,110000.0,107000.0,104000.0,95900.0,95600.0,95400.0,113000.0,93500.0,89700.0,96700.0,83400.0,96100.0,108000.0,95900.0,93000.0,103000.0,103000.0,101000.0,99600.0,91600.0,95000.0],\"type\":\"scatter\"}],                        {\"template\":{\"data\":{\"barpolar\":[{\"marker\":{\"line\":{\"color\":\"#E5ECF6\",\"width\":0.5},\"pattern\":{\"fillmode\":\"overlay\",\"size\":10,\"solidity\":0.2}},\"type\":\"barpolar\"}],\"bar\":[{\"error_x\":{\"color\":\"#2a3f5f\"},\"error_y\":{\"color\":\"#2a3f5f\"},\"marker\":{\"line\":{\"color\":\"#E5ECF6\",\"width\":0.5},\"pattern\":{\"fillmode\":\"overlay\",\"size\":10,\"solidity\":0.2}},\"type\":\"bar\"}],\"carpet\":[{\"aaxis\":{\"endlinecolor\":\"#2a3f5f\",\"gridcolor\":\"white\",\"linecolor\":\"white\",\"minorgridcolor\":\"white\",\"startlinecolor\":\"#2a3f5f\"},\"baxis\":{\"endlinecolor\":\"#2a3f5f\",\"gridcolor\":\"white\",\"linecolor\":\"white\",\"minorgridcolor\":\"white\",\"startlinecolor\":\"#2a3f5f\"},\"type\":\"carpet\"}],\"choropleth\":[{\"colorbar\":{\"outlinewidth\":0,\"ticks\":\"\"},\"type\":\"choropleth\"}],\"contourcarpet\":[{\"colorbar\":{\"outlinewidth\":0,\"ticks\":\"\"},\"type\":\"contourcarpet\"}],\"contour\":[{\"colorbar\":{\"outlinewidth\":0,\"ticks\":\"\"},\"colorscale\":[[0.0,\"#0d0887\"],[0.1111111111111111,\"#46039f\"],[0.2222222222222222,\"#7201a8\"],[0.3333333333333333,\"#9c179e\"],[0.4444444444444444,\"#bd3786\"],[0.5555555555555556,\"#d8576b\"],[0.6666666666666666,\"#ed7953\"],[0.7777777777777778,\"#fb9f3a\"],[0.8888888888888888,\"#fdca26\"],[1.0,\"#f0f921\"]],\"type\":\"contour\"}],\"heatmapgl\":[{\"colorbar\":{\"outlinewidth\":0,\"ticks\":\"\"},\"colorscale\":[[0.0,\"#0d0887\"],[0.1111111111111111,\"#46039f\"],[0.2222222222222222,\"#7201a8\"],[0.3333333333333333,\"#9c179e\"],[0.4444444444444444,\"#bd3786\"],[0.5555555555555556,\"#d8576b\"],[0.6666666666666666,\"#ed7953\"],[0.7777777777777778,\"#fb9f3a\"],[0.8888888888888888,\"#fdca26\"],[1.0,\"#f0f921\"]],\"type\":\"heatmapgl\"}],\"heatmap\":[{\"colorbar\":{\"outlinewidth\":0,\"ticks\":\"\"},\"colorscale\":[[0.0,\"#0d0887\"],[0.1111111111111111,\"#46039f\"],[0.2222222222222222,\"#7201a8\"],[0.3333333333333333,\"#9c179e\"],[0.4444444444444444,\"#bd3786\"],[0.5555555555555556,\"#d8576b\"],[0.6666666666666666,\"#ed7953\"],[0.7777777777777778,\"#fb9f3a\"],[0.8888888888888888,\"#fdca26\"],[1.0,\"#f0f921\"]],\"type\":\"heatmap\"}],\"histogram2dcontour\":[{\"colorbar\":{\"outlinewidth\":0,\"ticks\":\"\"},\"colorscale\":[[0.0,\"#0d0887\"],[0.1111111111111111,\"#46039f\"],[0.2222222222222222,\"#7201a8\"],[0.3333333333333333,\"#9c179e\"],[0.4444444444444444,\"#bd3786\"],[0.5555555555555556,\"#d8576b\"],[0.6666666666666666,\"#ed7953\"],[0.7777777777777778,\"#fb9f3a\"],[0.8888888888888888,\"#fdca26\"],[1.0,\"#f0f921\"]],\"type\":\"histogram2dcontour\"}],\"histogram2d\":[{\"colorbar\":{\"outlinewidth\":0,\"ticks\":\"\"},\"colorscale\":[[0.0,\"#0d0887\"],[0.1111111111111111,\"#46039f\"],[0.2222222222222222,\"#7201a8\"],[0.3333333333333333,\"#9c179e\"],[0.4444444444444444,\"#bd3786\"],[0.5555555555555556,\"#d8576b\"],[0.6666666666666666,\"#ed7953\"],[0.7777777777777778,\"#fb9f3a\"],[0.8888888888888888,\"#fdca26\"],[1.0,\"#f0f921\"]],\"type\":\"histogram2d\"}],\"histogram\":[{\"marker\":{\"pattern\":{\"fillmode\":\"overlay\",\"size\":10,\"solidity\":0.2}},\"type\":\"histogram\"}],\"mesh3d\":[{\"colorbar\":{\"outlinewidth\":0,\"ticks\":\"\"},\"type\":\"mesh3d\"}],\"parcoords\":[{\"line\":{\"colorbar\":{\"outlinewidth\":0,\"ticks\":\"\"}},\"type\":\"parcoords\"}],\"pie\":[{\"automargin\":true,\"type\":\"pie\"}],\"scatter3d\":[{\"line\":{\"colorbar\":{\"outlinewidth\":0,\"ticks\":\"\"}},\"marker\":{\"colorbar\":{\"outlinewidth\":0,\"ticks\":\"\"}},\"type\":\"scatter3d\"}],\"scattercarpet\":[{\"marker\":{\"colorbar\":{\"outlinewidth\":0,\"ticks\":\"\"}},\"type\":\"scattercarpet\"}],\"scattergeo\":[{\"marker\":{\"colorbar\":{\"outlinewidth\":0,\"ticks\":\"\"}},\"type\":\"scattergeo\"}],\"scattergl\":[{\"marker\":{\"colorbar\":{\"outlinewidth\":0,\"ticks\":\"\"}},\"type\":\"scattergl\"}],\"scattermapbox\":[{\"marker\":{\"colorbar\":{\"outlinewidth\":0,\"ticks\":\"\"}},\"type\":\"scattermapbox\"}],\"scatterpolargl\":[{\"marker\":{\"colorbar\":{\"outlinewidth\":0,\"ticks\":\"\"}},\"type\":\"scatterpolargl\"}],\"scatterpolar\":[{\"marker\":{\"colorbar\":{\"outlinewidth\":0,\"ticks\":\"\"}},\"type\":\"scatterpolar\"}],\"scatter\":[{\"marker\":{\"colorbar\":{\"outlinewidth\":0,\"ticks\":\"\"}},\"type\":\"scatter\"}],\"scatterternary\":[{\"marker\":{\"colorbar\":{\"outlinewidth\":0,\"ticks\":\"\"}},\"type\":\"scatterternary\"}],\"surface\":[{\"colorbar\":{\"outlinewidth\":0,\"ticks\":\"\"},\"colorscale\":[[0.0,\"#0d0887\"],[0.1111111111111111,\"#46039f\"],[0.2222222222222222,\"#7201a8\"],[0.3333333333333333,\"#9c179e\"],[0.4444444444444444,\"#bd3786\"],[0.5555555555555556,\"#d8576b\"],[0.6666666666666666,\"#ed7953\"],[0.7777777777777778,\"#fb9f3a\"],[0.8888888888888888,\"#fdca26\"],[1.0,\"#f0f921\"]],\"type\":\"surface\"}],\"table\":[{\"cells\":{\"fill\":{\"color\":\"#EBF0F8\"},\"line\":{\"color\":\"white\"}},\"header\":{\"fill\":{\"color\":\"#C8D4E3\"},\"line\":{\"color\":\"white\"}},\"type\":\"table\"}]},\"layout\":{\"annotationdefaults\":{\"arrowcolor\":\"#2a3f5f\",\"arrowhead\":0,\"arrowwidth\":1},\"autotypenumbers\":\"strict\",\"coloraxis\":{\"colorbar\":{\"outlinewidth\":0,\"ticks\":\"\"}},\"colorscale\":{\"diverging\":[[0,\"#8e0152\"],[0.1,\"#c51b7d\"],[0.2,\"#de77ae\"],[0.3,\"#f1b6da\"],[0.4,\"#fde0ef\"],[0.5,\"#f7f7f7\"],[0.6,\"#e6f5d0\"],[0.7,\"#b8e186\"],[0.8,\"#7fbc41\"],[0.9,\"#4d9221\"],[1,\"#276419\"]],\"sequential\":[[0.0,\"#0d0887\"],[0.1111111111111111,\"#46039f\"],[0.2222222222222222,\"#7201a8\"],[0.3333333333333333,\"#9c179e\"],[0.4444444444444444,\"#bd3786\"],[0.5555555555555556,\"#d8576b\"],[0.6666666666666666,\"#ed7953\"],[0.7777777777777778,\"#fb9f3a\"],[0.8888888888888888,\"#fdca26\"],[1.0,\"#f0f921\"]],\"sequentialminus\":[[0.0,\"#0d0887\"],[0.1111111111111111,\"#46039f\"],[0.2222222222222222,\"#7201a8\"],[0.3333333333333333,\"#9c179e\"],[0.4444444444444444,\"#bd3786\"],[0.5555555555555556,\"#d8576b\"],[0.6666666666666666,\"#ed7953\"],[0.7777777777777778,\"#fb9f3a\"],[0.8888888888888888,\"#fdca26\"],[1.0,\"#f0f921\"]]},\"colorway\":[\"#636efa\",\"#EF553B\",\"#00cc96\",\"#ab63fa\",\"#FFA15A\",\"#19d3f3\",\"#FF6692\",\"#B6E880\",\"#FF97FF\",\"#FECB52\"],\"font\":{\"color\":\"#2a3f5f\"},\"geo\":{\"bgcolor\":\"white\",\"lakecolor\":\"white\",\"landcolor\":\"#E5ECF6\",\"showlakes\":true,\"showland\":true,\"subunitcolor\":\"white\"},\"hoverlabel\":{\"align\":\"left\"},\"hovermode\":\"closest\",\"mapbox\":{\"style\":\"light\"},\"paper_bgcolor\":\"white\",\"plot_bgcolor\":\"#E5ECF6\",\"polar\":{\"angularaxis\":{\"gridcolor\":\"white\",\"linecolor\":\"white\",\"ticks\":\"\"},\"bgcolor\":\"#E5ECF6\",\"radialaxis\":{\"gridcolor\":\"white\",\"linecolor\":\"white\",\"ticks\":\"\"}},\"scene\":{\"xaxis\":{\"backgroundcolor\":\"#E5ECF6\",\"gridcolor\":\"white\",\"gridwidth\":2,\"linecolor\":\"white\",\"showbackground\":true,\"ticks\":\"\",\"zerolinecolor\":\"white\"},\"yaxis\":{\"backgroundcolor\":\"#E5ECF6\",\"gridcolor\":\"white\",\"gridwidth\":2,\"linecolor\":\"white\",\"showbackground\":true,\"ticks\":\"\",\"zerolinecolor\":\"white\"},\"zaxis\":{\"backgroundcolor\":\"#E5ECF6\",\"gridcolor\":\"white\",\"gridwidth\":2,\"linecolor\":\"white\",\"showbackground\":true,\"ticks\":\"\",\"zerolinecolor\":\"white\"}},\"shapedefaults\":{\"line\":{\"color\":\"#2a3f5f\"}},\"ternary\":{\"aaxis\":{\"gridcolor\":\"white\",\"linecolor\":\"white\",\"ticks\":\"\"},\"baxis\":{\"gridcolor\":\"white\",\"linecolor\":\"white\",\"ticks\":\"\"},\"bgcolor\":\"#E5ECF6\",\"caxis\":{\"gridcolor\":\"white\",\"linecolor\":\"white\",\"ticks\":\"\"}},\"title\":{\"x\":0.05},\"xaxis\":{\"automargin\":true,\"gridcolor\":\"white\",\"linecolor\":\"white\",\"ticks\":\"\",\"title\":{\"standoff\":15},\"zerolinecolor\":\"white\",\"zerolinewidth\":2},\"yaxis\":{\"automargin\":true,\"gridcolor\":\"white\",\"linecolor\":\"white\",\"ticks\":\"\",\"title\":{\"standoff\":15},\"zerolinecolor\":\"white\",\"zerolinewidth\":2}}},\"title\":{\"text\":\"Starting Median Salary and Mid-Career Median Salary\"},\"xaxis\":{\"ticklen\":5,\"title\":{\"text\":\"Universities Rank\"},\"zeroline\":false}},                        {\"responsive\": true}                    ).then(function(){\n",
       "                            \n",
       "var gd = document.getElementById('7e775cac-af70-451b-b04f-8a49917497cc');\n",
       "var x = new MutationObserver(function (mutations, observer) {{\n",
       "        var display = window.getComputedStyle(gd).display;\n",
       "        if (!display || display === 'none') {{\n",
       "            console.log([gd, 'removed!']);\n",
       "            Plotly.purge(gd);\n",
       "            observer.disconnect();\n",
       "        }}\n",
       "}});\n",
       "\n",
       "// Listen for the removal of the full notebook cells\n",
       "var notebookContainer = gd.closest('#notebook-container');\n",
       "if (notebookContainer) {{\n",
       "    x.observe(notebookContainer, {childList: true});\n",
       "}}\n",
       "\n",
       "// Listen for the clearing of the current output cell\n",
       "var outputEl = gd.closest('.output');\n",
       "if (outputEl) {{\n",
       "    x.observe(outputEl, {childList: true});\n",
       "}}\n",
       "\n",
       "                        })                };                });            </script>        </div>"
      ]
     },
     "metadata": {},
     "output_type": "display_data"
    }
   ],
   "source": [
    "# Line Charts\n",
    "# prepare data frame\n",
    "df = salary_region_df.sort_values('starting', ascending=False)\n",
    "df = df.iloc[:55,:]\n",
    "new_df = df.reset_index()\n",
    "\n",
    "# Creating trace1\n",
    "trace1 = go.Scatter(\n",
    "                    x = new_df.index.values,\n",
    "                    y = df.starting,\n",
    "                    mode = \"lines\",\n",
    "                    name = \"Starting Median Salary\",\n",
    "                    marker = dict(color = 'rgba(16, 112, 2, 0.8)'),\n",
    "                    text= df.schoolname)\n",
    "# Creating trace2\n",
    "trace2 = go.Scatter(\n",
    "                    x = new_df.index.values,\n",
    "                    y = df.midcareer,\n",
    "                    mode = \"lines+markers\",\n",
    "                    name = \"Mid-Career Median Salary\",\n",
    "                    marker = dict(color = 'rgba(80, 26, 80, 0.8)'),\n",
    "                    text= df.schoolname)\n",
    "data = [trace1, trace2]\n",
    "layout = dict(title = 'Starting Median Salary and Mid-Career Median Salary',\n",
    "              xaxis= dict(title= 'Universities Rank',ticklen= 5,zeroline= False)\n",
    "             )\n",
    "fig = dict(data = data, layout = layout)\n",
    "iplot(fig)"
   ]
  },
  {
   "cell_type": "markdown",
   "metadata": {
    "_uuid": "f68c7cb232b4fdc6f6b41777c7d297515785a6f6"
   },
   "source": [
    "## Conclusion <a id=\"26\"></a>\n",
    "<mark>[Return Contents](#0)\n",
    "<hr>\n",
    "* If you like it, thank you for you upvotes.\n",
    "* If you have any question, I will happy to hear it"
   ]
  }
 ],
 "metadata": {
  "kernelspec": {
   "display_name": "Python 3",
   "language": "python",
   "name": "python3"
  },
  "language_info": {
   "codemirror_mode": {
    "name": "ipython",
    "version": 3
   },
   "file_extension": ".py",
   "mimetype": "text/x-python",
   "name": "python",
   "nbconvert_exporter": "python",
   "pygments_lexer": "ipython3",
   "version": "3.8.8"
  }
 },
 "nbformat": 4,
 "nbformat_minor": 1
}
