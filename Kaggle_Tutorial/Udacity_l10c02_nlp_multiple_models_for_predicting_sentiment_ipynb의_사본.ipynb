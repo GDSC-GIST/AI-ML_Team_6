{
 "cells": [
  {
   "cell_type": "markdown",
   "metadata": {
    "id": "punL79CN7Ox6"
   },
   "source": [
    "##### Copyright 2020 The TensorFlow Authors."
   ]
  },
  {
   "cell_type": "code",
   "execution_count": null,
   "metadata": {
    "cellView": "form",
    "id": "_ckMIh7O7s6D"
   },
   "outputs": [],
   "source": [
    "#@title Licensed under the Apache License, Version 2.0 (the \"License\");\n",
    "# you may not use this file except in compliance with the License.\n",
    "# You may obtain a copy of the License at\n",
    "#\n",
    "# https://www.apache.org/licenses/LICENSE-2.0\n",
    "#\n",
    "# Unless required by applicable law or agreed to in writing, software\n",
    "# distributed under the License is distributed on an \"AS IS\" BASIS,\n",
    "# WITHOUT WARRANTIES OR CONDITIONS OF ANY KIND, either express or implied.\n",
    "# See the License for the specific language governing permissions and\n",
    "# limitations under the License."
   ]
  },
  {
   "cell_type": "markdown",
   "metadata": {
    "id": "hAclqSm3OOml"
   },
   "source": [
    "# Using LSTMs, CNNs, GRUs with a larger dataset"
   ]
  },
  {
   "cell_type": "markdown",
   "metadata": {
    "id": "S5Uhzt6vVIB2"
   },
   "source": [
    "<table class=\"tfo-notebook-buttons\" align=\"left\">\n",
    "  <td>\n",
    "    <a target=\"_blank\" href=\"https://colab.research.google.com/github/tensorflow/examples/blob/master/courses/udacity_intro_to_tensorflow_for_deep_learning/l10c02_nlp_multiple_models_for_predicting_sentiment.ipynb\"><img src=\"https://www.tensorflow.org/images/colab_logo_32px.png\" />Run in Google Colab</a>\n",
    "  </td>\n",
    "  <td>\n",
    "    <a target=\"_blank\" href=\"https://github.com/tensorflow/examples/blob/master/courses/udacity_intro_to_tensorflow_for_deep_learning/l10c02_nlp_multiple_models_for_predicting_sentiment.ipynb\"><img src=\"https://www.tensorflow.org/images/GitHub-Mark-32px.png\" />View source on GitHub</a>\n",
    "  </td>\n",
    "</table>"
   ]
  },
  {
   "cell_type": "markdown",
   "metadata": {
    "id": "fentd-GnIj-j"
   },
   "source": [
    "In this colab, you use different kinds of layers to see how they affect the model.\n",
    "\n",
    "You will use the glue/sst2 dataset, which is available through tensorflow_datasets. \n",
    "\n",
    "The General Language Understanding Evaluation (GLUE) benchmark (https://gluebenchmark.com/) is a collection of resources for training, evaluating, and analyzing natural language understanding systems.\n",
    "\n",
    "These resources include the Stanford Sentiment Treebank (SST) dataset that consists of sentences from movie reviews and human annotations of their sentiment. This colab uses version 2 of the SST dataset.\n",
    "\n",
    "The splits are:\n",
    "\n",
    "*   train\t67,349\n",
    "*   validation\t872\n",
    "\n",
    "\n",
    "and the column headings are:\n",
    "\n",
    "*   sentence\n",
    "*   label\n",
    "\n",
    "\n",
    "For more information about the dataset, see [https://www.tensorflow.org/datasets/catalog/glue#gluesst2](https://www.tensorflow.org/datasets/catalog/glue#gluesst2)"
   ]
  },
  {
   "cell_type": "code",
   "execution_count": 1,
   "metadata": {
    "id": "L62G7LTwNzoD"
   },
   "outputs": [],
   "source": [
    "import tensorflow as tf\n",
    "import tensorflow_datasets as tfds\n",
    "\n",
    "import numpy as np"
   ]
  },
  {
   "cell_type": "markdown",
   "metadata": {
    "id": "o2P6xdtIJMyc"
   },
   "source": [
    "# Get the dataset\n"
   ]
  },
  {
   "cell_type": "code",
   "execution_count": 2,
   "metadata": {
    "colab": {
     "base_uri": "https://localhost:8080/",
     "height": 475,
     "referenced_widgets": [
      "26a19caabc344af48b80a98f109c142f",
      "f7654df8174f48e99f4e488862aef031",
      "0ef78f42295144e5889ebf1526e7c690",
      "5887fe4482c248c58feecf83ce432ce1",
      "1e06bb98d1a04fd5b6ddf94321e47d17",
      "5232d6e2dfce4b7e853f14da07505b79",
      "6563a18a4d7548758af2a973b5300cde",
      "1f6fbc1dd5f1488d83423f73ec65ff8d",
      "751e96e586ea45639bb73bcbcfba4a81",
      "921d195bd7814bd08e97e46d2facdb1d",
      "5efd13d974954494ab4842304fc7f381",
      "1f406eef98f74de6b4942c8aef9db542",
      "3e24f8fb2f294f4cba649e6a45c9083a",
      "a9ad7808d75c4a93819868a8fd08a945",
      "2da849fdfb1e4d54935b2a43d9a457a6",
      "98db942bb90a493192e2d33ea2f0b03b",
      "f51b55f2e8134af5aa70921c3e17431b",
      "b15eb9bf922d4b67bf7b0f1646373a9c",
      "01b5c103a96449d08aaa4d1c583280e4",
      "5bba2dff5849467b826acd744ef4f1ee",
      "6077dd98724345558c35eea361ae3cd1",
      "24295813403548a3a8302172faddb46e",
      "065a85db5d4a4869a3a2700cf607d966",
      "7f36e8d1853444d6a4e2732e6811bfbe",
      "e5b287b1cb9547c1b9925129d9480988",
      "31fb5402ccde4696ab05b64734d2424e",
      "d8ed92b076344c6890b93410fbdc8ddd",
      "8d73b8dac58f43c8955dd36d34bbe72d",
      "f336925ead5c450a84b8a831a605cb3a",
      "37bb500911c54a2dacadbb018e7cc4b2",
      "ee3f565ee0cc442a8d0646ae76b7754f",
      "9f641ad170524b6c95c24f0fa39bdc5c",
      "cdf748214b8547b59b53b03b2ec04de8"
     ]
    },
    "id": "nCOtiRJZbxCH",
    "outputId": "36b730a9-0022-48f1-ae32-c221dded8b5c"
   },
   "outputs": [
    {
     "name": "stdout",
     "output_type": "stream",
     "text": [
      "\u001b[1mDownloading and preparing dataset Unknown size (download: Unknown size, generated: Unknown size, total: Unknown size) to C:\\Users\\User\\tensorflow_datasets\\glue\\sst2\\2.0.0...\u001b[0m\n"
     ]
    },
    {
     "data": {
      "application/vnd.jupyter.widget-view+json": {
       "model_id": "de5a4d8ed6ab44f192013ecf5f410ad3",
       "version_major": 2,
       "version_minor": 0
      },
      "text/plain": [
       "Dl Completed...: 0 url [00:00, ? url/s]"
      ]
     },
     "metadata": {},
     "output_type": "display_data"
    },
    {
     "data": {
      "application/vnd.jupyter.widget-view+json": {
       "model_id": "39e49fe282b247899186a5c08a2ff059",
       "version_major": 2,
       "version_minor": 0
      },
      "text/plain": [
       "Dl Size...: 0 MiB [00:00, ? MiB/s]"
      ]
     },
     "metadata": {},
     "output_type": "display_data"
    },
    {
     "data": {
      "application/vnd.jupyter.widget-view+json": {
       "model_id": "9e46ee77a0594a5b8fa264f6fdf2327a",
       "version_major": 2,
       "version_minor": 0
      },
      "text/plain": [
       "Extraction completed...: 0 file [00:00, ? file/s]"
      ]
     },
     "metadata": {},
     "output_type": "display_data"
    },
    {
     "data": {
      "application/vnd.jupyter.widget-view+json": {
       "model_id": "",
       "version_major": 2,
       "version_minor": 0
      },
      "text/plain": [
       "Generating splits...:   0%|          | 0/3 [00:00<?, ? splits/s]"
      ]
     },
     "metadata": {},
     "output_type": "display_data"
    },
    {
     "data": {
      "application/vnd.jupyter.widget-view+json": {
       "model_id": "",
       "version_major": 2,
       "version_minor": 0
      },
      "text/plain": [
       "Generating train examples...: 0 examples [00:00, ? examples/s]"
      ]
     },
     "metadata": {},
     "output_type": "display_data"
    },
    {
     "data": {
      "application/vnd.jupyter.widget-view+json": {
       "model_id": "",
       "version_major": 2,
       "version_minor": 0
      },
      "text/plain": [
       "Shuffling glue-train.tfrecord...:   0%|          | 0/67349 [00:00<?, ? examples/s]"
      ]
     },
     "metadata": {},
     "output_type": "display_data"
    },
    {
     "data": {
      "application/vnd.jupyter.widget-view+json": {
       "model_id": "",
       "version_major": 2,
       "version_minor": 0
      },
      "text/plain": [
       "Generating validation examples...: 0 examples [00:00, ? examples/s]"
      ]
     },
     "metadata": {},
     "output_type": "display_data"
    },
    {
     "data": {
      "application/vnd.jupyter.widget-view+json": {
       "model_id": "",
       "version_major": 2,
       "version_minor": 0
      },
      "text/plain": [
       "Shuffling glue-validation.tfrecord...:   0%|          | 0/872 [00:00<?, ? examples/s]"
      ]
     },
     "metadata": {},
     "output_type": "display_data"
    },
    {
     "data": {
      "application/vnd.jupyter.widget-view+json": {
       "model_id": "",
       "version_major": 2,
       "version_minor": 0
      },
      "text/plain": [
       "Generating test examples...: 0 examples [00:00, ? examples/s]"
      ]
     },
     "metadata": {},
     "output_type": "display_data"
    },
    {
     "data": {
      "application/vnd.jupyter.widget-view+json": {
       "model_id": "",
       "version_major": 2,
       "version_minor": 0
      },
      "text/plain": [
       "Shuffling glue-test.tfrecord...:   0%|          | 0/1821 [00:00<?, ? examples/s]"
      ]
     },
     "metadata": {},
     "output_type": "display_data"
    },
    {
     "name": "stdout",
     "output_type": "stream",
     "text": [
      "\u001b[1mDataset glue downloaded and prepared to C:\\Users\\User\\tensorflow_datasets\\glue\\sst2\\2.0.0. Subsequent calls will reuse this data.\u001b[0m\n",
      "FeaturesDict({\n",
      "    'idx': tf.int32,\n",
      "    'label': ClassLabel(shape=(), dtype=tf.int64, num_classes=2),\n",
      "    'sentence': Text(shape=(), dtype=tf.string),\n",
      "})\n",
      "2\n",
      "['negative', 'positive']\n"
     ]
    }
   ],
   "source": [
    "# Get the dataset.\n",
    "# It has 70000 items, so might take a while to download\n",
    "dataset, info = tfds.load('glue/sst2', with_info=True)\n",
    "print(info.features)\n",
    "print(info.features[\"label\"].num_classes)\n",
    "print(info.features[\"label\"].names)"
   ]
  },
  {
   "cell_type": "code",
   "execution_count": 3,
   "metadata": {
    "id": "yBMPhIdStAe2"
   },
   "outputs": [
    {
     "data": {
      "text/plain": [
       "<PrefetchDataset shapes: {idx: (), label: (), sentence: ()}, types: {idx: tf.int32, label: tf.int64, sentence: tf.string}>"
      ]
     },
     "execution_count": 3,
     "metadata": {},
     "output_type": "execute_result"
    }
   ],
   "source": [
    "# Get the training and validation datasets\n",
    "dataset_train, dataset_validation = dataset['train'], dataset['validation']\n",
    "dataset_train"
   ]
  },
  {
   "cell_type": "code",
   "execution_count": 4,
   "metadata": {
    "id": "jbZ-faiNWu1U"
   },
   "outputs": [
    {
     "name": "stdout",
     "output_type": "stream",
     "text": [
      "Review: tf.Tensor(b'for the uninitiated plays better on video with the sound ', shape=(), dtype=string)\n",
      "Label: 0 \n",
      "\n",
      "Review: tf.Tensor(b'like a giant commercial for universal studios , where much of the action takes place ', shape=(), dtype=string)\n",
      "Label: 0 \n",
      "\n"
     ]
    }
   ],
   "source": [
    "# Print some of the entries\n",
    "for example in dataset_train.take(2):  \n",
    "    review, label = example[\"sentence\"], example[\"label\"]\n",
    "    print(\"Review:\", review)\n",
    "    print(\"Label: %d \\n\" % label.numpy())"
   ]
  },
  {
   "cell_type": "code",
   "execution_count": 6,
   "metadata": {
    "id": "_fVZItTeZSbL"
   },
   "outputs": [
    {
     "name": "stdout",
     "output_type": "stream",
     "text": [
      "\n",
      "Number of training reviews is:  10000\n",
      "b'for the uninitiated plays better on video with the sound '\n",
      "0\n",
      "b'like a giant commercial for universal studios , where much of the action takes place '\n",
      "0\n",
      "\n",
      "Number of validation reviews is:  872\n",
      "b'a valueless kiddie paean to pro basketball underwritten by the nba . '\n",
      "0\n",
      "b\"featuring a dangerously seductive performance from the great daniel auteuil , `` sade '' covers the same period as kaufmann 's `` quills '' with more unsettlingly realistic results . \"\n",
      "1\n"
     ]
    }
   ],
   "source": [
    "# Get the sentences and the labels\n",
    "# for both the training and the validation sets\n",
    "training_reviews = []\n",
    "training_labels = []\n",
    " \n",
    "validation_reviews = []\n",
    "validation_labels = []\n",
    "\n",
    "# The dataset has 67,000 training entries, but that's a lot to process here!\n",
    "\n",
    "# If you want to take the entire dataset: WARNING: takes longer!!\n",
    "# for item in dataset_train.take(-1):\n",
    "\n",
    "# Take 10,000 reviews\n",
    "for item in dataset_train.take(10000):\n",
    "    review, label = item[\"sentence\"], item[\"label\"]\n",
    "    training_reviews.append(str(review.numpy()))\n",
    "    training_labels.append(label.numpy())\n",
    "\n",
    "print (\"\\nNumber of training reviews is: \", len(training_reviews))\n",
    "\n",
    "# print some of the reviews and labels\n",
    "for i in range(0, 2):\n",
    "    print (training_reviews[i])\n",
    "    print (training_labels[i])\n",
    "\n",
    "# Get the validation data\n",
    "# there's only about 800 items, so take them all\n",
    "for item in dataset_validation.take(-1):  \n",
    "    review, label = item[\"sentence\"], item[\"label\"]\n",
    "    validation_reviews.append(str(review.numpy()))\n",
    "    validation_labels.append(label.numpy())\n",
    "\n",
    "print (\"\\nNumber of validation reviews is: \", len(validation_reviews))\n",
    "\n",
    "# Print some of the validation reviews and labels\n",
    "for i in range(0, 2):\n",
    "    print (validation_reviews[i])\n",
    "    print (validation_labels[i])\n"
   ]
  },
  {
   "cell_type": "markdown",
   "metadata": {
    "id": "BY4ZoptJO55o"
   },
   "source": [
    "# Tokenize the words and sequence the sentences\n"
   ]
  },
  {
   "cell_type": "code",
   "execution_count": 7,
   "metadata": {
    "id": "0TWLvXA1Oa_W"
   },
   "outputs": [],
   "source": [
    "# There's a total of 21224 words in the reviews\n",
    "# but many of them are irrelevant like with, it, of, on.\n",
    "# If we take a subset of the training data, then the vocab\n",
    "# will be smaller.\n",
    "\n",
    "# A reasonable review might have about 50 words or so,\n",
    "# so we can set max_length to 50 (but feel free to change it as you like)\n",
    "\n",
    "vocab_size = 4000\n",
    "embedding_dim = 16\n",
    "max_length = 50\n",
    "trunc_type='post'\n",
    "pad_type='post'\n",
    "oov_tok = \"<OOV>\"\n",
    "\n",
    "from tensorflow.keras.preprocessing.text import Tokenizer\n",
    "from tensorflow.keras.preprocessing.sequence import pad_sequences\n",
    "\n",
    "tokenizer = Tokenizer(num_words = vocab_size, oov_token=oov_tok)\n",
    "tokenizer.fit_on_texts(training_reviews)\n",
    "word_index = tokenizer.word_index"
   ]
  },
  {
   "cell_type": "markdown",
   "metadata": {
    "id": "JV-Ff5N0ryWv"
   },
   "source": [
    "# Pad the sequences"
   ]
  },
  {
   "cell_type": "code",
   "execution_count": 8,
   "metadata": {
    "id": "B-3scEznH2Va"
   },
   "outputs": [],
   "source": [
    "# Pad the sequences so that they are all the same length\n",
    "training_sequences = tokenizer.texts_to_sequences(training_reviews)\n",
    "training_padded = pad_sequences(training_sequences,maxlen=max_length, \n",
    "                                truncating=trunc_type, padding=pad_type)\n",
    "\n",
    "validation_sequences = tokenizer.texts_to_sequences(validation_reviews)\n",
    "validation_padded = pad_sequences(validation_sequences,maxlen=max_length)\n",
    "\n",
    "training_labels_final = np.array(training_labels)\n",
    "validation_labels_final = np.array(validation_labels)"
   ]
  },
  {
   "cell_type": "markdown",
   "metadata": {
    "id": "PahZm7YEQ8EI"
   },
   "source": [
    "# Create the model using an Embedding"
   ]
  },
  {
   "cell_type": "code",
   "execution_count": 9,
   "metadata": {
    "id": "c_nyQeI0RCCv"
   },
   "outputs": [
    {
     "name": "stdout",
     "output_type": "stream",
     "text": [
      "Model: \"sequential\"\n",
      "_________________________________________________________________\n",
      "Layer (type)                 Output Shape              Param #   \n",
      "=================================================================\n",
      "embedding (Embedding)        (None, 50, 16)            64000     \n",
      "_________________________________________________________________\n",
      "global_average_pooling1d (Gl (None, 16)                0         \n",
      "_________________________________________________________________\n",
      "dense (Dense)                (None, 1)                 17        \n",
      "=================================================================\n",
      "Total params: 64,017\n",
      "Trainable params: 64,017\n",
      "Non-trainable params: 0\n",
      "_________________________________________________________________\n"
     ]
    }
   ],
   "source": [
    "model = tf.keras.Sequential([\n",
    "    tf.keras.layers.Embedding(vocab_size, embedding_dim, input_length=max_length),\n",
    "    tf.keras.layers.GlobalAveragePooling1D(),  \n",
    "    tf.keras.layers.Dense(1, activation='sigmoid')\n",
    "])\n",
    "model.compile(loss='binary_crossentropy',optimizer='adam',metrics=['accuracy'])\n",
    "model.summary()"
   ]
  },
  {
   "cell_type": "markdown",
   "metadata": {
    "id": "3WRXrx8BRO2L"
   },
   "source": [
    "# Train the model"
   ]
  },
  {
   "cell_type": "code",
   "execution_count": 10,
   "metadata": {
    "id": "oBKyVYvxRQ_9"
   },
   "outputs": [
    {
     "name": "stdout",
     "output_type": "stream",
     "text": [
      "Epoch 1/20\n",
      "313/313 [==============================] - 1s 2ms/step - loss: 0.6841 - accuracy: 0.5573 - val_loss: 0.6903 - val_accuracy: 0.5115\n",
      "Epoch 2/20\n",
      "313/313 [==============================] - 1s 2ms/step - loss: 0.6736 - accuracy: 0.5699 - val_loss: 0.6737 - val_accuracy: 0.5963\n",
      "Epoch 3/20\n",
      "313/313 [==============================] - 1s 2ms/step - loss: 0.6544 - accuracy: 0.6184 - val_loss: 0.6492 - val_accuracy: 0.6411\n",
      "Epoch 4/20\n",
      "313/313 [==============================] - 1s 2ms/step - loss: 0.6268 - accuracy: 0.6638 - val_loss: 0.6192 - val_accuracy: 0.6823\n",
      "Epoch 5/20\n",
      "313/313 [==============================] - 0s 2ms/step - loss: 0.5946 - accuracy: 0.7039 - val_loss: 0.5882 - val_accuracy: 0.7122\n",
      "Epoch 6/20\n",
      "313/313 [==============================] - 1s 2ms/step - loss: 0.5616 - accuracy: 0.7371 - val_loss: 0.5608 - val_accuracy: 0.7362\n",
      "Epoch 7/20\n",
      "313/313 [==============================] - 1s 2ms/step - loss: 0.5301 - accuracy: 0.7634 - val_loss: 0.5383 - val_accuracy: 0.7489\n",
      "Epoch 8/20\n",
      "313/313 [==============================] - 1s 2ms/step - loss: 0.5009 - accuracy: 0.7877 - val_loss: 0.5186 - val_accuracy: 0.7500\n",
      "Epoch 9/20\n",
      "313/313 [==============================] - 1s 2ms/step - loss: 0.4746 - accuracy: 0.8039 - val_loss: 0.5043 - val_accuracy: 0.7580\n",
      "Epoch 10/20\n",
      "313/313 [==============================] - 1s 2ms/step - loss: 0.4515 - accuracy: 0.8160 - val_loss: 0.4956 - val_accuracy: 0.7569\n",
      "Epoch 11/20\n",
      "313/313 [==============================] - 1s 2ms/step - loss: 0.4308 - accuracy: 0.8216 - val_loss: 0.4918 - val_accuracy: 0.7672\n",
      "Epoch 12/20\n",
      "313/313 [==============================] - 1s 2ms/step - loss: 0.4113 - accuracy: 0.8346 - val_loss: 0.4863 - val_accuracy: 0.7615\n",
      "Epoch 13/20\n",
      "313/313 [==============================] - 1s 2ms/step - loss: 0.3949 - accuracy: 0.8393 - val_loss: 0.4871 - val_accuracy: 0.7534\n",
      "Epoch 14/20\n",
      "313/313 [==============================] - 1s 2ms/step - loss: 0.3793 - accuracy: 0.8473 - val_loss: 0.4882 - val_accuracy: 0.7523\n",
      "Epoch 15/20\n",
      "313/313 [==============================] - 0s 2ms/step - loss: 0.3660 - accuracy: 0.8511 - val_loss: 0.4862 - val_accuracy: 0.7729\n",
      "Epoch 16/20\n",
      "313/313 [==============================] - 0s 2ms/step - loss: 0.3526 - accuracy: 0.8566 - val_loss: 0.4915 - val_accuracy: 0.7649\n",
      "Epoch 17/20\n",
      "313/313 [==============================] - 1s 2ms/step - loss: 0.3411 - accuracy: 0.8596 - val_loss: 0.4949 - val_accuracy: 0.7752\n",
      "Epoch 18/20\n",
      "313/313 [==============================] - 1s 2ms/step - loss: 0.3304 - accuracy: 0.8641 - val_loss: 0.5033 - val_accuracy: 0.7615\n",
      "Epoch 19/20\n",
      "313/313 [==============================] - 0s 2ms/step - loss: 0.3207 - accuracy: 0.8657 - val_loss: 0.5097 - val_accuracy: 0.7615\n",
      "Epoch 20/20\n",
      "313/313 [==============================] - 1s 2ms/step - loss: 0.3118 - accuracy: 0.8694 - val_loss: 0.5153 - val_accuracy: 0.7718\n"
     ]
    }
   ],
   "source": [
    "num_epochs = 20\n",
    "history = model.fit(training_padded, training_labels_final, epochs=num_epochs, \n",
    "                    validation_data=(validation_padded, validation_labels_final))\n"
   ]
  },
  {
   "cell_type": "markdown",
   "metadata": {
    "id": "HhLPbUl2AZ0y"
   },
   "source": [
    "# Plot the accurracy and loss"
   ]
  },
  {
   "cell_type": "code",
   "execution_count": 11,
   "metadata": {
    "id": "jzBM1PpJAYfD"
   },
   "outputs": [
    {
     "data": {
      "image/png": "[encoded data removed]",
      "text/plain": [
       "<Figure size 432x288 with 1 Axes>"
      ]
     },
     "metadata": {
      "needs_background": "light"
     },
     "output_type": "display_data"
    },
    {
     "data": {
      "image/png": "[encoded data removed]",
      "text/plain": [
       "<Figure size 432x288 with 1 Axes>"
      ]
     },
     "metadata": {
      "needs_background": "light"
     },
     "output_type": "display_data"
    }
   ],
   "source": [
    "import matplotlib.pyplot as plt\n",
    "\n",
    "\n",
    "def plot_graphs(history, string):\n",
    "    plt.plot(history.history[string])\n",
    "    plt.plot(history.history['val_'+string])\n",
    "    plt.xlabel(\"Epochs\")\n",
    "    plt.ylabel(string)\n",
    "    plt.legend([string, 'val_'+string])\n",
    "    plt.show()\n",
    "  \n",
    "plot_graphs(history, \"accuracy\")\n",
    "plot_graphs(history, \"loss\")"
   ]
  },
  {
   "cell_type": "markdown",
   "metadata": {
    "id": "HEbcMCVEKToB"
   },
   "source": [
    "# Write a function to predict the sentiment of reviews"
   ]
  },
  {
   "cell_type": "code",
   "execution_count": 12,
   "metadata": {
    "id": "K0nKY9M4xzWE"
   },
   "outputs": [],
   "source": [
    "# Write some new reviews \n",
    "\n",
    "review1 = \"\"\"I loved this movie\"\"\"\n",
    "\n",
    "review2 = \"\"\"that was the worst movie I've ever seen\"\"\"\n",
    "\n",
    "review3 = \"\"\"too much violence even for a Bond film\"\"\"\n",
    "\n",
    "review4 = \"\"\"a captivating recounting of a cherished myth\"\"\"\n",
    "\n",
    "new_reviews = [review1, review2, review3, review4]\n"
   ]
  },
  {
   "cell_type": "code",
   "execution_count": 13,
   "metadata": {
    "id": "Qg-maex27KPW"
   },
   "outputs": [
    {
     "name": "stdout",
     "output_type": "stream",
     "text": [
      "I loved this movie\n",
      "[0.37823656]\n",
      "\n",
      "\n",
      "that was the worst movie I've ever seen\n",
      "[0.11382821]\n",
      "\n",
      "\n",
      "too much violence even for a Bond film\n",
      "[0.03219295]\n",
      "\n",
      "\n",
      "a captivating recounting of a cherished myth\n",
      "[0.59123534]\n",
      "\n",
      "\n"
     ]
    }
   ],
   "source": [
    "# Define a function to prepare the new reviews for use with a model\n",
    "# and then use the model to predict the sentiment of the new reviews           \n",
    "\n",
    "def predict_review(model, reviews):\n",
    "    # Create the sequences\n",
    "    padding_type='post'\n",
    "    sample_sequences = tokenizer.texts_to_sequences(reviews)\n",
    "    reviews_padded = pad_sequences(sample_sequences, padding=padding_type, \n",
    "                                 maxlen=max_length) \n",
    "    classes = model.predict(reviews_padded)\n",
    "    for x in range(len(reviews_padded)):\n",
    "        print(reviews[x])\n",
    "        print(classes[x])\n",
    "        print('\\n')\n",
    "\n",
    "predict_review(model, new_reviews)\n"
   ]
  },
  {
   "cell_type": "markdown",
   "metadata": {
    "id": "ycJKbMq3K4iy"
   },
   "source": [
    "# Define a function to train and show the results of models with different layers"
   ]
  },
  {
   "cell_type": "code",
   "execution_count": 14,
   "metadata": {
    "id": "PevUcINXK3gn"
   },
   "outputs": [],
   "source": [
    "def fit_model_and_show_results (model, reviews):\n",
    "    model.summary()\n",
    "    history = model.fit(training_padded, training_labels_final, epochs=num_epochs, \n",
    "                      validation_data=(validation_padded, validation_labels_final))\n",
    "    plot_graphs(history, \"accuracy\")\n",
    "    plot_graphs(history, \"loss\")\n",
    "    predict_review(model, reviews)"
   ]
  },
  {
   "cell_type": "markdown",
   "metadata": {
    "id": "W8jW-OLfTrDM"
   },
   "source": [
    "# Use a CNN"
   ]
  },
  {
   "cell_type": "code",
   "execution_count": 15,
   "metadata": {
    "id": "merAu9T3TtmQ"
   },
   "outputs": [
    {
     "name": "stdout",
     "output_type": "stream",
     "text": [
      "Model: \"sequential_1\"\n",
      "_________________________________________________________________\n",
      "Layer (type)                 Output Shape              Param #   \n",
      "=================================================================\n",
      "embedding_1 (Embedding)      (None, 50, 16)            64000     \n",
      "_________________________________________________________________\n",
      "conv1d (Conv1D)              (None, 46, 16)            1296      \n",
      "_________________________________________________________________\n",
      "global_max_pooling1d (Global (None, 16)                0         \n",
      "_________________________________________________________________\n",
      "dense_1 (Dense)              (None, 1)                 17        \n",
      "=================================================================\n",
      "Total params: 65,313\n",
      "Trainable params: 65,313\n",
      "Non-trainable params: 0\n",
      "_________________________________________________________________\n",
      "Epoch 1/30\n",
      "313/313 [==============================] - 2s 3ms/step - loss: 0.6864 - accuracy: 0.5590 - val_loss: 0.6962 - val_accuracy: 0.5092\n",
      "Epoch 2/30\n",
      "313/313 [==============================] - 1s 3ms/step - loss: 0.6826 - accuracy: 0.5590 - val_loss: 0.6944 - val_accuracy: 0.5092\n",
      "Epoch 3/30\n",
      "313/313 [==============================] - 1s 3ms/step - loss: 0.6788 - accuracy: 0.5590 - val_loss: 0.6918 - val_accuracy: 0.5092\n",
      "Epoch 4/30\n",
      "313/313 [==============================] - 1s 3ms/step - loss: 0.6734 - accuracy: 0.5590 - val_loss: 0.6872 - val_accuracy: 0.5092\n",
      "Epoch 5/30\n",
      "313/313 [==============================] - 1s 3ms/step - loss: 0.6653 - accuracy: 0.5596 - val_loss: 0.6798 - val_accuracy: 0.5138\n",
      "Epoch 6/30\n",
      "313/313 [==============================] - 1s 3ms/step - loss: 0.6529 - accuracy: 0.5777 - val_loss: 0.6688 - val_accuracy: 0.5711\n",
      "Epoch 7/30\n",
      "313/313 [==============================] - 1s 3ms/step - loss: 0.6344 - accuracy: 0.6232 - val_loss: 0.6531 - val_accuracy: 0.6468\n",
      "Epoch 8/30\n",
      "313/313 [==============================] - 1s 3ms/step - loss: 0.6091 - accuracy: 0.6997 - val_loss: 0.6321 - val_accuracy: 0.7053\n",
      "Epoch 9/30\n",
      "313/313 [==============================] - 1s 3ms/step - loss: 0.5778 - accuracy: 0.7634 - val_loss: 0.6077 - val_accuracy: 0.7431\n",
      "Epoch 10/30\n",
      "313/313 [==============================] - 1s 3ms/step - loss: 0.5430 - accuracy: 0.7983 - val_loss: 0.5832 - val_accuracy: 0.7489\n",
      "Epoch 11/30\n",
      "313/313 [==============================] - 1s 3ms/step - loss: 0.5075 - accuracy: 0.8154 - val_loss: 0.5594 - val_accuracy: 0.7569\n",
      "Epoch 12/30\n",
      "313/313 [==============================] - 1s 3ms/step - loss: 0.4734 - accuracy: 0.8282 - val_loss: 0.5399 - val_accuracy: 0.7511\n",
      "Epoch 13/30\n",
      "313/313 [==============================] - 1s 3ms/step - loss: 0.4424 - accuracy: 0.8399 - val_loss: 0.5236 - val_accuracy: 0.7557\n",
      "Epoch 14/30\n",
      "313/313 [==============================] - 1s 3ms/step - loss: 0.4148 - accuracy: 0.8480 - val_loss: 0.5117 - val_accuracy: 0.7523\n",
      "Epoch 15/30\n",
      "313/313 [==============================] - 1s 3ms/step - loss: 0.3902 - accuracy: 0.8544 - val_loss: 0.5030 - val_accuracy: 0.7569\n",
      "Epoch 16/30\n",
      "313/313 [==============================] - 1s 3ms/step - loss: 0.3688 - accuracy: 0.8602 - val_loss: 0.4975 - val_accuracy: 0.7534\n",
      "Epoch 17/30\n",
      "313/313 [==============================] - 1s 3ms/step - loss: 0.3498 - accuracy: 0.8654 - val_loss: 0.4948 - val_accuracy: 0.7534\n",
      "Epoch 18/30\n",
      "313/313 [==============================] - 1s 3ms/step - loss: 0.3330 - accuracy: 0.8696 - val_loss: 0.4942 - val_accuracy: 0.7603\n",
      "Epoch 19/30\n",
      "313/313 [==============================] - 1s 3ms/step - loss: 0.3181 - accuracy: 0.8741 - val_loss: 0.4959 - val_accuracy: 0.7569\n",
      "Epoch 20/30\n",
      "313/313 [==============================] - 1s 3ms/step - loss: 0.3048 - accuracy: 0.8757 - val_loss: 0.4986 - val_accuracy: 0.7557\n",
      "Epoch 21/30\n",
      "313/313 [==============================] - 1s 3ms/step - loss: 0.2926 - accuracy: 0.8794 - val_loss: 0.5027 - val_accuracy: 0.7534\n",
      "Epoch 22/30\n",
      "313/313 [==============================] - 1s 3ms/step - loss: 0.2817 - accuracy: 0.8830 - val_loss: 0.5088 - val_accuracy: 0.7523\n",
      "Epoch 23/30\n",
      "313/313 [==============================] - 1s 3ms/step - loss: 0.2715 - accuracy: 0.8864 - val_loss: 0.5148 - val_accuracy: 0.7500\n",
      "Epoch 24/30\n",
      "313/313 [==============================] - 1s 3ms/step - loss: 0.2623 - accuracy: 0.8899 - val_loss: 0.5216 - val_accuracy: 0.7431\n",
      "Epoch 25/30\n",
      "313/313 [==============================] - 1s 3ms/step - loss: 0.2537 - accuracy: 0.8924 - val_loss: 0.5290 - val_accuracy: 0.7454\n",
      "Epoch 26/30\n",
      "313/313 [==============================] - 1s 3ms/step - loss: 0.2457 - accuracy: 0.8950 - val_loss: 0.5366 - val_accuracy: 0.7443\n",
      "Epoch 27/30\n",
      "313/313 [==============================] - 1s 3ms/step - loss: 0.2384 - accuracy: 0.8991 - val_loss: 0.5453 - val_accuracy: 0.7454\n",
      "Epoch 28/30\n",
      "313/313 [==============================] - 1s 3ms/step - loss: 0.2315 - accuracy: 0.9027 - val_loss: 0.5545 - val_accuracy: 0.7443\n",
      "Epoch 29/30\n",
      "313/313 [==============================] - 1s 3ms/step - loss: 0.2251 - accuracy: 0.9049 - val_loss: 0.5641 - val_accuracy: 0.7420\n",
      "Epoch 30/30\n",
      "313/313 [==============================] - 1s 3ms/step - loss: 0.2191 - accuracy: 0.9067 - val_loss: 0.5742 - val_accuracy: 0.7408\n"
     ]
    },
    {
     "data": {
      "image/png": "[encoded data removed]",
      "text/plain": [
       "<Figure size 432x288 with 1 Axes>"
      ]
     },
     "metadata": {
      "needs_background": "light"
     },
     "output_type": "display_data"
    },
    {
     "data": {
      "image/png": "[encoded data removed]",
      "text/plain": [
       "<Figure size 432x288 with 1 Axes>"
      ]
     },
     "metadata": {
      "needs_background": "light"
     },
     "output_type": "display_data"
    },
    {
     "name": "stdout",
     "output_type": "stream",
     "text": [
      "I loved this movie\n",
      "[0.77633107]\n",
      "\n",
      "\n",
      "that was the worst movie I've ever seen\n",
      "[0.02275932]\n",
      "\n",
      "\n",
      "too much violence even for a Bond film\n",
      "[0.01437554]\n",
      "\n",
      "\n",
      "a captivating recounting of a cherished myth\n",
      "[0.7728976]\n",
      "\n",
      "\n"
     ]
    }
   ],
   "source": [
    "num_epochs = 30\n",
    "\n",
    "model_cnn = tf.keras.Sequential([\n",
    "    tf.keras.layers.Embedding(vocab_size, embedding_dim, input_length=max_length),\n",
    "    tf.keras.layers.Conv1D(16, 5, activation='relu'),\n",
    "    tf.keras.layers.GlobalMaxPooling1D(),\n",
    "    tf.keras.layers.Dense(1, activation='sigmoid')\n",
    "])\n",
    "\n",
    "# Default learning rate for the Adam optimizer is 0.001\n",
    "# Let's slow down the learning rate by 10.\n",
    "learning_rate = 0.0001\n",
    "model_cnn.compile(loss='binary_crossentropy',\n",
    "                  optimizer=tf.keras.optimizers.Adam(learning_rate), \n",
    "                  metrics=['accuracy'])\n",
    "\n",
    "fit_model_and_show_results(model_cnn, new_reviews)"
   ]
  },
  {
   "cell_type": "markdown",
   "metadata": {
    "id": "tXnoq0zITmSM"
   },
   "source": [
    "# Use a GRU"
   ]
  },
  {
   "cell_type": "code",
   "execution_count": 16,
   "metadata": {
    "id": "6jP6KAzZTpQ6"
   },
   "outputs": [
    {
     "name": "stdout",
     "output_type": "stream",
     "text": [
      "Model: \"sequential_2\"\n",
      "_________________________________________________________________\n",
      "Layer (type)                 Output Shape              Param #   \n",
      "=================================================================\n",
      "embedding_2 (Embedding)      (None, 50, 16)            64000     \n",
      "_________________________________________________________________\n",
      "bidirectional (Bidirectional (None, 64)                9600      \n",
      "_________________________________________________________________\n",
      "dense_2 (Dense)              (None, 1)                 65        \n",
      "=================================================================\n",
      "Total params: 73,665\n",
      "Trainable params: 73,665\n",
      "Non-trainable params: 0\n",
      "_________________________________________________________________\n",
      "Epoch 1/30\n",
      "313/313 [==============================] - 10s 22ms/step - loss: 0.6904 - accuracy: 0.5587 - val_loss: 0.6929 - val_accuracy: 0.5092\n",
      "Epoch 2/30\n",
      "313/313 [==============================] - 6s 20ms/step - loss: 0.6871 - accuracy: 0.5590 - val_loss: 0.6937 - val_accuracy: 0.5092\n",
      "Epoch 3/30\n",
      "313/313 [==============================] - 6s 21ms/step - loss: 0.6854 - accuracy: 0.5590 - val_loss: 0.6949 - val_accuracy: 0.5092\n",
      "Epoch 4/30\n",
      "313/313 [==============================] - 6s 21ms/step - loss: 0.6841 - accuracy: 0.5590 - val_loss: 0.6958 - val_accuracy: 0.5092\n",
      "Epoch 5/30\n",
      "313/313 [==============================] - 6s 20ms/step - loss: 0.6825 - accuracy: 0.5590 - val_loss: 0.6972 - val_accuracy: 0.5092\n",
      "Epoch 6/30\n",
      "313/313 [==============================] - 6s 20ms/step - loss: 0.6798 - accuracy: 0.5590 - val_loss: 0.6991 - val_accuracy: 0.5092\n",
      "Epoch 7/30\n",
      "313/313 [==============================] - 6s 21ms/step - loss: 0.6755 - accuracy: 0.5591 - val_loss: 0.7036 - val_accuracy: 0.5092\n",
      "Epoch 8/30\n",
      "313/313 [==============================] - 6s 21ms/step - loss: 0.6686 - accuracy: 0.5623 - val_loss: 0.7138 - val_accuracy: 0.5092\n",
      "Epoch 9/30\n",
      "313/313 [==============================] - 6s 20ms/step - loss: 0.6579 - accuracy: 0.5862 - val_loss: 0.7283 - val_accuracy: 0.5092\n",
      "Epoch 10/30\n",
      "313/313 [==============================] - 6s 21ms/step - loss: 0.6423 - accuracy: 0.6239 - val_loss: 0.7373 - val_accuracy: 0.5092\n",
      "Epoch 11/30\n",
      "313/313 [==============================] - 6s 20ms/step - loss: 0.6204 - accuracy: 0.6496 - val_loss: 0.7157 - val_accuracy: 0.5092\n",
      "Epoch 12/30\n",
      "313/313 [==============================] - 6s 20ms/step - loss: 0.5885 - accuracy: 0.6808 - val_loss: 0.6712 - val_accuracy: 0.5080\n",
      "Epoch 13/30\n",
      "313/313 [==============================] - 6s 20ms/step - loss: 0.5561 - accuracy: 0.7109 - val_loss: 0.6458 - val_accuracy: 0.5206\n",
      "Epoch 14/30\n",
      "313/313 [==============================] - 6s 20ms/step - loss: 0.5338 - accuracy: 0.7344 - val_loss: 0.6416 - val_accuracy: 0.5252\n",
      "Epoch 15/30\n",
      "313/313 [==============================] - 6s 20ms/step - loss: 0.5123 - accuracy: 0.7513 - val_loss: 0.6267 - val_accuracy: 0.5401\n",
      "Epoch 16/30\n",
      "313/313 [==============================] - 6s 20ms/step - loss: 0.4936 - accuracy: 0.7698 - val_loss: 0.6225 - val_accuracy: 0.5791\n",
      "Epoch 17/30\n",
      "313/313 [==============================] - 6s 20ms/step - loss: 0.4739 - accuracy: 0.7802 - val_loss: 0.5945 - val_accuracy: 0.6858\n",
      "Epoch 18/30\n",
      "313/313 [==============================] - 6s 20ms/step - loss: 0.4591 - accuracy: 0.7939 - val_loss: 0.5993 - val_accuracy: 0.6651\n",
      "Epoch 19/30\n",
      "313/313 [==============================] - 6s 20ms/step - loss: 0.4473 - accuracy: 0.7968 - val_loss: 0.6020 - val_accuracy: 0.6663\n",
      "Epoch 20/30\n",
      "313/313 [==============================] - 6s 20ms/step - loss: 0.4335 - accuracy: 0.8080 - val_loss: 0.6067 - val_accuracy: 0.6869\n",
      "Epoch 21/30\n",
      "313/313 [==============================] - 6s 20ms/step - loss: 0.4227 - accuracy: 0.8147 - val_loss: 0.5828 - val_accuracy: 0.7351\n",
      "Epoch 22/30\n",
      "313/313 [==============================] - 6s 20ms/step - loss: 0.4136 - accuracy: 0.8187 - val_loss: 0.6169 - val_accuracy: 0.7018\n",
      "Epoch 23/30\n",
      "313/313 [==============================] - 6s 20ms/step - loss: 0.4040 - accuracy: 0.8219 - val_loss: 0.6086 - val_accuracy: 0.7179\n",
      "Epoch 24/30\n",
      "313/313 [==============================] - 6s 20ms/step - loss: 0.3972 - accuracy: 0.8269 - val_loss: 0.5915 - val_accuracy: 0.7443\n",
      "Epoch 25/30\n",
      "313/313 [==============================] - 6s 20ms/step - loss: 0.3869 - accuracy: 0.8322 - val_loss: 0.6169 - val_accuracy: 0.7362\n",
      "Epoch 26/30\n",
      "313/313 [==============================] - 6s 20ms/step - loss: 0.3805 - accuracy: 0.8343 - val_loss: 0.6134 - val_accuracy: 0.7420\n",
      "Epoch 27/30\n",
      "313/313 [==============================] - 6s 20ms/step - loss: 0.3720 - accuracy: 0.8396 - val_loss: 0.6028 - val_accuracy: 0.7443\n",
      "Epoch 28/30\n",
      "313/313 [==============================] - 6s 20ms/step - loss: 0.3660 - accuracy: 0.8457 - val_loss: 0.6237 - val_accuracy: 0.7466\n",
      "Epoch 29/30\n",
      "313/313 [==============================] - 6s 20ms/step - loss: 0.3587 - accuracy: 0.8465 - val_loss: 0.6433 - val_accuracy: 0.7431\n",
      "Epoch 30/30\n",
      "313/313 [==============================] - 6s 20ms/step - loss: 0.3525 - accuracy: 0.8486 - val_loss: 0.6468 - val_accuracy: 0.7511\n"
     ]
    },
    {
     "data": {
      "image/png": "[encoded data removed]",
      "text/plain": [
       "<Figure size 432x288 with 1 Axes>"
      ]
     },
     "metadata": {
      "needs_background": "light"
     },
     "output_type": "display_data"
    },
    {
     "data": {
      "image/png": "[encoded data removed]",
      "text/plain": [
       "<Figure size 432x288 with 1 Axes>"
      ]
     },
     "metadata": {
      "needs_background": "light"
     },
     "output_type": "display_data"
    },
    {
     "name": "stdout",
     "output_type": "stream",
     "text": [
      "I loved this movie\n",
      "[0.5167218]\n",
      "\n",
      "\n",
      "that was the worst movie I've ever seen\n",
      "[0.12445283]\n",
      "\n",
      "\n",
      "too much violence even for a Bond film\n",
      "[0.3134546]\n",
      "\n",
      "\n",
      "a captivating recounting of a cherished myth\n",
      "[0.58582366]\n",
      "\n",
      "\n"
     ]
    }
   ],
   "source": [
    "num_epochs = 30\n",
    "\n",
    "model_gru = tf.keras.Sequential([\n",
    "    tf.keras.layers.Embedding(vocab_size, embedding_dim, input_length=max_length),\n",
    "    tf.keras.layers.Bidirectional(tf.keras.layers.GRU(32)),\n",
    "    tf.keras.layers.Dense(1, activation='sigmoid')\n",
    "])\n",
    "\n",
    "learning_rate = 0.00003 # slower than the default learning rate\n",
    "model_gru.compile(loss='binary_crossentropy',\n",
    "                  optimizer=tf.keras.optimizers.Adam(learning_rate),\n",
    "                  metrics=['accuracy'])\n",
    "\n",
    "fit_model_and_show_results(model_gru, new_reviews)"
   ]
  },
  {
   "cell_type": "markdown",
   "metadata": {
    "id": "U13JBiJUG1oq"
   },
   "source": [
    "# Add a bidirectional LSTM"
   ]
  },
  {
   "cell_type": "code",
   "execution_count": 17,
   "metadata": {
    "id": "scTUsFPAG4zP"
   },
   "outputs": [
    {
     "name": "stdout",
     "output_type": "stream",
     "text": [
      "Model: \"sequential_3\"\n",
      "_________________________________________________________________\n",
      "Layer (type)                 Output Shape              Param #   \n",
      "=================================================================\n",
      "embedding_3 (Embedding)      (None, 50, 16)            64000     \n",
      "_________________________________________________________________\n",
      "bidirectional_1 (Bidirection (None, 32)                4224      \n",
      "_________________________________________________________________\n",
      "dense_3 (Dense)              (None, 1)                 33        \n",
      "=================================================================\n",
      "Total params: 68,257\n",
      "Trainable params: 68,257\n",
      "Non-trainable params: 0\n",
      "_________________________________________________________________\n",
      "Epoch 1/30\n",
      "313/313 [==============================] - 9s 19ms/step - loss: 0.6913 - accuracy: 0.5533 - val_loss: 0.6935 - val_accuracy: 0.5092\n",
      "Epoch 2/30\n",
      "313/313 [==============================] - 5s 17ms/step - loss: 0.6878 - accuracy: 0.5590 - val_loss: 0.6948 - val_accuracy: 0.5092\n",
      "Epoch 3/30\n",
      "313/313 [==============================] - 5s 17ms/step - loss: 0.6853 - accuracy: 0.5590 - val_loss: 0.6971 - val_accuracy: 0.5092\n",
      "Epoch 4/30\n",
      "313/313 [==============================] - 5s 18ms/step - loss: 0.6838 - accuracy: 0.5590 - val_loss: 0.6994 - val_accuracy: 0.5092\n",
      "Epoch 5/30\n",
      "313/313 [==============================] - 6s 18ms/step - loss: 0.6826 - accuracy: 0.5590 - val_loss: 0.7016 - val_accuracy: 0.5092\n",
      "Epoch 6/30\n",
      "313/313 [==============================] - 5s 17ms/step - loss: 0.6813 - accuracy: 0.5590 - val_loss: 0.7034 - val_accuracy: 0.5092\n",
      "Epoch 7/30\n",
      "313/313 [==============================] - 5s 17ms/step - loss: 0.6798 - accuracy: 0.5590 - val_loss: 0.7056 - val_accuracy: 0.5092\n",
      "Epoch 8/30\n",
      "313/313 [==============================] - 6s 18ms/step - loss: 0.6781 - accuracy: 0.5590 - val_loss: 0.7090 - val_accuracy: 0.5092\n",
      "Epoch 9/30\n",
      "313/313 [==============================] - 6s 18ms/step - loss: 0.6759 - accuracy: 0.5591 - val_loss: 0.7125 - val_accuracy: 0.5092\n",
      "Epoch 10/30\n",
      "313/313 [==============================] - 6s 18ms/step - loss: 0.6734 - accuracy: 0.5596 - val_loss: 0.7161 - val_accuracy: 0.5092\n",
      "Epoch 11/30\n",
      "313/313 [==============================] - 5s 17ms/step - loss: 0.6705 - accuracy: 0.5707 - val_loss: 0.7213 - val_accuracy: 0.5092\n",
      "Epoch 12/30\n",
      "313/313 [==============================] - 5s 17ms/step - loss: 0.6671 - accuracy: 0.5872 - val_loss: 0.7269 - val_accuracy: 0.5092\n",
      "Epoch 13/30\n",
      "313/313 [==============================] - 5s 17ms/step - loss: 0.6631 - accuracy: 0.6061 - val_loss: 0.7284 - val_accuracy: 0.5092\n",
      "Epoch 14/30\n",
      "313/313 [==============================] - 5s 17ms/step - loss: 0.6583 - accuracy: 0.6233 - val_loss: 0.7342 - val_accuracy: 0.5092\n",
      "Epoch 15/30\n",
      "313/313 [==============================] - 5s 17ms/step - loss: 0.6523 - accuracy: 0.6344 - val_loss: 0.7367 - val_accuracy: 0.5092\n",
      "Epoch 16/30\n",
      "313/313 [==============================] - 5s 17ms/step - loss: 0.6446 - accuracy: 0.6473 - val_loss: 0.7382 - val_accuracy: 0.5092\n",
      "Epoch 17/30\n",
      "313/313 [==============================] - 5s 17ms/step - loss: 0.6347 - accuracy: 0.6570 - val_loss: 0.7337 - val_accuracy: 0.5092\n",
      "Epoch 18/30\n",
      "313/313 [==============================] - 5s 17ms/step - loss: 0.6216 - accuracy: 0.6725 - val_loss: 0.7443 - val_accuracy: 0.5092\n",
      "Epoch 19/30\n",
      "313/313 [==============================] - 6s 18ms/step - loss: 0.6057 - accuracy: 0.6837 - val_loss: 0.7429 - val_accuracy: 0.5103\n",
      "Epoch 20/30\n",
      "313/313 [==============================] - 5s 18ms/step - loss: 0.5882 - accuracy: 0.6983 - val_loss: 0.7419 - val_accuracy: 0.5115\n",
      "Epoch 21/30\n",
      "313/313 [==============================] - 5s 17ms/step - loss: 0.5707 - accuracy: 0.7156 - val_loss: 0.7355 - val_accuracy: 0.5046\n",
      "Epoch 22/30\n",
      "313/313 [==============================] - 5s 17ms/step - loss: 0.5540 - accuracy: 0.7329 - val_loss: 0.7151 - val_accuracy: 0.5069\n",
      "Epoch 23/30\n",
      "313/313 [==============================] - 6s 18ms/step - loss: 0.5385 - accuracy: 0.7460 - val_loss: 0.6962 - val_accuracy: 0.5126\n",
      "Epoch 24/30\n",
      "313/313 [==============================] - 5s 17ms/step - loss: 0.5254 - accuracy: 0.7599 - val_loss: 0.6723 - val_accuracy: 0.5206\n",
      "Epoch 25/30\n",
      "313/313 [==============================] - 6s 18ms/step - loss: 0.5133 - accuracy: 0.7703 - val_loss: 0.6532 - val_accuracy: 0.5206\n",
      "Epoch 26/30\n",
      "313/313 [==============================] - 6s 19ms/step - loss: 0.5031 - accuracy: 0.7767 - val_loss: 0.6450 - val_accuracy: 0.5241\n",
      "Epoch 27/30\n",
      "313/313 [==============================] - 6s 20ms/step - loss: 0.4931 - accuracy: 0.7846 - val_loss: 0.6362 - val_accuracy: 0.5298\n",
      "Epoch 28/30\n",
      "313/313 [==============================] - 6s 20ms/step - loss: 0.4840 - accuracy: 0.7872 - val_loss: 0.6261 - val_accuracy: 0.5378\n",
      "Epoch 29/30\n",
      "313/313 [==============================] - 6s 21ms/step - loss: 0.4749 - accuracy: 0.7932 - val_loss: 0.6145 - val_accuracy: 0.5585\n",
      "Epoch 30/30\n",
      "313/313 [==============================] - 6s 19ms/step - loss: 0.4670 - accuracy: 0.7999 - val_loss: 0.6099 - val_accuracy: 0.5654\n"
     ]
    },
    {
     "data": {
      "image/png": "[encoded data removed]",
      "text/plain": [
       "<Figure size 432x288 with 1 Axes>"
      ]
     },
     "metadata": {
      "needs_background": "light"
     },
     "output_type": "display_data"
    },
    {
     "data": {
      "image/png": "[encoded data removed]",
      "text/plain": [
       "<Figure size 432x288 with 1 Axes>"
      ]
     },
     "metadata": {
      "needs_background": "light"
     },
     "output_type": "display_data"
    },
    {
     "name": "stdout",
     "output_type": "stream",
     "text": [
      "I loved this movie\n",
      "[0.4752356]\n",
      "\n",
      "\n",
      "that was the worst movie I've ever seen\n",
      "[0.3128811]\n",
      "\n",
      "\n",
      "too much violence even for a Bond film\n",
      "[0.5174292]\n",
      "\n",
      "\n",
      "a captivating recounting of a cherished myth\n",
      "[0.5076365]\n",
      "\n",
      "\n"
     ]
    }
   ],
   "source": [
    "num_epochs = 30\n",
    "\n",
    "model_bidi_lstm = tf.keras.Sequential([\n",
    "    tf.keras.layers.Embedding(vocab_size, embedding_dim, input_length=max_length),\n",
    "    tf.keras.layers.Bidirectional(tf.keras.layers.LSTM(embedding_dim)), \n",
    "    tf.keras.layers.Dense(1, activation='sigmoid')\n",
    "])\n",
    "\n",
    "learning_rate = 0.00003\n",
    "model_bidi_lstm.compile(loss='binary_crossentropy',\n",
    "                        optimizer=tf.keras.optimizers.Adam(learning_rate),\n",
    "                        metrics=['accuracy'])\n",
    "fit_model_and_show_results(model_bidi_lstm, new_reviews)"
   ]
  },
  {
   "cell_type": "markdown",
   "metadata": {
    "id": "QsxKPbCnPJTj"
   },
   "source": [
    "# Use multiple bidirectional LSTMs"
   ]
  },
  {
   "cell_type": "code",
   "execution_count": 18,
   "metadata": {
    "id": "3N6Zul47PMED"
   },
   "outputs": [
    {
     "name": "stdout",
     "output_type": "stream",
     "text": [
      "Model: \"sequential_4\"\n",
      "_________________________________________________________________\n",
      "Layer (type)                 Output Shape              Param #   \n",
      "=================================================================\n",
      "embedding_4 (Embedding)      (None, 50, 16)            64000     \n",
      "_________________________________________________________________\n",
      "bidirectional_2 (Bidirection (None, 50, 32)            4224      \n",
      "_________________________________________________________________\n",
      "bidirectional_3 (Bidirection (None, 32)                6272      \n",
      "_________________________________________________________________\n",
      "dense_4 (Dense)              (None, 1)                 33        \n",
      "=================================================================\n",
      "Total params: 74,529\n",
      "Trainable params: 74,529\n",
      "Non-trainable params: 0\n",
      "_________________________________________________________________\n",
      "Epoch 1/30\n",
      "313/313 [==============================] - 18s 41ms/step - loss: 0.6827 - accuracy: 0.5565 - val_loss: 0.7001 - val_accuracy: 0.5092\n",
      "Epoch 2/30\n",
      "313/313 [==============================] - 11s 35ms/step - loss: 0.5093 - accuracy: 0.7460 - val_loss: 0.7102 - val_accuracy: 0.5264\n",
      "Epoch 3/30\n",
      "313/313 [==============================] - 11s 34ms/step - loss: 0.3615 - accuracy: 0.8330 - val_loss: 0.8434 - val_accuracy: 0.5057\n",
      "Epoch 4/30\n",
      "313/313 [==============================] - 12s 39ms/step - loss: 0.3046 - accuracy: 0.8670 - val_loss: 0.8613 - val_accuracy: 0.5126\n",
      "Epoch 5/30\n",
      "313/313 [==============================] - 11s 34ms/step - loss: 0.2691 - accuracy: 0.8802 - val_loss: 0.7641 - val_accuracy: 0.5149\n",
      "Epoch 6/30\n",
      "313/313 [==============================] - 11s 34ms/step - loss: 0.2473 - accuracy: 0.8880 - val_loss: 0.7442 - val_accuracy: 0.4805\n",
      "Epoch 7/30\n",
      "313/313 [==============================] - 11s 36ms/step - loss: 0.2285 - accuracy: 0.8970 - val_loss: 0.7773 - val_accuracy: 0.5115\n",
      "Epoch 8/30\n",
      "313/313 [==============================] - 11s 34ms/step - loss: 0.2162 - accuracy: 0.9020 - val_loss: 0.7819 - val_accuracy: 0.4048\n",
      "Epoch 9/30\n",
      "313/313 [==============================] - 11s 35ms/step - loss: 0.2054 - accuracy: 0.9069 - val_loss: 0.7673 - val_accuracy: 0.4083\n",
      "Epoch 10/30\n",
      "313/313 [==============================] - 12s 38ms/step - loss: 0.1983 - accuracy: 0.9075 - val_loss: 0.8662 - val_accuracy: 0.4530\n",
      "Epoch 11/30\n",
      "313/313 [==============================] - 12s 38ms/step - loss: 0.1910 - accuracy: 0.9119 - val_loss: 0.8535 - val_accuracy: 0.3922\n",
      "Epoch 12/30\n",
      "313/313 [==============================] - 11s 36ms/step - loss: 0.1839 - accuracy: 0.9176 - val_loss: 0.8869 - val_accuracy: 0.4151\n",
      "Epoch 13/30\n",
      "313/313 [==============================] - 11s 34ms/step - loss: 0.1865 - accuracy: 0.9166 - val_loss: 0.9746 - val_accuracy: 0.4369\n",
      "Epoch 14/30\n",
      "313/313 [==============================] - 11s 34ms/step - loss: 0.1786 - accuracy: 0.9177 - val_loss: 1.0661 - val_accuracy: 0.4679\n",
      "Epoch 15/30\n",
      "313/313 [==============================] - 11s 36ms/step - loss: 0.1793 - accuracy: 0.9199 - val_loss: 1.0837 - val_accuracy: 0.4117\n",
      "Epoch 16/30\n",
      "313/313 [==============================] - 11s 34ms/step - loss: 0.1696 - accuracy: 0.9194 - val_loss: 1.1985 - val_accuracy: 0.4151\n",
      "Epoch 17/30\n",
      "313/313 [==============================] - 10s 33ms/step - loss: 0.1665 - accuracy: 0.9193 - val_loss: 1.2591 - val_accuracy: 0.4243\n",
      "Epoch 18/30\n",
      "313/313 [==============================] - 11s 35ms/step - loss: 0.1623 - accuracy: 0.9232 - val_loss: 1.3255 - val_accuracy: 0.4220\n",
      "Epoch 19/30\n",
      "313/313 [==============================] - 13s 41ms/step - loss: 0.1601 - accuracy: 0.9253 - val_loss: 1.2790 - val_accuracy: 0.4037\n",
      "Epoch 20/30\n",
      "313/313 [==============================] - 10s 32ms/step - loss: 0.1569 - accuracy: 0.9228 - val_loss: 1.3269 - val_accuracy: 0.4255\n",
      "Epoch 21/30\n",
      "313/313 [==============================] - 10s 32ms/step - loss: 0.1566 - accuracy: 0.9255 - val_loss: 1.1891 - val_accuracy: 0.3933\n",
      "Epoch 22/30\n",
      "313/313 [==============================] - 10s 33ms/step - loss: 0.1548 - accuracy: 0.9284 - val_loss: 1.2512 - val_accuracy: 0.4300\n",
      "Epoch 23/30\n",
      "313/313 [==============================] - 12s 38ms/step - loss: 0.1519 - accuracy: 0.9282 - val_loss: 1.1718 - val_accuracy: 0.4541\n",
      "Epoch 24/30\n",
      "313/313 [==============================] - 12s 39ms/step - loss: 0.1483 - accuracy: 0.9284 - val_loss: 1.3360 - val_accuracy: 0.4197\n",
      "Epoch 25/30\n",
      "313/313 [==============================] - 12s 38ms/step - loss: 0.1471 - accuracy: 0.9305 - val_loss: 1.3885 - val_accuracy: 0.4989\n",
      "Epoch 26/30\n",
      "313/313 [==============================] - 11s 35ms/step - loss: 0.1415 - accuracy: 0.9345 - val_loss: 1.3619 - val_accuracy: 0.4828\n",
      "Epoch 27/30\n",
      "313/313 [==============================] - 11s 35ms/step - loss: 0.1434 - accuracy: 0.9313 - val_loss: 1.3973 - val_accuracy: 0.4266\n",
      "Epoch 28/30\n",
      "313/313 [==============================] - 10s 34ms/step - loss: 0.1443 - accuracy: 0.9303 - val_loss: 1.3884 - val_accuracy: 0.5023\n",
      "Epoch 29/30\n",
      "313/313 [==============================] - 11s 36ms/step - loss: 0.1427 - accuracy: 0.9314 - val_loss: 1.4721 - val_accuracy: 0.5149\n",
      "Epoch 30/30\n",
      "313/313 [==============================] - 10s 32ms/step - loss: 0.1363 - accuracy: 0.9322 - val_loss: 1.4168 - val_accuracy: 0.4851\n"
     ]
    },
    {
     "data": {
      "image/png": "[encoded data removed]",
      "text/plain": [
       "<Figure size 432x288 with 1 Axes>"
      ]
     },
     "metadata": {
      "needs_background": "light"
     },
     "output_type": "display_data"
    },
    {
     "data": {
      "image/png": "[encoded data removed]",
      "text/plain": [
       "<Figure size 432x288 with 1 Axes>"
      ]
     },
     "metadata": {
      "needs_background": "light"
     },
     "output_type": "display_data"
    },
    {
     "name": "stdout",
     "output_type": "stream",
     "text": [
      "WARNING:tensorflow:5 out of the last 5 calls to <function Model.make_predict_function.<locals>.predict_function at 0x0000019923B6E310> triggered tf.function retracing. Tracing is expensive and the excessive number of tracings could be due to (1) creating @tf.function repeatedly in a loop, (2) passing tensors with different shapes, (3) passing Python objects instead of tensors. For (1), please define your @tf.function outside of the loop. For (2), @tf.function has experimental_relax_shapes=True option that relaxes argument shapes that can avoid unnecessary retracing. For (3), please refer to https://www.tensorflow.org/guide/function#controlling_retracing and https://www.tensorflow.org/api_docs/python/tf/function for  more details.\n"
     ]
    },
    {
     "name": "stderr",
     "output_type": "stream",
     "text": [
      "WARNING:tensorflow:5 out of the last 5 calls to <function Model.make_predict_function.<locals>.predict_function at 0x0000019923B6E310> triggered tf.function retracing. Tracing is expensive and the excessive number of tracings could be due to (1) creating @tf.function repeatedly in a loop, (2) passing tensors with different shapes, (3) passing Python objects instead of tensors. For (1), please define your @tf.function outside of the loop. For (2), @tf.function has experimental_relax_shapes=True option that relaxes argument shapes that can avoid unnecessary retracing. For (3), please refer to https://www.tensorflow.org/guide/function#controlling_retracing and https://www.tensorflow.org/api_docs/python/tf/function for  more details.\n"
     ]
    },
    {
     "name": "stdout",
     "output_type": "stream",
     "text": [
      "I loved this movie\n",
      "[0.4365938]\n",
      "\n",
      "\n",
      "that was the worst movie I've ever seen\n",
      "[0.42994013]\n",
      "\n",
      "\n",
      "too much violence even for a Bond film\n",
      "[0.01110804]\n",
      "\n",
      "\n",
      "a captivating recounting of a cherished myth\n",
      "[0.99632263]\n",
      "\n",
      "\n"
     ]
    }
   ],
   "source": [
    "num_epochs = 30\n",
    "\n",
    "model_multiple_bidi_lstm = tf.keras.Sequential([\n",
    "    tf.keras.layers.Embedding(vocab_size, embedding_dim, input_length=max_length),\n",
    "    tf.keras.layers.Bidirectional(tf.keras.layers.LSTM(embedding_dim, \n",
    "                                                       return_sequences=True)),\n",
    "    tf.keras.layers.Bidirectional(tf.keras.layers.LSTM(embedding_dim)),\n",
    "    tf.keras.layers.Dense(1, activation='sigmoid')\n",
    "])\n",
    "\n",
    "learning_rate = 0.0003\n",
    "model_multiple_bidi_lstm.compile(loss='binary_crossentropy',\n",
    "                                 optimizer=tf.keras.optimizers.Adam(learning_rate),\n",
    "                                 metrics=['accuracy'])\n",
    "fit_model_and_show_results(model_multiple_bidi_lstm, new_reviews)"
   ]
  },
  {
   "cell_type": "markdown",
   "metadata": {
    "id": "gdN2tdW4YYJ1"
   },
   "source": [
    "# Try some more reviews"
   ]
  },
  {
   "cell_type": "code",
   "execution_count": 19,
   "metadata": {
    "id": "e45UQxQl_QAI"
   },
   "outputs": [],
   "source": [
    "# Write some new reviews \n",
    "\n",
    "review1 = \"\"\"I loved this movie\"\"\"\n",
    "\n",
    "review2 = \"\"\"that was the worst movie I've ever seen\"\"\"\n",
    "\n",
    "review3 = \"\"\"too much violence even for a Bond film\"\"\"\n",
    "\n",
    "review4 = \"\"\"a captivating recounting of a cherished myth\"\"\"\n",
    "\n",
    "review5 = \"\"\"I saw this movie yesterday and I was feeling low to start with,\n",
    " but it was such a wonderful movie that it lifted my spirits and brightened \n",
    " my day, you can\\'t go wrong with a movie with Whoopi Goldberg in it.\"\"\"\n",
    "\n",
    "review6 = \"\"\"I don\\'t understand why it received an oscar recommendation\n",
    " for best movie, it was long and boring\"\"\"\n",
    "\n",
    "review7 = \"\"\"the scenery was magnificent, the CGI of the dogs was so realistic I\n",
    " thought they were played by real dogs even though they talked!\"\"\"\n",
    "\n",
    "review8 = \"\"\"The ending was so sad and yet so uplifting at the same time. \n",
    " I'm looking for an excuse to see it again\"\"\"\n",
    "\n",
    "review9 = \"\"\"I had expected so much more from a movie made by the director \n",
    " who made my most favorite movie ever, I was very disappointed in the tedious \n",
    " story\"\"\"\n",
    "\n",
    "review10 = \"I wish I could watch this movie every day for the rest of my life\"\n",
    "\n",
    "more_reviews = [review1, review2, review3, review4, review5, review6, review7, \n",
    "               review8, review9, review10]\n"
   ]
  },
  {
   "cell_type": "code",
   "execution_count": 20,
   "metadata": {
    "id": "cQ4YZHOjYXQ2"
   },
   "outputs": [
    {
     "name": "stdout",
     "output_type": "stream",
     "text": [
      "============================\n",
      " Embeddings only:\n",
      " ============================\n",
      "I loved this movie\n",
      "[0.37823656]\n",
      "\n",
      "\n",
      "that was the worst movie I've ever seen\n",
      "[0.11382821]\n",
      "\n",
      "\n",
      "too much violence even for a Bond film\n",
      "[0.03219295]\n",
      "\n",
      "\n",
      "a captivating recounting of a cherished myth\n",
      "[0.59123534]\n",
      "\n",
      "\n",
      "I saw this movie yesterday and I was feeling low to start with,\n",
      " but it was such a wonderful movie that it lifted my spirits and brightened \n",
      " my day, you can't go wrong with a movie with Whoopi Goldberg in it.\n",
      "[0.2637781]\n",
      "\n",
      "\n",
      "I don't understand why it received an oscar recommendation\n",
      " for best movie, it was long and boring\n",
      "[0.45562828]\n",
      "\n",
      "\n",
      "the scenery was magnificent, the CGI of the dogs was so realistic I\n",
      " thought they were played by real dogs even though they talked!\n",
      "[0.23154792]\n",
      "\n",
      "\n",
      "The ending was so sad and yet so uplifting at the same time. \n",
      " I'm looking for an excuse to see it again\n",
      "[0.49438986]\n",
      "\n",
      "\n",
      "I had expected so much more from a movie made by the director \n",
      " who made my most favorite movie ever, I was very disappointed in the tedious \n",
      " story\n",
      "[0.01088628]\n",
      "\n",
      "\n",
      "I wish I could watch this movie every day for the rest of my life\n",
      "[0.30287713]\n",
      "\n",
      "\n"
     ]
    }
   ],
   "source": [
    "print(\"============================\\n\",\"Embeddings only:\\n\", \"============================\")\n",
    "predict_review(model, more_reviews)"
   ]
  },
  {
   "cell_type": "code",
   "execution_count": 21,
   "metadata": {
    "id": "NI04noTAHK5t"
   },
   "outputs": [
    {
     "name": "stdout",
     "output_type": "stream",
     "text": [
      "============================\n",
      " With CNN\n",
      " ============================\n",
      "I loved this movie\n",
      "[0.77633107]\n",
      "\n",
      "\n",
      "that was the worst movie I've ever seen\n",
      "[0.02275932]\n",
      "\n",
      "\n",
      "too much violence even for a Bond film\n",
      "[0.01437554]\n",
      "\n",
      "\n",
      "a captivating recounting of a cherished myth\n",
      "[0.7728976]\n",
      "\n",
      "\n",
      "I saw this movie yesterday and I was feeling low to start with,\n",
      " but it was such a wonderful movie that it lifted my spirits and brightened \n",
      " my day, you can't go wrong with a movie with Whoopi Goldberg in it.\n",
      "[0.697542]\n",
      "\n",
      "\n",
      "I don't understand why it received an oscar recommendation\n",
      " for best movie, it was long and boring\n",
      "[0.9664983]\n",
      "\n",
      "\n",
      "the scenery was magnificent, the CGI of the dogs was so realistic I\n",
      " thought they were played by real dogs even though they talked!\n",
      "[0.78952324]\n",
      "\n",
      "\n",
      "The ending was so sad and yet so uplifting at the same time. \n",
      " I'm looking for an excuse to see it again\n",
      "[0.5537343]\n",
      "\n",
      "\n",
      "I had expected so much more from a movie made by the director \n",
      " who made my most favorite movie ever, I was very disappointed in the tedious \n",
      " story\n",
      "[0.06013757]\n",
      "\n",
      "\n",
      "I wish I could watch this movie every day for the rest of my life\n",
      "[0.317219]\n",
      "\n",
      "\n"
     ]
    }
   ],
   "source": [
    "print(\"============================\\n\",\"With CNN\\n\", \"============================\")\n",
    "predict_review(model_cnn, more_reviews)"
   ]
  },
  {
   "cell_type": "code",
   "execution_count": 22,
   "metadata": {
    "id": "vGJ32sRUHNu6"
   },
   "outputs": [
    {
     "name": "stdout",
     "output_type": "stream",
     "text": [
      "===========================\n",
      " With bidirectional GRU\n",
      " ============================\n",
      "I loved this movie\n",
      "[0.5167218]\n",
      "\n",
      "\n",
      "that was the worst movie I've ever seen\n",
      "[0.12445283]\n",
      "\n",
      "\n",
      "too much violence even for a Bond film\n",
      "[0.3134546]\n",
      "\n",
      "\n",
      "a captivating recounting of a cherished myth\n",
      "[0.58582366]\n",
      "\n",
      "\n",
      "I saw this movie yesterday and I was feeling low to start with,\n",
      " but it was such a wonderful movie that it lifted my spirits and brightened \n",
      " my day, you can't go wrong with a movie with Whoopi Goldberg in it.\n",
      "[0.10923991]\n",
      "\n",
      "\n",
      "I don't understand why it received an oscar recommendation\n",
      " for best movie, it was long and boring\n",
      "[0.21413144]\n",
      "\n",
      "\n",
      "the scenery was magnificent, the CGI of the dogs was so realistic I\n",
      " thought they were played by real dogs even though they talked!\n",
      "[0.1377028]\n",
      "\n",
      "\n",
      "The ending was so sad and yet so uplifting at the same time. \n",
      " I'm looking for an excuse to see it again\n",
      "[0.26427552]\n",
      "\n",
      "\n",
      "I had expected so much more from a movie made by the director \n",
      " who made my most favorite movie ever, I was very disappointed in the tedious \n",
      " story\n",
      "[0.07823068]\n",
      "\n",
      "\n",
      "I wish I could watch this movie every day for the rest of my life\n",
      "[0.5678268]\n",
      "\n",
      "\n"
     ]
    }
   ],
   "source": [
    "print(\"===========================\\n\",\"With bidirectional GRU\\n\", \"============================\")\n",
    "predict_review(model_gru, more_reviews)"
   ]
  },
  {
   "cell_type": "code",
   "execution_count": 23,
   "metadata": {
    "id": "IFw9Q0iQHP2P"
   },
   "outputs": [
    {
     "name": "stdout",
     "output_type": "stream",
     "text": [
      "===========================\n",
      " With a single bidirectional LSTM:\n",
      " ===========================\n",
      "I loved this movie\n",
      "[0.4752356]\n",
      "\n",
      "\n",
      "that was the worst movie I've ever seen\n",
      "[0.3128811]\n",
      "\n",
      "\n",
      "too much violence even for a Bond film\n",
      "[0.5174292]\n",
      "\n",
      "\n",
      "a captivating recounting of a cherished myth\n",
      "[0.5076365]\n",
      "\n",
      "\n",
      "I saw this movie yesterday and I was feeling low to start with,\n",
      " but it was such a wonderful movie that it lifted my spirits and brightened \n",
      " my day, you can't go wrong with a movie with Whoopi Goldberg in it.\n",
      "[0.47176814]\n",
      "\n",
      "\n",
      "I don't understand why it received an oscar recommendation\n",
      " for best movie, it was long and boring\n",
      "[0.2954007]\n",
      "\n",
      "\n",
      "the scenery was magnificent, the CGI of the dogs was so realistic I\n",
      " thought they were played by real dogs even though they talked!\n",
      "[0.24487573]\n",
      "\n",
      "\n",
      "The ending was so sad and yet so uplifting at the same time. \n",
      " I'm looking for an excuse to see it again\n",
      "[0.3275022]\n",
      "\n",
      "\n",
      "I had expected so much more from a movie made by the director \n",
      " who made my most favorite movie ever, I was very disappointed in the tedious \n",
      " story\n",
      "[0.2249845]\n",
      "\n",
      "\n",
      "I wish I could watch this movie every day for the rest of my life\n",
      "[0.5403596]\n",
      "\n",
      "\n"
     ]
    }
   ],
   "source": [
    "print(\"===========================\\n\", \"With a single bidirectional LSTM:\\n\", \"===========================\")\n",
    "predict_review(model_bidi_lstm, more_reviews)"
   ]
  },
  {
   "cell_type": "code",
   "execution_count": 24,
   "metadata": {
    "id": "zaw7fEVQHSWK"
   },
   "outputs": [
    {
     "name": "stdout",
     "output_type": "stream",
     "text": [
      "===========================\n",
      " With multiple bidirectional LSTM:\n",
      " ==========================\n",
      "I loved this movie\n",
      "[0.4365938]\n",
      "\n",
      "\n",
      "that was the worst movie I've ever seen\n",
      "[0.42994013]\n",
      "\n",
      "\n",
      "too much violence even for a Bond film\n",
      "[0.01110804]\n",
      "\n",
      "\n",
      "a captivating recounting of a cherished myth\n",
      "[0.99632263]\n",
      "\n",
      "\n",
      "I saw this movie yesterday and I was feeling low to start with,\n",
      " but it was such a wonderful movie that it lifted my spirits and brightened \n",
      " my day, you can't go wrong with a movie with Whoopi Goldberg in it.\n",
      "[0.94953704]\n",
      "\n",
      "\n",
      "I don't understand why it received an oscar recommendation\n",
      " for best movie, it was long and boring\n",
      "[0.9969706]\n",
      "\n",
      "\n",
      "the scenery was magnificent, the CGI of the dogs was so realistic I\n",
      " thought they were played by real dogs even though they talked!\n",
      "[0.92093056]\n",
      "\n",
      "\n",
      "The ending was so sad and yet so uplifting at the same time. \n",
      " I'm looking for an excuse to see it again\n",
      "[0.99792546]\n",
      "\n",
      "\n",
      "I had expected so much more from a movie made by the director \n",
      " who made my most favorite movie ever, I was very disappointed in the tedious \n",
      " story\n",
      "[0.0130527]\n",
      "\n",
      "\n",
      "I wish I could watch this movie every day for the rest of my life\n",
      "[0.01534727]\n",
      "\n",
      "\n"
     ]
    }
   ],
   "source": [
    "print(\"===========================\\n\", \"With multiple bidirectional LSTM:\\n\", \"==========================\")\n",
    "predict_review(model_multiple_bidi_lstm, more_reviews)"
   ]
  }
 ],
 "metadata": {
  "accelerator": "GPU",
  "colab": {
   "collapsed_sections": [],
   "name": "l10c02_nlp_multiple_models_for_predicting_sentiment.ipynb의 사본",
   "provenance": []
  },
  "kernelspec": {
   "display_name": "Python 3",
   "language": "python",
   "name": "python3"
  },
  "language_info": {
   "codemirror_mode": {
    "name": "ipython",
    "version": 3
   },
   "file_extension": ".py",
   "mimetype": "text/x-python",
   "name": "python",
   "nbconvert_exporter": "python",
   "pygments_lexer": "ipython3",
   "version": "3.8.8"
  },
  "widgets": {
   "application/vnd.jupyter.widget-state+json": {
    "01b5c103a96449d08aaa4d1c583280e4": {
     "model_module": "@jupyter-widgets/controls",
     "model_module_version": "1.5.0",
     "model_name": "ProgressStyleModel",
     "state": {
      "_model_module": "@jupyter-widgets/controls",
      "_model_module_version": "1.5.0",
      "_model_name": "ProgressStyleModel",
      "_view_count": null,
      "_view_module": "@jupyter-widgets/base",
      "_view_module_version": "1.2.0",
      "_view_name": "StyleView",
      "bar_color": null,
      "description_width": ""
     }
    },
    "065a85db5d4a4869a3a2700cf607d966": {
     "model_module": "@jupyter-widgets/controls",
     "model_module_version": "1.5.0",
     "model_name": "HBoxModel",
     "state": {
      "_dom_classes": [],
      "_model_module": "@jupyter-widgets/controls",
      "_model_module_version": "1.5.0",
      "_model_name": "HBoxModel",
      "_view_count": null,
      "_view_module": "@jupyter-widgets/controls",
      "_view_module_version": "1.5.0",
      "_view_name": "HBoxView",
      "box_style": "",
      "children": [
       "IPY_MODEL_e5b287b1cb9547c1b9925129d9480988",
       "IPY_MODEL_31fb5402ccde4696ab05b64734d2424e",
       "IPY_MODEL_d8ed92b076344c6890b93410fbdc8ddd"
      ],
      "layout": "IPY_MODEL_7f36e8d1853444d6a4e2732e6811bfbe"
     }
    },
    "0ef78f42295144e5889ebf1526e7c690": {
     "model_module": "@jupyter-widgets/base",
     "model_module_version": "1.2.0",
     "model_name": "LayoutModel",
     "state": {
      "_model_module": "@jupyter-widgets/base",
      "_model_module_version": "1.2.0",
      "_model_name": "LayoutModel",
      "_view_count": null,
      "_view_module": "@jupyter-widgets/base",
      "_view_module_version": "1.2.0",
      "_view_name": "LayoutView",
      "align_content": null,
      "align_items": null,
      "align_self": null,
      "border": null,
      "bottom": null,
      "display": null,
      "flex": null,
      "flex_flow": null,
      "grid_area": null,
      "grid_auto_columns": null,
      "grid_auto_flow": null,
      "grid_auto_rows": null,
      "grid_column": null,
      "grid_gap": null,
      "grid_row": null,
      "grid_template_areas": null,
      "grid_template_columns": null,
      "grid_template_rows": null,
      "height": null,
      "justify_content": null,
      "justify_items": null,
      "left": null,
      "margin": null,
      "max_height": null,
      "max_width": null,
      "min_height": null,
      "min_width": null,
      "object_fit": null,
      "object_position": null,
      "order": null,
      "overflow": null,
      "overflow_x": null,
      "overflow_y": null,
      "padding": null,
      "right": null,
      "top": null,
      "visibility": null,
      "width": null
     }
    },
    "1e06bb98d1a04fd5b6ddf94321e47d17": {
     "model_module": "@jupyter-widgets/controls",
     "model_module_version": "1.5.0",
     "model_name": "FloatProgressModel",
     "state": {
      "_dom_classes": [],
      "_model_module": "@jupyter-widgets/controls",
      "_model_module_version": "1.5.0",
      "_model_name": "FloatProgressModel",
      "_view_count": null,
      "_view_module": "@jupyter-widgets/controls",
      "_view_module_version": "1.5.0",
      "_view_name": "ProgressView",
      "bar_style": "danger",
      "description": "",
      "description_tooltip": null,
      "layout": "IPY_MODEL_a9ad7808d75c4a93819868a8fd08a945",
      "max": 1,
      "min": 0,
      "orientation": "horizontal",
      "style": "IPY_MODEL_3e24f8fb2f294f4cba649e6a45c9083a",
      "value": 0
     }
    },
    "1f406eef98f74de6b4942c8aef9db542": {
     "model_module": "@jupyter-widgets/base",
     "model_module_version": "1.2.0",
     "model_name": "LayoutModel",
     "state": {
      "_model_module": "@jupyter-widgets/base",
      "_model_module_version": "1.2.0",
      "_model_name": "LayoutModel",
      "_view_count": null,
      "_view_module": "@jupyter-widgets/base",
      "_view_module_version": "1.2.0",
      "_view_name": "LayoutView",
      "align_content": null,
      "align_items": null,
      "align_self": null,
      "border": null,
      "bottom": null,
      "display": null,
      "flex": null,
      "flex_flow": null,
      "grid_area": null,
      "grid_auto_columns": null,
      "grid_auto_flow": null,
      "grid_auto_rows": null,
      "grid_column": null,
      "grid_gap": null,
      "grid_row": null,
      "grid_template_areas": null,
      "grid_template_columns": null,
      "grid_template_rows": null,
      "height": null,
      "justify_content": null,
      "justify_items": null,
      "left": null,
      "margin": null,
      "max_height": null,
      "max_width": null,
      "min_height": null,
      "min_width": null,
      "object_fit": null,
      "object_position": null,
      "order": null,
      "overflow": null,
      "overflow_x": null,
      "overflow_y": null,
      "padding": null,
      "right": null,
      "top": null,
      "visibility": null,
      "width": null
     }
    },
    "1f6fbc1dd5f1488d83423f73ec65ff8d": {
     "model_module": "@jupyter-widgets/controls",
     "model_module_version": "1.5.0",
     "model_name": "HTMLModel",
     "state": {
      "_dom_classes": [],
      "_model_module": "@jupyter-widgets/controls",
      "_model_module_version": "1.5.0",
      "_model_name": "HTMLModel",
      "_view_count": null,
      "_view_module": "@jupyter-widgets/controls",
      "_view_module_version": "1.5.0",
      "_view_name": "HTMLView",
      "description": "",
      "description_tooltip": null,
      "layout": "IPY_MODEL_b15eb9bf922d4b67bf7b0f1646373a9c",
      "placeholder": "​",
      "style": "IPY_MODEL_f51b55f2e8134af5aa70921c3e17431b",
      "value": "Dl Size...: "
     }
    },
    "24295813403548a3a8302172faddb46e": {
     "model_module": "@jupyter-widgets/base",
     "model_module_version": "1.2.0",
     "model_name": "LayoutModel",
     "state": {
      "_model_module": "@jupyter-widgets/base",
      "_model_module_version": "1.2.0",
      "_model_name": "LayoutModel",
      "_view_count": null,
      "_view_module": "@jupyter-widgets/base",
      "_view_module_version": "1.2.0",
      "_view_name": "LayoutView",
      "align_content": null,
      "align_items": null,
      "align_self": null,
      "border": null,
      "bottom": null,
      "display": null,
      "flex": null,
      "flex_flow": null,
      "grid_area": null,
      "grid_auto_columns": null,
      "grid_auto_flow": null,
      "grid_auto_rows": null,
      "grid_column": null,
      "grid_gap": null,
      "grid_row": null,
      "grid_template_areas": null,
      "grid_template_columns": null,
      "grid_template_rows": null,
      "height": null,
      "justify_content": null,
      "justify_items": null,
      "left": null,
      "margin": null,
      "max_height": null,
      "max_width": null,
      "min_height": null,
      "min_width": null,
      "object_fit": null,
      "object_position": null,
      "order": null,
      "overflow": null,
      "overflow_x": null,
      "overflow_y": null,
      "padding": null,
      "right": null,
      "top": null,
      "visibility": null,
      "width": null
     }
    },
    "26a19caabc344af48b80a98f109c142f": {
     "model_module": "@jupyter-widgets/controls",
     "model_module_version": "1.5.0",
     "model_name": "HBoxModel",
     "state": {
      "_dom_classes": [],
      "_model_module": "@jupyter-widgets/controls",
      "_model_module_version": "1.5.0",
      "_model_name": "HBoxModel",
      "_view_count": null,
      "_view_module": "@jupyter-widgets/controls",
      "_view_module_version": "1.5.0",
      "_view_name": "HBoxView",
      "box_style": "",
      "children": [
       "IPY_MODEL_5887fe4482c248c58feecf83ce432ce1",
       "IPY_MODEL_1e06bb98d1a04fd5b6ddf94321e47d17",
       "IPY_MODEL_5232d6e2dfce4b7e853f14da07505b79"
      ],
      "layout": "IPY_MODEL_0ef78f42295144e5889ebf1526e7c690"
     }
    },
    "2da849fdfb1e4d54935b2a43d9a457a6": {
     "model_module": "@jupyter-widgets/controls",
     "model_module_version": "1.5.0",
     "model_name": "DescriptionStyleModel",
     "state": {
      "_model_module": "@jupyter-widgets/controls",
      "_model_module_version": "1.5.0",
      "_model_name": "DescriptionStyleModel",
      "_view_count": null,
      "_view_module": "@jupyter-widgets/base",
      "_view_module_version": "1.2.0",
      "_view_name": "StyleView",
      "description_width": ""
     }
    },
    "31fb5402ccde4696ab05b64734d2424e": {
     "model_module": "@jupyter-widgets/controls",
     "model_module_version": "1.5.0",
     "model_name": "FloatProgressModel",
     "state": {
      "_dom_classes": [],
      "_model_module": "@jupyter-widgets/controls",
      "_model_module_version": "1.5.0",
      "_model_name": "FloatProgressModel",
      "_view_count": null,
      "_view_module": "@jupyter-widgets/controls",
      "_view_module_version": "1.5.0",
      "_view_name": "ProgressView",
      "bar_style": "success",
      "description": "",
      "description_tooltip": null,
      "layout": "IPY_MODEL_ee3f565ee0cc442a8d0646ae76b7754f",
      "max": 1,
      "min": 0,
      "orientation": "horizontal",
      "style": "IPY_MODEL_37bb500911c54a2dacadbb018e7cc4b2",
      "value": 0
     }
    },
    "37bb500911c54a2dacadbb018e7cc4b2": {
     "model_module": "@jupyter-widgets/controls",
     "model_module_version": "1.5.0",
     "model_name": "ProgressStyleModel",
     "state": {
      "_model_module": "@jupyter-widgets/controls",
      "_model_module_version": "1.5.0",
      "_model_name": "ProgressStyleModel",
      "_view_count": null,
      "_view_module": "@jupyter-widgets/base",
      "_view_module_version": "1.2.0",
      "_view_name": "StyleView",
      "bar_color": null,
      "description_width": ""
     }
    },
    "3e24f8fb2f294f4cba649e6a45c9083a": {
     "model_module": "@jupyter-widgets/controls",
     "model_module_version": "1.5.0",
     "model_name": "ProgressStyleModel",
     "state": {
      "_model_module": "@jupyter-widgets/controls",
      "_model_module_version": "1.5.0",
      "_model_name": "ProgressStyleModel",
      "_view_count": null,
      "_view_module": "@jupyter-widgets/base",
      "_view_module_version": "1.2.0",
      "_view_name": "StyleView",
      "bar_color": null,
      "description_width": ""
     }
    },
    "5232d6e2dfce4b7e853f14da07505b79": {
     "model_module": "@jupyter-widgets/controls",
     "model_module_version": "1.5.0",
     "model_name": "HTMLModel",
     "state": {
      "_dom_classes": [],
      "_model_module": "@jupyter-widgets/controls",
      "_model_module_version": "1.5.0",
      "_model_name": "HTMLModel",
      "_view_count": null,
      "_view_module": "@jupyter-widgets/controls",
      "_view_module_version": "1.5.0",
      "_view_name": "HTMLView",
      "description": "",
      "description_tooltip": null,
      "layout": "IPY_MODEL_98db942bb90a493192e2d33ea2f0b03b",
      "placeholder": "​",
      "style": "IPY_MODEL_2da849fdfb1e4d54935b2a43d9a457a6",
      "value": " 0/1 [00:00&lt;?, ? url/s]"
     }
    },
    "5887fe4482c248c58feecf83ce432ce1": {
     "model_module": "@jupyter-widgets/controls",
     "model_module_version": "1.5.0",
     "model_name": "HTMLModel",
     "state": {
      "_dom_classes": [],
      "_model_module": "@jupyter-widgets/controls",
      "_model_module_version": "1.5.0",
      "_model_name": "HTMLModel",
      "_view_count": null,
      "_view_module": "@jupyter-widgets/controls",
      "_view_module_version": "1.5.0",
      "_view_name": "HTMLView",
      "description": "",
      "description_tooltip": null,
      "layout": "IPY_MODEL_1f406eef98f74de6b4942c8aef9db542",
      "placeholder": "​",
      "style": "IPY_MODEL_5efd13d974954494ab4842304fc7f381",
      "value": "Dl Completed...:   0%"
     }
    },
    "5bba2dff5849467b826acd744ef4f1ee": {
     "model_module": "@jupyter-widgets/base",
     "model_module_version": "1.2.0",
     "model_name": "LayoutModel",
     "state": {
      "_model_module": "@jupyter-widgets/base",
      "_model_module_version": "1.2.0",
      "_model_name": "LayoutModel",
      "_view_count": null,
      "_view_module": "@jupyter-widgets/base",
      "_view_module_version": "1.2.0",
      "_view_name": "LayoutView",
      "align_content": null,
      "align_items": null,
      "align_self": null,
      "border": null,
      "bottom": null,
      "display": null,
      "flex": null,
      "flex_flow": null,
      "grid_area": null,
      "grid_auto_columns": null,
      "grid_auto_flow": null,
      "grid_auto_rows": null,
      "grid_column": null,
      "grid_gap": null,
      "grid_row": null,
      "grid_template_areas": null,
      "grid_template_columns": null,
      "grid_template_rows": null,
      "height": null,
      "justify_content": null,
      "justify_items": null,
      "left": null,
      "margin": null,
      "max_height": null,
      "max_width": null,
      "min_height": null,
      "min_width": null,
      "object_fit": null,
      "object_position": null,
      "order": null,
      "overflow": null,
      "overflow_x": null,
      "overflow_y": null,
      "padding": null,
      "right": null,
      "top": null,
      "visibility": null,
      "width": "20px"
     }
    },
    "5efd13d974954494ab4842304fc7f381": {
     "model_module": "@jupyter-widgets/controls",
     "model_module_version": "1.5.0",
     "model_name": "DescriptionStyleModel",
     "state": {
      "_model_module": "@jupyter-widgets/controls",
      "_model_module_version": "1.5.0",
      "_model_name": "DescriptionStyleModel",
      "_view_count": null,
      "_view_module": "@jupyter-widgets/base",
      "_view_module_version": "1.2.0",
      "_view_name": "StyleView",
      "description_width": ""
     }
    },
    "6077dd98724345558c35eea361ae3cd1": {
     "model_module": "@jupyter-widgets/controls",
     "model_module_version": "1.5.0",
     "model_name": "DescriptionStyleModel",
     "state": {
      "_model_module": "@jupyter-widgets/controls",
      "_model_module_version": "1.5.0",
      "_model_name": "DescriptionStyleModel",
      "_view_count": null,
      "_view_module": "@jupyter-widgets/base",
      "_view_module_version": "1.2.0",
      "_view_name": "StyleView",
      "description_width": ""
     }
    },
    "6563a18a4d7548758af2a973b5300cde": {
     "model_module": "@jupyter-widgets/base",
     "model_module_version": "1.2.0",
     "model_name": "LayoutModel",
     "state": {
      "_model_module": "@jupyter-widgets/base",
      "_model_module_version": "1.2.0",
      "_model_name": "LayoutModel",
      "_view_count": null,
      "_view_module": "@jupyter-widgets/base",
      "_view_module_version": "1.2.0",
      "_view_name": "LayoutView",
      "align_content": null,
      "align_items": null,
      "align_self": null,
      "border": null,
      "bottom": null,
      "display": null,
      "flex": null,
      "flex_flow": null,
      "grid_area": null,
      "grid_auto_columns": null,
      "grid_auto_flow": null,
      "grid_auto_rows": null,
      "grid_column": null,
      "grid_gap": null,
      "grid_row": null,
      "grid_template_areas": null,
      "grid_template_columns": null,
      "grid_template_rows": null,
      "height": null,
      "justify_content": null,
      "justify_items": null,
      "left": null,
      "margin": null,
      "max_height": null,
      "max_width": null,
      "min_height": null,
      "min_width": null,
      "object_fit": null,
      "object_position": null,
      "order": null,
      "overflow": null,
      "overflow_x": null,
      "overflow_y": null,
      "padding": null,
      "right": null,
      "top": null,
      "visibility": null,
      "width": null
     }
    },
    "751e96e586ea45639bb73bcbcfba4a81": {
     "model_module": "@jupyter-widgets/controls",
     "model_module_version": "1.5.0",
     "model_name": "FloatProgressModel",
     "state": {
      "_dom_classes": [],
      "_model_module": "@jupyter-widgets/controls",
      "_model_module_version": "1.5.0",
      "_model_name": "FloatProgressModel",
      "_view_count": null,
      "_view_module": "@jupyter-widgets/controls",
      "_view_module_version": "1.5.0",
      "_view_name": "ProgressView",
      "bar_style": "success",
      "description": "",
      "description_tooltip": null,
      "layout": "IPY_MODEL_5bba2dff5849467b826acd744ef4f1ee",
      "max": 1,
      "min": 0,
      "orientation": "horizontal",
      "style": "IPY_MODEL_01b5c103a96449d08aaa4d1c583280e4",
      "value": 0
     }
    },
    "7f36e8d1853444d6a4e2732e6811bfbe": {
     "model_module": "@jupyter-widgets/base",
     "model_module_version": "1.2.0",
     "model_name": "LayoutModel",
     "state": {
      "_model_module": "@jupyter-widgets/base",
      "_model_module_version": "1.2.0",
      "_model_name": "LayoutModel",
      "_view_count": null,
      "_view_module": "@jupyter-widgets/base",
      "_view_module_version": "1.2.0",
      "_view_name": "LayoutView",
      "align_content": null,
      "align_items": null,
      "align_self": null,
      "border": null,
      "bottom": null,
      "display": null,
      "flex": null,
      "flex_flow": null,
      "grid_area": null,
      "grid_auto_columns": null,
      "grid_auto_flow": null,
      "grid_auto_rows": null,
      "grid_column": null,
      "grid_gap": null,
      "grid_row": null,
      "grid_template_areas": null,
      "grid_template_columns": null,
      "grid_template_rows": null,
      "height": null,
      "justify_content": null,
      "justify_items": null,
      "left": null,
      "margin": null,
      "max_height": null,
      "max_width": null,
      "min_height": null,
      "min_width": null,
      "object_fit": null,
      "object_position": null,
      "order": null,
      "overflow": null,
      "overflow_x": null,
      "overflow_y": null,
      "padding": null,
      "right": null,
      "top": null,
      "visibility": null,
      "width": null
     }
    },
    "8d73b8dac58f43c8955dd36d34bbe72d": {
     "model_module": "@jupyter-widgets/controls",
     "model_module_version": "1.5.0",
     "model_name": "DescriptionStyleModel",
     "state": {
      "_model_module": "@jupyter-widgets/controls",
      "_model_module_version": "1.5.0",
      "_model_name": "DescriptionStyleModel",
      "_view_count": null,
      "_view_module": "@jupyter-widgets/base",
      "_view_module_version": "1.2.0",
      "_view_name": "StyleView",
      "description_width": ""
     }
    },
    "921d195bd7814bd08e97e46d2facdb1d": {
     "model_module": "@jupyter-widgets/controls",
     "model_module_version": "1.5.0",
     "model_name": "HTMLModel",
     "state": {
      "_dom_classes": [],
      "_model_module": "@jupyter-widgets/controls",
      "_model_module_version": "1.5.0",
      "_model_name": "HTMLModel",
      "_view_count": null,
      "_view_module": "@jupyter-widgets/controls",
      "_view_module_version": "1.5.0",
      "_view_name": "HTMLView",
      "description": "",
      "description_tooltip": null,
      "layout": "IPY_MODEL_24295813403548a3a8302172faddb46e",
      "placeholder": "​",
      "style": "IPY_MODEL_6077dd98724345558c35eea361ae3cd1",
      "value": " 0/0 [00:00&lt;?, ? MiB/s]"
     }
    },
    "98db942bb90a493192e2d33ea2f0b03b": {
     "model_module": "@jupyter-widgets/base",
     "model_module_version": "1.2.0",
     "model_name": "LayoutModel",
     "state": {
      "_model_module": "@jupyter-widgets/base",
      "_model_module_version": "1.2.0",
      "_model_name": "LayoutModel",
      "_view_count": null,
      "_view_module": "@jupyter-widgets/base",
      "_view_module_version": "1.2.0",
      "_view_name": "LayoutView",
      "align_content": null,
      "align_items": null,
      "align_self": null,
      "border": null,
      "bottom": null,
      "display": null,
      "flex": null,
      "flex_flow": null,
      "grid_area": null,
      "grid_auto_columns": null,
      "grid_auto_flow": null,
      "grid_auto_rows": null,
      "grid_column": null,
      "grid_gap": null,
      "grid_row": null,
      "grid_template_areas": null,
      "grid_template_columns": null,
      "grid_template_rows": null,
      "height": null,
      "justify_content": null,
      "justify_items": null,
      "left": null,
      "margin": null,
      "max_height": null,
      "max_width": null,
      "min_height": null,
      "min_width": null,
      "object_fit": null,
      "object_position": null,
      "order": null,
      "overflow": null,
      "overflow_x": null,
      "overflow_y": null,
      "padding": null,
      "right": null,
      "top": null,
      "visibility": null,
      "width": null
     }
    },
    "9f641ad170524b6c95c24f0fa39bdc5c": {
     "model_module": "@jupyter-widgets/controls",
     "model_module_version": "1.5.0",
     "model_name": "DescriptionStyleModel",
     "state": {
      "_model_module": "@jupyter-widgets/controls",
      "_model_module_version": "1.5.0",
      "_model_name": "DescriptionStyleModel",
      "_view_count": null,
      "_view_module": "@jupyter-widgets/base",
      "_view_module_version": "1.2.0",
      "_view_name": "StyleView",
      "description_width": ""
     }
    },
    "a9ad7808d75c4a93819868a8fd08a945": {
     "model_module": "@jupyter-widgets/base",
     "model_module_version": "1.2.0",
     "model_name": "LayoutModel",
     "state": {
      "_model_module": "@jupyter-widgets/base",
      "_model_module_version": "1.2.0",
      "_model_name": "LayoutModel",
      "_view_count": null,
      "_view_module": "@jupyter-widgets/base",
      "_view_module_version": "1.2.0",
      "_view_name": "LayoutView",
      "align_content": null,
      "align_items": null,
      "align_self": null,
      "border": null,
      "bottom": null,
      "display": null,
      "flex": null,
      "flex_flow": null,
      "grid_area": null,
      "grid_auto_columns": null,
      "grid_auto_flow": null,
      "grid_auto_rows": null,
      "grid_column": null,
      "grid_gap": null,
      "grid_row": null,
      "grid_template_areas": null,
      "grid_template_columns": null,
      "grid_template_rows": null,
      "height": null,
      "justify_content": null,
      "justify_items": null,
      "left": null,
      "margin": null,
      "max_height": null,
      "max_width": null,
      "min_height": null,
      "min_width": null,
      "object_fit": null,
      "object_position": null,
      "order": null,
      "overflow": null,
      "overflow_x": null,
      "overflow_y": null,
      "padding": null,
      "right": null,
      "top": null,
      "visibility": null,
      "width": "20px"
     }
    },
    "b15eb9bf922d4b67bf7b0f1646373a9c": {
     "model_module": "@jupyter-widgets/base",
     "model_module_version": "1.2.0",
     "model_name": "LayoutModel",
     "state": {
      "_model_module": "@jupyter-widgets/base",
      "_model_module_version": "1.2.0",
      "_model_name": "LayoutModel",
      "_view_count": null,
      "_view_module": "@jupyter-widgets/base",
      "_view_module_version": "1.2.0",
      "_view_name": "LayoutView",
      "align_content": null,
      "align_items": null,
      "align_self": null,
      "border": null,
      "bottom": null,
      "display": null,
      "flex": null,
      "flex_flow": null,
      "grid_area": null,
      "grid_auto_columns": null,
      "grid_auto_flow": null,
      "grid_auto_rows": null,
      "grid_column": null,
      "grid_gap": null,
      "grid_row": null,
      "grid_template_areas": null,
      "grid_template_columns": null,
      "grid_template_rows": null,
      "height": null,
      "justify_content": null,
      "justify_items": null,
      "left": null,
      "margin": null,
      "max_height": null,
      "max_width": null,
      "min_height": null,
      "min_width": null,
      "object_fit": null,
      "object_position": null,
      "order": null,
      "overflow": null,
      "overflow_x": null,
      "overflow_y": null,
      "padding": null,
      "right": null,
      "top": null,
      "visibility": null,
      "width": null
     }
    },
    "cdf748214b8547b59b53b03b2ec04de8": {
     "model_module": "@jupyter-widgets/base",
     "model_module_version": "1.2.0",
     "model_name": "LayoutModel",
     "state": {
      "_model_module": "@jupyter-widgets/base",
      "_model_module_version": "1.2.0",
      "_model_name": "LayoutModel",
      "_view_count": null,
      "_view_module": "@jupyter-widgets/base",
      "_view_module_version": "1.2.0",
      "_view_name": "LayoutView",
      "align_content": null,
      "align_items": null,
      "align_self": null,
      "border": null,
      "bottom": null,
      "display": null,
      "flex": null,
      "flex_flow": null,
      "grid_area": null,
      "grid_auto_columns": null,
      "grid_auto_flow": null,
      "grid_auto_rows": null,
      "grid_column": null,
      "grid_gap": null,
      "grid_row": null,
      "grid_template_areas": null,
      "grid_template_columns": null,
      "grid_template_rows": null,
      "height": null,
      "justify_content": null,
      "justify_items": null,
      "left": null,
      "margin": null,
      "max_height": null,
      "max_width": null,
      "min_height": null,
      "min_width": null,
      "object_fit": null,
      "object_position": null,
      "order": null,
      "overflow": null,
      "overflow_x": null,
      "overflow_y": null,
      "padding": null,
      "right": null,
      "top": null,
      "visibility": null,
      "width": null
     }
    },
    "d8ed92b076344c6890b93410fbdc8ddd": {
     "model_module": "@jupyter-widgets/controls",
     "model_module_version": "1.5.0",
     "model_name": "HTMLModel",
     "state": {
      "_dom_classes": [],
      "_model_module": "@jupyter-widgets/controls",
      "_model_module_version": "1.5.0",
      "_model_name": "HTMLModel",
      "_view_count": null,
      "_view_module": "@jupyter-widgets/controls",
      "_view_module_version": "1.5.0",
      "_view_name": "HTMLView",
      "description": "",
      "description_tooltip": null,
      "layout": "IPY_MODEL_cdf748214b8547b59b53b03b2ec04de8",
      "placeholder": "​",
      "style": "IPY_MODEL_9f641ad170524b6c95c24f0fa39bdc5c",
      "value": " 0/0 [00:00&lt;?, ? file/s]"
     }
    },
    "e5b287b1cb9547c1b9925129d9480988": {
     "model_module": "@jupyter-widgets/controls",
     "model_module_version": "1.5.0",
     "model_name": "HTMLModel",
     "state": {
      "_dom_classes": [],
      "_model_module": "@jupyter-widgets/controls",
      "_model_module_version": "1.5.0",
      "_model_name": "HTMLModel",
      "_view_count": null,
      "_view_module": "@jupyter-widgets/controls",
      "_view_module_version": "1.5.0",
      "_view_name": "HTMLView",
      "description": "",
      "description_tooltip": null,
      "layout": "IPY_MODEL_f336925ead5c450a84b8a831a605cb3a",
      "placeholder": "​",
      "style": "IPY_MODEL_8d73b8dac58f43c8955dd36d34bbe72d",
      "value": "Extraction completed...: "
     }
    },
    "ee3f565ee0cc442a8d0646ae76b7754f": {
     "model_module": "@jupyter-widgets/base",
     "model_module_version": "1.2.0",
     "model_name": "LayoutModel",
     "state": {
      "_model_module": "@jupyter-widgets/base",
      "_model_module_version": "1.2.0",
      "_model_name": "LayoutModel",
      "_view_count": null,
      "_view_module": "@jupyter-widgets/base",
      "_view_module_version": "1.2.0",
      "_view_name": "LayoutView",
      "align_content": null,
      "align_items": null,
      "align_self": null,
      "border": null,
      "bottom": null,
      "display": null,
      "flex": null,
      "flex_flow": null,
      "grid_area": null,
      "grid_auto_columns": null,
      "grid_auto_flow": null,
      "grid_auto_rows": null,
      "grid_column": null,
      "grid_gap": null,
      "grid_row": null,
      "grid_template_areas": null,
      "grid_template_columns": null,
      "grid_template_rows": null,
      "height": null,
      "justify_content": null,
      "justify_items": null,
      "left": null,
      "margin": null,
      "max_height": null,
      "max_width": null,
      "min_height": null,
      "min_width": null,
      "object_fit": null,
      "object_position": null,
      "order": null,
      "overflow": null,
      "overflow_x": null,
      "overflow_y": null,
      "padding": null,
      "right": null,
      "top": null,
      "visibility": null,
      "width": "20px"
     }
    },
    "f336925ead5c450a84b8a831a605cb3a": {
     "model_module": "@jupyter-widgets/base",
     "model_module_version": "1.2.0",
     "model_name": "LayoutModel",
     "state": {
      "_model_module": "@jupyter-widgets/base",
      "_model_module_version": "1.2.0",
      "_model_name": "LayoutModel",
      "_view_count": null,
      "_view_module": "@jupyter-widgets/base",
      "_view_module_version": "1.2.0",
      "_view_name": "LayoutView",
      "align_content": null,
      "align_items": null,
      "align_self": null,
      "border": null,
      "bottom": null,
      "display": null,
      "flex": null,
      "flex_flow": null,
      "grid_area": null,
      "grid_auto_columns": null,
      "grid_auto_flow": null,
      "grid_auto_rows": null,
      "grid_column": null,
      "grid_gap": null,
      "grid_row": null,
      "grid_template_areas": null,
      "grid_template_columns": null,
      "grid_template_rows": null,
      "height": null,
      "justify_content": null,
      "justify_items": null,
      "left": null,
      "margin": null,
      "max_height": null,
      "max_width": null,
      "min_height": null,
      "min_width": null,
      "object_fit": null,
      "object_position": null,
      "order": null,
      "overflow": null,
      "overflow_x": null,
      "overflow_y": null,
      "padding": null,
      "right": null,
      "top": null,
      "visibility": null,
      "width": null
     }
    },
    "f51b55f2e8134af5aa70921c3e17431b": {
     "model_module": "@jupyter-widgets/controls",
     "model_module_version": "1.5.0",
     "model_name": "DescriptionStyleModel",
     "state": {
      "_model_module": "@jupyter-widgets/controls",
      "_model_module_version": "1.5.0",
      "_model_name": "DescriptionStyleModel",
      "_view_count": null,
      "_view_module": "@jupyter-widgets/base",
      "_view_module_version": "1.2.0",
      "_view_name": "StyleView",
      "description_width": ""
     }
    },
    "f7654df8174f48e99f4e488862aef031": {
     "model_module": "@jupyter-widgets/controls",
     "model_module_version": "1.5.0",
     "model_name": "HBoxModel",
     "state": {
      "_dom_classes": [],
      "_model_module": "@jupyter-widgets/controls",
      "_model_module_version": "1.5.0",
      "_model_name": "HBoxModel",
      "_view_count": null,
      "_view_module": "@jupyter-widgets/controls",
      "_view_module_version": "1.5.0",
      "_view_name": "HBoxView",
      "box_style": "",
      "children": [
       "IPY_MODEL_1f6fbc1dd5f1488d83423f73ec65ff8d",
       "IPY_MODEL_751e96e586ea45639bb73bcbcfba4a81",
       "IPY_MODEL_921d195bd7814bd08e97e46d2facdb1d"
      ],
      "layout": "IPY_MODEL_6563a18a4d7548758af2a973b5300cde"
     }
    }
   }
  }
 },
 "nbformat": 4,
 "nbformat_minor": 1
}
