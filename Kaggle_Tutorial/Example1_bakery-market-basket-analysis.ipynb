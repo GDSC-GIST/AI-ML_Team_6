{
 "cells": [
  {
   "cell_type": "markdown",
   "metadata": {
    "_uuid": "eecef96325669125604c10d9c1ac7aa4d6b720a1"
   },
   "source": [
    "# **Bakery Market Basket Analysis**\n",
    "---\n",
    "\n",
    "**Note: Hi Everyone, I'm Abdullah and I'm a new on Kaggle, This my detailed first article. **\n",
    "\n",
    "In this tutorial, I'll show you how to analyze a data and how to Visualization a data, show to you. I hope you like it."
   ]
  },
  {
   "cell_type": "markdown",
   "metadata": {
    "_uuid": "7a054898884e1186b20ee58f0e53c83bb6edbffc"
   },
   "source": [
    "<a class=\"anchor\" id=\"0.\"></a>**Content:**\n",
    "1. [Summary Of The Study](#1)\n",
    "2. [Inclusion Of Required Libraries](#2)\n",
    "3. [Inclusion Of The Data Set](#3)\n",
    "4. [Contextual Evaluation Of The Data Set](#4)\n",
    "5. [Technical Evaluation Of The Data Set](#5)\n",
    "6. [Getting Information About the Data Set](#6)\n",
    "7. [Data Set Column Listing](#7)\n",
    "8. [Getting Statistical Information About The Data Set](#8)\n",
    "9. [Check Whether The Value Is NONE](#9)\n",
    "10. [List Of Sold Products](#10)\n",
    "11. [Visualizations Of Sold Products With Pie Chart](#11)\n",
    "12. [Visualizations Of Sold Products With Bar Chart](#12)\n",
    "13. [Determination Of Most Sales Time Zones](#13)\n",
    "14. [Determining The Best-selling Product In The Most-selling Time Frame](#14)\n",
    "\n",
    "**Bonus**\n",
    "* How to use pandas: https://www.kaggle.com/abdullahsahin/step-by-step-pandas-tutorial-for-beginner"
   ]
  },
  {
   "cell_type": "markdown",
   "metadata": {
    "_uuid": "466a7c9c540578ffbb4eb6da0dd20369c6a603d1"
   },
   "source": [
    "<a class=\"anchor\" id=\"1\"></a>**1) Summary Of The Study**   ======>[Go to Content](#0.)\n",
    "\n",
    "In this study, data analysis was performed using Matplotlib and Pandas libraries.\n",
    "\n",
    "I'd like to make a brief statement before I go to case.\n",
    "\n",
    "Why do we use the **Matplolib** library?\n",
    "\n",
    "* Line plot is very good if you are using x axis.\n",
    "* Scatter is very good when correlating between two variables.\n",
    "* The histogram is very useful when you want to see the distribution of the numeric data.\n",
    "* This library has customization options.  For example; colors,labels,thickness of line, title, opacity, grid, figure, tick of axis and linestyle\n",
    "\n",
    "Why Are We using the **Pandas** library?\n",
    "\n",
    "* It has the ability to open different data sets.\n",
    "* It makes it easier for us.\n",
    "* Data filtering is easy.\n",
    "* Time-based data analysis is easy.\n",
    "* A speed-optimized library."
   ]
  },
  {
   "cell_type": "markdown",
   "metadata": {
    "_uuid": "5b3dd4258afb80949f4ece075368c13b4511b88a"
   },
   "source": [
    "<a class=\"anchor\" id=\"2\"></a>**2) Inclusion Of Required Libraries**   ======>[Go to Content](#0.)\n",
    "\n",
    "In this tutorial we will use the **NumPy**, **Pandas** and **Matplotlip** libraries. I've included these libraries downstairs.\n",
    "\n",
    "The print command prints the name of the database we are going to use on the screen."
   ]
  },
  {
   "cell_type": "code",
   "execution_count": 117,
   "metadata": {
    "_cell_guid": "b1076dfc-b9ad-4769-8c92-a6c4dae69d19",
    "_uuid": "8f2839f25d086af736a60e9eeb907d3b93b6e0e5"
   },
   "outputs": [
    {
     "name": "stdout",
     "output_type": "stream",
     "text": [
      "['BreadBasket_DMS.csv', 'column_2C_weka.csv', 'column_3C_weka.csv', 'kmeans01.png', 'Prostate_Cancer.csv', 'sample_submission.csv', 'sample_submission5.csv', 'test.csv', 'test5.csv', 'train.csv', 'train5.csv', 'X.npy', 'Y.npy']\n"
     ]
    }
   ],
   "source": [
    "# Inclusion Of Required Libraries\n",
    "\n",
    "import numpy as np # linear algebra\n",
    "import pandas as pd # data processing, CSV file I/O (e.g. pd.read_csv)\n",
    "import matplotlib.pyplot as plt\n",
    "\n",
    "# Input data files are available in the \"../input/\" directory.\n",
    "# For example, running this (by clicking run or pressing Shift+Enter) will list the files in the input directory\n",
    "\n",
    "import os\n",
    "print(os.listdir(\"./input\"))\n",
    "\n",
    "# Any results you write to the current directory are saved as output."
   ]
  },
  {
   "cell_type": "markdown",
   "metadata": {
    "_uuid": "d581ac43b25ac4ecb3bef321cfd23793f3588de6"
   },
   "source": [
    "<a class=\"anchor\" id=\"3\"></a>**3) Inclusion Of The Data Set**   ======>[Go to Content](#0.)\n",
    "\n",
    "In the code below, we assign the data set to a variable through **Pandas**."
   ]
  },
  {
   "cell_type": "code",
   "execution_count": 118,
   "metadata": {
    "_cell_guid": "79c7e3d0-c299-4dcb-8224-4455121ee9b0",
    "_uuid": "d629ff2d2480ee46fbb7e2d37f6b5fab8052498a"
   },
   "outputs": [],
   "source": [
    "data = pd.read_csv('./input/BreadBasket_DMS.csv')"
   ]
  },
  {
   "cell_type": "markdown",
   "metadata": {
    "_uuid": "a58cd55cd4d12d2457e61b8bb665c9f731b83767"
   },
   "source": [
    "<a class=\"anchor\" id=\"4\"></a>**4) Contextual Evaluation Of The Data Set**   ======>[Go to Content](#0.)\n",
    "\n",
    "The description of each data in the dataset is as follows.\n",
    "\n",
    "* Date: Categorical variable that tells us the date of the transactions (YYYY-MM-DD format). The column includes dates from 30/10/2016 to 09/04/2017.\n",
    "* Time: Categorical variable that tells us the time of the transactions (HH:MM:SS format).\n",
    "* Transaction: Quantitative variable that allows us to differentiate the transactions. The rows that share the same value in this field belong to the same transaction, that's why the data set has less transactions than observations.\n",
    "* Item: Categorical variable with the products."
   ]
  },
  {
   "cell_type": "markdown",
   "metadata": {
    "_uuid": "f7e46e8f527c340249dcf42b0c391a96be512cb4"
   },
   "source": [
    "<a class=\"anchor\" id=\"5\"></a>**5) Technical Evaluation Of The Data Set**   ======>[Go to Content](#0.)\n",
    "\n",
    "*  RangeIndex: There are 21,293 data in the data set.\n",
    "*  There are 4 columns in the data set.\n",
    "    * Date Column:\n",
    "        * There are 21,293 data.\n",
    "        * There is no non-null data.\n",
    "        * The data type is objective.\n",
    "    * Time Column:\n",
    "        * There are 21,293 data.\n",
    "        * There is no non-null data.\n",
    "        * The data type is object.\n",
    "    * Transaction Column:\n",
    "        * There are 21,293 data.\n",
    "        * There is no non-null data.\n",
    "        * The data type is int64\n",
    "    * Item Column:\n",
    "        * There are 21,293 data.\n",
    "        * There is no non-null data.\n",
    "        * The data type is object.\n",
    "  * dtypes: There are a total of 3 int64 1 object type with a data type and in total.\n",
    "  * memory usage: Gives the total size of the data set."
   ]
  },
  {
   "cell_type": "markdown",
   "metadata": {
    "_uuid": "fe9c67d92b69510add96971d10d97d3baf9a874c"
   },
   "source": [
    "<a class=\"anchor\" id=\"6\"></a>**6) Getting Information About The Data Set**   ======>[Go to Content](#0.)"
   ]
  },
  {
   "cell_type": "code",
   "execution_count": 119,
   "metadata": {
    "_uuid": "6301e2afa70e1fbc3341e5fce4a94b3a07554a80"
   },
   "outputs": [
    {
     "name": "stdout",
     "output_type": "stream",
     "text": [
      "<class 'pandas.core.frame.DataFrame'>\n",
      "RangeIndex: 21293 entries, 0 to 21292\n",
      "Data columns (total 4 columns):\n",
      " #   Column       Non-Null Count  Dtype \n",
      "---  ------       --------------  ----- \n",
      " 0   Date         21293 non-null  object\n",
      " 1   Time         21293 non-null  object\n",
      " 2   Transaction  21293 non-null  int64 \n",
      " 3   Item         21293 non-null  object\n",
      "dtypes: int64(1), object(3)\n",
      "memory usage: 665.5+ KB\n"
     ]
    }
   ],
   "source": [
    "data.info()"
   ]
  },
  {
   "cell_type": "code",
   "execution_count": 120,
   "metadata": {},
   "outputs": [
    {
     "data": {
      "text/html": [
       "<div>\n",
       "<style scoped>\n",
       "    .dataframe tbody tr th:only-of-type {\n",
       "        vertical-align: middle;\n",
       "    }\n",
       "\n",
       "    .dataframe tbody tr th {\n",
       "        vertical-align: top;\n",
       "    }\n",
       "\n",
       "    .dataframe thead th {\n",
       "        text-align: right;\n",
       "    }\n",
       "</style>\n",
       "<table border=\"1\" class=\"dataframe\">\n",
       "  <thead>\n",
       "    <tr style=\"text-align: right;\">\n",
       "      <th></th>\n",
       "      <th>Date</th>\n",
       "      <th>Time</th>\n",
       "      <th>Transaction</th>\n",
       "      <th>Item</th>\n",
       "    </tr>\n",
       "  </thead>\n",
       "  <tbody>\n",
       "    <tr>\n",
       "      <th>0</th>\n",
       "      <td>2016-10-30</td>\n",
       "      <td>09:58:11</td>\n",
       "      <td>1</td>\n",
       "      <td>Bread</td>\n",
       "    </tr>\n",
       "    <tr>\n",
       "      <th>1</th>\n",
       "      <td>2016-10-30</td>\n",
       "      <td>10:05:34</td>\n",
       "      <td>2</td>\n",
       "      <td>Scandinavian</td>\n",
       "    </tr>\n",
       "    <tr>\n",
       "      <th>2</th>\n",
       "      <td>2016-10-30</td>\n",
       "      <td>10:05:34</td>\n",
       "      <td>2</td>\n",
       "      <td>Scandinavian</td>\n",
       "    </tr>\n",
       "    <tr>\n",
       "      <th>3</th>\n",
       "      <td>2016-10-30</td>\n",
       "      <td>10:07:57</td>\n",
       "      <td>3</td>\n",
       "      <td>Hot chocolate</td>\n",
       "    </tr>\n",
       "    <tr>\n",
       "      <th>4</th>\n",
       "      <td>2016-10-30</td>\n",
       "      <td>10:07:57</td>\n",
       "      <td>3</td>\n",
       "      <td>Jam</td>\n",
       "    </tr>\n",
       "    <tr>\n",
       "      <th>5</th>\n",
       "      <td>2016-10-30</td>\n",
       "      <td>10:07:57</td>\n",
       "      <td>3</td>\n",
       "      <td>Cookies</td>\n",
       "    </tr>\n",
       "    <tr>\n",
       "      <th>6</th>\n",
       "      <td>2016-10-30</td>\n",
       "      <td>10:08:41</td>\n",
       "      <td>4</td>\n",
       "      <td>Muffin</td>\n",
       "    </tr>\n",
       "    <tr>\n",
       "      <th>7</th>\n",
       "      <td>2016-10-30</td>\n",
       "      <td>10:13:03</td>\n",
       "      <td>5</td>\n",
       "      <td>Coffee</td>\n",
       "    </tr>\n",
       "    <tr>\n",
       "      <th>8</th>\n",
       "      <td>2016-10-30</td>\n",
       "      <td>10:13:03</td>\n",
       "      <td>5</td>\n",
       "      <td>Pastry</td>\n",
       "    </tr>\n",
       "    <tr>\n",
       "      <th>9</th>\n",
       "      <td>2016-10-30</td>\n",
       "      <td>10:13:03</td>\n",
       "      <td>5</td>\n",
       "      <td>Bread</td>\n",
       "    </tr>\n",
       "  </tbody>\n",
       "</table>\n",
       "</div>"
      ],
      "text/plain": [
       "         Date      Time  Transaction           Item\n",
       "0  2016-10-30  09:58:11            1          Bread\n",
       "1  2016-10-30  10:05:34            2   Scandinavian\n",
       "2  2016-10-30  10:05:34            2   Scandinavian\n",
       "3  2016-10-30  10:07:57            3  Hot chocolate\n",
       "4  2016-10-30  10:07:57            3            Jam\n",
       "5  2016-10-30  10:07:57            3        Cookies\n",
       "6  2016-10-30  10:08:41            4         Muffin\n",
       "7  2016-10-30  10:13:03            5         Coffee\n",
       "8  2016-10-30  10:13:03            5         Pastry\n",
       "9  2016-10-30  10:13:03            5          Bread"
      ]
     },
     "execution_count": 120,
     "metadata": {},
     "output_type": "execute_result"
    }
   ],
   "source": [
    "data.head(10)"
   ]
  },
  {
   "cell_type": "markdown",
   "metadata": {
    "_uuid": "06a756db958cbc68d625c0b35f990dbbda31f8d1"
   },
   "source": [
    "<a class=\"anchor\" id=\"7\"></a>**7) Data Set Column Listing**   ======>[Go to Content](#0.)\n",
    "\n",
    "With the code found below, we first pulled the columns in our data set."
   ]
  },
  {
   "cell_type": "code",
   "execution_count": 121,
   "metadata": {
    "_uuid": "5107b84b678b3a842a46e8a937aab12047b0e3ec"
   },
   "outputs": [
    {
     "data": {
      "text/plain": [
       "Index(['Date', 'Time', 'Transaction', 'Item'], dtype='object')"
      ]
     },
     "execution_count": 121,
     "metadata": {},
     "output_type": "execute_result"
    }
   ],
   "source": [
    "data.columns"
   ]
  },
  {
   "cell_type": "markdown",
   "metadata": {
    "_uuid": "ab95d90d9541f4322f17012e9f842e533f07cff5"
   },
   "source": [
    "The code below brings us the data in the item column and does not repeat. There were 95 in total. So from here we can make a profit as if 95 products were sold."
   ]
  },
  {
   "cell_type": "code",
   "execution_count": 122,
   "metadata": {
    "_uuid": "27c57beea892d7c874768bd4f7333a6291948876"
   },
   "outputs": [
    {
     "name": "stdout",
     "output_type": "stream",
     "text": [
      "List of Items sold at the Bakery:\n",
      "Total Items:  95\n",
      "---------------\n",
      "Bread\n",
      "Scandinavian\n",
      "Hot chocolate\n",
      "Jam\n",
      "Cookies\n",
      "Muffin\n",
      "Coffee\n",
      "Pastry\n",
      "Medialuna\n",
      "Tea\n",
      "NONE\n",
      "Tartine\n",
      "Basket\n",
      "Mineral water\n",
      "Farm House\n",
      "Fudge\n",
      "Juice\n",
      "Ella's Kitchen Pouches\n",
      "Victorian Sponge\n",
      "Frittata\n",
      "Hearty & Seasonal\n",
      "Soup\n",
      "Pick and Mix Bowls\n",
      "Smoothies\n",
      "Cake\n",
      "Mighty Protein\n",
      "Chicken sand\n",
      "Coke\n",
      "My-5 Fruit Shoot\n",
      "Focaccia\n",
      "Sandwich\n",
      "Alfajores\n",
      "Eggs\n",
      "Brownie\n",
      "Dulce de Leche\n",
      "Honey\n",
      "The BART\n",
      "Granola\n",
      "Fairy Doors\n",
      "Empanadas\n",
      "Keeping It Local\n",
      "Art Tray\n",
      "Bowl Nic Pitt\n",
      "Bread Pudding\n",
      "Adjustment\n",
      "Truffles\n",
      "Chimichurri Oil\n",
      "Bacon\n",
      "Spread\n",
      "Kids biscuit\n",
      "Siblings\n",
      "Caramel bites\n",
      "Jammie Dodgers\n",
      "Tiffin\n",
      "Olum & polenta\n",
      "Polenta\n",
      "The Nomad\n",
      "Hack the stack\n",
      "Bakewell\n",
      "Lemon and coconut\n",
      "Toast\n",
      "Scone\n",
      "Crepes\n",
      "Vegan mincepie\n",
      "Bare Popcorn\n",
      "Muesli\n",
      "Crisps\n",
      "Pintxos\n",
      "Gingerbread syrup\n",
      "Panatone\n",
      "Brioche and salami\n",
      "Afternoon with the baker\n",
      "Salad\n",
      "Chicken Stew\n",
      "Spanish Brunch\n",
      "Raspberry shortbread sandwich\n",
      "Extra Salami or Feta\n",
      "Duck egg\n",
      "Baguette\n",
      "Valentine's card\n",
      "Tshirt\n",
      "Vegan Feast\n",
      "Postcard\n",
      "Nomad bag\n",
      "Chocolates\n",
      "Coffee granules \n",
      "Drinking chocolate spoons \n",
      "Christmas common\n",
      "Argentina Night\n",
      "Half slice Monster \n",
      "Gift voucher\n",
      "Cherry me Dried fruit\n",
      "Mortimer\n",
      "Raw bars\n",
      "Tacos/Fajita\n"
     ]
    }
   ],
   "source": [
    "print(\"List of Items sold at the Bakery:\")\n",
    "print(\"Total Items: \",len(data.Item.unique()))\n",
    "print(\"-\"*15)\n",
    "for i in data.Item.unique():\n",
    "    print(i)"
   ]
  },
  {
   "cell_type": "markdown",
   "metadata": {
    "_uuid": "295ad354f8cb5fdd575f9ec7c33e44b87ee2a574"
   },
   "source": [
    "<a class=\"anchor\" id=\"8\"></a>**8) Getting Statistical Information About The Data Set**   ======>[Go to Content](#0.)"
   ]
  },
  {
   "cell_type": "markdown",
   "metadata": {
    "_uuid": "d445d68788da332b8d80d3ccbd9d8052ffeec407"
   },
   "source": [
    "data.describe() => The code only gives us some statistical information about columns with numeric values. This command does not provide the smallest detail.\n",
    "\n",
    "If we write code as below, this Code provides a more comprehensive information. But in this code, it also tries to process columns that do not have numeric values. The column that will help us here is the transaction column. Let's examine the outputs.\n",
    "* count: It says how many data there are.\n",
    "* unique: It shows how many non-replicating data there are.\n",
    "* top: It specifies which of the most commonly found data.\n",
    "* freq: -\n",
    "* mean: Returns the average value.\n",
    "* std: standart deviation; returns the standard deviation value.\n",
    "* min: returns the minimum value.\n",
    "*25%: -\n",
    "*50%: -\n",
    "*75%: -\n",
    "* max: -"
   ]
  },
  {
   "cell_type": "code",
   "execution_count": 123,
   "metadata": {
    "_uuid": "fd1f870422c3f96b0092ab8aa5d976978975dcf0",
    "scrolled": true
   },
   "outputs": [
    {
     "data": {
      "text/html": [
       "<div>\n",
       "<style scoped>\n",
       "    .dataframe tbody tr th:only-of-type {\n",
       "        vertical-align: middle;\n",
       "    }\n",
       "\n",
       "    .dataframe tbody tr th {\n",
       "        vertical-align: top;\n",
       "    }\n",
       "\n",
       "    .dataframe thead th {\n",
       "        text-align: right;\n",
       "    }\n",
       "</style>\n",
       "<table border=\"1\" class=\"dataframe\">\n",
       "  <thead>\n",
       "    <tr style=\"text-align: right;\">\n",
       "      <th></th>\n",
       "      <th>Date</th>\n",
       "      <th>Time</th>\n",
       "      <th>Transaction</th>\n",
       "      <th>Item</th>\n",
       "    </tr>\n",
       "  </thead>\n",
       "  <tbody>\n",
       "    <tr>\n",
       "      <th>count</th>\n",
       "      <td>21293</td>\n",
       "      <td>21293</td>\n",
       "      <td>21293.000000</td>\n",
       "      <td>21293</td>\n",
       "    </tr>\n",
       "    <tr>\n",
       "      <th>unique</th>\n",
       "      <td>159</td>\n",
       "      <td>8240</td>\n",
       "      <td>NaN</td>\n",
       "      <td>95</td>\n",
       "    </tr>\n",
       "    <tr>\n",
       "      <th>top</th>\n",
       "      <td>2017-02-04</td>\n",
       "      <td>12:07:39</td>\n",
       "      <td>NaN</td>\n",
       "      <td>Coffee</td>\n",
       "    </tr>\n",
       "    <tr>\n",
       "      <th>freq</th>\n",
       "      <td>302</td>\n",
       "      <td>16</td>\n",
       "      <td>NaN</td>\n",
       "      <td>5471</td>\n",
       "    </tr>\n",
       "    <tr>\n",
       "      <th>mean</th>\n",
       "      <td>NaN</td>\n",
       "      <td>NaN</td>\n",
       "      <td>4951.990889</td>\n",
       "      <td>NaN</td>\n",
       "    </tr>\n",
       "    <tr>\n",
       "      <th>std</th>\n",
       "      <td>NaN</td>\n",
       "      <td>NaN</td>\n",
       "      <td>2787.758400</td>\n",
       "      <td>NaN</td>\n",
       "    </tr>\n",
       "    <tr>\n",
       "      <th>min</th>\n",
       "      <td>NaN</td>\n",
       "      <td>NaN</td>\n",
       "      <td>1.000000</td>\n",
       "      <td>NaN</td>\n",
       "    </tr>\n",
       "    <tr>\n",
       "      <th>25%</th>\n",
       "      <td>NaN</td>\n",
       "      <td>NaN</td>\n",
       "      <td>2548.000000</td>\n",
       "      <td>NaN</td>\n",
       "    </tr>\n",
       "    <tr>\n",
       "      <th>50%</th>\n",
       "      <td>NaN</td>\n",
       "      <td>NaN</td>\n",
       "      <td>5067.000000</td>\n",
       "      <td>NaN</td>\n",
       "    </tr>\n",
       "    <tr>\n",
       "      <th>75%</th>\n",
       "      <td>NaN</td>\n",
       "      <td>NaN</td>\n",
       "      <td>7329.000000</td>\n",
       "      <td>NaN</td>\n",
       "    </tr>\n",
       "    <tr>\n",
       "      <th>max</th>\n",
       "      <td>NaN</td>\n",
       "      <td>NaN</td>\n",
       "      <td>9684.000000</td>\n",
       "      <td>NaN</td>\n",
       "    </tr>\n",
       "  </tbody>\n",
       "</table>\n",
       "</div>"
      ],
      "text/plain": [
       "              Date      Time   Transaction    Item\n",
       "count        21293     21293  21293.000000   21293\n",
       "unique         159      8240           NaN      95\n",
       "top     2017-02-04  12:07:39           NaN  Coffee\n",
       "freq           302        16           NaN    5471\n",
       "mean           NaN       NaN   4951.990889     NaN\n",
       "std            NaN       NaN   2787.758400     NaN\n",
       "min            NaN       NaN      1.000000     NaN\n",
       "25%            NaN       NaN   2548.000000     NaN\n",
       "50%            NaN       NaN   5067.000000     NaN\n",
       "75%            NaN       NaN   7329.000000     NaN\n",
       "max            NaN       NaN   9684.000000     NaN"
      ]
     },
     "execution_count": 123,
     "metadata": {},
     "output_type": "execute_result"
    }
   ],
   "source": [
    "data.describe(include='all')"
   ]
  },
  {
   "cell_type": "markdown",
   "metadata": {
    "_uuid": "f6c3dc625eb1412b0acf46fd4f87a7538b11259c"
   },
   "source": [
    "<a class=\"anchor\" id=\"9\"></a>**9) Check Whether The Value Is NONE**   ======>[Go to Content](#0.)\n",
    "\n",
    "We check the number of values in the data set, which are none in the item column."
   ]
  },
  {
   "cell_type": "code",
   "execution_count": 124,
   "metadata": {
    "_uuid": "0b2b332e1538f877f2e550e404b3dad1398c254f"
   },
   "outputs": [
    {
     "data": {
      "text/plain": [
       "786"
      ]
     },
     "execution_count": 124,
     "metadata": {},
     "output_type": "execute_result"
    }
   ],
   "source": [
    "len(data.loc[data[\"Item\"] == \"NONE\",:])"
   ]
  },
  {
   "cell_type": "markdown",
   "metadata": {
    "_uuid": "42f67ebba39ca1282244abb437c311990c1ffaa0"
   },
   "source": [
    "In the item column we bring only the first 10 of the data with no value."
   ]
  },
  {
   "cell_type": "code",
   "execution_count": 125,
   "metadata": {
    "_uuid": "9e17e2af207c13cceb520892fe2acf1b6288c0b6"
   },
   "outputs": [
    {
     "data": {
      "text/html": [
       "<div>\n",
       "<style scoped>\n",
       "    .dataframe tbody tr th:only-of-type {\n",
       "        vertical-align: middle;\n",
       "    }\n",
       "\n",
       "    .dataframe tbody tr th {\n",
       "        vertical-align: top;\n",
       "    }\n",
       "\n",
       "    .dataframe thead th {\n",
       "        text-align: right;\n",
       "    }\n",
       "</style>\n",
       "<table border=\"1\" class=\"dataframe\">\n",
       "  <thead>\n",
       "    <tr style=\"text-align: right;\">\n",
       "      <th></th>\n",
       "      <th>Date</th>\n",
       "      <th>Time</th>\n",
       "      <th>Transaction</th>\n",
       "      <th>Item</th>\n",
       "    </tr>\n",
       "  </thead>\n",
       "  <tbody>\n",
       "    <tr>\n",
       "      <th>26</th>\n",
       "      <td>2016-10-30</td>\n",
       "      <td>10:27:21</td>\n",
       "      <td>11</td>\n",
       "      <td>NONE</td>\n",
       "    </tr>\n",
       "    <tr>\n",
       "      <th>38</th>\n",
       "      <td>2016-10-30</td>\n",
       "      <td>10:34:36</td>\n",
       "      <td>15</td>\n",
       "      <td>NONE</td>\n",
       "    </tr>\n",
       "    <tr>\n",
       "      <th>39</th>\n",
       "      <td>2016-10-30</td>\n",
       "      <td>10:34:36</td>\n",
       "      <td>15</td>\n",
       "      <td>NONE</td>\n",
       "    </tr>\n",
       "    <tr>\n",
       "      <th>66</th>\n",
       "      <td>2016-10-30</td>\n",
       "      <td>11:05:30</td>\n",
       "      <td>29</td>\n",
       "      <td>NONE</td>\n",
       "    </tr>\n",
       "    <tr>\n",
       "      <th>80</th>\n",
       "      <td>2016-10-30</td>\n",
       "      <td>11:37:10</td>\n",
       "      <td>37</td>\n",
       "      <td>NONE</td>\n",
       "    </tr>\n",
       "    <tr>\n",
       "      <th>85</th>\n",
       "      <td>2016-10-30</td>\n",
       "      <td>11:55:51</td>\n",
       "      <td>40</td>\n",
       "      <td>NONE</td>\n",
       "    </tr>\n",
       "    <tr>\n",
       "      <th>126</th>\n",
       "      <td>2016-10-30</td>\n",
       "      <td>13:02:04</td>\n",
       "      <td>59</td>\n",
       "      <td>NONE</td>\n",
       "    </tr>\n",
       "    <tr>\n",
       "      <th>140</th>\n",
       "      <td>2016-10-30</td>\n",
       "      <td>13:37:25</td>\n",
       "      <td>65</td>\n",
       "      <td>NONE</td>\n",
       "    </tr>\n",
       "    <tr>\n",
       "      <th>149</th>\n",
       "      <td>2016-10-30</td>\n",
       "      <td>13:46:48</td>\n",
       "      <td>67</td>\n",
       "      <td>NONE</td>\n",
       "    </tr>\n",
       "    <tr>\n",
       "      <th>167</th>\n",
       "      <td>2016-10-30</td>\n",
       "      <td>14:32:26</td>\n",
       "      <td>75</td>\n",
       "      <td>NONE</td>\n",
       "    </tr>\n",
       "  </tbody>\n",
       "</table>\n",
       "</div>"
      ],
      "text/plain": [
       "           Date      Time  Transaction  Item\n",
       "26   2016-10-30  10:27:21           11  NONE\n",
       "38   2016-10-30  10:34:36           15  NONE\n",
       "39   2016-10-30  10:34:36           15  NONE\n",
       "66   2016-10-30  11:05:30           29  NONE\n",
       "80   2016-10-30  11:37:10           37  NONE\n",
       "85   2016-10-30  11:55:51           40  NONE\n",
       "126  2016-10-30  13:02:04           59  NONE\n",
       "140  2016-10-30  13:37:25           65  NONE\n",
       "149  2016-10-30  13:46:48           67  NONE\n",
       "167  2016-10-30  14:32:26           75  NONE"
      ]
     },
     "execution_count": 125,
     "metadata": {},
     "output_type": "execute_result"
    }
   ],
   "source": [
    "data.loc[data[\"Item\"] == \"NONE\"].head(10) # data.loc[data[\"Item\"] == \"NONE\", :].head(10)"
   ]
  },
  {
   "cell_type": "markdown",
   "metadata": {
    "_uuid": "d29e8139b967e1b34ca1f1daaa31e2d91fb80e80"
   },
   "source": [
    "We have brought the last 10 of the values that are none in the item column in the data set."
   ]
  },
  {
   "cell_type": "code",
   "execution_count": 126,
   "metadata": {
    "_uuid": "7628dc79fb5e8dbd1272b1ac2affc4ae4441abc5"
   },
   "outputs": [
    {
     "data": {
      "text/html": [
       "<div>\n",
       "<style scoped>\n",
       "    .dataframe tbody tr th:only-of-type {\n",
       "        vertical-align: middle;\n",
       "    }\n",
       "\n",
       "    .dataframe tbody tr th {\n",
       "        vertical-align: top;\n",
       "    }\n",
       "\n",
       "    .dataframe thead th {\n",
       "        text-align: right;\n",
       "    }\n",
       "</style>\n",
       "<table border=\"1\" class=\"dataframe\">\n",
       "  <thead>\n",
       "    <tr style=\"text-align: right;\">\n",
       "      <th></th>\n",
       "      <th>Date</th>\n",
       "      <th>Time</th>\n",
       "      <th>Transaction</th>\n",
       "      <th>Item</th>\n",
       "    </tr>\n",
       "  </thead>\n",
       "  <tbody>\n",
       "    <tr>\n",
       "      <th>20919</th>\n",
       "      <td>2017-04-07</td>\n",
       "      <td>08:57:19</td>\n",
       "      <td>9507</td>\n",
       "      <td>NONE</td>\n",
       "    </tr>\n",
       "    <tr>\n",
       "      <th>20964</th>\n",
       "      <td>2017-04-07</td>\n",
       "      <td>13:06:01</td>\n",
       "      <td>9529</td>\n",
       "      <td>NONE</td>\n",
       "    </tr>\n",
       "    <tr>\n",
       "      <th>21010</th>\n",
       "      <td>2017-04-07</td>\n",
       "      <td>17:30:07</td>\n",
       "      <td>9550</td>\n",
       "      <td>NONE</td>\n",
       "    </tr>\n",
       "    <tr>\n",
       "      <th>21077</th>\n",
       "      <td>2017-04-08</td>\n",
       "      <td>10:44:44</td>\n",
       "      <td>9579</td>\n",
       "      <td>NONE</td>\n",
       "    </tr>\n",
       "    <tr>\n",
       "      <th>21080</th>\n",
       "      <td>2017-04-08</td>\n",
       "      <td>10:48:43</td>\n",
       "      <td>9580</td>\n",
       "      <td>NONE</td>\n",
       "    </tr>\n",
       "    <tr>\n",
       "      <th>21108</th>\n",
       "      <td>2017-04-08</td>\n",
       "      <td>11:54:22</td>\n",
       "      <td>9590</td>\n",
       "      <td>NONE</td>\n",
       "    </tr>\n",
       "    <tr>\n",
       "      <th>21122</th>\n",
       "      <td>2017-04-08</td>\n",
       "      <td>12:58:25</td>\n",
       "      <td>9599</td>\n",
       "      <td>NONE</td>\n",
       "    </tr>\n",
       "    <tr>\n",
       "      <th>21254</th>\n",
       "      <td>2017-04-09</td>\n",
       "      <td>12:01:07</td>\n",
       "      <td>9666</td>\n",
       "      <td>NONE</td>\n",
       "    </tr>\n",
       "    <tr>\n",
       "      <th>21255</th>\n",
       "      <td>2017-04-09</td>\n",
       "      <td>12:04:13</td>\n",
       "      <td>9667</td>\n",
       "      <td>NONE</td>\n",
       "    </tr>\n",
       "    <tr>\n",
       "      <th>21266</th>\n",
       "      <td>2017-04-09</td>\n",
       "      <td>12:31:28</td>\n",
       "      <td>9672</td>\n",
       "      <td>NONE</td>\n",
       "    </tr>\n",
       "  </tbody>\n",
       "</table>\n",
       "</div>"
      ],
      "text/plain": [
       "             Date      Time  Transaction  Item\n",
       "20919  2017-04-07  08:57:19         9507  NONE\n",
       "20964  2017-04-07  13:06:01         9529  NONE\n",
       "21010  2017-04-07  17:30:07         9550  NONE\n",
       "21077  2017-04-08  10:44:44         9579  NONE\n",
       "21080  2017-04-08  10:48:43         9580  NONE\n",
       "21108  2017-04-08  11:54:22         9590  NONE\n",
       "21122  2017-04-08  12:58:25         9599  NONE\n",
       "21254  2017-04-09  12:01:07         9666  NONE\n",
       "21255  2017-04-09  12:04:13         9667  NONE\n",
       "21266  2017-04-09  12:31:28         9672  NONE"
      ]
     },
     "execution_count": 126,
     "metadata": {},
     "output_type": "execute_result"
    }
   ],
   "source": [
    "data.loc[data[\"Item\"] == \"NONE\"].tail(10) # data.loc[data[\"Item\"] == \"NONE\",:].tail(10)"
   ]
  },
  {
   "cell_type": "markdown",
   "metadata": {
    "_uuid": "19d58145b36316d72a78c0c263bd1ec48eaef44f"
   },
   "source": [
    "I filtered item value none."
   ]
  },
  {
   "cell_type": "code",
   "execution_count": 127,
   "metadata": {
    "_uuid": "69c861e450f53de1bc4a88707fe4e64ace9c2abb"
   },
   "outputs": [
    {
     "data": {
      "text/html": [
       "<div>\n",
       "<style scoped>\n",
       "    .dataframe tbody tr th:only-of-type {\n",
       "        vertical-align: middle;\n",
       "    }\n",
       "\n",
       "    .dataframe tbody tr th {\n",
       "        vertical-align: top;\n",
       "    }\n",
       "\n",
       "    .dataframe thead th {\n",
       "        text-align: right;\n",
       "    }\n",
       "</style>\n",
       "<table border=\"1\" class=\"dataframe\">\n",
       "  <thead>\n",
       "    <tr style=\"text-align: right;\">\n",
       "      <th></th>\n",
       "      <th>Date</th>\n",
       "      <th>Time</th>\n",
       "      <th>Transaction</th>\n",
       "      <th>Item</th>\n",
       "    </tr>\n",
       "  </thead>\n",
       "  <tbody>\n",
       "  </tbody>\n",
       "</table>\n",
       "</div>"
      ],
      "text/plain": [
       "Empty DataFrame\n",
       "Columns: [Date, Time, Transaction, Item]\n",
       "Index: []"
      ]
     },
     "execution_count": 127,
     "metadata": {},
     "output_type": "execute_result"
    }
   ],
   "source": [
    "data = data[data.Item != 'NONE']\n",
    "data.loc[data[\"Item\"] == \"NONE\",:].tail(10)"
   ]
  },
  {
   "cell_type": "code",
   "execution_count": 128,
   "metadata": {},
   "outputs": [
    {
     "data": {
      "text/plain": [
       "(20507, 4)"
      ]
     },
     "execution_count": 128,
     "metadata": {},
     "output_type": "execute_result"
    }
   ],
   "source": [
    "data.shape"
   ]
  },
  {
   "cell_type": "markdown",
   "metadata": {
    "_uuid": "693493bda49248eed82cddad87113347375d8601"
   },
   "source": [
    "<a class=\"anchor\" id=\"10\"></a>**10) List Of Sold Products**   ======>[Go to Content](#0.)\n",
    "\n",
    "Let's list the total number of products sold each time. We've only listed the first 15."
   ]
  },
  {
   "cell_type": "code",
   "execution_count": 129,
   "metadata": {
    "_uuid": "413884a66dc83ae24432a477f4f835f1e1816649"
   },
   "outputs": [
    {
     "data": {
      "text/plain": [
       "Coffee           5471\n",
       "Bread            3325\n",
       "Tea              1435\n",
       "Cake             1025\n",
       "Pastry            856\n",
       "Sandwich          771\n",
       "Medialuna         616\n",
       "Hot chocolate     590\n",
       "Cookies           540\n",
       "Brownie           379\n",
       "Farm House        374\n",
       "Muffin            370\n",
       "Alfajores         369\n",
       "Juice             369\n",
       "Soup              342\n",
       "Name: Item, dtype: int64"
      ]
     },
     "execution_count": 129,
     "metadata": {},
     "output_type": "execute_result"
    }
   ],
   "source": [
    "data[\"Item\"].value_counts().head(15)"
   ]
  },
  {
   "cell_type": "markdown",
   "metadata": {
    "_uuid": "96252edde521b95e8b31fc155ae8205821dab784"
   },
   "source": [
    "<a class=\"anchor\" id=\"11\"></a>**11) Visualizations Of Sold Products With Pie Chart**   ======>[Go to Content](#0.)\n",
    "\n",
    "Using the pie chart visualisation of the Matplotlib library, we have listed only 15 of the best-selling products."
   ]
  },
  {
   "cell_type": "code",
   "execution_count": 130,
   "metadata": {
    "_uuid": "3a62a8d19ab01a2f04d21f0c0c2c020181057585"
   },
   "outputs": [
    {
     "data": {
      "image/png": "[encoded data removed]",
      "text/plain": [
       "<Figure size 720x720 with 1 Axes>"
      ]
     },
     "metadata": {},
     "output_type": "display_data"
    }
   ],
   "source": [
    "# Pie Chart\n",
    "plt.figure(1, figsize=(10,10))\n",
    "data['Item'].value_counts().head(15).plot.pie(autopct=\"%1.1f%%\")\n",
    "plt.show()"
   ]
  },
  {
   "cell_type": "markdown",
   "metadata": {
    "_uuid": "040c63bbe7836860067aa71dc32a178baf3f2821"
   },
   "source": [
    "The best-selling products and the values of these products let us draw."
   ]
  },
  {
   "cell_type": "code",
   "execution_count": 131,
   "metadata": {
    "_uuid": "56aa595cc1e0c533706442e41662e3bcdf87136d"
   },
   "outputs": [],
   "source": [
    "itemNames = data['Item'].value_counts().index\n",
    "itemValues = data['Item'].value_counts().values"
   ]
  },
  {
   "cell_type": "markdown",
   "metadata": {
    "_uuid": "59cd148e9906c6c65608eaf3a3125980736a9777"
   },
   "source": [
    "<a class=\"anchor\" id=\"12\"></a>**12) Visualizations Of Sold Products With Bar Chart**   ======>[Go to Content](#0.)\n",
    "\n",
    "We use the following structure when we want to show the first 15 of the best-selling products with bar chart in matplot."
   ]
  },
  {
   "cell_type": "code",
   "execution_count": 132,
   "metadata": {
    "_uuid": "083f69033c47f14cbc76994f0692a29f8d171ff8"
   },
   "outputs": [
    {
     "data": {
      "image/png": "[encoded data removed]",
      "text/plain": [
       "<Figure size 864x864 with 1 Axes>"
      ]
     },
     "metadata": {},
     "output_type": "display_data"
    }
   ],
   "source": [
    "plt.figure(figsize=(12,12))\n",
    "plt.ylabel('Values', fontsize='medium')\n",
    "plt.xlabel('Items', fontsize='medium')\n",
    "plt.title('Top 20 Sell Bakery Items')\n",
    "plt.bar(itemNames[:10],itemValues[:10], width = 0.7, color=\"blue\",linewidth=0.4)\n",
    "plt.show()"
   ]
  },
  {
   "cell_type": "code",
   "execution_count": 134,
   "metadata": {
    "_uuid": "7deef9b449b16d36291c02f626591e37961049e3",
    "scrolled": false
   },
   "outputs": [
    {
     "data": {
      "image/png": "[encoded data removed]",
      "text/plain": [
       "<Figure size 864x864 with 1 Axes>"
      ]
     },
     "metadata": {},
     "output_type": "display_data"
    }
   ],
   "source": [
    "fig, ax = plt.subplots(figsize=(12,12))\n",
    "plt.style.use('fivethirtyeight')\n",
    "ax.barh(itemNames[:5], itemValues[:5])\n",
    "plt.show()"
   ]
  },
  {
   "cell_type": "markdown",
   "metadata": {
    "_uuid": "ee3940e4ecf7b28ea40aeaf310731d826b5e96e9"
   },
   "source": [
    "<a class=\"anchor\" id=\"13\"></a>**13) Determination Of Most Sales Time Zones**   ======>[Go to Content](#0.)"
   ]
  },
  {
   "cell_type": "markdown",
   "metadata": {
    "_uuid": "204460c74f2241947b2f3ba1908bcece85e097e8"
   },
   "source": [
    "Which watches are important for companies and how much sales are made. I did this in the simplest way with the code below. It is discussed whether there is a logical method in software. I'm waiting for your suggestions in the comments section.\n",
    "\n",
    "If I had to explain the code, I took advantage of the LoC function of the pandas library. This function performs the necessary filters in the data with the criteria specified."
   ]
  },
  {
   "cell_type": "code",
   "execution_count": 135,
   "metadata": {
    "_uuid": "820fe5eb96e79f85f5d00922cf36db30737e17fa"
   },
   "outputs": [
    {
     "name": "stdout",
     "output_type": "stream",
     "text": [
      "This is night sales:  152\n"
     ]
    }
   ],
   "source": [
    "firstMorning = data.loc[(data['Time']>='06:00:00')&(data['Time']<'09:00:00')]\n",
    "secondMorning = data.loc[(data['Time']>='09:00:00')&(data['Time']<'12:00:00')]\n",
    "firstAfternoon = data.loc[(data['Time']>='12:00:00')&(data['Time']<'15:00:00')]\n",
    "secondAfternoon = data.loc[(data['Time']>='15:00:00')&(data['Time']<'18:00:00')]\n",
    "night = data.loc[(data['Time']>='18:00:00')&(data['Time']<'21:00:00')]\n",
    "hourlySales = {'firstMorning': len(firstMorning), 'secondMorning': len(secondMorning), 'firstAfternoon': len(firstAfternoon),'secondAfternoon': len(secondAfternoon),'night': len(night)}\n",
    "print(\"This is night sales: \", hourlySales['night'])\n"
   ]
  },
  {
   "cell_type": "code",
   "execution_count": 136,
   "metadata": {
    "_uuid": "8cb7256ed81b7f6b8f70617c43c0948c18138d7a",
    "scrolled": true
   },
   "outputs": [
    {
     "data": {
      "image/png": "[encoded data removed]",
      "text/plain": [
       "<Figure size 720x720 with 1 Axes>"
      ]
     },
     "metadata": {},
     "output_type": "display_data"
    }
   ],
   "source": [
    "fig, ax = plt.subplots(figsize=(10,10))\n",
    "ax.barh(range(len(hourlySales)), list(hourlySales.values()), align='center')\n",
    "plt.show()"
   ]
  },
  {
   "cell_type": "markdown",
   "metadata": {
    "_uuid": "33b5251cbf9d0f2426f91b6ed6163d9ed69a7a65"
   },
   "source": [
    "<a class=\"anchor\" id=\"14\"></a>**14) Determining The Best-selling Product In The Most-selling Time Frame**   ======>[Go to Content](#0.)\n",
    "\n",
    "Let's do a little deeper research. In the morning between 06-09 mesala sales, most of which we want to determine what is done to write the code will be as follows."
   ]
  },
  {
   "cell_type": "code",
   "execution_count": 137,
   "metadata": {
    "_uuid": "ed7bdc16e9efc5cdfbcc23c6ed80bf82d46ca8ba",
    "scrolled": true
   },
   "outputs": [
    {
     "name": "stdout",
     "output_type": "stream",
     "text": [
      "Coffee           212\n",
      "Bread            173\n",
      "Pastry            59\n",
      "Medialuna         49\n",
      "Toast             24\n",
      "Tea               21\n",
      "Farm House        13\n",
      "Cookies           12\n",
      "Hot chocolate      9\n",
      "Baguette           8\n",
      "Cake               8\n",
      "Jam                7\n",
      "Scandinavian       6\n",
      "Scone              6\n",
      "Brownie            5\n",
      "Name: Item, dtype: int64\n"
     ]
    }
   ],
   "source": [
    "print(firstMorning['Item'].value_counts().head(15))"
   ]
  },
  {
   "cell_type": "markdown",
   "metadata": {
    "_uuid": "9b4f37d663c80f4c116aa15954e27486f420e40c"
   },
   "source": [
    "In the morning, I showed only the top 5 of the best-selling products on bar plot."
   ]
  },
  {
   "cell_type": "code",
   "execution_count": 138,
   "metadata": {
    "_uuid": "352dd2264ca6f20df5dcda52c57815adaa1c3528"
   },
   "outputs": [
    {
     "data": {
      "image/png": "[encoded data removed]",
      "text/plain": [
       "<Figure size 720x720 with 1 Axes>"
      ]
     },
     "metadata": {},
     "output_type": "display_data"
    }
   ],
   "source": [
    "# Bar Plot\n",
    "plt.figure(figsize=(10,10))\n",
    "plt.ylabel('Values', fontsize='medium')\n",
    "plt.xlabel('Items', fontsize='medium')\n",
    "plt.title('Top 20 Sell Bakery Items in the morning')\n",
    "plt.bar(firstMorning['Item'][:5],firstMorning['Item'].value_counts()[:5], width = 0.7, color=\"blue\",linewidth=0.4)\n",
    "plt.show()"
   ]
  },
  {
   "cell_type": "code",
   "execution_count": 139,
   "metadata": {
    "scrolled": true
   },
   "outputs": [
    {
     "data": {
      "text/html": [
       "<div>\n",
       "<style scoped>\n",
       "    .dataframe tbody tr th:only-of-type {\n",
       "        vertical-align: middle;\n",
       "    }\n",
       "\n",
       "    .dataframe tbody tr th {\n",
       "        vertical-align: top;\n",
       "    }\n",
       "\n",
       "    .dataframe thead th {\n",
       "        text-align: right;\n",
       "    }\n",
       "</style>\n",
       "<table border=\"1\" class=\"dataframe\">\n",
       "  <thead>\n",
       "    <tr style=\"text-align: right;\">\n",
       "      <th></th>\n",
       "      <th>Date</th>\n",
       "      <th>Time</th>\n",
       "      <th>Transaction</th>\n",
       "      <th>Item</th>\n",
       "    </tr>\n",
       "  </thead>\n",
       "  <tbody>\n",
       "    <tr>\n",
       "      <th>0</th>\n",
       "      <td>2016-10-30</td>\n",
       "      <td>09:58:11</td>\n",
       "      <td>1</td>\n",
       "      <td>Bread</td>\n",
       "    </tr>\n",
       "    <tr>\n",
       "      <th>1</th>\n",
       "      <td>2016-10-30</td>\n",
       "      <td>10:05:34</td>\n",
       "      <td>2</td>\n",
       "      <td>Scandinavian</td>\n",
       "    </tr>\n",
       "    <tr>\n",
       "      <th>2</th>\n",
       "      <td>2016-10-30</td>\n",
       "      <td>10:05:34</td>\n",
       "      <td>2</td>\n",
       "      <td>Scandinavian</td>\n",
       "    </tr>\n",
       "    <tr>\n",
       "      <th>3</th>\n",
       "      <td>2016-10-30</td>\n",
       "      <td>10:07:57</td>\n",
       "      <td>3</td>\n",
       "      <td>Hot chocolate</td>\n",
       "    </tr>\n",
       "    <tr>\n",
       "      <th>4</th>\n",
       "      <td>2016-10-30</td>\n",
       "      <td>10:07:57</td>\n",
       "      <td>3</td>\n",
       "      <td>Jam</td>\n",
       "    </tr>\n",
       "    <tr>\n",
       "      <th>5</th>\n",
       "      <td>2016-10-30</td>\n",
       "      <td>10:07:57</td>\n",
       "      <td>3</td>\n",
       "      <td>Cookies</td>\n",
       "    </tr>\n",
       "    <tr>\n",
       "      <th>6</th>\n",
       "      <td>2016-10-30</td>\n",
       "      <td>10:08:41</td>\n",
       "      <td>4</td>\n",
       "      <td>Muffin</td>\n",
       "    </tr>\n",
       "    <tr>\n",
       "      <th>7</th>\n",
       "      <td>2016-10-30</td>\n",
       "      <td>10:13:03</td>\n",
       "      <td>5</td>\n",
       "      <td>Coffee</td>\n",
       "    </tr>\n",
       "    <tr>\n",
       "      <th>8</th>\n",
       "      <td>2016-10-30</td>\n",
       "      <td>10:13:03</td>\n",
       "      <td>5</td>\n",
       "      <td>Pastry</td>\n",
       "    </tr>\n",
       "    <tr>\n",
       "      <th>9</th>\n",
       "      <td>2016-10-30</td>\n",
       "      <td>10:13:03</td>\n",
       "      <td>5</td>\n",
       "      <td>Bread</td>\n",
       "    </tr>\n",
       "  </tbody>\n",
       "</table>\n",
       "</div>"
      ],
      "text/plain": [
       "         Date      Time  Transaction           Item\n",
       "0  2016-10-30  09:58:11            1          Bread\n",
       "1  2016-10-30  10:05:34            2   Scandinavian\n",
       "2  2016-10-30  10:05:34            2   Scandinavian\n",
       "3  2016-10-30  10:07:57            3  Hot chocolate\n",
       "4  2016-10-30  10:07:57            3            Jam\n",
       "5  2016-10-30  10:07:57            3        Cookies\n",
       "6  2016-10-30  10:08:41            4         Muffin\n",
       "7  2016-10-30  10:13:03            5         Coffee\n",
       "8  2016-10-30  10:13:03            5         Pastry\n",
       "9  2016-10-30  10:13:03            5          Bread"
      ]
     },
     "execution_count": 139,
     "metadata": {},
     "output_type": "execute_result"
    }
   ],
   "source": [
    "data.head(10)"
   ]
  },
  {
   "cell_type": "code",
   "execution_count": 140,
   "metadata": {
    "_uuid": "8c1662220048b8064c02c5d15c9bb0f26169b099"
   },
   "outputs": [
    {
     "data": {
      "text/html": [
       "<div>\n",
       "<style scoped>\n",
       "    .dataframe tbody tr th:only-of-type {\n",
       "        vertical-align: middle;\n",
       "    }\n",
       "\n",
       "    .dataframe tbody tr th {\n",
       "        vertical-align: top;\n",
       "    }\n",
       "\n",
       "    .dataframe thead th {\n",
       "        text-align: right;\n",
       "    }\n",
       "</style>\n",
       "<table border=\"1\" class=\"dataframe\">\n",
       "  <thead>\n",
       "    <tr style=\"text-align: right;\">\n",
       "      <th></th>\n",
       "      <th>Time</th>\n",
       "      <th>Transaction</th>\n",
       "      <th>Item</th>\n",
       "      <th>datetime</th>\n",
       "      <th>year</th>\n",
       "      <th>month</th>\n",
       "      <th>day</th>\n",
       "      <th>weekday</th>\n",
       "      <th>hour</th>\n",
       "    </tr>\n",
       "  </thead>\n",
       "  <tbody>\n",
       "    <tr>\n",
       "      <th>0</th>\n",
       "      <td>09:58:11</td>\n",
       "      <td>1</td>\n",
       "      <td>Bread</td>\n",
       "      <td>2016-10-30 09:58:11</td>\n",
       "      <td>2016</td>\n",
       "      <td>10</td>\n",
       "      <td>30</td>\n",
       "      <td>6</td>\n",
       "      <td>9</td>\n",
       "    </tr>\n",
       "    <tr>\n",
       "      <th>1</th>\n",
       "      <td>10:05:34</td>\n",
       "      <td>2</td>\n",
       "      <td>Scandinavian</td>\n",
       "      <td>2016-10-30 10:05:34</td>\n",
       "      <td>2016</td>\n",
       "      <td>10</td>\n",
       "      <td>30</td>\n",
       "      <td>6</td>\n",
       "      <td>10</td>\n",
       "    </tr>\n",
       "    <tr>\n",
       "      <th>2</th>\n",
       "      <td>10:05:34</td>\n",
       "      <td>2</td>\n",
       "      <td>Scandinavian</td>\n",
       "      <td>2016-10-30 10:05:34</td>\n",
       "      <td>2016</td>\n",
       "      <td>10</td>\n",
       "      <td>30</td>\n",
       "      <td>6</td>\n",
       "      <td>10</td>\n",
       "    </tr>\n",
       "    <tr>\n",
       "      <th>3</th>\n",
       "      <td>10:07:57</td>\n",
       "      <td>3</td>\n",
       "      <td>Hot chocolate</td>\n",
       "      <td>2016-10-30 10:07:57</td>\n",
       "      <td>2016</td>\n",
       "      <td>10</td>\n",
       "      <td>30</td>\n",
       "      <td>6</td>\n",
       "      <td>10</td>\n",
       "    </tr>\n",
       "    <tr>\n",
       "      <th>4</th>\n",
       "      <td>10:07:57</td>\n",
       "      <td>3</td>\n",
       "      <td>Jam</td>\n",
       "      <td>2016-10-30 10:07:57</td>\n",
       "      <td>2016</td>\n",
       "      <td>10</td>\n",
       "      <td>30</td>\n",
       "      <td>6</td>\n",
       "      <td>10</td>\n",
       "    </tr>\n",
       "  </tbody>\n",
       "</table>\n",
       "</div>"
      ],
      "text/plain": [
       "       Time  Transaction           Item            datetime  year  month  day  \\\n",
       "0  09:58:11            1          Bread 2016-10-30 09:58:11  2016     10   30   \n",
       "1  10:05:34            2   Scandinavian 2016-10-30 10:05:34  2016     10   30   \n",
       "2  10:05:34            2   Scandinavian 2016-10-30 10:05:34  2016     10   30   \n",
       "3  10:07:57            3  Hot chocolate 2016-10-30 10:07:57  2016     10   30   \n",
       "4  10:07:57            3            Jam 2016-10-30 10:07:57  2016     10   30   \n",
       "\n",
       "   weekday  hour  \n",
       "0        6     9  \n",
       "1        6    10  \n",
       "2        6    10  \n",
       "3        6    10  \n",
       "4        6    10  "
      ]
     },
     "execution_count": 140,
     "metadata": {},
     "output_type": "execute_result"
    }
   ],
   "source": [
    "data['datetime'] = pd.to_datetime(data['Date']+\" \"+data['Time'])\n",
    "data['year'] = data['datetime'].dt.year\n",
    "data['month'] = data['datetime'].dt.month\n",
    "data['day'] = data['datetime'].dt.day\n",
    "data['weekday'] = data['datetime'].dt.weekday\n",
    "data['hour'] = data['datetime'].dt.hour\n",
    "data = data.drop(['Date'], axis=1)\n",
    "\n",
    "data.head(5)"
   ]
  },
  {
   "cell_type": "code",
   "execution_count": 146,
   "metadata": {
    "_uuid": "d2673e53007a5deaca7d29b3acf763ec12d5c99c"
   },
   "outputs": [
    {
     "data": {
      "text/plain": [
       "2017    12363\n",
       "2016     8144\n",
       "Name: year, dtype: int64"
      ]
     },
     "execution_count": 146,
     "metadata": {},
     "output_type": "execute_result"
    },
    {
     "data": {
      "image/png": "[encoded data removed]",
      "text/plain": [
       "<Figure size 720x360 with 1 Axes>"
      ]
     },
     "metadata": {},
     "output_type": "display_data"
    }
   ],
   "source": [
    "yearlyTable = data['year'].value_counts().plot(kind='bar',figsize=(10,5))\n",
    "yearlyTable.set_xlabel(\"\")\n",
    "data['year'].value_counts().head()"
   ]
  },
  {
   "cell_type": "code",
   "execution_count": 164,
   "metadata": {
    "_uuid": "6a1a15ab5567e52cf16af9c1c87d315bc7e21a9d"
   },
   "outputs": [
    {
     "data": {
      "text/html": [
       "<div>\n",
       "<style scoped>\n",
       "    .dataframe tbody tr th:only-of-type {\n",
       "        vertical-align: middle;\n",
       "    }\n",
       "\n",
       "    .dataframe tbody tr th {\n",
       "        vertical-align: top;\n",
       "    }\n",
       "\n",
       "    .dataframe thead th {\n",
       "        text-align: right;\n",
       "    }\n",
       "</style>\n",
       "<table border=\"1\" class=\"dataframe\">\n",
       "  <thead>\n",
       "    <tr style=\"text-align: right;\">\n",
       "      <th></th>\n",
       "      <th>Transaction</th>\n",
       "    </tr>\n",
       "    <tr>\n",
       "      <th>monthlyTransaction</th>\n",
       "      <th></th>\n",
       "    </tr>\n",
       "  </thead>\n",
       "  <tbody>\n",
       "    <tr>\n",
       "      <th>2016-10</th>\n",
       "      <td>369</td>\n",
       "    </tr>\n",
       "    <tr>\n",
       "      <th>2016-11</th>\n",
       "      <td>4436</td>\n",
       "    </tr>\n",
       "    <tr>\n",
       "      <th>2016-12</th>\n",
       "      <td>3339</td>\n",
       "    </tr>\n",
       "    <tr>\n",
       "      <th>2017-01</th>\n",
       "      <td>3356</td>\n",
       "    </tr>\n",
       "    <tr>\n",
       "      <th>2017-02</th>\n",
       "      <td>3906</td>\n",
       "    </tr>\n",
       "    <tr>\n",
       "      <th>2017-03</th>\n",
       "      <td>3944</td>\n",
       "    </tr>\n",
       "    <tr>\n",
       "      <th>2017-04</th>\n",
       "      <td>1157</td>\n",
       "    </tr>\n",
       "  </tbody>\n",
       "</table>\n",
       "</div>"
      ],
      "text/plain": [
       "                    Transaction\n",
       "monthlyTransaction             \n",
       "2016-10                     369\n",
       "2016-11                    4436\n",
       "2016-12                    3339\n",
       "2017-01                    3356\n",
       "2017-02                    3906\n",
       "2017-03                    3944\n",
       "2017-04                    1157"
      ]
     },
     "execution_count": 164,
     "metadata": {},
     "output_type": "execute_result"
    },
    {
     "data": {
      "image/png": "[encoded data removed]",
      "text/plain": [
       "<Figure size 720x432 with 1 Axes>"
      ]
     },
     "metadata": {},
     "output_type": "display_data"
    }
   ],
   "source": [
    "data['monthlyTransaction'] = pd.to_datetime(data['datetime']).dt.to_period('M') # 1달 기준\n",
    "monthlyTransaction = data[['monthlyTransaction','Transaction']].groupby(['monthlyTransaction'], as_index=False).count().sort_values(by='monthlyTransaction')\n",
    "monthlyTransaction.set_index('monthlyTransaction' ,inplace=True) # groupby : (Split => Apply function => Combine) \n",
    "# inplace = True > 0,1,2,~ 원래의 index 없앰                          # groupby > ,count : monthlyTransaction  기준으로 개수 세고 sort\n",
    "monthlyTable = monthlyTransaction.plot(kind='bar',figsize=(10,6))\n",
    "monthlyTable.set_xlabel(\"\")\n",
    "\n",
    "monthlyTransaction"
   ]
  },
  {
   "cell_type": "code",
   "execution_count": 150,
   "metadata": {
    "_uuid": "36d49e63f9b83f05405ec908d6a21d000b2f7b95"
   },
   "outputs": [
    {
     "data": {
      "text/html": [
       "<div>\n",
       "<style scoped>\n",
       "    .dataframe tbody tr th:only-of-type {\n",
       "        vertical-align: middle;\n",
       "    }\n",
       "\n",
       "    .dataframe tbody tr th {\n",
       "        vertical-align: top;\n",
       "    }\n",
       "\n",
       "    .dataframe thead th {\n",
       "        text-align: right;\n",
       "    }\n",
       "</style>\n",
       "<table border=\"1\" class=\"dataframe\">\n",
       "  <thead>\n",
       "    <tr style=\"text-align: right;\">\n",
       "      <th></th>\n",
       "      <th>Transaction</th>\n",
       "    </tr>\n",
       "    <tr>\n",
       "      <th>hour</th>\n",
       "      <th></th>\n",
       "    </tr>\n",
       "  </thead>\n",
       "  <tbody>\n",
       "    <tr>\n",
       "      <th>1</th>\n",
       "      <td>1</td>\n",
       "    </tr>\n",
       "    <tr>\n",
       "      <th>7</th>\n",
       "      <td>24</td>\n",
       "    </tr>\n",
       "    <tr>\n",
       "      <th>8</th>\n",
       "      <td>645</td>\n",
       "    </tr>\n",
       "    <tr>\n",
       "      <th>9</th>\n",
       "      <td>1966</td>\n",
       "    </tr>\n",
       "    <tr>\n",
       "      <th>10</th>\n",
       "      <td>2666</td>\n",
       "    </tr>\n",
       "    <tr>\n",
       "      <th>11</th>\n",
       "      <td>3102</td>\n",
       "    </tr>\n",
       "    <tr>\n",
       "      <th>12</th>\n",
       "      <td>2854</td>\n",
       "    </tr>\n",
       "    <tr>\n",
       "      <th>13</th>\n",
       "      <td>2617</td>\n",
       "    </tr>\n",
       "    <tr>\n",
       "      <th>14</th>\n",
       "      <td>2640</td>\n",
       "    </tr>\n",
       "    <tr>\n",
       "      <th>15</th>\n",
       "      <td>2115</td>\n",
       "    </tr>\n",
       "    <tr>\n",
       "      <th>16</th>\n",
       "      <td>1343</td>\n",
       "    </tr>\n",
       "    <tr>\n",
       "      <th>17</th>\n",
       "      <td>368</td>\n",
       "    </tr>\n",
       "    <tr>\n",
       "      <th>18</th>\n",
       "      <td>82</td>\n",
       "    </tr>\n",
       "    <tr>\n",
       "      <th>19</th>\n",
       "      <td>48</td>\n",
       "    </tr>\n",
       "    <tr>\n",
       "      <th>20</th>\n",
       "      <td>22</td>\n",
       "    </tr>\n",
       "    <tr>\n",
       "      <th>21</th>\n",
       "      <td>3</td>\n",
       "    </tr>\n",
       "    <tr>\n",
       "      <th>22</th>\n",
       "      <td>8</td>\n",
       "    </tr>\n",
       "    <tr>\n",
       "      <th>23</th>\n",
       "      <td>3</td>\n",
       "    </tr>\n",
       "  </tbody>\n",
       "</table>\n",
       "</div>"
      ],
      "text/plain": [
       "      Transaction\n",
       "hour             \n",
       "1               1\n",
       "7              24\n",
       "8             645\n",
       "9            1966\n",
       "10           2666\n",
       "11           3102\n",
       "12           2854\n",
       "13           2617\n",
       "14           2640\n",
       "15           2115\n",
       "16           1343\n",
       "17            368\n",
       "18             82\n",
       "19             48\n",
       "20             22\n",
       "21              3\n",
       "22              8\n",
       "23              3"
      ]
     },
     "execution_count": 150,
     "metadata": {},
     "output_type": "execute_result"
    },
    {
     "data": {
      "image/png": "[encoded data removed]",
      "text/plain": [
       "<Figure size 720x432 with 1 Axes>"
      ]
     },
     "metadata": {},
     "output_type": "display_data"
    }
   ],
   "source": [
    "hourlyTransaction = data[['hour','Transaction']].groupby(['hour'], as_index=False).count()\n",
    "hourlyTransaction.head(10)\n",
    "hourlyTransaction.set_index('hour' ,inplace=True)\n",
    "\n",
    "tableSort = hourlyTransaction.plot(kind='bar',figsize=(10,6))\n",
    "tableSort.set_xlabel(\"\")\n",
    "\n",
    "hourlyTransaction"
   ]
  },
  {
   "cell_type": "code",
   "execution_count": 172,
   "metadata": {
    "_uuid": "b0c3e6354f6a77fff20d5c4e03577209fb4d764a",
    "collapsed": true
   },
   "outputs": [
    {
     "data": {
      "text/html": [
       "<div>\n",
       "<style scoped>\n",
       "    .dataframe tbody tr th:only-of-type {\n",
       "        vertical-align: middle;\n",
       "    }\n",
       "\n",
       "    .dataframe tbody tr th {\n",
       "        vertical-align: top;\n",
       "    }\n",
       "\n",
       "    .dataframe thead th {\n",
       "        text-align: right;\n",
       "    }\n",
       "</style>\n",
       "<table border=\"1\" class=\"dataframe\">\n",
       "  <thead>\n",
       "    <tr style=\"text-align: right;\">\n",
       "      <th></th>\n",
       "      <th>Item</th>\n",
       "      <th>Transaction</th>\n",
       "    </tr>\n",
       "    <tr>\n",
       "      <th>monthly</th>\n",
       "      <th></th>\n",
       "      <th></th>\n",
       "    </tr>\n",
       "  </thead>\n",
       "  <tbody>\n",
       "    <tr>\n",
       "      <th>2016-10</th>\n",
       "      <td>Basket</td>\n",
       "      <td>2</td>\n",
       "    </tr>\n",
       "    <tr>\n",
       "      <th>2016-10</th>\n",
       "      <td>Bread</td>\n",
       "      <td>53</td>\n",
       "    </tr>\n",
       "    <tr>\n",
       "      <th>2016-10</th>\n",
       "      <td>Cake</td>\n",
       "      <td>6</td>\n",
       "    </tr>\n",
       "    <tr>\n",
       "      <th>2016-10</th>\n",
       "      <td>Chicken sand</td>\n",
       "      <td>1</td>\n",
       "    </tr>\n",
       "    <tr>\n",
       "      <th>2016-10</th>\n",
       "      <td>Coffee</td>\n",
       "      <td>93</td>\n",
       "    </tr>\n",
       "    <tr>\n",
       "      <th>2016-10</th>\n",
       "      <td>Coke</td>\n",
       "      <td>3</td>\n",
       "    </tr>\n",
       "    <tr>\n",
       "      <th>2016-10</th>\n",
       "      <td>Cookies</td>\n",
       "      <td>11</td>\n",
       "    </tr>\n",
       "    <tr>\n",
       "      <th>2016-10</th>\n",
       "      <td>Ella's Kitchen Pouches</td>\n",
       "      <td>1</td>\n",
       "    </tr>\n",
       "    <tr>\n",
       "      <th>2016-10</th>\n",
       "      <td>Farm House</td>\n",
       "      <td>11</td>\n",
       "    </tr>\n",
       "    <tr>\n",
       "      <th>2016-10</th>\n",
       "      <td>Focaccia</td>\n",
       "      <td>1</td>\n",
       "    </tr>\n",
       "    <tr>\n",
       "      <th>2016-10</th>\n",
       "      <td>Frittata</td>\n",
       "      <td>6</td>\n",
       "    </tr>\n",
       "    <tr>\n",
       "      <th>2016-10</th>\n",
       "      <td>Fudge</td>\n",
       "      <td>6</td>\n",
       "    </tr>\n",
       "    <tr>\n",
       "      <th>2016-10</th>\n",
       "      <td>Hearty &amp; Seasonal</td>\n",
       "      <td>12</td>\n",
       "    </tr>\n",
       "    <tr>\n",
       "      <th>2016-10</th>\n",
       "      <td>Hot chocolate</td>\n",
       "      <td>5</td>\n",
       "    </tr>\n",
       "    <tr>\n",
       "      <th>2016-10</th>\n",
       "      <td>Jam</td>\n",
       "      <td>9</td>\n",
       "    </tr>\n",
       "    <tr>\n",
       "      <th>2016-10</th>\n",
       "      <td>Juice</td>\n",
       "      <td>9</td>\n",
       "    </tr>\n",
       "    <tr>\n",
       "      <th>2016-10</th>\n",
       "      <td>Medialuna</td>\n",
       "      <td>13</td>\n",
       "    </tr>\n",
       "    <tr>\n",
       "      <th>2016-10</th>\n",
       "      <td>Mighty Protein</td>\n",
       "      <td>2</td>\n",
       "    </tr>\n",
       "    <tr>\n",
       "      <th>2016-10</th>\n",
       "      <td>Mineral water</td>\n",
       "      <td>6</td>\n",
       "    </tr>\n",
       "    <tr>\n",
       "      <th>2016-10</th>\n",
       "      <td>Muffin</td>\n",
       "      <td>29</td>\n",
       "    </tr>\n",
       "    <tr>\n",
       "      <th>2016-10</th>\n",
       "      <td>My-5 Fruit Shoot</td>\n",
       "      <td>1</td>\n",
       "    </tr>\n",
       "    <tr>\n",
       "      <th>2016-10</th>\n",
       "      <td>Pastry</td>\n",
       "      <td>19</td>\n",
       "    </tr>\n",
       "    <tr>\n",
       "      <th>2016-10</th>\n",
       "      <td>Pick and Mix Bowls</td>\n",
       "      <td>2</td>\n",
       "    </tr>\n",
       "    <tr>\n",
       "      <th>2016-10</th>\n",
       "      <td>Sandwich</td>\n",
       "      <td>3</td>\n",
       "    </tr>\n",
       "    <tr>\n",
       "      <th>2016-10</th>\n",
       "      <td>Scandinavian</td>\n",
       "      <td>16</td>\n",
       "    </tr>\n",
       "    <tr>\n",
       "      <th>2016-10</th>\n",
       "      <td>Smoothies</td>\n",
       "      <td>1</td>\n",
       "    </tr>\n",
       "    <tr>\n",
       "      <th>2016-10</th>\n",
       "      <td>Soup</td>\n",
       "      <td>8</td>\n",
       "    </tr>\n",
       "    <tr>\n",
       "      <th>2016-10</th>\n",
       "      <td>Tartine</td>\n",
       "      <td>6</td>\n",
       "    </tr>\n",
       "    <tr>\n",
       "      <th>2016-10</th>\n",
       "      <td>Tea</td>\n",
       "      <td>31</td>\n",
       "    </tr>\n",
       "    <tr>\n",
       "      <th>2016-10</th>\n",
       "      <td>Victorian Sponge</td>\n",
       "      <td>3</td>\n",
       "    </tr>\n",
       "    <tr>\n",
       "      <th>2016-11</th>\n",
       "      <td>Adjustment</td>\n",
       "      <td>1</td>\n",
       "    </tr>\n",
       "    <tr>\n",
       "      <th>2016-11</th>\n",
       "      <td>Alfajores</td>\n",
       "      <td>141</td>\n",
       "    </tr>\n",
       "    <tr>\n",
       "      <th>2016-11</th>\n",
       "      <td>Art Tray</td>\n",
       "      <td>18</td>\n",
       "    </tr>\n",
       "    <tr>\n",
       "      <th>2016-11</th>\n",
       "      <td>Bacon</td>\n",
       "      <td>1</td>\n",
       "    </tr>\n",
       "    <tr>\n",
       "      <th>2016-11</th>\n",
       "      <td>Bakewell</td>\n",
       "      <td>10</td>\n",
       "    </tr>\n",
       "    <tr>\n",
       "      <th>2016-11</th>\n",
       "      <td>Basket</td>\n",
       "      <td>4</td>\n",
       "    </tr>\n",
       "    <tr>\n",
       "      <th>2016-11</th>\n",
       "      <td>Bowl Nic Pitt</td>\n",
       "      <td>2</td>\n",
       "    </tr>\n",
       "    <tr>\n",
       "      <th>2016-11</th>\n",
       "      <td>Bread</td>\n",
       "      <td>712</td>\n",
       "    </tr>\n",
       "    <tr>\n",
       "      <th>2016-11</th>\n",
       "      <td>Bread Pudding</td>\n",
       "      <td>4</td>\n",
       "    </tr>\n",
       "    <tr>\n",
       "      <th>2016-11</th>\n",
       "      <td>Brownie</td>\n",
       "      <td>154</td>\n",
       "    </tr>\n",
       "    <tr>\n",
       "      <th>2016-11</th>\n",
       "      <td>Cake</td>\n",
       "      <td>116</td>\n",
       "    </tr>\n",
       "    <tr>\n",
       "      <th>2016-11</th>\n",
       "      <td>Caramel bites</td>\n",
       "      <td>3</td>\n",
       "    </tr>\n",
       "    <tr>\n",
       "      <th>2016-11</th>\n",
       "      <td>Chimichurri Oil</td>\n",
       "      <td>2</td>\n",
       "    </tr>\n",
       "    <tr>\n",
       "      <th>2016-11</th>\n",
       "      <td>Coffee</td>\n",
       "      <td>1189</td>\n",
       "    </tr>\n",
       "    <tr>\n",
       "      <th>2016-11</th>\n",
       "      <td>Coke</td>\n",
       "      <td>27</td>\n",
       "    </tr>\n",
       "    <tr>\n",
       "      <th>2016-11</th>\n",
       "      <td>Cookies</td>\n",
       "      <td>87</td>\n",
       "    </tr>\n",
       "    <tr>\n",
       "      <th>2016-11</th>\n",
       "      <td>Dulce de Leche</td>\n",
       "      <td>7</td>\n",
       "    </tr>\n",
       "    <tr>\n",
       "      <th>2016-11</th>\n",
       "      <td>Eggs</td>\n",
       "      <td>3</td>\n",
       "    </tr>\n",
       "    <tr>\n",
       "      <th>2016-11</th>\n",
       "      <td>Ella's Kitchen Pouches</td>\n",
       "      <td>10</td>\n",
       "    </tr>\n",
       "    <tr>\n",
       "      <th>2016-11</th>\n",
       "      <td>Empanadas</td>\n",
       "      <td>7</td>\n",
       "    </tr>\n",
       "    <tr>\n",
       "      <th>2016-11</th>\n",
       "      <td>Fairy Doors</td>\n",
       "      <td>2</td>\n",
       "    </tr>\n",
       "    <tr>\n",
       "      <th>2016-11</th>\n",
       "      <td>Farm House</td>\n",
       "      <td>113</td>\n",
       "    </tr>\n",
       "    <tr>\n",
       "      <th>2016-11</th>\n",
       "      <td>Focaccia</td>\n",
       "      <td>28</td>\n",
       "    </tr>\n",
       "    <tr>\n",
       "      <th>2016-11</th>\n",
       "      <td>Frittata</td>\n",
       "      <td>17</td>\n",
       "    </tr>\n",
       "    <tr>\n",
       "      <th>2016-11</th>\n",
       "      <td>Fudge</td>\n",
       "      <td>55</td>\n",
       "    </tr>\n",
       "  </tbody>\n",
       "</table>\n",
       "</div>"
      ],
      "text/plain": [
       "                           Item  Transaction\n",
       "monthly                                     \n",
       "2016-10                  Basket            2\n",
       "2016-10                   Bread           53\n",
       "2016-10                    Cake            6\n",
       "2016-10            Chicken sand            1\n",
       "2016-10                  Coffee           93\n",
       "2016-10                    Coke            3\n",
       "2016-10                 Cookies           11\n",
       "2016-10  Ella's Kitchen Pouches            1\n",
       "2016-10              Farm House           11\n",
       "2016-10                Focaccia            1\n",
       "2016-10                Frittata            6\n",
       "2016-10                   Fudge            6\n",
       "2016-10       Hearty & Seasonal           12\n",
       "2016-10           Hot chocolate            5\n",
       "2016-10                     Jam            9\n",
       "2016-10                   Juice            9\n",
       "2016-10               Medialuna           13\n",
       "2016-10          Mighty Protein            2\n",
       "2016-10           Mineral water            6\n",
       "2016-10                  Muffin           29\n",
       "2016-10        My-5 Fruit Shoot            1\n",
       "2016-10                  Pastry           19\n",
       "2016-10      Pick and Mix Bowls            2\n",
       "2016-10                Sandwich            3\n",
       "2016-10            Scandinavian           16\n",
       "2016-10               Smoothies            1\n",
       "2016-10                    Soup            8\n",
       "2016-10                 Tartine            6\n",
       "2016-10                     Tea           31\n",
       "2016-10        Victorian Sponge            3\n",
       "2016-11              Adjustment            1\n",
       "2016-11               Alfajores          141\n",
       "2016-11                Art Tray           18\n",
       "2016-11                   Bacon            1\n",
       "2016-11                Bakewell           10\n",
       "2016-11                  Basket            4\n",
       "2016-11           Bowl Nic Pitt            2\n",
       "2016-11                   Bread          712\n",
       "2016-11           Bread Pudding            4\n",
       "2016-11                 Brownie          154\n",
       "2016-11                    Cake          116\n",
       "2016-11           Caramel bites            3\n",
       "2016-11         Chimichurri Oil            2\n",
       "2016-11                  Coffee         1189\n",
       "2016-11                    Coke           27\n",
       "2016-11                 Cookies           87\n",
       "2016-11          Dulce de Leche            7\n",
       "2016-11                    Eggs            3\n",
       "2016-11  Ella's Kitchen Pouches           10\n",
       "2016-11               Empanadas            7\n",
       "2016-11             Fairy Doors            2\n",
       "2016-11              Farm House          113\n",
       "2016-11                Focaccia           28\n",
       "2016-11                Frittata           17\n",
       "2016-11                   Fudge           55"
      ]
     },
     "execution_count": 172,
     "metadata": {},
     "output_type": "execute_result"
    }
   ],
   "source": [
    "data['monthly'] = pd.to_datetime(data['datetime']).dt.to_period('M')\n",
    "monthlyTransactionForItem = data[['monthly','Transaction', 'Item']].groupby(['monthly', 'Item'], as_index=False).count()#.sort_values(by='monthly')\n",
    "monthlyTransactionForItem.set_index('monthly' ,inplace=True)\n",
    "\n",
    "monthlyTransactionForItem.head(55)"
   ]
  },
  {
   "cell_type": "code",
   "execution_count": 178,
   "metadata": {
    "_uuid": "61eaa5aadaa6589cecec8b21b0f59e76ab049044"
   },
   "outputs": [
    {
     "data": {
      "image/png": "[encoded data removed]",
      "text/plain": [
       "<Figure size 720x432 with 1 Axes>"
      ]
     },
     "metadata": {},
     "output_type": "display_data"
    }
   ],
   "source": [
    "cofeeSalesMonthly = monthlyTransactionForItem[monthlyTransactionForItem['Item']=='Coffee'].plot(kind='bar', figsize=(10,6))\n",
    "cofeeSalesMonthly.set_xlabel(\"Coffee Sales Monthly\")\n",
    "\n",
    "plt.ylabel('Transaction', fontsize=16)\n",
    "plt.xlabel('Month', fontsize=16)\n",
    "plt.title(\"Monthly Coffee Sales\", fontsize=16);"
   ]
  },
  {
   "cell_type": "code",
   "execution_count": 153,
   "metadata": {
    "_uuid": "1a2aabbda8c30402817bb90d78d9ec200ed172b1",
    "scrolled": true
   },
   "outputs": [
    {
     "data": {
      "text/html": [
       "<div>\n",
       "<style scoped>\n",
       "    .dataframe tbody tr th:only-of-type {\n",
       "        vertical-align: middle;\n",
       "    }\n",
       "\n",
       "    .dataframe tbody tr th {\n",
       "        vertical-align: top;\n",
       "    }\n",
       "\n",
       "    .dataframe thead th {\n",
       "        text-align: right;\n",
       "    }\n",
       "</style>\n",
       "<table border=\"1\" class=\"dataframe\">\n",
       "  <thead>\n",
       "    <tr style=\"text-align: right;\">\n",
       "      <th></th>\n",
       "      <th>Item</th>\n",
       "      <th>Transaction</th>\n",
       "    </tr>\n",
       "    <tr>\n",
       "      <th>daily</th>\n",
       "      <th></th>\n",
       "      <th></th>\n",
       "    </tr>\n",
       "  </thead>\n",
       "  <tbody>\n",
       "    <tr>\n",
       "      <th>2016-10-30</th>\n",
       "      <td>Basket</td>\n",
       "      <td>2</td>\n",
       "    </tr>\n",
       "    <tr>\n",
       "      <th>2016-10-30</th>\n",
       "      <td>Victorian Sponge</td>\n",
       "      <td>3</td>\n",
       "    </tr>\n",
       "    <tr>\n",
       "      <th>2016-10-30</th>\n",
       "      <td>Tea</td>\n",
       "      <td>12</td>\n",
       "    </tr>\n",
       "    <tr>\n",
       "      <th>2016-10-30</th>\n",
       "      <td>Tartine</td>\n",
       "      <td>3</td>\n",
       "    </tr>\n",
       "    <tr>\n",
       "      <th>2016-10-30</th>\n",
       "      <td>Soup</td>\n",
       "      <td>1</td>\n",
       "    </tr>\n",
       "    <tr>\n",
       "      <th>2016-10-30</th>\n",
       "      <td>Smoothies</td>\n",
       "      <td>1</td>\n",
       "    </tr>\n",
       "    <tr>\n",
       "      <th>2016-10-30</th>\n",
       "      <td>Scandinavian</td>\n",
       "      <td>16</td>\n",
       "    </tr>\n",
       "    <tr>\n",
       "      <th>2016-10-30</th>\n",
       "      <td>Pick and Mix Bowls</td>\n",
       "      <td>1</td>\n",
       "    </tr>\n",
       "    <tr>\n",
       "      <th>2016-10-30</th>\n",
       "      <td>Muffin</td>\n",
       "      <td>12</td>\n",
       "    </tr>\n",
       "    <tr>\n",
       "      <th>2016-10-30</th>\n",
       "      <td>Mineral water</td>\n",
       "      <td>3</td>\n",
       "    </tr>\n",
       "    <tr>\n",
       "      <th>2016-10-30</th>\n",
       "      <td>Mighty Protein</td>\n",
       "      <td>1</td>\n",
       "    </tr>\n",
       "    <tr>\n",
       "      <th>2016-10-30</th>\n",
       "      <td>Medialuna</td>\n",
       "      <td>11</td>\n",
       "    </tr>\n",
       "    <tr>\n",
       "      <th>2016-10-30</th>\n",
       "      <td>Juice</td>\n",
       "      <td>3</td>\n",
       "    </tr>\n",
       "    <tr>\n",
       "      <th>2016-10-30</th>\n",
       "      <td>Pastry</td>\n",
       "      <td>6</td>\n",
       "    </tr>\n",
       "    <tr>\n",
       "      <th>2016-10-30</th>\n",
       "      <td>Hot chocolate</td>\n",
       "      <td>4</td>\n",
       "    </tr>\n",
       "    <tr>\n",
       "      <th>2016-10-30</th>\n",
       "      <td>Jam</td>\n",
       "      <td>6</td>\n",
       "    </tr>\n",
       "    <tr>\n",
       "      <th>2016-10-30</th>\n",
       "      <td>Cake</td>\n",
       "      <td>1</td>\n",
       "    </tr>\n",
       "    <tr>\n",
       "      <th>2016-10-30</th>\n",
       "      <td>Chicken sand</td>\n",
       "      <td>1</td>\n",
       "    </tr>\n",
       "    <tr>\n",
       "      <th>2016-10-30</th>\n",
       "      <td>Coffee</td>\n",
       "      <td>33</td>\n",
       "    </tr>\n",
       "    <tr>\n",
       "      <th>2016-10-30</th>\n",
       "      <td>Cookies</td>\n",
       "      <td>2</td>\n",
       "    </tr>\n",
       "    <tr>\n",
       "      <th>2016-10-30</th>\n",
       "      <td>Bread</td>\n",
       "      <td>29</td>\n",
       "    </tr>\n",
       "    <tr>\n",
       "      <th>2016-10-30</th>\n",
       "      <td>Farm House</td>\n",
       "      <td>2</td>\n",
       "    </tr>\n",
       "    <tr>\n",
       "      <th>2016-10-30</th>\n",
       "      <td>Frittata</td>\n",
       "      <td>6</td>\n",
       "    </tr>\n",
       "    <tr>\n",
       "      <th>2016-10-30</th>\n",
       "      <td>Fudge</td>\n",
       "      <td>5</td>\n",
       "    </tr>\n",
       "    <tr>\n",
       "      <th>2016-10-30</th>\n",
       "      <td>Hearty &amp; Seasonal</td>\n",
       "      <td>5</td>\n",
       "    </tr>\n",
       "    <tr>\n",
       "      <th>2016-10-30</th>\n",
       "      <td>Ella's Kitchen Pouches</td>\n",
       "      <td>1</td>\n",
       "    </tr>\n",
       "    <tr>\n",
       "      <th>2016-10-31</th>\n",
       "      <td>Mighty Protein</td>\n",
       "      <td>1</td>\n",
       "    </tr>\n",
       "    <tr>\n",
       "      <th>2016-10-31</th>\n",
       "      <td>Tea</td>\n",
       "      <td>19</td>\n",
       "    </tr>\n",
       "    <tr>\n",
       "      <th>2016-10-31</th>\n",
       "      <td>Tartine</td>\n",
       "      <td>3</td>\n",
       "    </tr>\n",
       "    <tr>\n",
       "      <th>2016-10-31</th>\n",
       "      <td>Soup</td>\n",
       "      <td>7</td>\n",
       "    </tr>\n",
       "    <tr>\n",
       "      <th>2016-10-31</th>\n",
       "      <td>Sandwich</td>\n",
       "      <td>3</td>\n",
       "    </tr>\n",
       "    <tr>\n",
       "      <th>2016-10-31</th>\n",
       "      <td>Pick and Mix Bowls</td>\n",
       "      <td>1</td>\n",
       "    </tr>\n",
       "    <tr>\n",
       "      <th>2016-10-31</th>\n",
       "      <td>Pastry</td>\n",
       "      <td>13</td>\n",
       "    </tr>\n",
       "    <tr>\n",
       "      <th>2016-10-31</th>\n",
       "      <td>My-5 Fruit Shoot</td>\n",
       "      <td>1</td>\n",
       "    </tr>\n",
       "    <tr>\n",
       "      <th>2016-10-31</th>\n",
       "      <td>Muffin</td>\n",
       "      <td>17</td>\n",
       "    </tr>\n",
       "  </tbody>\n",
       "</table>\n",
       "</div>"
      ],
      "text/plain": [
       "                              Item  Transaction\n",
       "daily                                          \n",
       "2016-10-30                  Basket            2\n",
       "2016-10-30        Victorian Sponge            3\n",
       "2016-10-30                     Tea           12\n",
       "2016-10-30                 Tartine            3\n",
       "2016-10-30                    Soup            1\n",
       "2016-10-30               Smoothies            1\n",
       "2016-10-30            Scandinavian           16\n",
       "2016-10-30      Pick and Mix Bowls            1\n",
       "2016-10-30                  Muffin           12\n",
       "2016-10-30           Mineral water            3\n",
       "2016-10-30          Mighty Protein            1\n",
       "2016-10-30               Medialuna           11\n",
       "2016-10-30                   Juice            3\n",
       "2016-10-30                  Pastry            6\n",
       "2016-10-30           Hot chocolate            4\n",
       "2016-10-30                     Jam            6\n",
       "2016-10-30                    Cake            1\n",
       "2016-10-30            Chicken sand            1\n",
       "2016-10-30                  Coffee           33\n",
       "2016-10-30                 Cookies            2\n",
       "2016-10-30                   Bread           29\n",
       "2016-10-30              Farm House            2\n",
       "2016-10-30                Frittata            6\n",
       "2016-10-30                   Fudge            5\n",
       "2016-10-30       Hearty & Seasonal            5\n",
       "2016-10-30  Ella's Kitchen Pouches            1\n",
       "2016-10-31          Mighty Protein            1\n",
       "2016-10-31                     Tea           19\n",
       "2016-10-31                 Tartine            3\n",
       "2016-10-31                    Soup            7\n",
       "2016-10-31                Sandwich            3\n",
       "2016-10-31      Pick and Mix Bowls            1\n",
       "2016-10-31                  Pastry           13\n",
       "2016-10-31        My-5 Fruit Shoot            1\n",
       "2016-10-31                  Muffin           17"
      ]
     },
     "execution_count": 153,
     "metadata": {},
     "output_type": "execute_result"
    }
   ],
   "source": [
    "data['daily'] = pd.to_datetime(data['datetime']).dt.to_period('D')\n",
    "dailyTransactionForItem = data[['daily','Transaction', 'Item']].groupby(['daily', 'Item'], as_index=False).count().sort_values(by='daily')\n",
    "dailyTransactionForItem.set_index('daily' ,inplace=True)\n",
    "\n",
    "dailyTransactionForItem.head(35)"
   ]
  },
  {
   "cell_type": "code",
   "execution_count": 154,
   "metadata": {
    "_uuid": "f00c224a0ea22d38ae2d16b870927412017df904"
   },
   "outputs": [
    {
     "data": {
      "text/html": [
       "<div>\n",
       "<style scoped>\n",
       "    .dataframe tbody tr th:only-of-type {\n",
       "        vertical-align: middle;\n",
       "    }\n",
       "\n",
       "    .dataframe tbody tr th {\n",
       "        vertical-align: top;\n",
       "    }\n",
       "\n",
       "    .dataframe thead th {\n",
       "        text-align: right;\n",
       "    }\n",
       "</style>\n",
       "<table border=\"1\" class=\"dataframe\">\n",
       "  <thead>\n",
       "    <tr style=\"text-align: right;\">\n",
       "      <th></th>\n",
       "      <th>Item</th>\n",
       "      <th>Transaction</th>\n",
       "    </tr>\n",
       "    <tr>\n",
       "      <th>hourly</th>\n",
       "      <th></th>\n",
       "      <th></th>\n",
       "    </tr>\n",
       "  </thead>\n",
       "  <tbody>\n",
       "    <tr>\n",
       "      <th>2016-10-30 09:00</th>\n",
       "      <td>Bread</td>\n",
       "      <td>1</td>\n",
       "    </tr>\n",
       "    <tr>\n",
       "      <th>2016-10-30 10:00</th>\n",
       "      <td>Tea</td>\n",
       "      <td>2</td>\n",
       "    </tr>\n",
       "    <tr>\n",
       "      <th>2016-10-30 10:00</th>\n",
       "      <td>Tartine</td>\n",
       "      <td>1</td>\n",
       "    </tr>\n",
       "    <tr>\n",
       "      <th>2016-10-30 10:00</th>\n",
       "      <td>Scandinavian</td>\n",
       "      <td>6</td>\n",
       "    </tr>\n",
       "    <tr>\n",
       "      <th>2016-10-30 10:00</th>\n",
       "      <td>Pastry</td>\n",
       "      <td>6</td>\n",
       "    </tr>\n",
       "    <tr>\n",
       "      <th>2016-10-30 10:00</th>\n",
       "      <td>Muffin</td>\n",
       "      <td>4</td>\n",
       "    </tr>\n",
       "    <tr>\n",
       "      <th>2016-10-30 10:00</th>\n",
       "      <td>Mineral water</td>\n",
       "      <td>1</td>\n",
       "    </tr>\n",
       "    <tr>\n",
       "      <th>2016-10-30 10:00</th>\n",
       "      <td>Jam</td>\n",
       "      <td>3</td>\n",
       "    </tr>\n",
       "    <tr>\n",
       "      <th>2016-10-30 10:00</th>\n",
       "      <td>Medialuna</td>\n",
       "      <td>8</td>\n",
       "    </tr>\n",
       "    <tr>\n",
       "      <th>2016-10-30 10:00</th>\n",
       "      <td>Fudge</td>\n",
       "      <td>1</td>\n",
       "    </tr>\n",
       "    <tr>\n",
       "      <th>2016-10-30 10:00</th>\n",
       "      <td>Farm House</td>\n",
       "      <td>2</td>\n",
       "    </tr>\n",
       "    <tr>\n",
       "      <th>2016-10-30 10:00</th>\n",
       "      <td>Cookies</td>\n",
       "      <td>1</td>\n",
       "    </tr>\n",
       "    <tr>\n",
       "      <th>2016-10-30 10:00</th>\n",
       "      <td>Coffee</td>\n",
       "      <td>7</td>\n",
       "    </tr>\n",
       "    <tr>\n",
       "      <th>2016-10-30 10:00</th>\n",
       "      <td>Bread</td>\n",
       "      <td>12</td>\n",
       "    </tr>\n",
       "    <tr>\n",
       "      <th>2016-10-30 10:00</th>\n",
       "      <td>Basket</td>\n",
       "      <td>1</td>\n",
       "    </tr>\n",
       "    <tr>\n",
       "      <th>2016-10-30 10:00</th>\n",
       "      <td>Hot chocolate</td>\n",
       "      <td>2</td>\n",
       "    </tr>\n",
       "    <tr>\n",
       "      <th>2016-10-30 11:00</th>\n",
       "      <td>Muffin</td>\n",
       "      <td>4</td>\n",
       "    </tr>\n",
       "    <tr>\n",
       "      <th>2016-10-30 11:00</th>\n",
       "      <td>Tartine</td>\n",
       "      <td>1</td>\n",
       "    </tr>\n",
       "    <tr>\n",
       "      <th>2016-10-30 11:00</th>\n",
       "      <td>Scandinavian</td>\n",
       "      <td>5</td>\n",
       "    </tr>\n",
       "    <tr>\n",
       "      <th>2016-10-30 11:00</th>\n",
       "      <td>Juice</td>\n",
       "      <td>1</td>\n",
       "    </tr>\n",
       "    <tr>\n",
       "      <th>2016-10-30 11:00</th>\n",
       "      <td>Tea</td>\n",
       "      <td>3</td>\n",
       "    </tr>\n",
       "    <tr>\n",
       "      <th>2016-10-30 11:00</th>\n",
       "      <td>Coffee</td>\n",
       "      <td>5</td>\n",
       "    </tr>\n",
       "    <tr>\n",
       "      <th>2016-10-30 11:00</th>\n",
       "      <td>Bread</td>\n",
       "      <td>7</td>\n",
       "    </tr>\n",
       "    <tr>\n",
       "      <th>2016-10-30 11:00</th>\n",
       "      <td>Basket</td>\n",
       "      <td>1</td>\n",
       "    </tr>\n",
       "    <tr>\n",
       "      <th>2016-10-30 11:00</th>\n",
       "      <td>Jam</td>\n",
       "      <td>1</td>\n",
       "    </tr>\n",
       "    <tr>\n",
       "      <th>2016-10-30 12:00</th>\n",
       "      <td>Victorian Sponge</td>\n",
       "      <td>2</td>\n",
       "    </tr>\n",
       "    <tr>\n",
       "      <th>2016-10-30 12:00</th>\n",
       "      <td>Tea</td>\n",
       "      <td>2</td>\n",
       "    </tr>\n",
       "    <tr>\n",
       "      <th>2016-10-30 12:00</th>\n",
       "      <td>Soup</td>\n",
       "      <td>1</td>\n",
       "    </tr>\n",
       "    <tr>\n",
       "      <th>2016-10-30 12:00</th>\n",
       "      <td>Scandinavian</td>\n",
       "      <td>3</td>\n",
       "    </tr>\n",
       "    <tr>\n",
       "      <th>2016-10-30 12:00</th>\n",
       "      <td>Muffin</td>\n",
       "      <td>1</td>\n",
       "    </tr>\n",
       "    <tr>\n",
       "      <th>2016-10-30 12:00</th>\n",
       "      <td>Juice</td>\n",
       "      <td>1</td>\n",
       "    </tr>\n",
       "    <tr>\n",
       "      <th>2016-10-30 12:00</th>\n",
       "      <td>Jam</td>\n",
       "      <td>1</td>\n",
       "    </tr>\n",
       "    <tr>\n",
       "      <th>2016-10-30 12:00</th>\n",
       "      <td>Medialuna</td>\n",
       "      <td>3</td>\n",
       "    </tr>\n",
       "    <tr>\n",
       "      <th>2016-10-30 12:00</th>\n",
       "      <td>Hearty &amp; Seasonal</td>\n",
       "      <td>1</td>\n",
       "    </tr>\n",
       "    <tr>\n",
       "      <th>2016-10-30 12:00</th>\n",
       "      <td>Fudge</td>\n",
       "      <td>1</td>\n",
       "    </tr>\n",
       "  </tbody>\n",
       "</table>\n",
       "</div>"
      ],
      "text/plain": [
       "                               Item  Transaction\n",
       "hourly                                          \n",
       "2016-10-30 09:00              Bread            1\n",
       "2016-10-30 10:00                Tea            2\n",
       "2016-10-30 10:00            Tartine            1\n",
       "2016-10-30 10:00       Scandinavian            6\n",
       "2016-10-30 10:00             Pastry            6\n",
       "2016-10-30 10:00             Muffin            4\n",
       "2016-10-30 10:00      Mineral water            1\n",
       "2016-10-30 10:00                Jam            3\n",
       "2016-10-30 10:00          Medialuna            8\n",
       "2016-10-30 10:00              Fudge            1\n",
       "2016-10-30 10:00         Farm House            2\n",
       "2016-10-30 10:00            Cookies            1\n",
       "2016-10-30 10:00             Coffee            7\n",
       "2016-10-30 10:00              Bread           12\n",
       "2016-10-30 10:00             Basket            1\n",
       "2016-10-30 10:00      Hot chocolate            2\n",
       "2016-10-30 11:00             Muffin            4\n",
       "2016-10-30 11:00            Tartine            1\n",
       "2016-10-30 11:00       Scandinavian            5\n",
       "2016-10-30 11:00              Juice            1\n",
       "2016-10-30 11:00                Tea            3\n",
       "2016-10-30 11:00             Coffee            5\n",
       "2016-10-30 11:00              Bread            7\n",
       "2016-10-30 11:00             Basket            1\n",
       "2016-10-30 11:00                Jam            1\n",
       "2016-10-30 12:00   Victorian Sponge            2\n",
       "2016-10-30 12:00                Tea            2\n",
       "2016-10-30 12:00               Soup            1\n",
       "2016-10-30 12:00       Scandinavian            3\n",
       "2016-10-30 12:00             Muffin            1\n",
       "2016-10-30 12:00              Juice            1\n",
       "2016-10-30 12:00                Jam            1\n",
       "2016-10-30 12:00          Medialuna            3\n",
       "2016-10-30 12:00  Hearty & Seasonal            1\n",
       "2016-10-30 12:00              Fudge            1"
      ]
     },
     "execution_count": 154,
     "metadata": {},
     "output_type": "execute_result"
    }
   ],
   "source": [
    "data['hourly'] = pd.to_datetime(data['datetime']).dt.to_period('H')\n",
    "hourlyTransactionForItem = data[['hourly','Transaction', 'Item']].groupby(['hourly', 'Item'], as_index=False).count().sort_values(by='hourly')\n",
    "hourlyTransactionForItem.set_index('hourly' ,inplace=True)\n",
    "\n",
    "hourlyTransactionForItem.head(35)"
   ]
  },
  {
   "cell_type": "markdown",
   "metadata": {
    "_uuid": "33f5a75889911225a3fc17a81be083886b2b8fb9"
   },
   "source": [
    "**Note: Thank you for reading. Help me to improve myself. I hope it has been useful to you.**"
   ]
  }
 ],
 "metadata": {
  "kernelspec": {
   "display_name": "Python 3",
   "language": "python",
   "name": "python3"
  },
  "language_info": {
   "codemirror_mode": {
    "name": "ipython",
    "version": 3
   },
   "file_extension": ".py",
   "mimetype": "text/x-python",
   "name": "python",
   "nbconvert_exporter": "python",
   "pygments_lexer": "ipython3",
   "version": "3.8.8"
  }
 },
 "nbformat": 4,
 "nbformat_minor": 1
}
